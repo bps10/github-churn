{
 "cells": [
  {
   "cell_type": "markdown",
   "metadata": {},
   "source": [
    "# Classification model\n",
    "\n",
    "[Pyspark blog](https://bryancutler.github.io/)\n",
    "\n",
    "[ML w/ Pyspark](https://towardsdatascience.com/machine-learning-with-pyspark-and-mllib-solving-a-binary-classification-problem-96396065d2aa)\n",
    "\n",
    "[GitHub event types](https://developer.github.com/v3/activity/events/types/)\n",
    "\n",
    "[Churn modeling](https://www.urbanairship.com/blog/churn-prediction-our-machine-learning-model)\n",
    "\n",
    "[Interpreting Trees](https://towardsdatascience.com/interpretable-machine-learning-with-xgboost-9ec80d148d27)\n",
    "\n",
    "[Intro to Boosted Trees](https://xgboost.readthedocs.io/en/latest/tutorials/model.html#why-introduce-the-general-principle)"
   ]
  },
  {
   "cell_type": "code",
   "execution_count": 1,
   "metadata": {},
   "outputs": [],
   "source": [
    "import pandas as pd\n",
    "import numpy as np\n",
    "import matplotlib.pylab as plt\n",
    "import pandas as pd\n",
    "import pickle\n",
    "\n",
    "from pyspark.sql.types import DoubleType\n",
    "from pyspark.ml import Pipeline\n",
    "from pyspark.ml.feature import VectorAssembler, Binarizer#, OneHotEncoderEstimator, StringIndexer\n",
    "from pyspark.ml.classification import LogisticRegression, LogisticRegressionModel, GBTClassifier, RandomForestClassifier\n",
    "from pyspark.sql import functions as F\n",
    "\n",
    "from pyspark.sql.functions import to_timestamp, datediff, unix_timestamp\n",
    "\n",
    "import helper as h"
   ]
  },
  {
   "cell_type": "markdown",
   "metadata": {},
   "source": [
    "### Model name and filter flags for segmentation"
   ]
  },
  {
   "cell_type": "code",
   "execution_count": 2,
   "metadata": {},
   "outputs": [],
   "source": [
    "company_filter = 1\n",
    "high_low_filter = 0\n",
    "if company_filter:\n",
    "    model_name = 'company_' + str(company_filter)\n",
    "else:\n",
    "    model_name = 'company_' + str(company_filter) + 'high_low_' + str(high_low_filter)"
   ]
  },
  {
   "cell_type": "markdown",
   "metadata": {},
   "source": [
    "## Data ingestion "
   ]
  },
  {
   "cell_type": "code",
   "execution_count": 3,
   "metadata": {},
   "outputs": [
    {
     "name": "stdout",
     "output_type": "stream",
     "text": [
      "% of users dropped 4.698526359485271\n"
     ]
    }
   ],
   "source": [
    "_data = h.get_merged_data('classification')"
   ]
  },
  {
   "cell_type": "code",
   "execution_count": 4,
   "metadata": {},
   "outputs": [
    {
     "data": {
      "text/plain": [
       "Row(login='0loky0', followers_count=0, following_count=1, blog=0, company=0, created_at=datetime.datetime(2011, 5, 24, 16, 15, 25), public_repos_count=7, public_gists_count=0, hireable=1, recency=1788, updated_at=datetime.datetime(2019, 1, 9, 10, 3, 59), time_between_first_last_event=11, last_event=datetime.datetime(2016, 4, 15, 6, 14, 3), first_event=datetime.datetime(2016, 4, 4, 14, 44, 57), frequency=19, second_period_event_count=0, CommitCommentEvent_count=0, CreateEvent_count=5, DeleteEvent_count=0, ForkEvent_count=2, GollumEvent_count=0, IssueCommentEvent_count=0, IssuesEvent_count=0, MemberEvent_count=0, PublicEvent_count=0, PullRequestEvent_count=0, PullRequestReviewCommentEvent_count=0, PushEvent_count=12, ReleaseEvent_count=0, WatchEvent_count=0)"
      ]
     },
     "execution_count": 4,
     "metadata": {},
     "output_type": "execute_result"
    }
   ],
   "source": [
    "_data.head()"
   ]
  },
  {
   "cell_type": "code",
   "execution_count": 5,
   "metadata": {},
   "outputs": [],
   "source": [
    "#_data = _data.withColumn(\"end_date\", to_timestamp('2016-06-02 23:59:59+00:00'))\n",
    "#_data = _data.withColumn(\"T\", datediff(_data.end_data, _data.created_at))    "
   ]
  },
  {
   "cell_type": "code",
   "execution_count": 6,
   "metadata": {},
   "outputs": [
    {
     "name": "stdout",
     "output_type": "stream",
     "text": [
      "root\n",
      " |-- login: string (nullable = true)\n",
      " |-- followers_count: integer (nullable = true)\n",
      " |-- following_count: integer (nullable = true)\n",
      " |-- blog: integer (nullable = true)\n",
      " |-- company: integer (nullable = true)\n",
      " |-- created_at: timestamp (nullable = true)\n",
      " |-- public_repos_count: integer (nullable = true)\n",
      " |-- public_gists_count: integer (nullable = true)\n",
      " |-- hireable: integer (nullable = true)\n",
      " |-- recency: integer (nullable = true)\n",
      " |-- updated_at: timestamp (nullable = true)\n",
      " |-- time_between_first_last_event: integer (nullable = true)\n",
      " |-- last_event: timestamp (nullable = true)\n",
      " |-- first_event: timestamp (nullable = true)\n",
      " |-- frequency: integer (nullable = true)\n",
      " |-- second_period_event_count: integer (nullable = true)\n",
      " |-- CommitCommentEvent_count: integer (nullable = true)\n",
      " |-- CreateEvent_count: integer (nullable = true)\n",
      " |-- DeleteEvent_count: integer (nullable = true)\n",
      " |-- ForkEvent_count: integer (nullable = true)\n",
      " |-- GollumEvent_count: integer (nullable = true)\n",
      " |-- IssueCommentEvent_count: integer (nullable = true)\n",
      " |-- IssuesEvent_count: integer (nullable = true)\n",
      " |-- MemberEvent_count: integer (nullable = true)\n",
      " |-- PublicEvent_count: integer (nullable = true)\n",
      " |-- PullRequestEvent_count: integer (nullable = true)\n",
      " |-- PullRequestReviewCommentEvent_count: integer (nullable = true)\n",
      " |-- PushEvent_count: integer (nullable = true)\n",
      " |-- ReleaseEvent_count: integer (nullable = true)\n",
      " |-- WatchEvent_count: integer (nullable = true)\n",
      "\n"
     ]
    }
   ],
   "source": [
    "_data.printSchema()"
   ]
  },
  {
   "cell_type": "markdown",
   "metadata": {},
   "source": [
    "### Load K-Means classifier\n",
    "\n",
    "Classify users as high or low use."
   ]
  },
  {
   "cell_type": "code",
   "execution_count": 7,
   "metadata": {},
   "outputs": [],
   "source": [
    "_data = h.add_high_low_flag(_data, False)"
   ]
  },
  {
   "cell_type": "markdown",
   "metadata": {},
   "source": [
    "### Scale data"
   ]
  },
  {
   "cell_type": "code",
   "execution_count": 8,
   "metadata": {},
   "outputs": [],
   "source": [
    "_data = h.feature_scaling(_data)"
   ]
  },
  {
   "cell_type": "markdown",
   "metadata": {},
   "source": [
    "### Filter and segment users"
   ]
  },
  {
   "cell_type": "code",
   "execution_count": 9,
   "metadata": {},
   "outputs": [],
   "source": [
    "churn_data = _data.filter((_data.company == company_filter)) \n",
    "if not company_filter:\n",
    "    churn_data = churn_data[churn_data.high_low_user == high_low_filter]"
   ]
  },
  {
   "cell_type": "markdown",
   "metadata": {},
   "source": [
    "### Summarize"
   ]
  },
  {
   "cell_type": "code",
   "execution_count": 10,
   "metadata": {},
   "outputs": [
    {
     "name": "stdout",
     "output_type": "stream",
     "text": [
      "23.86% of users churned in second period\n"
     ]
    }
   ],
   "source": [
    "h.print_user_churn(churn_data)"
   ]
  },
  {
   "cell_type": "code",
   "execution_count": 11,
   "metadata": {},
   "outputs": [],
   "source": [
    "numeric_features = [t[0] for t in churn_data.dtypes if t[1] == 'int' or t[1] == 'double']\n",
    "numeric_features.remove('second_period_event_count')\n",
    "numeric_features.remove('frequency')\n",
    "#numeric_features.remove('non_passive_events')\n",
    "#numeric_features.remove('public_repos_gists')\n",
    "numeric_features.remove('public_repos_count')\n",
    "numeric_features.remove('public_gists_count')\n",
    "numeric_features.remove('high_low_user')\n",
    "numeric_features.remove('company')\n",
    "numeric_features.remove('time_between_first_last_event')\n",
    "\n",
    "numeric_features.remove('GollumEvent_count')\n",
    "numeric_features.remove('CommitCommentEvent_count')\n",
    "numeric_features.remove('MemberEvent_count')\n",
    "numeric_features.remove('PublicEvent_count')\n",
    "numeric_features.remove('ReleaseEvent_count')\n",
    "numeric_features += ['PublicEvent_count_bin']\n",
    "numeric_features += ['ReleaseEvent_count_bin']\n",
    "#churn_data.select(numeric_features).describe().toPandas().transpose()"
   ]
  },
  {
   "cell_type": "markdown",
   "metadata": {},
   "source": [
    "## Build PySpark pipeline"
   ]
  },
  {
   "cell_type": "code",
   "execution_count": 12,
   "metadata": {},
   "outputs": [],
   "source": [
    "stages = []\n",
    "# binarizer needs double type or it throws an error.\n",
    "churn_data = churn_data.withColumn(\"second_period_event_count\", \n",
    "                                   churn_data.second_period_event_count.cast(DoubleType()))\n",
    "binarizer = Binarizer(threshold=0.5, \n",
    "                      inputCol=\"second_period_event_count\", \n",
    "                      outputCol=\"label\")\n",
    "\n",
    "churn_data = churn_data.withColumn(\"PublicEvent_count\", \n",
    "                                   churn_data.PublicEvent_count.cast(DoubleType()))\n",
    "binarizer2 = Binarizer(threshold=0.5, \n",
    "                      inputCol=\"PublicEvent_count\", \n",
    "                      outputCol=\"PublicEvent_count_bin\")\n",
    "\n",
    "churn_data = churn_data.withColumn(\"ReleaseEvent_count\", \n",
    "                                   churn_data.ReleaseEvent_count.cast(DoubleType()))\n",
    "binarizer3 = Binarizer(threshold=0.5, \n",
    "                      inputCol=\"ReleaseEvent_count\", \n",
    "                      outputCol=\"ReleaseEvent_count_bin\")\n",
    "\n",
    "stages += [binarizer]\n",
    "stages += [binarizer2]\n",
    "stages += [binarizer3]\n",
    "assembler = VectorAssembler(inputCols=numeric_features, \n",
    "                            outputCol=\"features\").setHandleInvalid(\"skip\")\n",
    "stages += [assembler]"
   ]
  },
  {
   "cell_type": "code",
   "execution_count": 13,
   "metadata": {},
   "outputs": [
    {
     "name": "stdout",
     "output_type": "stream",
     "text": [
      "root\n",
      " |-- label: double (nullable = true)\n",
      " |-- features: vector (nullable = true)\n",
      " |-- followers_count: double (nullable = true)\n",
      " |-- following_count: double (nullable = true)\n",
      " |-- blog: integer (nullable = true)\n",
      " |-- hireable: integer (nullable = true)\n",
      " |-- recency: double (nullable = true)\n",
      " |-- CreateEvent_count: double (nullable = true)\n",
      " |-- DeleteEvent_count: double (nullable = true)\n",
      " |-- ForkEvent_count: double (nullable = true)\n",
      " |-- IssueCommentEvent_count: double (nullable = true)\n",
      " |-- IssuesEvent_count: double (nullable = true)\n",
      " |-- PullRequestEvent_count: double (nullable = true)\n",
      " |-- PullRequestReviewCommentEvent_count: double (nullable = true)\n",
      " |-- PushEvent_count: double (nullable = true)\n",
      " |-- WatchEvent_count: double (nullable = true)\n",
      " |-- PublicEvent_count_bin: double (nullable = true)\n",
      " |-- ReleaseEvent_count_bin: double (nullable = true)\n",
      "\n"
     ]
    }
   ],
   "source": [
    "pipeline = Pipeline(stages = stages)\n",
    "pipelineModel = pipeline.fit(churn_data)\n",
    "churn_data = pipelineModel.transform(churn_data)\n",
    "selectedCols = ['label', 'features'] + numeric_features\n",
    "churn_data = churn_data.select(selectedCols)\n",
    "churn_data.printSchema()"
   ]
  },
  {
   "cell_type": "code",
   "execution_count": 14,
   "metadata": {},
   "outputs": [],
   "source": [
    "# save pipeline\n",
    "pipeline.write().overwrite().save('pipeline')"
   ]
  },
  {
   "cell_type": "markdown",
   "metadata": {},
   "source": [
    "### Training/Test split"
   ]
  },
  {
   "cell_type": "code",
   "execution_count": 15,
   "metadata": {},
   "outputs": [
    {
     "name": "stdout",
     "output_type": "stream",
     "text": [
      "Training Dataset Count: 19973\n",
      "Test Dataset Count: 8516\n"
     ]
    }
   ],
   "source": [
    "train, test = churn_data.randomSplit([0.7, 0.3], seed = 2018)\n",
    "print(\"Training Dataset Count: {0}\".format(train.count()))\n",
    "print(\"Test Dataset Count: {0}\".format(test.count()))"
   ]
  },
  {
   "cell_type": "markdown",
   "metadata": {},
   "source": [
    "## Logistic Regression"
   ]
  },
  {
   "cell_type": "code",
   "execution_count": 16,
   "metadata": {},
   "outputs": [],
   "source": [
    "lr = LogisticRegression(featuresCol = 'features', labelCol = 'label', maxIter=50,\n",
    "                        #standardization=False,\n",
    "                        regParam=0.03,\n",
    "                        #elasticNetParam=0.5,\n",
    "                       )\n",
    "lrModel = lr.fit(train)"
   ]
  },
  {
   "cell_type": "code",
   "execution_count": 17,
   "metadata": {},
   "outputs": [
    {
     "data": {
      "image/png": "[encoded data removed]",
      "text/plain": [
       "<Figure size 432x288 with 1 Axes>"
      ]
     },
     "metadata": {
      "needs_background": "light"
     },
     "output_type": "display_data"
    }
   ],
   "source": [
    "beta = np.sort(lrModel.coefficients)\n",
    "plt.plot(beta)\n",
    "plt.ylabel('Beta Coefficients')\n",
    "plt.show()"
   ]
  },
  {
   "cell_type": "code",
   "execution_count": 18,
   "metadata": {},
   "outputs": [
    {
     "data": {
      "text/html": [
       "<div>\n",
       "<style scoped>\n",
       "    .dataframe tbody tr th:only-of-type {\n",
       "        vertical-align: middle;\n",
       "    }\n",
       "\n",
       "    .dataframe tbody tr th {\n",
       "        vertical-align: top;\n",
       "    }\n",
       "\n",
       "    .dataframe thead th {\n",
       "        text-align: right;\n",
       "    }\n",
       "</style>\n",
       "<table border=\"1\" class=\"dataframe\">\n",
       "  <thead>\n",
       "    <tr style=\"text-align: right;\">\n",
       "      <th></th>\n",
       "      <th>features</th>\n",
       "      <th>weights</th>\n",
       "    </tr>\n",
       "  </thead>\n",
       "  <tbody>\n",
       "    <tr>\n",
       "      <th>13</th>\n",
       "      <td>WatchEvent_count</td>\n",
       "      <td>0.382768</td>\n",
       "    </tr>\n",
       "    <tr>\n",
       "      <th>0</th>\n",
       "      <td>followers_count</td>\n",
       "      <td>0.332298</td>\n",
       "    </tr>\n",
       "    <tr>\n",
       "      <th>15</th>\n",
       "      <td>ReleaseEvent_count_bin</td>\n",
       "      <td>0.332227</td>\n",
       "    </tr>\n",
       "    <tr>\n",
       "      <th>7</th>\n",
       "      <td>ForkEvent_count</td>\n",
       "      <td>0.279323</td>\n",
       "    </tr>\n",
       "    <tr>\n",
       "      <th>12</th>\n",
       "      <td>PushEvent_count</td>\n",
       "      <td>0.270244</td>\n",
       "    </tr>\n",
       "    <tr>\n",
       "      <th>8</th>\n",
       "      <td>IssueCommentEvent_count</td>\n",
       "      <td>0.236050</td>\n",
       "    </tr>\n",
       "    <tr>\n",
       "      <th>14</th>\n",
       "      <td>PublicEvent_count_bin</td>\n",
       "      <td>0.226466</td>\n",
       "    </tr>\n",
       "    <tr>\n",
       "      <th>9</th>\n",
       "      <td>IssuesEvent_count</td>\n",
       "      <td>0.200330</td>\n",
       "    </tr>\n",
       "    <tr>\n",
       "      <th>1</th>\n",
       "      <td>following_count</td>\n",
       "      <td>0.189322</td>\n",
       "    </tr>\n",
       "    <tr>\n",
       "      <th>4</th>\n",
       "      <td>recency</td>\n",
       "      <td>0.173036</td>\n",
       "    </tr>\n",
       "    <tr>\n",
       "      <th>5</th>\n",
       "      <td>CreateEvent_count</td>\n",
       "      <td>0.089400</td>\n",
       "    </tr>\n",
       "    <tr>\n",
       "      <th>6</th>\n",
       "      <td>DeleteEvent_count</td>\n",
       "      <td>0.054504</td>\n",
       "    </tr>\n",
       "    <tr>\n",
       "      <th>3</th>\n",
       "      <td>hireable</td>\n",
       "      <td>0.044761</td>\n",
       "    </tr>\n",
       "    <tr>\n",
       "      <th>2</th>\n",
       "      <td>blog</td>\n",
       "      <td>0.035718</td>\n",
       "    </tr>\n",
       "    <tr>\n",
       "      <th>11</th>\n",
       "      <td>PullRequestReviewCommentEvent_count</td>\n",
       "      <td>0.015240</td>\n",
       "    </tr>\n",
       "    <tr>\n",
       "      <th>10</th>\n",
       "      <td>PullRequestEvent_count</td>\n",
       "      <td>-0.031689</td>\n",
       "    </tr>\n",
       "  </tbody>\n",
       "</table>\n",
       "</div>"
      ],
      "text/plain": [
       "                               features   weights\n",
       "13                     WatchEvent_count  0.382768\n",
       "0                       followers_count  0.332298\n",
       "15               ReleaseEvent_count_bin  0.332227\n",
       "7                       ForkEvent_count  0.279323\n",
       "12                      PushEvent_count  0.270244\n",
       "8               IssueCommentEvent_count  0.236050\n",
       "14                PublicEvent_count_bin  0.226466\n",
       "9                     IssuesEvent_count  0.200330\n",
       "1                       following_count  0.189322\n",
       "4                               recency  0.173036\n",
       "5                     CreateEvent_count  0.089400\n",
       "6                     DeleteEvent_count  0.054504\n",
       "3                              hireable  0.044761\n",
       "2                                  blog  0.035718\n",
       "11  PullRequestReviewCommentEvent_count  0.015240\n",
       "10               PullRequestEvent_count -0.031689"
      ]
     },
     "execution_count": 18,
     "metadata": {},
     "output_type": "execute_result"
    }
   ],
   "source": [
    "pd.DataFrame({'features': numeric_features, # np.asarray(numeric_features)[lrModel.coefficients.indices], \n",
    "              'weights': lrModel.coefficients.values}\n",
    "            ).sort_values(by='weights', ascending=False)\n"
   ]
  },
  {
   "cell_type": "code",
   "execution_count": 19,
   "metadata": {},
   "outputs": [
    {
     "name": "stdout",
     "output_type": "stream",
     "text": [
      "Training set areaUnderROC: 0.8191583648559367\n"
     ]
    },
    {
     "name": "stderr",
     "output_type": "stream",
     "text": [
      "/home/brian/anaconda3/lib/python3.7/site-packages/matplotlib/figure.py:2366: UserWarning: This figure includes Axes that are not compatible with tight_layout, so results might be incorrect.\n",
      "  warnings.warn(\"This figure includes Axes that are not compatible \"\n"
     ]
    },
    {
     "data": {
      "image/png": "[encoded data removed]",
      "text/plain": [
       "<Figure size 432x288 with 1 Axes>"
      ]
     },
     "metadata": {
      "needs_background": "light"
     },
     "output_type": "display_data"
    }
   ],
   "source": [
    "trainingSummary = lrModel.summary\n",
    "roc = trainingSummary.roc.toPandas()\n",
    "\n",
    "fig, ax = plt.subplots(1,1)\n",
    "fig.set_tight_layout(True)\n",
    "pd.DataFrame({'features': numeric_features, # np.asarray(numeric_features)[lrModel.coefficients.indices], \n",
    "              'weights': lrModel.coefficients.values}\n",
    "            ).sort_values(by='weights', ascending=False)\n",
    "ax.plot(roc['FPR'],roc['TPR'])\n",
    "ax.set_ylabel('True Positive Rate')\n",
    "ax.set_xlabel('False Positive Rate')\n",
    "#ax.title('ROC Curve')\n",
    "print('Training set areaUnderROC: ' + str(trainingSummary.areaUnderROC))\n",
    "\n",
    "\n",
    "fig.savefig('figures/logistic_regression_ROC' + model_name + '.png')"
   ]
  },
  {
   "cell_type": "code",
   "execution_count": 20,
   "metadata": {},
   "outputs": [
    {
     "data": {
      "image/png": "[encoded data removed]",
      "text/plain": [
       "<Figure size 432x288 with 1 Axes>"
      ]
     },
     "metadata": {
      "needs_background": "light"
     },
     "output_type": "display_data"
    }
   ],
   "source": [
    "pr = trainingSummary.pr.toPandas()\n",
    "plt.plot(pr['recall'],pr['precision'])\n",
    "plt.ylabel('Precision')\n",
    "plt.xlabel('Recall')\n",
    "plt.ylim([0, 1])\n",
    "plt.xlim([0, 1])\n",
    "plt.show()"
   ]
  },
  {
   "cell_type": "code",
   "execution_count": 21,
   "metadata": {},
   "outputs": [
    {
     "name": "stdout",
     "output_type": "stream",
     "text": [
      "Threshold: 0.5\n",
      "+------------------+----+-----+--------------------+----------+--------------------+\n",
      "|   followers_count|blog|label|       rawPrediction|prediction|         probability|\n",
      "+------------------+----+-----+--------------------+----------+--------------------+\n",
      "| 5.780743515792329|   1|  0.0|[-2.0695522581089...|       1.0|[0.11209159325548...|\n",
      "|1.9459101490553132|   1|  0.0|[-1.5106301451450...|       1.0|[0.18084542445081...|\n",
      "|1.0986122886681098|   1|  0.0|[-2.7774217243794...|       1.0|[0.05855652818061...|\n",
      "|1.0986122886681098|   0|  0.0|[-1.8385461581007...|       1.0|[0.13722332663889...|\n",
      "|1.0986122886681098|   0|  0.0|[-0.5142265960068...|       1.0|[0.37420323662030...|\n",
      "|1.0986122886681098|   1|  0.0|[-0.5425643529368...|       1.0|[0.36759125030939...|\n",
      "|               0.0|   1|  0.0|[1.19863605418939...|       0.0|[0.76828205625995...|\n",
      "|               0.0|   1|  0.0|[-0.0420970651990...|       1.0|[0.48947728765104...|\n",
      "|               0.0|   1|  0.0|[-0.2506049058741...|       1.0|[0.43767461676587...|\n",
      "|               0.0|   1|  0.0|[-0.3213539718041...|       1.0|[0.42034581003370...|\n",
      "+------------------+----+-----+--------------------+----------+--------------------+\n",
      "only showing top 10 rows\n",
      "\n"
     ]
    }
   ],
   "source": [
    "#lrModel._java_obj.setThreshold(0.75)\n",
    "print('Threshold: {0}'.format(lrModel._java_obj.getThreshold()))\n",
    "predictions = lrModel.transform(test)\n",
    "show_cols = ['followers_count', 'blog', \n",
    "             'label', 'rawPrediction', 'prediction', 'probability']\n",
    "predictions.select(show_cols).show(10)"
   ]
  },
  {
   "cell_type": "code",
   "execution_count": 22,
   "metadata": {},
   "outputs": [
    {
     "name": "stdout",
     "output_type": "stream",
     "text": [
      "Precision: 0.809\n",
      "Recall:    0.956\n",
      "Accuracy:  0.795\n",
      "F1-score:  0.8766\n"
     ]
    }
   ],
   "source": [
    "h.eval_metrics(predictions)"
   ]
  },
  {
   "cell_type": "code",
   "execution_count": 23,
   "metadata": {},
   "outputs": [],
   "source": [
    "lrModel.write().overwrite().save('lrModel_' + model_name)"
   ]
  },
  {
   "cell_type": "markdown",
   "metadata": {},
   "source": [
    "## Gradient Boosted Trees\n",
    "\n",
    "[Gradient Boost vs XGboost](https://datascience.stackexchange.com/questions/16904/gbm-vs-xgboost-key-differences)"
   ]
  },
  {
   "cell_type": "code",
   "execution_count": 25,
   "metadata": {},
   "outputs": [
    {
     "name": "stdout",
     "output_type": "stream",
     "text": [
      "Saved to fullfile\n",
      "+------------------+----+-----+--------------------+----------+--------------------+\n",
      "|   followers_count|blog|label|       rawPrediction|prediction|         probability|\n",
      "+------------------+----+-----+--------------------+----------+--------------------+\n",
      "| 1.791759469228055|   1|  0.0|[-0.6529512287021...|       1.0|[0.21317331904302...|\n",
      "|2.6390573296152584|   1|  0.0|[-1.3754902121981...|       1.0|[0.06003130336156...|\n",
      "|0.6931471805599453|   1|  0.0|[0.13069208624285...|       0.0|[0.56497652156521...|\n",
      "|1.3862943611198906|   1|  0.0|[-0.8157100500880...|       1.0|[0.16363591459763...|\n",
      "|1.0986122886681098|   1|  0.0|[-1.5357166531507...|       1.0|[0.04430110387560...|\n",
      "|2.0794415416798357|   0|  0.0|[-0.2680742287832...|       1.0|[0.36908400318422...|\n",
      "|2.3978952727983707|   0|  0.0|[-0.6171884788582...|       1.0|[0.22541627401020...|\n",
      "|0.6931471805599453|   0|  0.0|[-0.1460425312677...|       1.0|[0.42749348603924...|\n",
      "|  2.70805020110221|   0|  0.0|[-1.3913262433678...|       1.0|[0.05826883345348...|\n",
      "|0.6931471805599453|   0|  0.0|[0.10640050879982...|       0.0|[0.55300039814825...|\n",
      "+------------------+----+-----+--------------------+----------+--------------------+\n",
      "only showing top 10 rows\n",
      "\n",
      "Precision: 0.765\n",
      "Recall:    0.776\n",
      "Accuracy:  0.758\n",
      "F1-score:  0.7705\n"
     ]
    }
   ],
   "source": [
    "gbt = GBTClassifier(maxIter=50)\n",
    "gbtModel = gbt.fit(train)\n",
    "h.write_tree_to_file(gbtModel.toDebugString, 'gbt_trees_' + model_name)\n",
    "\n",
    "predictions = gbtModel.transform(test)\n",
    "predictions.select(show_cols).show(10)\n",
    "\n",
    "h.eval_metrics(predictions)"
   ]
  },
  {
   "cell_type": "markdown",
   "metadata": {},
   "source": [
    "### Feature importances\n",
    "[pyspark feature imortances doc](http://spark.apache.org/docs/2.1.1/api/python/pyspark.ml.html#pyspark.ml.classification.GBTClassificationModel.featureImportances):\n",
    "\n",
    "Estimate of the importance of each feature.\n",
    "\n",
    "Each feature’s importance is the average of its importance across all trees in the ensemble. The importance vector is normalized to sum to 1. This method is suggested by Hastie et al. (Hastie, Tibshirani, Friedman. “The Elements of Statistical Learning, 2nd Edition.” 2001.) and follows the implementation from scikit-learn."
   ]
  },
  {
   "cell_type": "code",
   "execution_count": 26,
   "metadata": {},
   "outputs": [
    {
     "name": "stdout",
     "output_type": "stream",
     "text": [
      "[ 0  1  2  3  4  5  6  7  8  9 10 11 12 13 14 15]\n"
     ]
    },
    {
     "data": {
      "text/html": [
       "<div>\n",
       "<style scoped>\n",
       "    .dataframe tbody tr th:only-of-type {\n",
       "        vertical-align: middle;\n",
       "    }\n",
       "\n",
       "    .dataframe tbody tr th {\n",
       "        vertical-align: top;\n",
       "    }\n",
       "\n",
       "    .dataframe thead th {\n",
       "        text-align: right;\n",
       "    }\n",
       "</style>\n",
       "<table border=\"1\" class=\"dataframe\">\n",
       "  <thead>\n",
       "    <tr style=\"text-align: right;\">\n",
       "      <th></th>\n",
       "      <th>0</th>\n",
       "      <th>1</th>\n",
       "    </tr>\n",
       "  </thead>\n",
       "  <tbody>\n",
       "    <tr>\n",
       "      <th>4</th>\n",
       "      <td>recency</td>\n",
       "      <td>0.256713</td>\n",
       "    </tr>\n",
       "    <tr>\n",
       "      <th>13</th>\n",
       "      <td>WatchEvent_count</td>\n",
       "      <td>0.115006</td>\n",
       "    </tr>\n",
       "    <tr>\n",
       "      <th>0</th>\n",
       "      <td>followers_count</td>\n",
       "      <td>0.0969165</td>\n",
       "    </tr>\n",
       "    <tr>\n",
       "      <th>12</th>\n",
       "      <td>PushEvent_count</td>\n",
       "      <td>0.096248</td>\n",
       "    </tr>\n",
       "    <tr>\n",
       "      <th>9</th>\n",
       "      <td>IssuesEvent_count</td>\n",
       "      <td>0.0892106</td>\n",
       "    </tr>\n",
       "    <tr>\n",
       "      <th>1</th>\n",
       "      <td>following_count</td>\n",
       "      <td>0.0701746</td>\n",
       "    </tr>\n",
       "    <tr>\n",
       "      <th>5</th>\n",
       "      <td>CreateEvent_count</td>\n",
       "      <td>0.0692474</td>\n",
       "    </tr>\n",
       "    <tr>\n",
       "      <th>7</th>\n",
       "      <td>ForkEvent_count</td>\n",
       "      <td>0.0637637</td>\n",
       "    </tr>\n",
       "    <tr>\n",
       "      <th>8</th>\n",
       "      <td>IssueCommentEvent_count</td>\n",
       "      <td>0.0433739</td>\n",
       "    </tr>\n",
       "    <tr>\n",
       "      <th>10</th>\n",
       "      <td>PullRequestEvent_count</td>\n",
       "      <td>0.0269669</td>\n",
       "    </tr>\n",
       "    <tr>\n",
       "      <th>2</th>\n",
       "      <td>blog</td>\n",
       "      <td>0.0231083</td>\n",
       "    </tr>\n",
       "    <tr>\n",
       "      <th>3</th>\n",
       "      <td>hireable</td>\n",
       "      <td>0.0160679</td>\n",
       "    </tr>\n",
       "    <tr>\n",
       "      <th>6</th>\n",
       "      <td>DeleteEvent_count</td>\n",
       "      <td>0.01304</td>\n",
       "    </tr>\n",
       "    <tr>\n",
       "      <th>11</th>\n",
       "      <td>PullRequestReviewCommentEvent_count</td>\n",
       "      <td>0.0104682</td>\n",
       "    </tr>\n",
       "    <tr>\n",
       "      <th>14</th>\n",
       "      <td>PublicEvent_count_bin</td>\n",
       "      <td>0.00574635</td>\n",
       "    </tr>\n",
       "    <tr>\n",
       "      <th>15</th>\n",
       "      <td>ReleaseEvent_count_bin</td>\n",
       "      <td>0.00394793</td>\n",
       "    </tr>\n",
       "  </tbody>\n",
       "</table>\n",
       "</div>"
      ],
      "text/plain": [
       "                                      0           1\n",
       "4                               recency    0.256713\n",
       "13                     WatchEvent_count    0.115006\n",
       "0                       followers_count   0.0969165\n",
       "12                      PushEvent_count    0.096248\n",
       "9                     IssuesEvent_count   0.0892106\n",
       "1                       following_count   0.0701746\n",
       "5                     CreateEvent_count   0.0692474\n",
       "7                       ForkEvent_count   0.0637637\n",
       "8               IssueCommentEvent_count   0.0433739\n",
       "10               PullRequestEvent_count   0.0269669\n",
       "2                                  blog   0.0231083\n",
       "3                              hireable   0.0160679\n",
       "6                     DeleteEvent_count     0.01304\n",
       "11  PullRequestReviewCommentEvent_count   0.0104682\n",
       "14                PublicEvent_count_bin  0.00574635\n",
       "15               ReleaseEvent_count_bin  0.00394793"
      ]
     },
     "execution_count": 26,
     "metadata": {},
     "output_type": "execute_result"
    }
   ],
   "source": [
    "print(gbtModel.featureImportances.indices)\n",
    "numeric_features = np.asarray(numeric_features)\n",
    "pd.DataFrame([numeric_features[gbtModel.featureImportances.indices], \n",
    "              gbtModel.featureImportances.values]).T.sort_values(by=[1], ascending=False)"
   ]
  },
  {
   "cell_type": "code",
   "execution_count": 59,
   "metadata": {},
   "outputs": [
    {
     "data": {
      "text/plain": [
       "'evaluator = BinaryClassificationEvaluator()\\nprint(\"Test Area Under ROC: \" + str(\\n    evaluator.evaluate(predictions, {evaluator.metricName: \"areaUnderROC\"})))'"
      ]
     },
     "execution_count": 59,
     "metadata": {},
     "output_type": "execute_result"
    }
   ],
   "source": [
    "'''evaluator = BinaryClassificationEvaluator()\n",
    "print(\"Test Area Under ROC: \" + str(\n",
    "    evaluator.evaluate(predictions, {evaluator.metricName: \"areaUnderROC\"})))'''"
   ]
  },
  {
   "cell_type": "markdown",
   "metadata": {},
   "source": [
    "## Random forest classification"
   ]
  },
  {
   "cell_type": "code",
   "execution_count": 60,
   "metadata": {},
   "outputs": [
    {
     "data": {
      "text/plain": [
       "\"rf = RandomForestClassifier(featuresCol = 'features', labelCol = 'label')\\nrfModel = rf.fit(train)\\nh.write_tree_to_file(rfModel.toDebugString, 'rf_trees_' + model_name)\\npredictions = rfModel.transform(test)\\npredictions.select(show_cols).show(10)\\nh.eval_metrics(predictions)\""
      ]
     },
     "execution_count": 60,
     "metadata": {},
     "output_type": "execute_result"
    }
   ],
   "source": [
    "'''rf = RandomForestClassifier(featuresCol = 'features', labelCol = 'label')\n",
    "rfModel = rf.fit(train)\n",
    "h.write_tree_to_file(rfModel.toDebugString, 'rf_trees_' + model_name)\n",
    "predictions = rfModel.transform(test)\n",
    "predictions.select(show_cols).show(10)\n",
    "h.eval_metrics(predictions)'''"
   ]
  },
  {
   "cell_type": "code",
   "execution_count": 27,
   "metadata": {},
   "outputs": [],
   "source": [
    "examples = pd.DataFrame(churn_data.take(500), columns=churn_data.columns)"
   ]
  },
  {
   "cell_type": "code",
   "execution_count": 28,
   "metadata": {},
   "outputs": [
    {
     "data": {
      "text/plain": [
       "array([<matplotlib.axes._subplots.AxesSubplot object at 0x7fab58f67eb8>,\n",
       "       <matplotlib.axes._subplots.AxesSubplot object at 0x7fab5a809630>,\n",
       "       <matplotlib.axes._subplots.AxesSubplot object at 0x7fab5bfc5470>,\n",
       "       <matplotlib.axes._subplots.AxesSubplot object at 0x7fab60ab6b70>,\n",
       "       <matplotlib.axes._subplots.AxesSubplot object at 0x7fab614db080>,\n",
       "       <matplotlib.axes._subplots.AxesSubplot object at 0x7fab620186a0>,\n",
       "       <matplotlib.axes._subplots.AxesSubplot object at 0x7fab4db05c50>,\n",
       "       <matplotlib.axes._subplots.AxesSubplot object at 0x7fab58a7ac88>,\n",
       "       <matplotlib.axes._subplots.AxesSubplot object at 0x7fab4e045eb8>,\n",
       "       <matplotlib.axes._subplots.AxesSubplot object at 0x7fab5bb159e8>,\n",
       "       <matplotlib.axes._subplots.AxesSubplot object at 0x7fab585d3908>,\n",
       "       <matplotlib.axes._subplots.AxesSubplot object at 0x7fab58756e80>,\n",
       "       <matplotlib.axes._subplots.AxesSubplot object at 0x7fab51271438>,\n",
       "       <matplotlib.axes._subplots.AxesSubplot object at 0x7fab512569b0>,\n",
       "       <matplotlib.axes._subplots.AxesSubplot object at 0x7fab5089df28>,\n",
       "       <matplotlib.axes._subplots.AxesSubplot object at 0x7fab5855e0f0>],\n",
       "      dtype=object)"
      ]
     },
     "execution_count": 28,
     "metadata": {},
     "output_type": "execute_result"
    },
    {
     "data": {
      "image/png": "[encoded data removed]",
      "text/plain": [
       "<Figure size 432x2160 with 16 Axes>"
      ]
     },
     "metadata": {
      "needs_background": "light"
     },
     "output_type": "display_data"
    }
   ],
   "source": [
    "import matplotlib.pylab as plt\n",
    "examples = examples.drop(['label'], axis=1)\n",
    "fig, ax = plt.subplots(8, 2, figsize=(6, 30))\n",
    "examples.hist(ax=ax)"
   ]
  },
  {
   "cell_type": "markdown",
   "metadata": {},
   "source": [
    "## Grid search with cross validation"
   ]
  },
  {
   "cell_type": "code",
   "execution_count": null,
   "metadata": {},
   "outputs": [],
   "source": [
    "from pyspark.ml.tuning import ParamGridBuilder, CrossValidator\n",
    "from pyspark.ml.evaluation import BinaryClassificationEvaluator\n",
    "\n",
    "evaluator = BinaryClassificationEvaluator()\n",
    "\n",
    "paramGrid = (ParamGridBuilder()\n",
    "             .addGrid(lrModel.elasticNetParam, [0, 0.8, 0.08])\n",
    "             .addGrid(lrModel.regParam, [0, 0.3, 0.003])\n",
    "             .addGrid(lrModel.maxIter, [50, 100])\n",
    "             .build())\n",
    "cv = CrossValidator(estimator=lrModel, estimatorParamMaps=paramGrid, \n",
    "                    evaluator=evaluator, numFolds=5)\n",
    "\n",
    "# Run cross validations\n",
    "cvModel = cv.fit(train)\n",
    "predictions = cvModel.transform(test)\n",
    "evaluator.evaluate(predictions)"
   ]
  },
  {
   "cell_type": "code",
   "execution_count": null,
   "metadata": {},
   "outputs": [],
   "source": [
    "h.eval_metrics(predictions)"
   ]
  }
 ],
 "metadata": {
  "kernelspec": {
   "display_name": "Python 3",
   "language": "python",
   "name": "python3"
  },
  "language_info": {
   "codemirror_mode": {
    "name": "ipython",
    "version": 3
   },
   "file_extension": ".py",
   "mimetype": "text/x-python",
   "name": "python",
   "nbconvert_exporter": "python",
   "pygments_lexer": "ipython3",
   "version": "3.7.2"
  }
 },
 "nbformat": 4,
 "nbformat_minor": 2
}

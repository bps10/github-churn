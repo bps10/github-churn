{
 "cells": [
  {
   "cell_type": "markdown",
   "metadata": {},
   "source": [
    "# CLV model\n",
    "\n",
    "[Customer value in non-contractual business model](https://towardsdatascience.com/whats-a-customer-worth-8daf183f8a4f)\n",
    "\n",
    "[lifetimes python package](https://github.com/CamDavidsonPilon/lifetimes) for modeling customer lifetime value (CVL).\n",
    "\n",
    "[CLV in pyspark](http://webdropin.com/wordpress99/customer-lifetime-value-in-pyspark/)"
   ]
  },
  {
   "cell_type": "code",
   "execution_count": 1,
   "metadata": {},
   "outputs": [],
   "source": [
    "import pandas as pd\n",
    "import numpy as np\n",
    "import matplotlib.pylab as plt\n",
    "from lifetimes import BetaGeoFitter\n",
    "\n",
    "from lifetimes.plotting import plot_frequency_recency_matrix\n",
    "\n",
    "import helper as h"
   ]
  },
  {
   "cell_type": "code",
   "execution_count": 26,
   "metadata": {},
   "outputs": [
    {
     "data": {
      "text/html": [
       "<div>\n",
       "<style scoped>\n",
       "    .dataframe tbody tr th:only-of-type {\n",
       "        vertical-align: middle;\n",
       "    }\n",
       "\n",
       "    .dataframe tbody tr th {\n",
       "        vertical-align: top;\n",
       "    }\n",
       "\n",
       "    .dataframe thead th {\n",
       "        text-align: right;\n",
       "    }\n",
       "</style>\n",
       "<table border=\"1\" class=\"dataframe\">\n",
       "  <thead>\n",
       "    <tr style=\"text-align: right;\">\n",
       "      <th></th>\n",
       "      <th>login</th>\n",
       "      <th>followers_count</th>\n",
       "      <th>following_count</th>\n",
       "      <th>blog</th>\n",
       "      <th>company</th>\n",
       "      <th>created_at</th>\n",
       "      <th>public_repos_count</th>\n",
       "      <th>public_gists_count</th>\n",
       "      <th>hireable</th>\n",
       "      <th>updated_at</th>\n",
       "      <th>...</th>\n",
       "      <th>GollumEvent_count</th>\n",
       "      <th>IssueCommentEvent_count</th>\n",
       "      <th>IssuesEvent_count</th>\n",
       "      <th>MemberEvent_count</th>\n",
       "      <th>PublicEvent_count</th>\n",
       "      <th>PullRequestEvent_count</th>\n",
       "      <th>PullRequestReviewCommentEvent_count</th>\n",
       "      <th>PushEvent_count</th>\n",
       "      <th>ReleaseEvent_count</th>\n",
       "      <th>WatchEvent_count</th>\n",
       "    </tr>\n",
       "  </thead>\n",
       "  <tbody>\n",
       "    <tr>\n",
       "      <th>0</th>\n",
       "      <td>0loky0</td>\n",
       "      <td>0</td>\n",
       "      <td>1</td>\n",
       "      <td>0</td>\n",
       "      <td>0</td>\n",
       "      <td>2011-05-24 20:15:25+00:00</td>\n",
       "      <td>7.0</td>\n",
       "      <td>0.0</td>\n",
       "      <td>1</td>\n",
       "      <td>2019-01-09 15:03:59+00:00</td>\n",
       "      <td>...</td>\n",
       "      <td>0.0</td>\n",
       "      <td>0.0</td>\n",
       "      <td>0.0</td>\n",
       "      <td>0.0</td>\n",
       "      <td>0.0</td>\n",
       "      <td>0.0</td>\n",
       "      <td>0.0</td>\n",
       "      <td>12.0</td>\n",
       "      <td>0.0</td>\n",
       "      <td>0.0</td>\n",
       "    </tr>\n",
       "    <tr>\n",
       "      <th>1</th>\n",
       "      <td>13246864965</td>\n",
       "      <td>0</td>\n",
       "      <td>0</td>\n",
       "      <td>0</td>\n",
       "      <td>0</td>\n",
       "      <td>2016-04-14 10:04:50+00:00</td>\n",
       "      <td>3.0</td>\n",
       "      <td>0.0</td>\n",
       "      <td>0</td>\n",
       "      <td>2018-08-02 07:48:44+00:00</td>\n",
       "      <td>...</td>\n",
       "      <td>0.0</td>\n",
       "      <td>0.0</td>\n",
       "      <td>0.0</td>\n",
       "      <td>0.0</td>\n",
       "      <td>0.0</td>\n",
       "      <td>0.0</td>\n",
       "      <td>0.0</td>\n",
       "      <td>1.0</td>\n",
       "      <td>0.0</td>\n",
       "      <td>0.0</td>\n",
       "    </tr>\n",
       "    <tr>\n",
       "      <th>2</th>\n",
       "      <td>1xPdd</td>\n",
       "      <td>0</td>\n",
       "      <td>0</td>\n",
       "      <td>0</td>\n",
       "      <td>0</td>\n",
       "      <td>2014-07-11 03:45:56+00:00</td>\n",
       "      <td>0.0</td>\n",
       "      <td>0.0</td>\n",
       "      <td>0</td>\n",
       "      <td>2018-12-16 00:55:16+00:00</td>\n",
       "      <td>...</td>\n",
       "      <td>0.0</td>\n",
       "      <td>2.0</td>\n",
       "      <td>0.0</td>\n",
       "      <td>0.0</td>\n",
       "      <td>0.0</td>\n",
       "      <td>0.0</td>\n",
       "      <td>0.0</td>\n",
       "      <td>0.0</td>\n",
       "      <td>0.0</td>\n",
       "      <td>1.0</td>\n",
       "    </tr>\n",
       "    <tr>\n",
       "      <th>3</th>\n",
       "      <td>2582056905xy</td>\n",
       "      <td>2</td>\n",
       "      <td>6</td>\n",
       "      <td>0</td>\n",
       "      <td>0</td>\n",
       "      <td>2014-04-24 14:51:26+00:00</td>\n",
       "      <td>35.0</td>\n",
       "      <td>0.0</td>\n",
       "      <td>0</td>\n",
       "      <td>2018-10-18 01:47:18+00:00</td>\n",
       "      <td>...</td>\n",
       "      <td>0.0</td>\n",
       "      <td>0.0</td>\n",
       "      <td>0.0</td>\n",
       "      <td>0.0</td>\n",
       "      <td>0.0</td>\n",
       "      <td>1.0</td>\n",
       "      <td>0.0</td>\n",
       "      <td>2.0</td>\n",
       "      <td>0.0</td>\n",
       "      <td>2.0</td>\n",
       "    </tr>\n",
       "    <tr>\n",
       "      <th>4</th>\n",
       "      <td>277542952</td>\n",
       "      <td>1</td>\n",
       "      <td>28</td>\n",
       "      <td>0</td>\n",
       "      <td>0</td>\n",
       "      <td>2016-03-16 03:17:58+00:00</td>\n",
       "      <td>1.0</td>\n",
       "      <td>0.0</td>\n",
       "      <td>0</td>\n",
       "      <td>2017-08-14 19:48:16+00:00</td>\n",
       "      <td>...</td>\n",
       "      <td>0.0</td>\n",
       "      <td>0.0</td>\n",
       "      <td>1.0</td>\n",
       "      <td>0.0</td>\n",
       "      <td>0.0</td>\n",
       "      <td>0.0</td>\n",
       "      <td>0.0</td>\n",
       "      <td>0.0</td>\n",
       "      <td>0.0</td>\n",
       "      <td>12.0</td>\n",
       "    </tr>\n",
       "  </tbody>\n",
       "</table>\n",
       "<p>5 rows × 29 columns</p>\n",
       "</div>"
      ],
      "text/plain": [
       "          login  followers_count  following_count  blog  company  \\\n",
       "0        0loky0                0                1     0        0   \n",
       "1   13246864965                0                0     0        0   \n",
       "2         1xPdd                0                0     0        0   \n",
       "3  2582056905xy                2                6     0        0   \n",
       "4     277542952                1               28     0        0   \n",
       "\n",
       "                  created_at  public_repos_count  public_gists_count  \\\n",
       "0  2011-05-24 20:15:25+00:00                 7.0                 0.0   \n",
       "1  2016-04-14 10:04:50+00:00                 3.0                 0.0   \n",
       "2  2014-07-11 03:45:56+00:00                 0.0                 0.0   \n",
       "3  2014-04-24 14:51:26+00:00                35.0                 0.0   \n",
       "4  2016-03-16 03:17:58+00:00                 1.0                 0.0   \n",
       "\n",
       "   hireable                 updated_at        ...        GollumEvent_count  \\\n",
       "0         1  2019-01-09 15:03:59+00:00        ...                      0.0   \n",
       "1         0  2018-08-02 07:48:44+00:00        ...                      0.0   \n",
       "2         0  2018-12-16 00:55:16+00:00        ...                      0.0   \n",
       "3         0  2018-10-18 01:47:18+00:00        ...                      0.0   \n",
       "4         0  2017-08-14 19:48:16+00:00        ...                      0.0   \n",
       "\n",
       "  IssueCommentEvent_count IssuesEvent_count  MemberEvent_count  \\\n",
       "0                     0.0               0.0                0.0   \n",
       "1                     0.0               0.0                0.0   \n",
       "2                     2.0               0.0                0.0   \n",
       "3                     0.0               0.0                0.0   \n",
       "4                     0.0               1.0                0.0   \n",
       "\n",
       "   PublicEvent_count  PullRequestEvent_count  \\\n",
       "0                0.0                     0.0   \n",
       "1                0.0                     0.0   \n",
       "2                0.0                     0.0   \n",
       "3                0.0                     1.0   \n",
       "4                0.0                     0.0   \n",
       "\n",
       "   PullRequestReviewCommentEvent_count  PushEvent_count  ReleaseEvent_count  \\\n",
       "0                                  0.0             12.0                 0.0   \n",
       "1                                  0.0              1.0                 0.0   \n",
       "2                                  0.0              0.0                 0.0   \n",
       "3                                  0.0              2.0                 0.0   \n",
       "4                                  0.0              0.0                 0.0   \n",
       "\n",
       "   WatchEvent_count  \n",
       "0               0.0  \n",
       "1               0.0  \n",
       "2               1.0  \n",
       "3               2.0  \n",
       "4              12.0  \n",
       "\n",
       "[5 rows x 29 columns]"
      ]
     },
     "execution_count": 26,
     "metadata": {},
     "output_type": "execute_result"
    }
   ],
   "source": [
    "user_data = h.get_merged_data(appName='CVL-model').toPandas()\n",
    "user_data.head()"
   ]
  },
  {
   "cell_type": "code",
   "execution_count": 27,
   "metadata": {},
   "outputs": [
    {
     "name": "stdout",
     "output_type": "stream",
     "text": [
      "2016-06-01 23:59:59\n"
     ]
    },
    {
     "data": {
      "text/html": [
       "<div>\n",
       "<style scoped>\n",
       "    .dataframe tbody tr th:only-of-type {\n",
       "        vertical-align: middle;\n",
       "    }\n",
       "\n",
       "    .dataframe tbody tr th {\n",
       "        vertical-align: top;\n",
       "    }\n",
       "\n",
       "    .dataframe thead th {\n",
       "        text-align: right;\n",
       "    }\n",
       "</style>\n",
       "<table border=\"1\" class=\"dataframe\">\n",
       "  <thead>\n",
       "    <tr style=\"text-align: right;\">\n",
       "      <th></th>\n",
       "      <th>login</th>\n",
       "      <th>followers_count</th>\n",
       "      <th>following_count</th>\n",
       "      <th>blog</th>\n",
       "      <th>company</th>\n",
       "      <th>created_at</th>\n",
       "      <th>public_repos_count</th>\n",
       "      <th>public_gists_count</th>\n",
       "      <th>hireable</th>\n",
       "      <th>updated_at</th>\n",
       "      <th>...</th>\n",
       "      <th>IssueCommentEvent_count</th>\n",
       "      <th>IssuesEvent_count</th>\n",
       "      <th>MemberEvent_count</th>\n",
       "      <th>PublicEvent_count</th>\n",
       "      <th>PullRequestEvent_count</th>\n",
       "      <th>PullRequestReviewCommentEvent_count</th>\n",
       "      <th>PushEvent_count</th>\n",
       "      <th>ReleaseEvent_count</th>\n",
       "      <th>WatchEvent_count</th>\n",
       "      <th>T</th>\n",
       "    </tr>\n",
       "  </thead>\n",
       "  <tbody>\n",
       "    <tr>\n",
       "      <th>0</th>\n",
       "      <td>0loky0</td>\n",
       "      <td>0</td>\n",
       "      <td>1</td>\n",
       "      <td>0</td>\n",
       "      <td>0</td>\n",
       "      <td>2011-05-24 20:15:25</td>\n",
       "      <td>7.0</td>\n",
       "      <td>0.0</td>\n",
       "      <td>1</td>\n",
       "      <td>2019-01-09 15:03:59+00:00</td>\n",
       "      <td>...</td>\n",
       "      <td>0.0</td>\n",
       "      <td>0.0</td>\n",
       "      <td>0.0</td>\n",
       "      <td>0.0</td>\n",
       "      <td>0.0</td>\n",
       "      <td>0.0</td>\n",
       "      <td>12.0</td>\n",
       "      <td>0.0</td>\n",
       "      <td>0.0</td>\n",
       "      <td>262.0</td>\n",
       "    </tr>\n",
       "    <tr>\n",
       "      <th>1</th>\n",
       "      <td>13246864965</td>\n",
       "      <td>0</td>\n",
       "      <td>0</td>\n",
       "      <td>0</td>\n",
       "      <td>0</td>\n",
       "      <td>2016-04-14 10:04:50</td>\n",
       "      <td>3.0</td>\n",
       "      <td>0.0</td>\n",
       "      <td>0</td>\n",
       "      <td>2018-08-02 07:48:44+00:00</td>\n",
       "      <td>...</td>\n",
       "      <td>0.0</td>\n",
       "      <td>0.0</td>\n",
       "      <td>0.0</td>\n",
       "      <td>0.0</td>\n",
       "      <td>0.0</td>\n",
       "      <td>0.0</td>\n",
       "      <td>1.0</td>\n",
       "      <td>0.0</td>\n",
       "      <td>0.0</td>\n",
       "      <td>7.0</td>\n",
       "    </tr>\n",
       "    <tr>\n",
       "      <th>2</th>\n",
       "      <td>1xPdd</td>\n",
       "      <td>0</td>\n",
       "      <td>0</td>\n",
       "      <td>0</td>\n",
       "      <td>0</td>\n",
       "      <td>2014-07-11 03:45:56</td>\n",
       "      <td>0.0</td>\n",
       "      <td>0.0</td>\n",
       "      <td>0</td>\n",
       "      <td>2018-12-16 00:55:16+00:00</td>\n",
       "      <td>...</td>\n",
       "      <td>2.0</td>\n",
       "      <td>0.0</td>\n",
       "      <td>0.0</td>\n",
       "      <td>0.0</td>\n",
       "      <td>0.0</td>\n",
       "      <td>0.0</td>\n",
       "      <td>0.0</td>\n",
       "      <td>0.0</td>\n",
       "      <td>1.0</td>\n",
       "      <td>99.0</td>\n",
       "    </tr>\n",
       "    <tr>\n",
       "      <th>3</th>\n",
       "      <td>2582056905xy</td>\n",
       "      <td>2</td>\n",
       "      <td>6</td>\n",
       "      <td>0</td>\n",
       "      <td>0</td>\n",
       "      <td>2014-04-24 14:51:26</td>\n",
       "      <td>35.0</td>\n",
       "      <td>0.0</td>\n",
       "      <td>0</td>\n",
       "      <td>2018-10-18 01:47:18+00:00</td>\n",
       "      <td>...</td>\n",
       "      <td>0.0</td>\n",
       "      <td>0.0</td>\n",
       "      <td>0.0</td>\n",
       "      <td>0.0</td>\n",
       "      <td>1.0</td>\n",
       "      <td>0.0</td>\n",
       "      <td>2.0</td>\n",
       "      <td>0.0</td>\n",
       "      <td>2.0</td>\n",
       "      <td>110.0</td>\n",
       "    </tr>\n",
       "    <tr>\n",
       "      <th>4</th>\n",
       "      <td>277542952</td>\n",
       "      <td>1</td>\n",
       "      <td>28</td>\n",
       "      <td>0</td>\n",
       "      <td>0</td>\n",
       "      <td>2016-03-16 03:17:58</td>\n",
       "      <td>1.0</td>\n",
       "      <td>0.0</td>\n",
       "      <td>0</td>\n",
       "      <td>2017-08-14 19:48:16+00:00</td>\n",
       "      <td>...</td>\n",
       "      <td>0.0</td>\n",
       "      <td>1.0</td>\n",
       "      <td>0.0</td>\n",
       "      <td>0.0</td>\n",
       "      <td>0.0</td>\n",
       "      <td>0.0</td>\n",
       "      <td>0.0</td>\n",
       "      <td>0.0</td>\n",
       "      <td>12.0</td>\n",
       "      <td>11.0</td>\n",
       "    </tr>\n",
       "  </tbody>\n",
       "</table>\n",
       "<p>5 rows × 30 columns</p>\n",
       "</div>"
      ],
      "text/plain": [
       "          login  followers_count  following_count  blog  company  \\\n",
       "0        0loky0                0                1     0        0   \n",
       "1   13246864965                0                0     0        0   \n",
       "2         1xPdd                0                0     0        0   \n",
       "3  2582056905xy                2                6     0        0   \n",
       "4     277542952                1               28     0        0   \n",
       "\n",
       "           created_at  public_repos_count  public_gists_count  hireable  \\\n",
       "0 2011-05-24 20:15:25                 7.0                 0.0         1   \n",
       "1 2016-04-14 10:04:50                 3.0                 0.0         0   \n",
       "2 2014-07-11 03:45:56                 0.0                 0.0         0   \n",
       "3 2014-04-24 14:51:26                35.0                 0.0         0   \n",
       "4 2016-03-16 03:17:58                 1.0                 0.0         0   \n",
       "\n",
       "                  updated_at  ...   IssueCommentEvent_count IssuesEvent_count  \\\n",
       "0  2019-01-09 15:03:59+00:00  ...                       0.0               0.0   \n",
       "1  2018-08-02 07:48:44+00:00  ...                       0.0               0.0   \n",
       "2  2018-12-16 00:55:16+00:00  ...                       2.0               0.0   \n",
       "3  2018-10-18 01:47:18+00:00  ...                       0.0               0.0   \n",
       "4  2017-08-14 19:48:16+00:00  ...                       0.0               1.0   \n",
       "\n",
       "  MemberEvent_count  PublicEvent_count  PullRequestEvent_count  \\\n",
       "0               0.0                0.0                     0.0   \n",
       "1               0.0                0.0                     0.0   \n",
       "2               0.0                0.0                     0.0   \n",
       "3               0.0                0.0                     1.0   \n",
       "4               0.0                0.0                     0.0   \n",
       "\n",
       "   PullRequestReviewCommentEvent_count  PushEvent_count  ReleaseEvent_count  \\\n",
       "0                                  0.0             12.0                 0.0   \n",
       "1                                  0.0              1.0                 0.0   \n",
       "2                                  0.0              0.0                 0.0   \n",
       "3                                  0.0              2.0                 0.0   \n",
       "4                                  0.0              0.0                 0.0   \n",
       "\n",
       "   WatchEvent_count      T  \n",
       "0               0.0  262.0  \n",
       "1               0.0    7.0  \n",
       "2               1.0   99.0  \n",
       "3               2.0  110.0  \n",
       "4              12.0   11.0  \n",
       "\n",
       "[5 rows x 30 columns]"
      ]
     },
     "execution_count": 27,
     "metadata": {},
     "output_type": "execute_result"
    }
   ],
   "source": [
    "#pd.to_datetime(users['created_at'], errors='coerce')\n",
    "user_data = h.add_time_columns(user_data)"
   ]
  },
  {
   "cell_type": "code",
   "execution_count": 28,
   "metadata": {},
   "outputs": [],
   "source": [
    "# move this to helper function!!\n",
    "'''user_data['last_event'] = pd.to_datetime(user_data.last_event, errors='coerce')\n",
    "user_data['recency'] = (user_data.last_event - user_data.created_at)  / pd.Timedelta(weeks=1)'''"
   ]
  },
  {
   "cell_type": "code",
   "execution_count": 29,
   "metadata": {},
   "outputs": [
    {
     "data": {
      "text/html": [
       "<div>\n",
       "<style scoped>\n",
       "    .dataframe tbody tr th:only-of-type {\n",
       "        vertical-align: middle;\n",
       "    }\n",
       "\n",
       "    .dataframe tbody tr th {\n",
       "        vertical-align: top;\n",
       "    }\n",
       "\n",
       "    .dataframe thead th {\n",
       "        text-align: right;\n",
       "    }\n",
       "</style>\n",
       "<table border=\"1\" class=\"dataframe\">\n",
       "  <thead>\n",
       "    <tr style=\"text-align: right;\">\n",
       "      <th></th>\n",
       "      <th>login</th>\n",
       "      <th>followers_count</th>\n",
       "      <th>following_count</th>\n",
       "      <th>blog</th>\n",
       "      <th>company</th>\n",
       "      <th>created_at</th>\n",
       "      <th>public_repos_count</th>\n",
       "      <th>public_gists_count</th>\n",
       "      <th>hireable</th>\n",
       "      <th>updated_at</th>\n",
       "      <th>...</th>\n",
       "      <th>IssuesEvent_count</th>\n",
       "      <th>MemberEvent_count</th>\n",
       "      <th>PublicEvent_count</th>\n",
       "      <th>PullRequestEvent_count</th>\n",
       "      <th>PullRequestReviewCommentEvent_count</th>\n",
       "      <th>PushEvent_count</th>\n",
       "      <th>ReleaseEvent_count</th>\n",
       "      <th>WatchEvent_count</th>\n",
       "      <th>T</th>\n",
       "      <th>recency</th>\n",
       "    </tr>\n",
       "  </thead>\n",
       "  <tbody>\n",
       "    <tr>\n",
       "      <th>0</th>\n",
       "      <td>0loky0</td>\n",
       "      <td>0</td>\n",
       "      <td>1</td>\n",
       "      <td>0</td>\n",
       "      <td>0</td>\n",
       "      <td>2011-05-24 20:15:25</td>\n",
       "      <td>7.0</td>\n",
       "      <td>0.0</td>\n",
       "      <td>1</td>\n",
       "      <td>2019-01-09 15:03:59+00:00</td>\n",
       "      <td>...</td>\n",
       "      <td>0.0</td>\n",
       "      <td>0.0</td>\n",
       "      <td>0.0</td>\n",
       "      <td>0.0</td>\n",
       "      <td>0.0</td>\n",
       "      <td>12.0</td>\n",
       "      <td>0.0</td>\n",
       "      <td>0.0</td>\n",
       "      <td>262.0</td>\n",
       "      <td>255.368912</td>\n",
       "    </tr>\n",
       "    <tr>\n",
       "      <th>1</th>\n",
       "      <td>13246864965</td>\n",
       "      <td>0</td>\n",
       "      <td>0</td>\n",
       "      <td>0</td>\n",
       "      <td>0</td>\n",
       "      <td>2016-04-14 10:04:50</td>\n",
       "      <td>3.0</td>\n",
       "      <td>0.0</td>\n",
       "      <td>0</td>\n",
       "      <td>2018-08-02 07:48:44+00:00</td>\n",
       "      <td>...</td>\n",
       "      <td>0.0</td>\n",
       "      <td>0.0</td>\n",
       "      <td>0.0</td>\n",
       "      <td>0.0</td>\n",
       "      <td>0.0</td>\n",
       "      <td>1.0</td>\n",
       "      <td>0.0</td>\n",
       "      <td>0.0</td>\n",
       "      <td>7.0</td>\n",
       "      <td>0.002303</td>\n",
       "    </tr>\n",
       "    <tr>\n",
       "      <th>2</th>\n",
       "      <td>1xPdd</td>\n",
       "      <td>0</td>\n",
       "      <td>0</td>\n",
       "      <td>0</td>\n",
       "      <td>0</td>\n",
       "      <td>2014-07-11 03:45:56</td>\n",
       "      <td>0.0</td>\n",
       "      <td>0.0</td>\n",
       "      <td>0</td>\n",
       "      <td>2018-12-16 00:55:16+00:00</td>\n",
       "      <td>...</td>\n",
       "      <td>0.0</td>\n",
       "      <td>0.0</td>\n",
       "      <td>0.0</td>\n",
       "      <td>0.0</td>\n",
       "      <td>0.0</td>\n",
       "      <td>0.0</td>\n",
       "      <td>0.0</td>\n",
       "      <td>1.0</td>\n",
       "      <td>99.0</td>\n",
       "      <td>97.621622</td>\n",
       "    </tr>\n",
       "    <tr>\n",
       "      <th>3</th>\n",
       "      <td>2582056905xy</td>\n",
       "      <td>2</td>\n",
       "      <td>6</td>\n",
       "      <td>0</td>\n",
       "      <td>0</td>\n",
       "      <td>2014-04-24 14:51:26</td>\n",
       "      <td>35.0</td>\n",
       "      <td>0.0</td>\n",
       "      <td>0</td>\n",
       "      <td>2018-10-18 01:47:18+00:00</td>\n",
       "      <td>...</td>\n",
       "      <td>0.0</td>\n",
       "      <td>0.0</td>\n",
       "      <td>0.0</td>\n",
       "      <td>1.0</td>\n",
       "      <td>0.0</td>\n",
       "      <td>2.0</td>\n",
       "      <td>0.0</td>\n",
       "      <td>2.0</td>\n",
       "      <td>110.0</td>\n",
       "      <td>104.808775</td>\n",
       "    </tr>\n",
       "    <tr>\n",
       "      <th>4</th>\n",
       "      <td>277542952</td>\n",
       "      <td>1</td>\n",
       "      <td>28</td>\n",
       "      <td>0</td>\n",
       "      <td>0</td>\n",
       "      <td>2016-03-16 03:17:58</td>\n",
       "      <td>1.0</td>\n",
       "      <td>0.0</td>\n",
       "      <td>0</td>\n",
       "      <td>2017-08-14 19:48:16+00:00</td>\n",
       "      <td>...</td>\n",
       "      <td>1.0</td>\n",
       "      <td>0.0</td>\n",
       "      <td>0.0</td>\n",
       "      <td>0.0</td>\n",
       "      <td>0.0</td>\n",
       "      <td>0.0</td>\n",
       "      <td>0.0</td>\n",
       "      <td>12.0</td>\n",
       "      <td>11.0</td>\n",
       "      <td>9.994268</td>\n",
       "    </tr>\n",
       "  </tbody>\n",
       "</table>\n",
       "<p>5 rows × 31 columns</p>\n",
       "</div>"
      ],
      "text/plain": [
       "          login  followers_count  following_count  blog  company  \\\n",
       "0        0loky0                0                1     0        0   \n",
       "1   13246864965                0                0     0        0   \n",
       "2         1xPdd                0                0     0        0   \n",
       "3  2582056905xy                2                6     0        0   \n",
       "4     277542952                1               28     0        0   \n",
       "\n",
       "           created_at  public_repos_count  public_gists_count  hireable  \\\n",
       "0 2011-05-24 20:15:25                 7.0                 0.0         1   \n",
       "1 2016-04-14 10:04:50                 3.0                 0.0         0   \n",
       "2 2014-07-11 03:45:56                 0.0                 0.0         0   \n",
       "3 2014-04-24 14:51:26                35.0                 0.0         0   \n",
       "4 2016-03-16 03:17:58                 1.0                 0.0         0   \n",
       "\n",
       "                  updated_at     ...     IssuesEvent_count MemberEvent_count  \\\n",
       "0  2019-01-09 15:03:59+00:00     ...                   0.0               0.0   \n",
       "1  2018-08-02 07:48:44+00:00     ...                   0.0               0.0   \n",
       "2  2018-12-16 00:55:16+00:00     ...                   0.0               0.0   \n",
       "3  2018-10-18 01:47:18+00:00     ...                   0.0               0.0   \n",
       "4  2017-08-14 19:48:16+00:00     ...                   1.0               0.0   \n",
       "\n",
       "  PublicEvent_count  PullRequestEvent_count  \\\n",
       "0               0.0                     0.0   \n",
       "1               0.0                     0.0   \n",
       "2               0.0                     0.0   \n",
       "3               0.0                     1.0   \n",
       "4               0.0                     0.0   \n",
       "\n",
       "   PullRequestReviewCommentEvent_count  PushEvent_count  ReleaseEvent_count  \\\n",
       "0                                  0.0             12.0                 0.0   \n",
       "1                                  0.0              1.0                 0.0   \n",
       "2                                  0.0              0.0                 0.0   \n",
       "3                                  0.0              2.0                 0.0   \n",
       "4                                  0.0              0.0                 0.0   \n",
       "\n",
       "   WatchEvent_count      T     recency  \n",
       "0               0.0  262.0  255.368912  \n",
       "1               0.0    7.0    0.002303  \n",
       "2               1.0   99.0   97.621622  \n",
       "3               2.0  110.0  104.808775  \n",
       "4              12.0   11.0    9.994268  \n",
       "\n",
       "[5 rows x 31 columns]"
      ]
     },
     "execution_count": 29,
     "metadata": {},
     "output_type": "execute_result"
    }
   ],
   "source": [
    "user_data.head()"
   ]
  },
  {
   "cell_type": "markdown",
   "metadata": {},
   "source": [
    "### T, recency and frequency\n",
    "\n",
    "Definitions from [lifetime](https://lifetimes.readthedocs.io/en/latest/Quickstart.html):\n",
    "\n",
    "`frequency` represents the number of repeat purchases the customer has made. This means that it’s one less than the total number of purchases. This is actually slightly wrong. It’s the count of time periods the customer had a purchase in. So if using days as units, then it’s the count of days the customer had a purchase on.\n",
    "\n",
    "`T` represents the age of the customer in whatever time units chosen (weekly, in the above dataset). This is equal to the duration between a customer’s first purchase and the end of the period under study.\n",
    "\n",
    "`recency` represents the age of the customer when they made their most recent purchases. This is equal to the duration between a customer’s first purchase and their latest purchase. (Thus if they have made only 1 purchase, the recency is 0.)"
   ]
  },
  {
   "cell_type": "code",
   "execution_count": 30,
   "metadata": {},
   "outputs": [
    {
     "name": "stdout",
     "output_type": "stream",
     "text": [
      "% of users dropped 3.392495138802701\n"
     ]
    }
   ],
   "source": []
  },
  {
   "cell_type": "code",
   "execution_count": 31,
   "metadata": {},
   "outputs": [
    {
     "data": {
      "text/plain": [
       "array([[<matplotlib.axes._subplots.AxesSubplot object at 0x7fe121a45ef0>,\n",
       "        <matplotlib.axes._subplots.AxesSubplot object at 0x7fe1185dc7f0>],\n",
       "       [<matplotlib.axes._subplots.AxesSubplot object at 0x7fe118251d68>,\n",
       "        <matplotlib.axes._subplots.AxesSubplot object at 0x7fe118136320>]],\n",
       "      dtype=object)"
      ]
     },
     "execution_count": 31,
     "metadata": {},
     "output_type": "execute_result"
    },
    {
     "data": {
      "image/png": "[encoded data removed]",
      "text/plain": [
       "<Figure size 432x288 with 4 Axes>"
      ]
     },
     "metadata": {
      "needs_background": "light"
     },
     "output_type": "display_data"
    }
   ],
   "source": [
    "'''user_data[['frequency', 'T', 'recency']].hist(bins=30)'''"
   ]
  },
  {
   "cell_type": "markdown",
   "metadata": {},
   "source": [
    "### Model CLV"
   ]
  },
  {
   "cell_type": "code",
   "execution_count": 40,
   "metadata": {},
   "outputs": [],
   "source": [
    "user_data['recency'] = np.floor(user_data.recency)\n",
    "lifetime_df = user_data[['frequency', 'recency', 'T', 'login']]\n",
    "#lifetime_df['frequency'] = lifetime_df.frequency - 2\n",
    "lifetime_df = lifetime_df.dropna()"
   ]
  },
  {
   "cell_type": "code",
   "execution_count": 41,
   "metadata": {},
   "outputs": [
    {
     "data": {
      "text/html": [
       "<div>\n",
       "<style scoped>\n",
       "    .dataframe tbody tr th:only-of-type {\n",
       "        vertical-align: middle;\n",
       "    }\n",
       "\n",
       "    .dataframe tbody tr th {\n",
       "        vertical-align: top;\n",
       "    }\n",
       "\n",
       "    .dataframe thead th {\n",
       "        text-align: right;\n",
       "    }\n",
       "</style>\n",
       "<table border=\"1\" class=\"dataframe\">\n",
       "  <thead>\n",
       "    <tr style=\"text-align: right;\">\n",
       "      <th></th>\n",
       "      <th>frequency</th>\n",
       "      <th>recency</th>\n",
       "      <th>T</th>\n",
       "      <th>login</th>\n",
       "    </tr>\n",
       "  </thead>\n",
       "  <tbody>\n",
       "    <tr>\n",
       "      <th>0</th>\n",
       "      <td>19.0</td>\n",
       "      <td>255.0</td>\n",
       "      <td>262.0</td>\n",
       "      <td>0loky0</td>\n",
       "    </tr>\n",
       "    <tr>\n",
       "      <th>1</th>\n",
       "      <td>3.0</td>\n",
       "      <td>0.0</td>\n",
       "      <td>7.0</td>\n",
       "      <td>13246864965</td>\n",
       "    </tr>\n",
       "    <tr>\n",
       "      <th>2</th>\n",
       "      <td>3.0</td>\n",
       "      <td>97.0</td>\n",
       "      <td>99.0</td>\n",
       "      <td>1xPdd</td>\n",
       "    </tr>\n",
       "    <tr>\n",
       "      <th>3</th>\n",
       "      <td>11.0</td>\n",
       "      <td>104.0</td>\n",
       "      <td>110.0</td>\n",
       "      <td>2582056905xy</td>\n",
       "    </tr>\n",
       "    <tr>\n",
       "      <th>4</th>\n",
       "      <td>14.0</td>\n",
       "      <td>9.0</td>\n",
       "      <td>11.0</td>\n",
       "      <td>277542952</td>\n",
       "    </tr>\n",
       "  </tbody>\n",
       "</table>\n",
       "</div>"
      ],
      "text/plain": [
       "   frequency  recency      T         login\n",
       "0       19.0    255.0  262.0        0loky0\n",
       "1        3.0      0.0    7.0   13246864965\n",
       "2        3.0     97.0   99.0         1xPdd\n",
       "3       11.0    104.0  110.0  2582056905xy\n",
       "4       14.0      9.0   11.0     277542952"
      ]
     },
     "execution_count": 41,
     "metadata": {},
     "output_type": "execute_result"
    }
   ],
   "source": [
    "lifetime_df.head()"
   ]
  },
  {
   "cell_type": "code",
   "execution_count": 42,
   "metadata": {},
   "outputs": [],
   "source": [
    "lifetime_df = lifetime_df[(lifetime_df[\"T\"] > 0)]\n",
    "lifetime_df = lifetime_df[lifetime_df[\"recency\"] > 0]"
   ]
  },
  {
   "cell_type": "code",
   "execution_count": 43,
   "metadata": {},
   "outputs": [
    {
     "data": {
      "text/html": [
       "<div>\n",
       "<style scoped>\n",
       "    .dataframe tbody tr th:only-of-type {\n",
       "        vertical-align: middle;\n",
       "    }\n",
       "\n",
       "    .dataframe tbody tr th {\n",
       "        vertical-align: top;\n",
       "    }\n",
       "\n",
       "    .dataframe thead th {\n",
       "        text-align: right;\n",
       "    }\n",
       "</style>\n",
       "<table border=\"1\" class=\"dataframe\">\n",
       "  <thead>\n",
       "    <tr style=\"text-align: right;\">\n",
       "      <th></th>\n",
       "      <th>frequency</th>\n",
       "      <th>recency</th>\n",
       "      <th>T</th>\n",
       "    </tr>\n",
       "  </thead>\n",
       "  <tbody>\n",
       "    <tr>\n",
       "      <th>count</th>\n",
       "      <td>127124.000000</td>\n",
       "      <td>127124.000000</td>\n",
       "      <td>127124.000000</td>\n",
       "    </tr>\n",
       "    <tr>\n",
       "      <th>mean</th>\n",
       "      <td>25.638904</td>\n",
       "      <td>108.755404</td>\n",
       "      <td>115.303664</td>\n",
       "    </tr>\n",
       "    <tr>\n",
       "      <th>std</th>\n",
       "      <td>34.820114</td>\n",
       "      <td>93.666847</td>\n",
       "      <td>92.922795</td>\n",
       "    </tr>\n",
       "    <tr>\n",
       "      <th>min</th>\n",
       "      <td>2.000000</td>\n",
       "      <td>1.000000</td>\n",
       "      <td>1.000000</td>\n",
       "    </tr>\n",
       "    <tr>\n",
       "      <th>25%</th>\n",
       "      <td>4.000000</td>\n",
       "      <td>29.000000</td>\n",
       "      <td>36.000000</td>\n",
       "    </tr>\n",
       "    <tr>\n",
       "      <th>50%</th>\n",
       "      <td>11.000000</td>\n",
       "      <td>86.000000</td>\n",
       "      <td>92.000000</td>\n",
       "    </tr>\n",
       "    <tr>\n",
       "      <th>75%</th>\n",
       "      <td>31.000000</td>\n",
       "      <td>168.000000</td>\n",
       "      <td>174.000000</td>\n",
       "    </tr>\n",
       "    <tr>\n",
       "      <th>max</th>\n",
       "      <td>199.000000</td>\n",
       "      <td>434.000000</td>\n",
       "      <td>435.000000</td>\n",
       "    </tr>\n",
       "  </tbody>\n",
       "</table>\n",
       "</div>"
      ],
      "text/plain": [
       "           frequency        recency              T\n",
       "count  127124.000000  127124.000000  127124.000000\n",
       "mean       25.638904     108.755404     115.303664\n",
       "std        34.820114      93.666847      92.922795\n",
       "min         2.000000       1.000000       1.000000\n",
       "25%         4.000000      29.000000      36.000000\n",
       "50%        11.000000      86.000000      92.000000\n",
       "75%        31.000000     168.000000     174.000000\n",
       "max       199.000000     434.000000     435.000000"
      ]
     },
     "execution_count": 43,
     "metadata": {},
     "output_type": "execute_result"
    }
   ],
   "source": [
    "lifetime_df.describe()"
   ]
  },
  {
   "cell_type": "code",
   "execution_count": 44,
   "metadata": {},
   "outputs": [
    {
     "name": "stdout",
     "output_type": "stream",
     "text": [
      "<lifetimes.BetaGeoFitter: fitted with 2000 subjects, a: 12.66, alpha: 0.43, b: 1836.14, r: 0.40>\n"
     ]
    }
   ],
   "source": [
    "# similar API to scikit-learn and lifelines.\n",
    "lft_df = lifetime_df.sample(n=2000, random_state=0)\n",
    "bgf = BetaGeoFitter(penalizer_coef=0.0)\n",
    "bgf.fit(lft_df['frequency'], lft_df['recency'], lft_df['T'])\n",
    "print(bgf)"
   ]
  },
  {
   "cell_type": "code",
   "execution_count": 45,
   "metadata": {},
   "outputs": [
    {
     "name": "stderr",
     "output_type": "stream",
     "text": [
      "/home/brian/anaconda3/lib/python3.7/site-packages/lifetimes/fitters/beta_geo_fitter.py:214: RuntimeWarning: overflow encountered in double_scalars\n",
      "  ((alpha + T) / (alpha + recency)) ** (r + x)\n"
     ]
    },
    {
     "data": {
      "text/plain": [
       "<matplotlib.axes._subplots.AxesSubplot at 0x7fe115788518>"
      ]
     },
     "execution_count": 45,
     "metadata": {},
     "output_type": "execute_result"
    },
    {
     "data": {
      "image/png": "[encoded data removed]",
      "text/plain": [
       "<Figure size 432x288 with 2 Axes>"
      ]
     },
     "metadata": {
      "needs_background": "light"
     },
     "output_type": "display_data"
    }
   ],
   "source": [
    "n_weeks=20\n",
    "plot_frequency_recency_matrix(bgf, T=n_weeks, max_frequency=None, max_recency=None,\n",
    "                             title='Expected # of future Events for {0} weeks of time'.format(n_weeks))"
   ]
  },
  {
   "cell_type": "code",
   "execution_count": 46,
   "metadata": {},
   "outputs": [
    {
     "data": {
      "text/plain": [
       "<matplotlib.axes._subplots.AxesSubplot at 0x7fe11b06f2e8>"
      ]
     },
     "execution_count": 46,
     "metadata": {},
     "output_type": "execute_result"
    },
    {
     "data": {
      "image/png": "[encoded data removed]",
      "text/plain": [
       "<Figure size 432x288 with 2 Axes>"
      ]
     },
     "metadata": {
      "needs_background": "light"
     },
     "output_type": "display_data"
    }
   ],
   "source": [
    "from lifetimes.plotting import plot_probability_alive_matrix\n",
    "\n",
    "plot_probability_alive_matrix(bgf)"
   ]
  },
  {
   "cell_type": "markdown",
   "metadata": {},
   "source": [
    "## Expected contributions in the upcoming cycle"
   ]
  },
  {
   "cell_type": "code",
   "execution_count": 67,
   "metadata": {},
   "outputs": [
    {
     "data": {
      "text/html": [
       "<div>\n",
       "<style scoped>\n",
       "    .dataframe tbody tr th:only-of-type {\n",
       "        vertical-align: middle;\n",
       "    }\n",
       "\n",
       "    .dataframe tbody tr th {\n",
       "        vertical-align: top;\n",
       "    }\n",
       "\n",
       "    .dataframe thead th {\n",
       "        text-align: right;\n",
       "    }\n",
       "</style>\n",
       "<table border=\"1\" class=\"dataframe\">\n",
       "  <thead>\n",
       "    <tr style=\"text-align: right;\">\n",
       "      <th></th>\n",
       "      <th>frequency</th>\n",
       "      <th>recency</th>\n",
       "      <th>T</th>\n",
       "      <th>login</th>\n",
       "      <th>predicted_purchases</th>\n",
       "    </tr>\n",
       "  </thead>\n",
       "  <tbody>\n",
       "    <tr>\n",
       "      <th>102703</th>\n",
       "      <td>18.0</td>\n",
       "      <td>1.0</td>\n",
       "      <td>1.0</td>\n",
       "      <td>antuanOne</td>\n",
       "      <td>121.553243</td>\n",
       "    </tr>\n",
       "    <tr>\n",
       "      <th>22269</th>\n",
       "      <td>27.0</td>\n",
       "      <td>1.0</td>\n",
       "      <td>1.0</td>\n",
       "      <td>bosssanovar</td>\n",
       "      <td>139.935214</td>\n",
       "    </tr>\n",
       "    <tr>\n",
       "      <th>157112</th>\n",
       "      <td>62.0</td>\n",
       "      <td>3.0</td>\n",
       "      <td>3.0</td>\n",
       "      <td>p-s-dev</td>\n",
       "      <td>140.714368</td>\n",
       "    </tr>\n",
       "    <tr>\n",
       "      <th>137661</th>\n",
       "      <td>71.0</td>\n",
       "      <td>2.0</td>\n",
       "      <td>2.0</td>\n",
       "      <td>raznargimeno</td>\n",
       "      <td>155.750383</td>\n",
       "    </tr>\n",
       "    <tr>\n",
       "      <th>29522</th>\n",
       "      <td>127.0</td>\n",
       "      <td>4.0</td>\n",
       "      <td>4.0</td>\n",
       "      <td>sam-mentink</td>\n",
       "      <td>159.437253</td>\n",
       "    </tr>\n",
       "  </tbody>\n",
       "</table>\n",
       "</div>"
      ],
      "text/plain": [
       "        frequency  recency    T         login  predicted_purchases\n",
       "102703       18.0      1.0  1.0     antuanOne           121.553243\n",
       "22269        27.0      1.0  1.0   bosssanovar           139.935214\n",
       "157112       62.0      3.0  3.0       p-s-dev           140.714368\n",
       "137661       71.0      2.0  2.0  raznargimeno           155.750383\n",
       "29522       127.0      4.0  4.0   sam-mentink           159.437253"
      ]
     },
     "execution_count": 67,
     "metadata": {},
     "output_type": "execute_result"
    }
   ],
   "source": [
    "lft_df['predicted_purchases'] = bgf.conditional_expected_number_of_purchases_up_to_time(n_weeks,\n",
    "                                                                                        lft_df['frequency'], \n",
    "                                                                                        lft_df['recency'], \n",
    "                                                                                        lft_df['T'])\n",
    "lft_df.sort_values(by='predicted_purchases').tail(5)"
   ]
  },
  {
   "cell_type": "code",
   "execution_count": 65,
   "metadata": {},
   "outputs": [
    {
     "data": {
      "text/plain": [
       "(0, 60)"
      ]
     },
     "execution_count": 65,
     "metadata": {},
     "output_type": "execute_result"
    },
    {
     "data": {
      "image/png": "[encoded data removed]",
      "text/plain": [
       "<Figure size 432x288 with 1 Axes>"
      ]
     },
     "metadata": {
      "needs_background": "light"
     },
     "output_type": "display_data"
    }
   ],
   "source": [
    "#user_data.dtypes\n",
    "predict_df = lft_df.merge(user_data, on='login', how='left')\n",
    "plt.plot(predict_df.predicted_purchases, predict_df.second_period_event_count, 'k.')\n",
    "plt.xlim([0, 60])\n",
    "plt.ylim([0, 60])"
   ]
  },
  {
   "cell_type": "code",
   "execution_count": 21,
   "metadata": {},
   "outputs": [
    {
     "data": {
      "text/plain": [
       "<matplotlib.axes._subplots.AxesSubplot at 0x7fe12138e908>"
      ]
     },
     "execution_count": 21,
     "metadata": {},
     "output_type": "execute_result"
    },
    {
     "data": {
      "image/png": "[encoded data removed]",
      "text/plain": [
       "<Figure size 432x288 with 1 Axes>"
      ]
     },
     "metadata": {
      "needs_background": "light"
     },
     "output_type": "display_data"
    }
   ],
   "source": [
    "from lifetimes.plotting import plot_period_transactions\n",
    "plot_period_transactions(bgf)"
   ]
  },
  {
   "cell_type": "code",
   "execution_count": 23,
   "metadata": {},
   "outputs": [
    {
     "name": "stderr",
     "output_type": "stream",
     "text": [
      "No handles with labels found to put in legend.\n"
     ]
    },
    {
     "data": {
      "text/plain": [
       "<matplotlib.axes._subplots.AxesSubplot at 0x7fe1211cf1d0>"
      ]
     },
     "execution_count": 23,
     "metadata": {},
     "output_type": "execute_result"
    },
    {
     "data": {
      "image/png": "[encoded data removed]",
      "text/plain": [
       "<Figure size 432x288 with 1 Axes>"
      ]
     },
     "metadata": {
      "needs_background": "light"
     },
     "output_type": "display_data"
    }
   ],
   "source": [
    "from lifetimes.plotting import plot_expected_repeat_purchases\n",
    "plot_expected_repeat_purchases(bgf, title='Expected Number of Repeat Events per Customer')\n",
    "                                   #xlabel='Time Since First Purchase',\n",
    "                                   #ax=None,\n",
    "                                   #label=None,\n",
    "                                   #**kwargs"
   ]
  },
  {
   "cell_type": "code",
   "execution_count": null,
   "metadata": {},
   "outputs": [],
   "source": []
  }
 ],
 "metadata": {
  "kernelspec": {
   "display_name": "Python 3",
   "language": "python",
   "name": "python3"
  },
  "language_info": {
   "codemirror_mode": {
    "name": "ipython",
    "version": 3
   },
   "file_extension": ".py",
   "mimetype": "text/x-python",
   "name": "python",
   "nbconvert_exporter": "python",
   "pygments_lexer": "ipython3",
   "version": "3.7.0"
  }
 },
 "nbformat": 4,
 "nbformat_minor": 2
}

{
 "cells": [
  {
   "cell_type": "markdown",
   "metadata": {},
   "source": [
    "[The challenges of modeling churn](https://neilpatel.com/blog/modeling-churn/)\n",
    "\n",
    "[Why churn analysis is valuable for companies](https://www.datascience.com/blog/what-is-a-churn-analysis-and-why-is-it-valuable-for-business)\n",
    "\n",
    "[Git social](https://github.com/VinaySagar92/Git-Social)\n",
    "\n",
    "[Azure revenue](https://www.forbes.com/sites/bobevans1/2018/10/29/1-microsoft-beats-amazon-in-12-month-cloud-revenue-26-7-billion-to-23-4-billion-ibm-third/#2c9e12912bf1)\n",
    "\n",
    "[Why did Microsoft pay so much for GitHub](https://hbr.org/2018/06/why-microsoft-is-willing-to-pay-so-much-for-github)\n"
   ]
  },
  {
   "cell_type": "code",
   "execution_count": 1,
   "metadata": {},
   "outputs": [],
   "source": [
    "import pandas as pd\n",
    "import numpy as np\n",
    "import matplotlib.pylab as plt\n",
    "import seaborn as sns\n",
    "\n",
    "import helper as h"
   ]
  },
  {
   "cell_type": "markdown",
   "metadata": {},
   "source": [
    "[Group each in BigQuery](https://stackoverflow.com/questions/22600299/understanding-resources-exceeded-during-query-execution-with-group-each-by-in)"
   ]
  },
  {
   "cell_type": "code",
   "execution_count": 21,
   "metadata": {},
   "outputs": [
    {
     "name": "stdout",
     "output_type": "stream",
     "text": [
      "% of users dropped 56.11664591116646\n"
     ]
    },
    {
     "data": {
      "text/html": [
       "<div>\n",
       "<style scoped>\n",
       "    .dataframe tbody tr th:only-of-type {\n",
       "        vertical-align: middle;\n",
       "    }\n",
       "\n",
       "    .dataframe tbody tr th {\n",
       "        vertical-align: top;\n",
       "    }\n",
       "\n",
       "    .dataframe thead th {\n",
       "        text-align: right;\n",
       "    }\n",
       "</style>\n",
       "<table border=\"1\" class=\"dataframe\">\n",
       "  <thead>\n",
       "    <tr style=\"text-align: right;\">\n",
       "      <th></th>\n",
       "      <th>login</th>\n",
       "      <th>followers_count</th>\n",
       "      <th>following_count</th>\n",
       "      <th>blog</th>\n",
       "      <th>company</th>\n",
       "      <th>created_at</th>\n",
       "      <th>public_repos_count</th>\n",
       "      <th>public_gists_count</th>\n",
       "      <th>hireable</th>\n",
       "      <th>updated_at</th>\n",
       "      <th>...</th>\n",
       "      <th>GollumEvent_count</th>\n",
       "      <th>IssueCommentEvent_count</th>\n",
       "      <th>IssuesEvent_count</th>\n",
       "      <th>MemberEvent_count</th>\n",
       "      <th>PublicEvent_count</th>\n",
       "      <th>PullRequestEvent_count</th>\n",
       "      <th>PullRequestReviewCommentEvent_count</th>\n",
       "      <th>PushEvent_count</th>\n",
       "      <th>ReleaseEvent_count</th>\n",
       "      <th>WatchEvent_count</th>\n",
       "    </tr>\n",
       "  </thead>\n",
       "  <tbody>\n",
       "    <tr>\n",
       "      <th>0</th>\n",
       "      <td>0loky0</td>\n",
       "      <td>0</td>\n",
       "      <td>1</td>\n",
       "      <td>0</td>\n",
       "      <td>0</td>\n",
       "      <td>2011-05-24 20:15:25+00:00</td>\n",
       "      <td>7.0</td>\n",
       "      <td>0.0</td>\n",
       "      <td>1</td>\n",
       "      <td>2019-01-09 15:03:59+00:00</td>\n",
       "      <td>...</td>\n",
       "      <td>0</td>\n",
       "      <td>0</td>\n",
       "      <td>0</td>\n",
       "      <td>0</td>\n",
       "      <td>0</td>\n",
       "      <td>0</td>\n",
       "      <td>0</td>\n",
       "      <td>32</td>\n",
       "      <td>0</td>\n",
       "      <td>0</td>\n",
       "    </tr>\n",
       "    <tr>\n",
       "      <th>1</th>\n",
       "      <td>1xPdd</td>\n",
       "      <td>0</td>\n",
       "      <td>0</td>\n",
       "      <td>0</td>\n",
       "      <td>0</td>\n",
       "      <td>2014-07-11 03:45:56+00:00</td>\n",
       "      <td>0.0</td>\n",
       "      <td>0.0</td>\n",
       "      <td>0</td>\n",
       "      <td>2018-12-16 00:55:16+00:00</td>\n",
       "      <td>...</td>\n",
       "      <td>0</td>\n",
       "      <td>5</td>\n",
       "      <td>2</td>\n",
       "      <td>0</td>\n",
       "      <td>0</td>\n",
       "      <td>0</td>\n",
       "      <td>0</td>\n",
       "      <td>0</td>\n",
       "      <td>0</td>\n",
       "      <td>1</td>\n",
       "    </tr>\n",
       "    <tr>\n",
       "      <th>2</th>\n",
       "      <td>2582056905xy</td>\n",
       "      <td>2</td>\n",
       "      <td>6</td>\n",
       "      <td>0</td>\n",
       "      <td>0</td>\n",
       "      <td>2014-04-24 14:51:26+00:00</td>\n",
       "      <td>35.0</td>\n",
       "      <td>0.0</td>\n",
       "      <td>0</td>\n",
       "      <td>2018-10-18 01:47:18+00:00</td>\n",
       "      <td>...</td>\n",
       "      <td>0</td>\n",
       "      <td>0</td>\n",
       "      <td>0</td>\n",
       "      <td>0</td>\n",
       "      <td>0</td>\n",
       "      <td>0</td>\n",
       "      <td>0</td>\n",
       "      <td>0</td>\n",
       "      <td>0</td>\n",
       "      <td>1</td>\n",
       "    </tr>\n",
       "    <tr>\n",
       "      <th>3</th>\n",
       "      <td>AJ340</td>\n",
       "      <td>3</td>\n",
       "      <td>6</td>\n",
       "      <td>1</td>\n",
       "      <td>0</td>\n",
       "      <td>2016-04-15 18:12:45+00:00</td>\n",
       "      <td>17.0</td>\n",
       "      <td>0.0</td>\n",
       "      <td>0</td>\n",
       "      <td>2019-01-07 16:25:43+00:00</td>\n",
       "      <td>...</td>\n",
       "      <td>0</td>\n",
       "      <td>0</td>\n",
       "      <td>0</td>\n",
       "      <td>0</td>\n",
       "      <td>0</td>\n",
       "      <td>0</td>\n",
       "      <td>0</td>\n",
       "      <td>4</td>\n",
       "      <td>0</td>\n",
       "      <td>0</td>\n",
       "    </tr>\n",
       "    <tr>\n",
       "      <th>4</th>\n",
       "      <td>AaronWB</td>\n",
       "      <td>3</td>\n",
       "      <td>0</td>\n",
       "      <td>1</td>\n",
       "      <td>0</td>\n",
       "      <td>2014-02-11 15:03:04+00:00</td>\n",
       "      <td>25.0</td>\n",
       "      <td>1.0</td>\n",
       "      <td>0</td>\n",
       "      <td>2019-01-20 11:57:00+00:00</td>\n",
       "      <td>...</td>\n",
       "      <td>0</td>\n",
       "      <td>1</td>\n",
       "      <td>3</td>\n",
       "      <td>0</td>\n",
       "      <td>0</td>\n",
       "      <td>0</td>\n",
       "      <td>0</td>\n",
       "      <td>9</td>\n",
       "      <td>1</td>\n",
       "      <td>2</td>\n",
       "    </tr>\n",
       "  </tbody>\n",
       "</table>\n",
       "<p>5 rows × 29 columns</p>\n",
       "</div>"
      ],
      "text/plain": [
       "          login  followers_count  following_count  blog  company  \\\n",
       "0        0loky0                0                1     0        0   \n",
       "1         1xPdd                0                0     0        0   \n",
       "2  2582056905xy                2                6     0        0   \n",
       "3         AJ340                3                6     1        0   \n",
       "4       AaronWB                3                0     1        0   \n",
       "\n",
       "                  created_at  public_repos_count  public_gists_count  \\\n",
       "0  2011-05-24 20:15:25+00:00                 7.0                 0.0   \n",
       "1  2014-07-11 03:45:56+00:00                 0.0                 0.0   \n",
       "2  2014-04-24 14:51:26+00:00                35.0                 0.0   \n",
       "3  2016-04-15 18:12:45+00:00                17.0                 0.0   \n",
       "4  2014-02-11 15:03:04+00:00                25.0                 1.0   \n",
       "\n",
       "   hireable                 updated_at        ...        GollumEvent_count  \\\n",
       "0         1  2019-01-09 15:03:59+00:00        ...                        0   \n",
       "1         0  2018-12-16 00:55:16+00:00        ...                        0   \n",
       "2         0  2018-10-18 01:47:18+00:00        ...                        0   \n",
       "3         0  2019-01-07 16:25:43+00:00        ...                        0   \n",
       "4         0  2019-01-20 11:57:00+00:00        ...                        0   \n",
       "\n",
       "  IssueCommentEvent_count IssuesEvent_count  MemberEvent_count  \\\n",
       "0                       0                 0                  0   \n",
       "1                       5                 2                  0   \n",
       "2                       0                 0                  0   \n",
       "3                       0                 0                  0   \n",
       "4                       1                 3                  0   \n",
       "\n",
       "   PublicEvent_count  PullRequestEvent_count  \\\n",
       "0                  0                       0   \n",
       "1                  0                       0   \n",
       "2                  0                       0   \n",
       "3                  0                       0   \n",
       "4                  0                       0   \n",
       "\n",
       "   PullRequestReviewCommentEvent_count  PushEvent_count  ReleaseEvent_count  \\\n",
       "0                                    0               32                   0   \n",
       "1                                    0                0                   0   \n",
       "2                                    0                0                   0   \n",
       "3                                    0                4                   0   \n",
       "4                                    0                9                   1   \n",
       "\n",
       "   WatchEvent_count  \n",
       "0                 0  \n",
       "1                 1  \n",
       "2                 1  \n",
       "3                 0  \n",
       "4                 2  \n",
       "\n",
       "[5 rows x 29 columns]"
      ]
     },
     "execution_count": 21,
     "metadata": {},
     "output_type": "execute_result"
    }
   ],
   "source": [
    "user_data = h.get_merged_data(appName='data-exploration', year='2018').toPandas()\n",
    "user_data.head()"
   ]
  },
  {
   "cell_type": "code",
   "execution_count": 22,
   "metadata": {},
   "outputs": [
    {
     "data": {
      "text/plain": [
       "login                                          object\n",
       "followers_count                                 int32\n",
       "following_count                                 int32\n",
       "blog                                            int32\n",
       "company                                         int32\n",
       "created_at                             datetime64[ns]\n",
       "public_repos_count                            float64\n",
       "public_gists_count                            float64\n",
       "hireable                                        int32\n",
       "updated_at                                     object\n",
       "time_between_first_last_event                 float64\n",
       "last_event                             datetime64[ns]\n",
       "first_event                            datetime64[ns]\n",
       "frequency                                       int32\n",
       "second_period_event_count                       int32\n",
       "CommitCommentEvent_count                        int32\n",
       "CreateEvent_count                               int32\n",
       "DeleteEvent_count                               int32\n",
       "ForkEvent_count                                 int32\n",
       "GollumEvent_count                               int32\n",
       "IssueCommentEvent_count                         int32\n",
       "IssuesEvent_count                               int32\n",
       "MemberEvent_count                               int32\n",
       "PublicEvent_count                               int32\n",
       "PullRequestEvent_count                          int32\n",
       "PullRequestReviewCommentEvent_count             int32\n",
       "PushEvent_count                                 int32\n",
       "ReleaseEvent_count                              int32\n",
       "WatchEvent_count                                int32\n",
       "T                                             float64\n",
       "recency                                       float64\n",
       "dtype: object"
      ]
     },
     "execution_count": 22,
     "metadata": {},
     "output_type": "execute_result"
    }
   ],
   "source": [
    "user_data = h.add_time_columns(user_data)\n",
    "user_data.dtypes"
   ]
  },
  {
   "cell_type": "code",
   "execution_count": 23,
   "metadata": {},
   "outputs": [
    {
     "data": {
      "text/html": [
       "<div>\n",
       "<style scoped>\n",
       "    .dataframe tbody tr th:only-of-type {\n",
       "        vertical-align: middle;\n",
       "    }\n",
       "\n",
       "    .dataframe tbody tr th {\n",
       "        vertical-align: top;\n",
       "    }\n",
       "\n",
       "    .dataframe thead th {\n",
       "        text-align: right;\n",
       "    }\n",
       "</style>\n",
       "<table border=\"1\" class=\"dataframe\">\n",
       "  <thead>\n",
       "    <tr style=\"text-align: right;\">\n",
       "      <th></th>\n",
       "      <th>count</th>\n",
       "      <th>mean</th>\n",
       "      <th>std</th>\n",
       "      <th>min</th>\n",
       "      <th>25%</th>\n",
       "      <th>50%</th>\n",
       "      <th>75%</th>\n",
       "      <th>max</th>\n",
       "    </tr>\n",
       "  </thead>\n",
       "  <tbody>\n",
       "    <tr>\n",
       "      <th>followers_count</th>\n",
       "      <td>84482.0</td>\n",
       "      <td>11.598707</td>\n",
       "      <td>104.662198</td>\n",
       "      <td>0.000000</td>\n",
       "      <td>0.000000</td>\n",
       "      <td>2.000000</td>\n",
       "      <td>7.000000</td>\n",
       "      <td>20127.000000</td>\n",
       "    </tr>\n",
       "    <tr>\n",
       "      <th>following_count</th>\n",
       "      <td>84482.0</td>\n",
       "      <td>9.149985</td>\n",
       "      <td>77.163988</td>\n",
       "      <td>0.000000</td>\n",
       "      <td>0.000000</td>\n",
       "      <td>1.000000</td>\n",
       "      <td>7.000000</td>\n",
       "      <td>18344.000000</td>\n",
       "    </tr>\n",
       "    <tr>\n",
       "      <th>blog</th>\n",
       "      <td>84482.0</td>\n",
       "      <td>0.296430</td>\n",
       "      <td>0.456686</td>\n",
       "      <td>0.000000</td>\n",
       "      <td>0.000000</td>\n",
       "      <td>0.000000</td>\n",
       "      <td>1.000000</td>\n",
       "      <td>1.000000</td>\n",
       "    </tr>\n",
       "    <tr>\n",
       "      <th>company</th>\n",
       "      <td>84482.0</td>\n",
       "      <td>0.263926</td>\n",
       "      <td>0.440762</td>\n",
       "      <td>0.000000</td>\n",
       "      <td>0.000000</td>\n",
       "      <td>0.000000</td>\n",
       "      <td>1.000000</td>\n",
       "      <td>1.000000</td>\n",
       "    </tr>\n",
       "    <tr>\n",
       "      <th>public_repos_count</th>\n",
       "      <td>84482.0</td>\n",
       "      <td>22.282167</td>\n",
       "      <td>85.286348</td>\n",
       "      <td>0.000000</td>\n",
       "      <td>5.000000</td>\n",
       "      <td>11.000000</td>\n",
       "      <td>24.000000</td>\n",
       "      <td>18856.000000</td>\n",
       "    </tr>\n",
       "    <tr>\n",
       "      <th>public_gists_count</th>\n",
       "      <td>84482.0</td>\n",
       "      <td>3.196432</td>\n",
       "      <td>14.995114</td>\n",
       "      <td>0.000000</td>\n",
       "      <td>0.000000</td>\n",
       "      <td>0.000000</td>\n",
       "      <td>1.000000</td>\n",
       "      <td>1291.000000</td>\n",
       "    </tr>\n",
       "    <tr>\n",
       "      <th>hireable</th>\n",
       "      <td>84482.0</td>\n",
       "      <td>0.168438</td>\n",
       "      <td>0.374257</td>\n",
       "      <td>0.000000</td>\n",
       "      <td>0.000000</td>\n",
       "      <td>0.000000</td>\n",
       "      <td>0.000000</td>\n",
       "      <td>1.000000</td>\n",
       "    </tr>\n",
       "    <tr>\n",
       "      <th>time_between_first_last_event</th>\n",
       "      <td>84482.0</td>\n",
       "      <td>75.498052</td>\n",
       "      <td>55.794139</td>\n",
       "      <td>0.000000</td>\n",
       "      <td>11.828452</td>\n",
       "      <td>84.132894</td>\n",
       "      <td>129.974679</td>\n",
       "      <td>151.993773</td>\n",
       "    </tr>\n",
       "    <tr>\n",
       "      <th>frequency</th>\n",
       "      <td>84482.0</td>\n",
       "      <td>40.434388</td>\n",
       "      <td>75.700009</td>\n",
       "      <td>1.000000</td>\n",
       "      <td>4.000000</td>\n",
       "      <td>12.000000</td>\n",
       "      <td>40.000000</td>\n",
       "      <td>599.000000</td>\n",
       "    </tr>\n",
       "    <tr>\n",
       "      <th>second_period_event_count</th>\n",
       "      <td>84482.0</td>\n",
       "      <td>35.775301</td>\n",
       "      <td>102.859951</td>\n",
       "      <td>0.000000</td>\n",
       "      <td>1.000000</td>\n",
       "      <td>7.000000</td>\n",
       "      <td>30.000000</td>\n",
       "      <td>12887.000000</td>\n",
       "    </tr>\n",
       "    <tr>\n",
       "      <th>CommitCommentEvent_count</th>\n",
       "      <td>84482.0</td>\n",
       "      <td>0.094375</td>\n",
       "      <td>1.617304</td>\n",
       "      <td>0.000000</td>\n",
       "      <td>0.000000</td>\n",
       "      <td>0.000000</td>\n",
       "      <td>0.000000</td>\n",
       "      <td>228.000000</td>\n",
       "    </tr>\n",
       "    <tr>\n",
       "      <th>CreateEvent_count</th>\n",
       "      <td>84482.0</td>\n",
       "      <td>4.297199</td>\n",
       "      <td>9.735212</td>\n",
       "      <td>0.000000</td>\n",
       "      <td>0.000000</td>\n",
       "      <td>1.000000</td>\n",
       "      <td>4.000000</td>\n",
       "      <td>437.000000</td>\n",
       "    </tr>\n",
       "    <tr>\n",
       "      <th>DeleteEvent_count</th>\n",
       "      <td>84482.0</td>\n",
       "      <td>0.849779</td>\n",
       "      <td>5.200519</td>\n",
       "      <td>0.000000</td>\n",
       "      <td>0.000000</td>\n",
       "      <td>0.000000</td>\n",
       "      <td>0.000000</td>\n",
       "      <td>485.000000</td>\n",
       "    </tr>\n",
       "    <tr>\n",
       "      <th>ForkEvent_count</th>\n",
       "      <td>84482.0</td>\n",
       "      <td>1.276142</td>\n",
       "      <td>5.311812</td>\n",
       "      <td>0.000000</td>\n",
       "      <td>0.000000</td>\n",
       "      <td>0.000000</td>\n",
       "      <td>1.000000</td>\n",
       "      <td>545.000000</td>\n",
       "    </tr>\n",
       "    <tr>\n",
       "      <th>GollumEvent_count</th>\n",
       "      <td>84482.0</td>\n",
       "      <td>0.281279</td>\n",
       "      <td>4.579542</td>\n",
       "      <td>0.000000</td>\n",
       "      <td>0.000000</td>\n",
       "      <td>0.000000</td>\n",
       "      <td>0.000000</td>\n",
       "      <td>414.000000</td>\n",
       "    </tr>\n",
       "    <tr>\n",
       "      <th>IssueCommentEvent_count</th>\n",
       "      <td>84482.0</td>\n",
       "      <td>3.414668</td>\n",
       "      <td>13.860325</td>\n",
       "      <td>0.000000</td>\n",
       "      <td>0.000000</td>\n",
       "      <td>0.000000</td>\n",
       "      <td>1.000000</td>\n",
       "      <td>384.000000</td>\n",
       "    </tr>\n",
       "    <tr>\n",
       "      <th>IssuesEvent_count</th>\n",
       "      <td>84482.0</td>\n",
       "      <td>1.830023</td>\n",
       "      <td>8.291993</td>\n",
       "      <td>0.000000</td>\n",
       "      <td>0.000000</td>\n",
       "      <td>0.000000</td>\n",
       "      <td>1.000000</td>\n",
       "      <td>572.000000</td>\n",
       "    </tr>\n",
       "    <tr>\n",
       "      <th>MemberEvent_count</th>\n",
       "      <td>84482.0</td>\n",
       "      <td>0.174747</td>\n",
       "      <td>1.853787</td>\n",
       "      <td>0.000000</td>\n",
       "      <td>0.000000</td>\n",
       "      <td>0.000000</td>\n",
       "      <td>0.000000</td>\n",
       "      <td>261.000000</td>\n",
       "    </tr>\n",
       "    <tr>\n",
       "      <th>PublicEvent_count</th>\n",
       "      <td>84482.0</td>\n",
       "      <td>0.062641</td>\n",
       "      <td>0.510684</td>\n",
       "      <td>0.000000</td>\n",
       "      <td>0.000000</td>\n",
       "      <td>0.000000</td>\n",
       "      <td>0.000000</td>\n",
       "      <td>39.000000</td>\n",
       "    </tr>\n",
       "    <tr>\n",
       "      <th>PullRequestEvent_count</th>\n",
       "      <td>84482.0</td>\n",
       "      <td>2.298750</td>\n",
       "      <td>9.433288</td>\n",
       "      <td>0.000000</td>\n",
       "      <td>0.000000</td>\n",
       "      <td>0.000000</td>\n",
       "      <td>1.000000</td>\n",
       "      <td>357.000000</td>\n",
       "    </tr>\n",
       "    <tr>\n",
       "      <th>PullRequestReviewCommentEvent_count</th>\n",
       "      <td>84482.0</td>\n",
       "      <td>0.788298</td>\n",
       "      <td>6.964652</td>\n",
       "      <td>0.000000</td>\n",
       "      <td>0.000000</td>\n",
       "      <td>0.000000</td>\n",
       "      <td>0.000000</td>\n",
       "      <td>377.000000</td>\n",
       "    </tr>\n",
       "    <tr>\n",
       "      <th>PushEvent_count</th>\n",
       "      <td>84482.0</td>\n",
       "      <td>18.657773</td>\n",
       "      <td>42.491300</td>\n",
       "      <td>0.000000</td>\n",
       "      <td>0.000000</td>\n",
       "      <td>3.000000</td>\n",
       "      <td>16.000000</td>\n",
       "      <td>591.000000</td>\n",
       "    </tr>\n",
       "    <tr>\n",
       "      <th>ReleaseEvent_count</th>\n",
       "      <td>84482.0</td>\n",
       "      <td>0.213548</td>\n",
       "      <td>1.842326</td>\n",
       "      <td>0.000000</td>\n",
       "      <td>0.000000</td>\n",
       "      <td>0.000000</td>\n",
       "      <td>0.000000</td>\n",
       "      <td>151.000000</td>\n",
       "    </tr>\n",
       "    <tr>\n",
       "      <th>WatchEvent_count</th>\n",
       "      <td>84482.0</td>\n",
       "      <td>6.195166</td>\n",
       "      <td>20.378012</td>\n",
       "      <td>0.000000</td>\n",
       "      <td>0.000000</td>\n",
       "      <td>1.000000</td>\n",
       "      <td>4.000000</td>\n",
       "      <td>572.000000</td>\n",
       "    </tr>\n",
       "    <tr>\n",
       "      <th>T</th>\n",
       "      <td>84482.0</td>\n",
       "      <td>135.738193</td>\n",
       "      <td>100.238853</td>\n",
       "      <td>-137.000000</td>\n",
       "      <td>52.000000</td>\n",
       "      <td>121.000000</td>\n",
       "      <td>203.000000</td>\n",
       "      <td>435.000000</td>\n",
       "    </tr>\n",
       "    <tr>\n",
       "      <th>recency</th>\n",
       "      <td>84482.0</td>\n",
       "      <td>234.378017</td>\n",
       "      <td>101.136274</td>\n",
       "      <td>-52.283031</td>\n",
       "      <td>150.450921</td>\n",
       "      <td>220.450164</td>\n",
       "      <td>301.985844</td>\n",
       "      <td>539.186462</td>\n",
       "    </tr>\n",
       "  </tbody>\n",
       "</table>\n",
       "</div>"
      ],
      "text/plain": [
       "                                       count        mean         std  \\\n",
       "followers_count                      84482.0   11.598707  104.662198   \n",
       "following_count                      84482.0    9.149985   77.163988   \n",
       "blog                                 84482.0    0.296430    0.456686   \n",
       "company                              84482.0    0.263926    0.440762   \n",
       "public_repos_count                   84482.0   22.282167   85.286348   \n",
       "public_gists_count                   84482.0    3.196432   14.995114   \n",
       "hireable                             84482.0    0.168438    0.374257   \n",
       "time_between_first_last_event        84482.0   75.498052   55.794139   \n",
       "frequency                            84482.0   40.434388   75.700009   \n",
       "second_period_event_count            84482.0   35.775301  102.859951   \n",
       "CommitCommentEvent_count             84482.0    0.094375    1.617304   \n",
       "CreateEvent_count                    84482.0    4.297199    9.735212   \n",
       "DeleteEvent_count                    84482.0    0.849779    5.200519   \n",
       "ForkEvent_count                      84482.0    1.276142    5.311812   \n",
       "GollumEvent_count                    84482.0    0.281279    4.579542   \n",
       "IssueCommentEvent_count              84482.0    3.414668   13.860325   \n",
       "IssuesEvent_count                    84482.0    1.830023    8.291993   \n",
       "MemberEvent_count                    84482.0    0.174747    1.853787   \n",
       "PublicEvent_count                    84482.0    0.062641    0.510684   \n",
       "PullRequestEvent_count               84482.0    2.298750    9.433288   \n",
       "PullRequestReviewCommentEvent_count  84482.0    0.788298    6.964652   \n",
       "PushEvent_count                      84482.0   18.657773   42.491300   \n",
       "ReleaseEvent_count                   84482.0    0.213548    1.842326   \n",
       "WatchEvent_count                     84482.0    6.195166   20.378012   \n",
       "T                                    84482.0  135.738193  100.238853   \n",
       "recency                              84482.0  234.378017  101.136274   \n",
       "\n",
       "                                            min         25%         50%  \\\n",
       "followers_count                        0.000000    0.000000    2.000000   \n",
       "following_count                        0.000000    0.000000    1.000000   \n",
       "blog                                   0.000000    0.000000    0.000000   \n",
       "company                                0.000000    0.000000    0.000000   \n",
       "public_repos_count                     0.000000    5.000000   11.000000   \n",
       "public_gists_count                     0.000000    0.000000    0.000000   \n",
       "hireable                               0.000000    0.000000    0.000000   \n",
       "time_between_first_last_event          0.000000   11.828452   84.132894   \n",
       "frequency                              1.000000    4.000000   12.000000   \n",
       "second_period_event_count              0.000000    1.000000    7.000000   \n",
       "CommitCommentEvent_count               0.000000    0.000000    0.000000   \n",
       "CreateEvent_count                      0.000000    0.000000    1.000000   \n",
       "DeleteEvent_count                      0.000000    0.000000    0.000000   \n",
       "ForkEvent_count                        0.000000    0.000000    0.000000   \n",
       "GollumEvent_count                      0.000000    0.000000    0.000000   \n",
       "IssueCommentEvent_count                0.000000    0.000000    0.000000   \n",
       "IssuesEvent_count                      0.000000    0.000000    0.000000   \n",
       "MemberEvent_count                      0.000000    0.000000    0.000000   \n",
       "PublicEvent_count                      0.000000    0.000000    0.000000   \n",
       "PullRequestEvent_count                 0.000000    0.000000    0.000000   \n",
       "PullRequestReviewCommentEvent_count    0.000000    0.000000    0.000000   \n",
       "PushEvent_count                        0.000000    0.000000    3.000000   \n",
       "ReleaseEvent_count                     0.000000    0.000000    0.000000   \n",
       "WatchEvent_count                       0.000000    0.000000    1.000000   \n",
       "T                                   -137.000000   52.000000  121.000000   \n",
       "recency                              -52.283031  150.450921  220.450164   \n",
       "\n",
       "                                            75%           max  \n",
       "followers_count                        7.000000  20127.000000  \n",
       "following_count                        7.000000  18344.000000  \n",
       "blog                                   1.000000      1.000000  \n",
       "company                                1.000000      1.000000  \n",
       "public_repos_count                    24.000000  18856.000000  \n",
       "public_gists_count                     1.000000   1291.000000  \n",
       "hireable                               0.000000      1.000000  \n",
       "time_between_first_last_event        129.974679    151.993773  \n",
       "frequency                             40.000000    599.000000  \n",
       "second_period_event_count             30.000000  12887.000000  \n",
       "CommitCommentEvent_count               0.000000    228.000000  \n",
       "CreateEvent_count                      4.000000    437.000000  \n",
       "DeleteEvent_count                      0.000000    485.000000  \n",
       "ForkEvent_count                        1.000000    545.000000  \n",
       "GollumEvent_count                      0.000000    414.000000  \n",
       "IssueCommentEvent_count                1.000000    384.000000  \n",
       "IssuesEvent_count                      1.000000    572.000000  \n",
       "MemberEvent_count                      0.000000    261.000000  \n",
       "PublicEvent_count                      0.000000     39.000000  \n",
       "PullRequestEvent_count                 1.000000    357.000000  \n",
       "PullRequestReviewCommentEvent_count    0.000000    377.000000  \n",
       "PushEvent_count                       16.000000    591.000000  \n",
       "ReleaseEvent_count                     0.000000    151.000000  \n",
       "WatchEvent_count                       4.000000    572.000000  \n",
       "T                                    203.000000    435.000000  \n",
       "recency                              301.985844    539.186462  "
      ]
     },
     "execution_count": 23,
     "metadata": {},
     "output_type": "execute_result"
    }
   ],
   "source": [
    "user_data = user_data.dropna()\n",
    "user_data.describe().transpose()"
   ]
  },
  {
   "cell_type": "code",
   "execution_count": 24,
   "metadata": {},
   "outputs": [
    {
     "name": "stderr",
     "output_type": "stream",
     "text": [
      "/home/brian/anaconda3/lib/python3.7/site-packages/matplotlib/figure.py:2366: UserWarning: This figure includes Axes that are not compatible with tight_layout, so results might be incorrect.\n",
      "  warnings.warn(\"This figure includes Axes that are not compatible \"\n"
     ]
    },
    {
     "data": {
      "image/png": "[encoded data removed]",
      "text/plain": [
       "<Figure size 432x288 with 1 Axes>"
      ]
     },
     "metadata": {
      "needs_background": "light"
     },
     "output_type": "display_data"
    }
   ],
   "source": [
    "fig, ax = plt.subplots(1,1)\n",
    "fig.set_tight_layout(True)\n",
    "\n",
    "user_data.frequency.hist(ax=ax, bins=30)\n",
    "ax.set_xlabel('# of events')\n",
    "ax.set_ylabel('# of users')\n",
    "\n",
    "fig.savefig('figures/number_of_events_firstHalf2016.png')"
   ]
  },
  {
   "cell_type": "code",
   "execution_count": 25,
   "metadata": {},
   "outputs": [
    {
     "data": {
      "text/plain": [
       "array([[<matplotlib.axes._subplots.AxesSubplot object at 0x7fbfbd679198>,\n",
       "        <matplotlib.axes._subplots.AxesSubplot object at 0x7fbfbb82f160>],\n",
       "       [<matplotlib.axes._subplots.AxesSubplot object at 0x7fbfbb6653c8>,\n",
       "        <matplotlib.axes._subplots.AxesSubplot object at 0x7fbfbb469630>]],\n",
       "      dtype=object)"
      ]
     },
     "execution_count": 25,
     "metadata": {},
     "output_type": "execute_result"
    },
    {
     "data": {
      "image/png": "[encoded data removed]",
      "text/plain": [
       "<Figure size 432x288 with 4 Axes>"
      ]
     },
     "metadata": {
      "needs_background": "light"
     },
     "output_type": "display_data"
    }
   ],
   "source": [
    "user_data[['frequency', 'T', 'recency']].hist(bins=30)"
   ]
  },
  {
   "cell_type": "code",
   "execution_count": 26,
   "metadata": {},
   "outputs": [
    {
     "name": "stdout",
     "output_type": "stream",
     "text": [
      "22.73% of users churned in second period\n"
     ]
    }
   ],
   "source": [
    "print('{0}% of users churned in second period'.format(\n",
    "    np.round(np.sum(user_data.second_period_event_count < 1) / len(user_data) * 100, 2)))"
   ]
  },
  {
   "cell_type": "markdown",
   "metadata": {},
   "source": []
  },
  {
   "cell_type": "code",
   "execution_count": 8,
   "metadata": {},
   "outputs": [
    {
     "data": {
      "text/plain": [
       "Text(0, 0.5, '# of users')"
      ]
     },
     "execution_count": 8,
     "metadata": {},
     "output_type": "execute_result"
    },
    {
     "name": "stderr",
     "output_type": "stream",
     "text": [
      "/home/brian/anaconda3/lib/python3.7/site-packages/matplotlib/figure.py:2366: UserWarning: This figure includes Axes that are not compatible with tight_layout, so results might be incorrect.\n",
      "  warnings.warn(\"This figure includes Axes that are not compatible \"\n"
     ]
    },
    {
     "data": {
      "image/png": "[encoded data removed]",
      "text/plain": [
       "<Figure size 432x288 with 1 Axes>"
      ]
     },
     "metadata": {
      "needs_background": "light"
     },
     "output_type": "display_data"
    }
   ],
   "source": [
    "fig, ax = plt.subplots(1,1)\n",
    "fig.set_tight_layout(True)\n",
    "user_data.time_between_first_last_event.hist(ax=ax, bins=30)\n",
    "ax.set_xlabel('time between first and last event (days)')\n",
    "ax.set_ylabel('# of users')\n"
   ]
  },
  {
   "cell_type": "code",
   "execution_count": 9,
   "metadata": {},
   "outputs": [
    {
     "data": {
      "text/plain": [
       "<matplotlib.axes._subplots.AxesSubplot at 0x7fbfbfa01ef0>"
      ]
     },
     "execution_count": 9,
     "metadata": {},
     "output_type": "execute_result"
    },
    {
     "data": {
      "image/png": "[encoded data removed]",
      "text/plain": [
       "<Figure size 432x288 with 1 Axes>"
      ]
     },
     "metadata": {
      "needs_background": "light"
     },
     "output_type": "display_data"
    }
   ],
   "source": [
    "user_data.last_event.hist()"
   ]
  },
  {
   "cell_type": "code",
   "execution_count": 10,
   "metadata": {},
   "outputs": [
    {
     "data": {
      "text/plain": [
       "<matplotlib.axes._subplots.AxesSubplot at 0x7fbfbf475eb8>"
      ]
     },
     "execution_count": 10,
     "metadata": {},
     "output_type": "execute_result"
    },
    {
     "data": {
      "image/png": "[encoded data removed]",
      "text/plain": [
       "<Figure size 432x288 with 2 Axes>"
      ]
     },
     "metadata": {
      "needs_background": "light"
     },
     "output_type": "display_data"
    }
   ],
   "source": [
    "corr = user_data.corr()\n",
    "sns.heatmap(corr, \n",
    "            xticklabels=corr.columns.values,\n",
    "            yticklabels=corr.columns.values)"
   ]
  },
  {
   "cell_type": "code",
   "execution_count": 11,
   "metadata": {},
   "outputs": [
    {
     "data": {
      "text/plain": [
       "[<matplotlib.lines.Line2D at 0x7fbfbf460240>]"
      ]
     },
     "execution_count": 11,
     "metadata": {},
     "output_type": "execute_result"
    },
    {
     "data": {
      "image/png": "[encoded data removed]",
      "text/plain": [
       "<Figure size 432x288 with 1 Axes>"
      ]
     },
     "metadata": {
      "needs_background": "light"
     },
     "output_type": "display_data"
    }
   ],
   "source": [
    "fig, ax = plt.subplots(1,1)\n",
    "\n",
    "ax.plot(user_data.time_between_first_last_event, user_data.public_repos_count, 'k.')"
   ]
  },
  {
   "cell_type": "code",
   "execution_count": 12,
   "metadata": {},
   "outputs": [],
   "source": [
    "churned = user_data[user_data.second_period_event_count == 0]\n",
    "active = user_data[user_data.second_period_event_count > 0]"
   ]
  },
  {
   "cell_type": "code",
   "execution_count": 13,
   "metadata": {},
   "outputs": [
    {
     "name": "stdout",
     "output_type": "stream",
     "text": [
      "N churned 87387, N active 98726\n"
     ]
    }
   ],
   "source": [
    "print('N churned {0}, N active {1}'.format(len(churned), len(active)))"
   ]
  },
  {
   "cell_type": "code",
   "execution_count": 14,
   "metadata": {},
   "outputs": [],
   "source": [
    "def plot_active_VS_churned(predictor='frequency'):\n",
    "    fig, ax = plt.subplots(1,1)\n",
    "    fig.set_tight_layout(True)\n",
    "\n",
    "    ax.bar([1, 2], [churned[predictor].mean(), active[predictor].mean()], \n",
    "           yerr=[churned[predictor].std() / np.sqrt(len(churned)), \n",
    "                 churned[predictor].std() / np.sqrt(len(churned))])\n",
    "    ax.set_xticks([1, 2])\n",
    "    ax.set_xticklabels(['churned', 'active'])\n",
    "    ax.set_ylabel(predictor + ' (Jan-May 2016)')\n",
    "\n",
    "    fig.savefig('figures/' + predictor + '_churnedVSactive.png')"
   ]
  },
  {
   "cell_type": "code",
   "execution_count": 15,
   "metadata": {},
   "outputs": [
    {
     "name": "stderr",
     "output_type": "stream",
     "text": [
      "/home/brian/anaconda3/lib/python3.7/site-packages/matplotlib/figure.py:2366: UserWarning: This figure includes Axes that are not compatible with tight_layout, so results might be incorrect.\n",
      "  warnings.warn(\"This figure includes Axes that are not compatible \"\n"
     ]
    },
    {
     "data": {
      "image/png": "[encoded data removed]",
      "text/plain": [
       "<Figure size 432x288 with 1 Axes>"
      ]
     },
     "metadata": {
      "needs_background": "light"
     },
     "output_type": "display_data"
    }
   ],
   "source": [
    "plot_active_VS_churned('frequency')"
   ]
  },
  {
   "cell_type": "code",
   "execution_count": 16,
   "metadata": {},
   "outputs": [
    {
     "data": {
      "text/plain": [
       "<matplotlib.axes._subplots.AxesSubplot at 0x7fbfbe9e0978>"
      ]
     },
     "execution_count": 16,
     "metadata": {},
     "output_type": "execute_result"
    },
    {
     "data": {
      "image/png": "[encoded data removed]",
      "text/plain": [
       "<Figure size 432x288 with 1 Axes>"
      ]
     },
     "metadata": {
      "needs_background": "light"
     },
     "output_type": "display_data"
    }
   ],
   "source": [
    "active.frequency.hist(bins=30)"
   ]
  },
  {
   "cell_type": "code",
   "execution_count": 17,
   "metadata": {},
   "outputs": [
    {
     "data": {
      "text/plain": [
       "<matplotlib.axes._subplots.AxesSubplot at 0x7fbfbe2cb2b0>"
      ]
     },
     "execution_count": 17,
     "metadata": {},
     "output_type": "execute_result"
    },
    {
     "data": {
      "image/png": "[encoded data removed]",
      "text/plain": [
       "<Figure size 432x288 with 1 Axes>"
      ]
     },
     "metadata": {
      "needs_background": "light"
     },
     "output_type": "display_data"
    }
   ],
   "source": [
    "churned.frequency.hist(bins=30)"
   ]
  },
  {
   "cell_type": "code",
   "execution_count": 18,
   "metadata": {},
   "outputs": [
    {
     "name": "stderr",
     "output_type": "stream",
     "text": [
      "/home/brian/anaconda3/lib/python3.7/site-packages/matplotlib/figure.py:2366: UserWarning: This figure includes Axes that are not compatible with tight_layout, so results might be incorrect.\n",
      "  warnings.warn(\"This figure includes Axes that are not compatible \"\n"
     ]
    },
    {
     "data": {
      "image/png": "[encoded data removed]",
      "text/plain": [
       "<Figure size 432x288 with 1 Axes>"
      ]
     },
     "metadata": {
      "needs_background": "light"
     },
     "output_type": "display_data"
    }
   ],
   "source": [
    "plot_active_VS_churned('public_repos_count')"
   ]
  },
  {
   "cell_type": "code",
   "execution_count": 19,
   "metadata": {},
   "outputs": [
    {
     "name": "stderr",
     "output_type": "stream",
     "text": [
      "/home/brian/anaconda3/lib/python3.7/site-packages/matplotlib/figure.py:2366: UserWarning: This figure includes Axes that are not compatible with tight_layout, so results might be incorrect.\n",
      "  warnings.warn(\"This figure includes Axes that are not compatible \"\n"
     ]
    },
    {
     "data": {
      "image/png": "[encoded data removed]",
      "text/plain": [
       "<Figure size 432x288 with 1 Axes>"
      ]
     },
     "metadata": {
      "needs_background": "light"
     },
     "output_type": "display_data"
    },
    {
     "name": "stderr",
     "output_type": "stream",
     "text": [
      "/home/brian/anaconda3/lib/python3.7/site-packages/matplotlib/figure.py:2366: UserWarning: This figure includes Axes that are not compatible with tight_layout, so results might be incorrect.\n",
      "  warnings.warn(\"This figure includes Axes that are not compatible \"\n"
     ]
    },
    {
     "data": {
      "image/png": "[encoded data removed]",
      "text/plain": [
       "<Figure size 432x288 with 1 Axes>"
      ]
     },
     "metadata": {
      "needs_background": "light"
     },
     "output_type": "display_data"
    }
   ],
   "source": [
    "plot_active_VS_churned('followers_count')\n",
    "plot_active_VS_churned('following_count')"
   ]
  },
  {
   "cell_type": "code",
   "execution_count": 20,
   "metadata": {},
   "outputs": [
    {
     "data": {
      "text/plain": [
       "[<matplotlib.lines.Line2D at 0x7fbfbd294198>]"
      ]
     },
     "execution_count": 20,
     "metadata": {},
     "output_type": "execute_result"
    },
    {
     "data": {
      "image/png": "[encoded data removed]",
      "text/plain": [
       "<Figure size 432x288 with 1 Axes>"
      ]
     },
     "metadata": {
      "needs_background": "light"
     },
     "output_type": "display_data"
    }
   ],
   "source": [
    "plt.plot(user_data.frequency, user_data.second_period_event_count, 'k.')"
   ]
  },
  {
   "cell_type": "code",
   "execution_count": null,
   "metadata": {},
   "outputs": [],
   "source": []
  }
 ],
 "metadata": {
  "kernelspec": {
   "display_name": "Python 3",
   "language": "python",
   "name": "python3"
  },
  "language_info": {
   "codemirror_mode": {
    "name": "ipython",
    "version": 3
   },
   "file_extension": ".py",
   "mimetype": "text/x-python",
   "name": "python",
   "nbconvert_exporter": "python",
   "pygments_lexer": "ipython3",
   "version": "3.7.2"
  }
 },
 "nbformat": 4,
 "nbformat_minor": 2
}

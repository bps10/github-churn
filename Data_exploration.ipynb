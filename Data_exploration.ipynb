{
 "cells": [
  {
   "cell_type": "markdown",
   "metadata": {},
   "source": [
    "[The challenges of modeling churn](https://neilpatel.com/blog/modeling-churn/)\n",
    "\n",
    "[Why churn analysis is valuable for companies](https://www.datascience.com/blog/what-is-a-churn-analysis-and-why-is-it-valuable-for-business)\n",
    "\n",
    "[Git social](https://github.com/VinaySagar92/Git-Social)\n",
    "\n",
    "[Azure revenue](https://www.forbes.com/sites/bobevans1/2018/10/29/1-microsoft-beats-amazon-in-12-month-cloud-revenue-26-7-billion-to-23-4-billion-ibm-third/#2c9e12912bf1)\n",
    "\n",
    "[Why did Microsoft pay so much for GitHub](https://hbr.org/2018/06/why-microsoft-is-willing-to-pay-so-much-for-github)\n"
   ]
  },
  {
   "cell_type": "code",
   "execution_count": 1,
   "metadata": {},
   "outputs": [],
   "source": [
    "import pandas as pd\n",
    "import numpy as np\n",
    "import matplotlib.pylab as plt\n",
    "import seaborn as sns\n",
    "\n",
    "import helper as h"
   ]
  },
  {
   "cell_type": "markdown",
   "metadata": {},
   "source": [
    "[Group each in BigQuery](https://stackoverflow.com/questions/22600299/understanding-resources-exceeded-during-query-execution-with-group-each-by-in)"
   ]
  },
  {
   "cell_type": "code",
   "execution_count": 2,
   "metadata": {},
   "outputs": [
    {
     "name": "stdout",
     "output_type": "stream",
     "text": [
      "% of users dropped 51.01494396014944\n"
     ]
    },
    {
     "data": {
      "text/html": [
       "<div>\n",
       "<style scoped>\n",
       "    .dataframe tbody tr th:only-of-type {\n",
       "        vertical-align: middle;\n",
       "    }\n",
       "\n",
       "    .dataframe tbody tr th {\n",
       "        vertical-align: top;\n",
       "    }\n",
       "\n",
       "    .dataframe thead th {\n",
       "        text-align: right;\n",
       "    }\n",
       "</style>\n",
       "<table border=\"1\" class=\"dataframe\">\n",
       "  <thead>\n",
       "    <tr style=\"text-align: right;\">\n",
       "      <th></th>\n",
       "      <th>0</th>\n",
       "      <th>1</th>\n",
       "      <th>2</th>\n",
       "      <th>3</th>\n",
       "      <th>4</th>\n",
       "    </tr>\n",
       "  </thead>\n",
       "  <tbody>\n",
       "    <tr>\n",
       "      <th>login</th>\n",
       "      <td>0loky0</td>\n",
       "      <td>1xPdd</td>\n",
       "      <td>2582056905xy</td>\n",
       "      <td>AJ340</td>\n",
       "      <td>AaronWB</td>\n",
       "    </tr>\n",
       "    <tr>\n",
       "      <th>followers_count</th>\n",
       "      <td>0</td>\n",
       "      <td>0</td>\n",
       "      <td>2</td>\n",
       "      <td>3</td>\n",
       "      <td>3</td>\n",
       "    </tr>\n",
       "    <tr>\n",
       "      <th>following_count</th>\n",
       "      <td>1</td>\n",
       "      <td>0</td>\n",
       "      <td>6</td>\n",
       "      <td>6</td>\n",
       "      <td>0</td>\n",
       "    </tr>\n",
       "    <tr>\n",
       "      <th>blog</th>\n",
       "      <td>0</td>\n",
       "      <td>0</td>\n",
       "      <td>0</td>\n",
       "      <td>1</td>\n",
       "      <td>1</td>\n",
       "    </tr>\n",
       "    <tr>\n",
       "      <th>company</th>\n",
       "      <td>0</td>\n",
       "      <td>0</td>\n",
       "      <td>0</td>\n",
       "      <td>0</td>\n",
       "      <td>0</td>\n",
       "    </tr>\n",
       "    <tr>\n",
       "      <th>created_at</th>\n",
       "      <td>2011-05-24 20:15:25+00:00</td>\n",
       "      <td>2014-07-11 03:45:56+00:00</td>\n",
       "      <td>2014-04-24 14:51:26+00:00</td>\n",
       "      <td>2016-04-15 18:12:45+00:00</td>\n",
       "      <td>2014-02-11 15:03:04+00:00</td>\n",
       "    </tr>\n",
       "    <tr>\n",
       "      <th>public_repos_count</th>\n",
       "      <td>7</td>\n",
       "      <td>0</td>\n",
       "      <td>35</td>\n",
       "      <td>17</td>\n",
       "      <td>25</td>\n",
       "    </tr>\n",
       "    <tr>\n",
       "      <th>public_gists_count</th>\n",
       "      <td>0</td>\n",
       "      <td>0</td>\n",
       "      <td>0</td>\n",
       "      <td>0</td>\n",
       "      <td>1</td>\n",
       "    </tr>\n",
       "    <tr>\n",
       "      <th>hireable</th>\n",
       "      <td>1</td>\n",
       "      <td>0</td>\n",
       "      <td>0</td>\n",
       "      <td>0</td>\n",
       "      <td>0</td>\n",
       "    </tr>\n",
       "    <tr>\n",
       "      <th>updated_at</th>\n",
       "      <td>2019-01-09 15:03:59+00:00</td>\n",
       "      <td>2018-12-16 00:55:16+00:00</td>\n",
       "      <td>2018-10-18 01:47:18+00:00</td>\n",
       "      <td>2019-01-07 16:25:43+00:00</td>\n",
       "      <td>2019-01-20 11:57:00+00:00</td>\n",
       "    </tr>\n",
       "    <tr>\n",
       "      <th>time_between_first_last_event</th>\n",
       "      <td>10 days 15:29:06.000000000</td>\n",
       "      <td>3 days 00:37:59.000000000</td>\n",
       "      <td>94 days 21:30:27.000000000</td>\n",
       "      <td>0 days 01:21:54.000000000</td>\n",
       "      <td>60 days 08:15:48.000000000</td>\n",
       "    </tr>\n",
       "    <tr>\n",
       "      <th>last_event</th>\n",
       "      <td>2017-02-10 08:57:59 UTC</td>\n",
       "      <td>2017-06-01 03:39:40 UTC</td>\n",
       "      <td>2017-05-22 07:46:50 UTC</td>\n",
       "      <td>2017-05-14 23:30:24 UTC</td>\n",
       "      <td>2017-04-07 11:57:13 UTC</td>\n",
       "    </tr>\n",
       "    <tr>\n",
       "      <th>first_event</th>\n",
       "      <td>2017-02-09 14:01:26 UTC</td>\n",
       "      <td>2017-01-15 16:05:29 UTC</td>\n",
       "      <td>2017-03-29 07:57:52 UTC</td>\n",
       "      <td>2017-02-02 04:54:19 UTC</td>\n",
       "      <td>2017-01-03 09:14:00 UTC</td>\n",
       "    </tr>\n",
       "    <tr>\n",
       "      <th>frequency</th>\n",
       "      <td>2</td>\n",
       "      <td>19</td>\n",
       "      <td>7</td>\n",
       "      <td>46</td>\n",
       "      <td>23</td>\n",
       "    </tr>\n",
       "    <tr>\n",
       "      <th>second_period_event_count</th>\n",
       "      <td>0</td>\n",
       "      <td>13</td>\n",
       "      <td>16</td>\n",
       "      <td>3</td>\n",
       "      <td>23</td>\n",
       "    </tr>\n",
       "    <tr>\n",
       "      <th>CommitCommentEvent_count</th>\n",
       "      <td>0</td>\n",
       "      <td>0</td>\n",
       "      <td>0</td>\n",
       "      <td>0</td>\n",
       "      <td>0</td>\n",
       "    </tr>\n",
       "    <tr>\n",
       "      <th>CreateEvent_count</th>\n",
       "      <td>0</td>\n",
       "      <td>0</td>\n",
       "      <td>0</td>\n",
       "      <td>17</td>\n",
       "      <td>4</td>\n",
       "    </tr>\n",
       "    <tr>\n",
       "      <th>DeleteEvent_count</th>\n",
       "      <td>0</td>\n",
       "      <td>0</td>\n",
       "      <td>0</td>\n",
       "      <td>2</td>\n",
       "      <td>1</td>\n",
       "    </tr>\n",
       "    <tr>\n",
       "      <th>ForkEvent_count</th>\n",
       "      <td>1</td>\n",
       "      <td>0</td>\n",
       "      <td>2</td>\n",
       "      <td>0</td>\n",
       "      <td>1</td>\n",
       "    </tr>\n",
       "    <tr>\n",
       "      <th>GollumEvent_count</th>\n",
       "      <td>0</td>\n",
       "      <td>0</td>\n",
       "      <td>0</td>\n",
       "      <td>0</td>\n",
       "      <td>0</td>\n",
       "    </tr>\n",
       "    <tr>\n",
       "      <th>IssueCommentEvent_count</th>\n",
       "      <td>0</td>\n",
       "      <td>8</td>\n",
       "      <td>0</td>\n",
       "      <td>0</td>\n",
       "      <td>0</td>\n",
       "    </tr>\n",
       "    <tr>\n",
       "      <th>IssuesEvent_count</th>\n",
       "      <td>0</td>\n",
       "      <td>6</td>\n",
       "      <td>0</td>\n",
       "      <td>0</td>\n",
       "      <td>1</td>\n",
       "    </tr>\n",
       "    <tr>\n",
       "      <th>MemberEvent_count</th>\n",
       "      <td>0</td>\n",
       "      <td>0</td>\n",
       "      <td>0</td>\n",
       "      <td>0</td>\n",
       "      <td>0</td>\n",
       "    </tr>\n",
       "    <tr>\n",
       "      <th>PublicEvent_count</th>\n",
       "      <td>0</td>\n",
       "      <td>0</td>\n",
       "      <td>0</td>\n",
       "      <td>1</td>\n",
       "      <td>0</td>\n",
       "    </tr>\n",
       "    <tr>\n",
       "      <th>PullRequestEvent_count</th>\n",
       "      <td>0</td>\n",
       "      <td>0</td>\n",
       "      <td>0</td>\n",
       "      <td>5</td>\n",
       "      <td>0</td>\n",
       "    </tr>\n",
       "    <tr>\n",
       "      <th>PullRequestReviewCommentEvent_count</th>\n",
       "      <td>0</td>\n",
       "      <td>0</td>\n",
       "      <td>0</td>\n",
       "      <td>0</td>\n",
       "      <td>0</td>\n",
       "    </tr>\n",
       "    <tr>\n",
       "      <th>PushEvent_count</th>\n",
       "      <td>0</td>\n",
       "      <td>0</td>\n",
       "      <td>0</td>\n",
       "      <td>21</td>\n",
       "      <td>13</td>\n",
       "    </tr>\n",
       "    <tr>\n",
       "      <th>ReleaseEvent_count</th>\n",
       "      <td>0</td>\n",
       "      <td>0</td>\n",
       "      <td>0</td>\n",
       "      <td>0</td>\n",
       "      <td>0</td>\n",
       "    </tr>\n",
       "    <tr>\n",
       "      <th>WatchEvent_count</th>\n",
       "      <td>1</td>\n",
       "      <td>5</td>\n",
       "      <td>5</td>\n",
       "      <td>0</td>\n",
       "      <td>3</td>\n",
       "    </tr>\n",
       "  </tbody>\n",
       "</table>\n",
       "</div>"
      ],
      "text/plain": [
       "                                                              0  \\\n",
       "login                                                    0loky0   \n",
       "followers_count                                               0   \n",
       "following_count                                               1   \n",
       "blog                                                          0   \n",
       "company                                                       0   \n",
       "created_at                            2011-05-24 20:15:25+00:00   \n",
       "public_repos_count                                            7   \n",
       "public_gists_count                                            0   \n",
       "hireable                                                      1   \n",
       "updated_at                            2019-01-09 15:03:59+00:00   \n",
       "time_between_first_last_event        10 days 15:29:06.000000000   \n",
       "last_event                              2017-02-10 08:57:59 UTC   \n",
       "first_event                             2017-02-09 14:01:26 UTC   \n",
       "frequency                                                     2   \n",
       "second_period_event_count                                     0   \n",
       "CommitCommentEvent_count                                      0   \n",
       "CreateEvent_count                                             0   \n",
       "DeleteEvent_count                                             0   \n",
       "ForkEvent_count                                               1   \n",
       "GollumEvent_count                                             0   \n",
       "IssueCommentEvent_count                                       0   \n",
       "IssuesEvent_count                                             0   \n",
       "MemberEvent_count                                             0   \n",
       "PublicEvent_count                                             0   \n",
       "PullRequestEvent_count                                        0   \n",
       "PullRequestReviewCommentEvent_count                           0   \n",
       "PushEvent_count                                               0   \n",
       "ReleaseEvent_count                                            0   \n",
       "WatchEvent_count                                              1   \n",
       "\n",
       "                                                             1  \\\n",
       "login                                                    1xPdd   \n",
       "followers_count                                              0   \n",
       "following_count                                              0   \n",
       "blog                                                         0   \n",
       "company                                                      0   \n",
       "created_at                           2014-07-11 03:45:56+00:00   \n",
       "public_repos_count                                           0   \n",
       "public_gists_count                                           0   \n",
       "hireable                                                     0   \n",
       "updated_at                           2018-12-16 00:55:16+00:00   \n",
       "time_between_first_last_event        3 days 00:37:59.000000000   \n",
       "last_event                             2017-06-01 03:39:40 UTC   \n",
       "first_event                            2017-01-15 16:05:29 UTC   \n",
       "frequency                                                   19   \n",
       "second_period_event_count                                   13   \n",
       "CommitCommentEvent_count                                     0   \n",
       "CreateEvent_count                                            0   \n",
       "DeleteEvent_count                                            0   \n",
       "ForkEvent_count                                              0   \n",
       "GollumEvent_count                                            0   \n",
       "IssueCommentEvent_count                                      8   \n",
       "IssuesEvent_count                                            6   \n",
       "MemberEvent_count                                            0   \n",
       "PublicEvent_count                                            0   \n",
       "PullRequestEvent_count                                       0   \n",
       "PullRequestReviewCommentEvent_count                          0   \n",
       "PushEvent_count                                              0   \n",
       "ReleaseEvent_count                                           0   \n",
       "WatchEvent_count                                             5   \n",
       "\n",
       "                                                              2  \\\n",
       "login                                              2582056905xy   \n",
       "followers_count                                               2   \n",
       "following_count                                               6   \n",
       "blog                                                          0   \n",
       "company                                                       0   \n",
       "created_at                            2014-04-24 14:51:26+00:00   \n",
       "public_repos_count                                           35   \n",
       "public_gists_count                                            0   \n",
       "hireable                                                      0   \n",
       "updated_at                            2018-10-18 01:47:18+00:00   \n",
       "time_between_first_last_event        94 days 21:30:27.000000000   \n",
       "last_event                              2017-05-22 07:46:50 UTC   \n",
       "first_event                             2017-03-29 07:57:52 UTC   \n",
       "frequency                                                     7   \n",
       "second_period_event_count                                    16   \n",
       "CommitCommentEvent_count                                      0   \n",
       "CreateEvent_count                                             0   \n",
       "DeleteEvent_count                                             0   \n",
       "ForkEvent_count                                               2   \n",
       "GollumEvent_count                                             0   \n",
       "IssueCommentEvent_count                                       0   \n",
       "IssuesEvent_count                                             0   \n",
       "MemberEvent_count                                             0   \n",
       "PublicEvent_count                                             0   \n",
       "PullRequestEvent_count                                        0   \n",
       "PullRequestReviewCommentEvent_count                           0   \n",
       "PushEvent_count                                               0   \n",
       "ReleaseEvent_count                                            0   \n",
       "WatchEvent_count                                              5   \n",
       "\n",
       "                                                             3  \\\n",
       "login                                                    AJ340   \n",
       "followers_count                                              3   \n",
       "following_count                                              6   \n",
       "blog                                                         1   \n",
       "company                                                      0   \n",
       "created_at                           2016-04-15 18:12:45+00:00   \n",
       "public_repos_count                                          17   \n",
       "public_gists_count                                           0   \n",
       "hireable                                                     0   \n",
       "updated_at                           2019-01-07 16:25:43+00:00   \n",
       "time_between_first_last_event        0 days 01:21:54.000000000   \n",
       "last_event                             2017-05-14 23:30:24 UTC   \n",
       "first_event                            2017-02-02 04:54:19 UTC   \n",
       "frequency                                                   46   \n",
       "second_period_event_count                                    3   \n",
       "CommitCommentEvent_count                                     0   \n",
       "CreateEvent_count                                           17   \n",
       "DeleteEvent_count                                            2   \n",
       "ForkEvent_count                                              0   \n",
       "GollumEvent_count                                            0   \n",
       "IssueCommentEvent_count                                      0   \n",
       "IssuesEvent_count                                            0   \n",
       "MemberEvent_count                                            0   \n",
       "PublicEvent_count                                            1   \n",
       "PullRequestEvent_count                                       5   \n",
       "PullRequestReviewCommentEvent_count                          0   \n",
       "PushEvent_count                                             21   \n",
       "ReleaseEvent_count                                           0   \n",
       "WatchEvent_count                                             0   \n",
       "\n",
       "                                                              4  \n",
       "login                                                   AaronWB  \n",
       "followers_count                                               3  \n",
       "following_count                                               0  \n",
       "blog                                                          1  \n",
       "company                                                       0  \n",
       "created_at                            2014-02-11 15:03:04+00:00  \n",
       "public_repos_count                                           25  \n",
       "public_gists_count                                            1  \n",
       "hireable                                                      0  \n",
       "updated_at                            2019-01-20 11:57:00+00:00  \n",
       "time_between_first_last_event        60 days 08:15:48.000000000  \n",
       "last_event                              2017-04-07 11:57:13 UTC  \n",
       "first_event                             2017-01-03 09:14:00 UTC  \n",
       "frequency                                                    23  \n",
       "second_period_event_count                                    23  \n",
       "CommitCommentEvent_count                                      0  \n",
       "CreateEvent_count                                             4  \n",
       "DeleteEvent_count                                             1  \n",
       "ForkEvent_count                                               1  \n",
       "GollumEvent_count                                             0  \n",
       "IssueCommentEvent_count                                       0  \n",
       "IssuesEvent_count                                             1  \n",
       "MemberEvent_count                                             0  \n",
       "PublicEvent_count                                             0  \n",
       "PullRequestEvent_count                                        0  \n",
       "PullRequestReviewCommentEvent_count                           0  \n",
       "PushEvent_count                                              13  \n",
       "ReleaseEvent_count                                            0  \n",
       "WatchEvent_count                                              3  "
      ]
     },
     "execution_count": 2,
     "metadata": {},
     "output_type": "execute_result"
    }
   ],
   "source": [
    "user_data = h.get_merged_data(appName='data-exploration', year='2017').toPandas()\n",
    "user_data.head().transpose()"
   ]
  },
  {
   "cell_type": "code",
   "execution_count": 3,
   "metadata": {},
   "outputs": [
    {
     "data": {
      "text/plain": [
       "login                                          object\n",
       "followers_count                                 int32\n",
       "following_count                                 int32\n",
       "blog                                            int32\n",
       "company                                         int32\n",
       "created_at                             datetime64[ns]\n",
       "public_repos_count                            float64\n",
       "public_gists_count                            float64\n",
       "hireable                                        int32\n",
       "updated_at                                     object\n",
       "time_between_first_last_event                 float64\n",
       "last_event                             datetime64[ns]\n",
       "first_event                            datetime64[ns]\n",
       "frequency                                       int32\n",
       "second_period_event_count                       int32\n",
       "CommitCommentEvent_count                        int32\n",
       "CreateEvent_count                               int32\n",
       "DeleteEvent_count                               int32\n",
       "ForkEvent_count                                 int32\n",
       "GollumEvent_count                               int32\n",
       "IssueCommentEvent_count                         int32\n",
       "IssuesEvent_count                               int32\n",
       "MemberEvent_count                               int32\n",
       "PublicEvent_count                               int32\n",
       "PullRequestEvent_count                          int32\n",
       "PullRequestReviewCommentEvent_count             int32\n",
       "PushEvent_count                                 int32\n",
       "ReleaseEvent_count                              int32\n",
       "WatchEvent_count                                int32\n",
       "T                                             float64\n",
       "recency                                       float64\n",
       "dtype: object"
      ]
     },
     "execution_count": 3,
     "metadata": {},
     "output_type": "execute_result"
    }
   ],
   "source": [
    "user_data = h.add_time_columns(user_data)\n",
    "user_data.dtypes"
   ]
  },
  {
   "cell_type": "code",
   "execution_count": 4,
   "metadata": {},
   "outputs": [
    {
     "data": {
      "text/html": [
       "<div>\n",
       "<style scoped>\n",
       "    .dataframe tbody tr th:only-of-type {\n",
       "        vertical-align: middle;\n",
       "    }\n",
       "\n",
       "    .dataframe tbody tr th {\n",
       "        vertical-align: top;\n",
       "    }\n",
       "\n",
       "    .dataframe thead th {\n",
       "        text-align: right;\n",
       "    }\n",
       "</style>\n",
       "<table border=\"1\" class=\"dataframe\">\n",
       "  <thead>\n",
       "    <tr style=\"text-align: right;\">\n",
       "      <th></th>\n",
       "      <th>count</th>\n",
       "      <th>mean</th>\n",
       "      <th>std</th>\n",
       "      <th>min</th>\n",
       "      <th>25%</th>\n",
       "      <th>50%</th>\n",
       "      <th>75%</th>\n",
       "      <th>max</th>\n",
       "    </tr>\n",
       "  </thead>\n",
       "  <tbody>\n",
       "    <tr>\n",
       "      <th>followers_count</th>\n",
       "      <td>94310.0</td>\n",
       "      <td>11.980045</td>\n",
       "      <td>114.937344</td>\n",
       "      <td>0.000000</td>\n",
       "      <td>0.000000</td>\n",
       "      <td>2.000000</td>\n",
       "      <td>7.000000</td>\n",
       "      <td>20127.000000</td>\n",
       "    </tr>\n",
       "    <tr>\n",
       "      <th>following_count</th>\n",
       "      <td>94310.0</td>\n",
       "      <td>10.372665</td>\n",
       "      <td>432.177574</td>\n",
       "      <td>0.000000</td>\n",
       "      <td>0.000000</td>\n",
       "      <td>1.000000</td>\n",
       "      <td>6.000000</td>\n",
       "      <td>129323.000000</td>\n",
       "    </tr>\n",
       "    <tr>\n",
       "      <th>blog</th>\n",
       "      <td>94310.0</td>\n",
       "      <td>0.285442</td>\n",
       "      <td>0.451627</td>\n",
       "      <td>0.000000</td>\n",
       "      <td>0.000000</td>\n",
       "      <td>0.000000</td>\n",
       "      <td>1.000000</td>\n",
       "      <td>1.000000</td>\n",
       "    </tr>\n",
       "    <tr>\n",
       "      <th>company</th>\n",
       "      <td>94310.0</td>\n",
       "      <td>0.256070</td>\n",
       "      <td>0.436463</td>\n",
       "      <td>0.000000</td>\n",
       "      <td>0.000000</td>\n",
       "      <td>0.000000</td>\n",
       "      <td>1.000000</td>\n",
       "      <td>1.000000</td>\n",
       "    </tr>\n",
       "    <tr>\n",
       "      <th>public_repos_count</th>\n",
       "      <td>94310.0</td>\n",
       "      <td>21.627547</td>\n",
       "      <td>82.038229</td>\n",
       "      <td>0.000000</td>\n",
       "      <td>5.000000</td>\n",
       "      <td>11.000000</td>\n",
       "      <td>23.000000</td>\n",
       "      <td>18856.000000</td>\n",
       "    </tr>\n",
       "    <tr>\n",
       "      <th>public_gists_count</th>\n",
       "      <td>94310.0</td>\n",
       "      <td>3.118874</td>\n",
       "      <td>15.056761</td>\n",
       "      <td>0.000000</td>\n",
       "      <td>0.000000</td>\n",
       "      <td>0.000000</td>\n",
       "      <td>1.000000</td>\n",
       "      <td>1291.000000</td>\n",
       "    </tr>\n",
       "    <tr>\n",
       "      <th>hireable</th>\n",
       "      <td>94310.0</td>\n",
       "      <td>0.162507</td>\n",
       "      <td>0.368917</td>\n",
       "      <td>0.000000</td>\n",
       "      <td>0.000000</td>\n",
       "      <td>0.000000</td>\n",
       "      <td>0.000000</td>\n",
       "      <td>1.000000</td>\n",
       "    </tr>\n",
       "    <tr>\n",
       "      <th>time_between_first_last_event</th>\n",
       "      <td>94310.0</td>\n",
       "      <td>76.193578</td>\n",
       "      <td>55.346764</td>\n",
       "      <td>0.000000</td>\n",
       "      <td>14.086762</td>\n",
       "      <td>84.971528</td>\n",
       "      <td>129.877483</td>\n",
       "      <td>151.995266</td>\n",
       "    </tr>\n",
       "    <tr>\n",
       "      <th>frequency</th>\n",
       "      <td>94310.0</td>\n",
       "      <td>51.902587</td>\n",
       "      <td>117.542238</td>\n",
       "      <td>1.000000</td>\n",
       "      <td>4.000000</td>\n",
       "      <td>14.000000</td>\n",
       "      <td>46.000000</td>\n",
       "      <td>1499.000000</td>\n",
       "    </tr>\n",
       "    <tr>\n",
       "      <th>second_period_event_count</th>\n",
       "      <td>94310.0</td>\n",
       "      <td>44.391390</td>\n",
       "      <td>111.841298</td>\n",
       "      <td>0.000000</td>\n",
       "      <td>1.000000</td>\n",
       "      <td>9.000000</td>\n",
       "      <td>37.000000</td>\n",
       "      <td>1490.000000</td>\n",
       "    </tr>\n",
       "    <tr>\n",
       "      <th>CommitCommentEvent_count</th>\n",
       "      <td>94310.0</td>\n",
       "      <td>0.146729</td>\n",
       "      <td>2.267885</td>\n",
       "      <td>0.000000</td>\n",
       "      <td>0.000000</td>\n",
       "      <td>0.000000</td>\n",
       "      <td>0.000000</td>\n",
       "      <td>375.000000</td>\n",
       "    </tr>\n",
       "    <tr>\n",
       "      <th>CreateEvent_count</th>\n",
       "      <td>94310.0</td>\n",
       "      <td>5.637769</td>\n",
       "      <td>15.273409</td>\n",
       "      <td>0.000000</td>\n",
       "      <td>0.000000</td>\n",
       "      <td>2.000000</td>\n",
       "      <td>6.000000</td>\n",
       "      <td>1070.000000</td>\n",
       "    </tr>\n",
       "    <tr>\n",
       "      <th>DeleteEvent_count</th>\n",
       "      <td>94310.0</td>\n",
       "      <td>1.179440</td>\n",
       "      <td>7.569705</td>\n",
       "      <td>0.000000</td>\n",
       "      <td>0.000000</td>\n",
       "      <td>0.000000</td>\n",
       "      <td>0.000000</td>\n",
       "      <td>312.000000</td>\n",
       "    </tr>\n",
       "    <tr>\n",
       "      <th>ForkEvent_count</th>\n",
       "      <td>94310.0</td>\n",
       "      <td>1.513689</td>\n",
       "      <td>7.604409</td>\n",
       "      <td>0.000000</td>\n",
       "      <td>0.000000</td>\n",
       "      <td>0.000000</td>\n",
       "      <td>1.000000</td>\n",
       "      <td>1108.000000</td>\n",
       "    </tr>\n",
       "    <tr>\n",
       "      <th>GollumEvent_count</th>\n",
       "      <td>94310.0</td>\n",
       "      <td>0.440855</td>\n",
       "      <td>6.713389</td>\n",
       "      <td>0.000000</td>\n",
       "      <td>0.000000</td>\n",
       "      <td>0.000000</td>\n",
       "      <td>0.000000</td>\n",
       "      <td>586.000000</td>\n",
       "    </tr>\n",
       "    <tr>\n",
       "      <th>IssueCommentEvent_count</th>\n",
       "      <td>94310.0</td>\n",
       "      <td>4.809405</td>\n",
       "      <td>24.777971</td>\n",
       "      <td>0.000000</td>\n",
       "      <td>0.000000</td>\n",
       "      <td>0.000000</td>\n",
       "      <td>1.000000</td>\n",
       "      <td>987.000000</td>\n",
       "    </tr>\n",
       "    <tr>\n",
       "      <th>IssuesEvent_count</th>\n",
       "      <td>94310.0</td>\n",
       "      <td>2.485261</td>\n",
       "      <td>12.532349</td>\n",
       "      <td>0.000000</td>\n",
       "      <td>0.000000</td>\n",
       "      <td>0.000000</td>\n",
       "      <td>1.000000</td>\n",
       "      <td>601.000000</td>\n",
       "    </tr>\n",
       "    <tr>\n",
       "      <th>MemberEvent_count</th>\n",
       "      <td>94310.0</td>\n",
       "      <td>0.228449</td>\n",
       "      <td>2.569322</td>\n",
       "      <td>0.000000</td>\n",
       "      <td>0.000000</td>\n",
       "      <td>0.000000</td>\n",
       "      <td>0.000000</td>\n",
       "      <td>487.000000</td>\n",
       "    </tr>\n",
       "    <tr>\n",
       "      <th>PublicEvent_count</th>\n",
       "      <td>94310.0</td>\n",
       "      <td>0.062963</td>\n",
       "      <td>0.478466</td>\n",
       "      <td>0.000000</td>\n",
       "      <td>0.000000</td>\n",
       "      <td>0.000000</td>\n",
       "      <td>0.000000</td>\n",
       "      <td>43.000000</td>\n",
       "    </tr>\n",
       "    <tr>\n",
       "      <th>PullRequestEvent_count</th>\n",
       "      <td>94310.0</td>\n",
       "      <td>3.183968</td>\n",
       "      <td>15.475440</td>\n",
       "      <td>0.000000</td>\n",
       "      <td>0.000000</td>\n",
       "      <td>0.000000</td>\n",
       "      <td>1.000000</td>\n",
       "      <td>619.000000</td>\n",
       "    </tr>\n",
       "    <tr>\n",
       "      <th>PullRequestReviewCommentEvent_count</th>\n",
       "      <td>94310.0</td>\n",
       "      <td>1.183745</td>\n",
       "      <td>11.478126</td>\n",
       "      <td>0.000000</td>\n",
       "      <td>0.000000</td>\n",
       "      <td>0.000000</td>\n",
       "      <td>0.000000</td>\n",
       "      <td>644.000000</td>\n",
       "    </tr>\n",
       "    <tr>\n",
       "      <th>PushEvent_count</th>\n",
       "      <td>94310.0</td>\n",
       "      <td>24.485802</td>\n",
       "      <td>61.437350</td>\n",
       "      <td>0.000000</td>\n",
       "      <td>0.000000</td>\n",
       "      <td>4.000000</td>\n",
       "      <td>21.000000</td>\n",
       "      <td>1431.000000</td>\n",
       "    </tr>\n",
       "    <tr>\n",
       "      <th>ReleaseEvent_count</th>\n",
       "      <td>94310.0</td>\n",
       "      <td>0.261998</td>\n",
       "      <td>3.516267</td>\n",
       "      <td>0.000000</td>\n",
       "      <td>0.000000</td>\n",
       "      <td>0.000000</td>\n",
       "      <td>0.000000</td>\n",
       "      <td>730.000000</td>\n",
       "    </tr>\n",
       "    <tr>\n",
       "      <th>WatchEvent_count</th>\n",
       "      <td>94310.0</td>\n",
       "      <td>6.282515</td>\n",
       "      <td>25.128983</td>\n",
       "      <td>0.000000</td>\n",
       "      <td>0.000000</td>\n",
       "      <td>0.000000</td>\n",
       "      <td>3.000000</td>\n",
       "      <td>1292.000000</td>\n",
       "    </tr>\n",
       "    <tr>\n",
       "      <th>T</th>\n",
       "      <td>94310.0</td>\n",
       "      <td>132.428534</td>\n",
       "      <td>100.600506</td>\n",
       "      <td>-138.000000</td>\n",
       "      <td>49.000000</td>\n",
       "      <td>117.000000</td>\n",
       "      <td>199.000000</td>\n",
       "      <td>435.000000</td>\n",
       "    </tr>\n",
       "    <tr>\n",
       "      <th>recency</th>\n",
       "      <td>94310.0</td>\n",
       "      <td>179.144704</td>\n",
       "      <td>101.622317</td>\n",
       "      <td>-104.178044</td>\n",
       "      <td>95.127023</td>\n",
       "      <td>164.023523</td>\n",
       "      <td>246.418542</td>\n",
       "      <td>485.656212</td>\n",
       "    </tr>\n",
       "  </tbody>\n",
       "</table>\n",
       "</div>"
      ],
      "text/plain": [
       "                                       count        mean         std  \\\n",
       "followers_count                      94310.0   11.980045  114.937344   \n",
       "following_count                      94310.0   10.372665  432.177574   \n",
       "blog                                 94310.0    0.285442    0.451627   \n",
       "company                              94310.0    0.256070    0.436463   \n",
       "public_repos_count                   94310.0   21.627547   82.038229   \n",
       "public_gists_count                   94310.0    3.118874   15.056761   \n",
       "hireable                             94310.0    0.162507    0.368917   \n",
       "time_between_first_last_event        94310.0   76.193578   55.346764   \n",
       "frequency                            94310.0   51.902587  117.542238   \n",
       "second_period_event_count            94310.0   44.391390  111.841298   \n",
       "CommitCommentEvent_count             94310.0    0.146729    2.267885   \n",
       "CreateEvent_count                    94310.0    5.637769   15.273409   \n",
       "DeleteEvent_count                    94310.0    1.179440    7.569705   \n",
       "ForkEvent_count                      94310.0    1.513689    7.604409   \n",
       "GollumEvent_count                    94310.0    0.440855    6.713389   \n",
       "IssueCommentEvent_count              94310.0    4.809405   24.777971   \n",
       "IssuesEvent_count                    94310.0    2.485261   12.532349   \n",
       "MemberEvent_count                    94310.0    0.228449    2.569322   \n",
       "PublicEvent_count                    94310.0    0.062963    0.478466   \n",
       "PullRequestEvent_count               94310.0    3.183968   15.475440   \n",
       "PullRequestReviewCommentEvent_count  94310.0    1.183745   11.478126   \n",
       "PushEvent_count                      94310.0   24.485802   61.437350   \n",
       "ReleaseEvent_count                   94310.0    0.261998    3.516267   \n",
       "WatchEvent_count                     94310.0    6.282515   25.128983   \n",
       "T                                    94310.0  132.428534  100.600506   \n",
       "recency                              94310.0  179.144704  101.622317   \n",
       "\n",
       "                                            min        25%         50%  \\\n",
       "followers_count                        0.000000   0.000000    2.000000   \n",
       "following_count                        0.000000   0.000000    1.000000   \n",
       "blog                                   0.000000   0.000000    0.000000   \n",
       "company                                0.000000   0.000000    0.000000   \n",
       "public_repos_count                     0.000000   5.000000   11.000000   \n",
       "public_gists_count                     0.000000   0.000000    0.000000   \n",
       "hireable                               0.000000   0.000000    0.000000   \n",
       "time_between_first_last_event          0.000000  14.086762   84.971528   \n",
       "frequency                              1.000000   4.000000   14.000000   \n",
       "second_period_event_count              0.000000   1.000000    9.000000   \n",
       "CommitCommentEvent_count               0.000000   0.000000    0.000000   \n",
       "CreateEvent_count                      0.000000   0.000000    2.000000   \n",
       "DeleteEvent_count                      0.000000   0.000000    0.000000   \n",
       "ForkEvent_count                        0.000000   0.000000    0.000000   \n",
       "GollumEvent_count                      0.000000   0.000000    0.000000   \n",
       "IssueCommentEvent_count                0.000000   0.000000    0.000000   \n",
       "IssuesEvent_count                      0.000000   0.000000    0.000000   \n",
       "MemberEvent_count                      0.000000   0.000000    0.000000   \n",
       "PublicEvent_count                      0.000000   0.000000    0.000000   \n",
       "PullRequestEvent_count                 0.000000   0.000000    0.000000   \n",
       "PullRequestReviewCommentEvent_count    0.000000   0.000000    0.000000   \n",
       "PushEvent_count                        0.000000   0.000000    4.000000   \n",
       "ReleaseEvent_count                     0.000000   0.000000    0.000000   \n",
       "WatchEvent_count                       0.000000   0.000000    0.000000   \n",
       "T                                   -138.000000  49.000000  117.000000   \n",
       "recency                             -104.178044  95.127023  164.023523   \n",
       "\n",
       "                                            75%            max  \n",
       "followers_count                        7.000000   20127.000000  \n",
       "following_count                        6.000000  129323.000000  \n",
       "blog                                   1.000000       1.000000  \n",
       "company                                1.000000       1.000000  \n",
       "public_repos_count                    23.000000   18856.000000  \n",
       "public_gists_count                     1.000000    1291.000000  \n",
       "hireable                               0.000000       1.000000  \n",
       "time_between_first_last_event        129.877483     151.995266  \n",
       "frequency                             46.000000    1499.000000  \n",
       "second_period_event_count             37.000000    1490.000000  \n",
       "CommitCommentEvent_count               0.000000     375.000000  \n",
       "CreateEvent_count                      6.000000    1070.000000  \n",
       "DeleteEvent_count                      0.000000     312.000000  \n",
       "ForkEvent_count                        1.000000    1108.000000  \n",
       "GollumEvent_count                      0.000000     586.000000  \n",
       "IssueCommentEvent_count                1.000000     987.000000  \n",
       "IssuesEvent_count                      1.000000     601.000000  \n",
       "MemberEvent_count                      0.000000     487.000000  \n",
       "PublicEvent_count                      0.000000      43.000000  \n",
       "PullRequestEvent_count                 1.000000     619.000000  \n",
       "PullRequestReviewCommentEvent_count    0.000000     644.000000  \n",
       "PushEvent_count                       21.000000    1431.000000  \n",
       "ReleaseEvent_count                     0.000000     730.000000  \n",
       "WatchEvent_count                       3.000000    1292.000000  \n",
       "T                                    199.000000     435.000000  \n",
       "recency                              246.418542     485.656212  "
      ]
     },
     "execution_count": 4,
     "metadata": {},
     "output_type": "execute_result"
    }
   ],
   "source": [
    "user_data = user_data.dropna()\n",
    "user_data.describe().transpose()"
   ]
  },
  {
   "cell_type": "code",
   "execution_count": 5,
   "metadata": {},
   "outputs": [
    {
     "name": "stderr",
     "output_type": "stream",
     "text": [
      "/home/brian/anaconda3/lib/python3.7/site-packages/matplotlib/figure.py:2366: UserWarning: This figure includes Axes that are not compatible with tight_layout, so results might be incorrect.\n",
      "  warnings.warn(\"This figure includes Axes that are not compatible \"\n"
     ]
    },
    {
     "data": {
      "image/png": "[encoded data removed]",
      "text/plain": [
       "<Figure size 432x288 with 1 Axes>"
      ]
     },
     "metadata": {
      "needs_background": "light"
     },
     "output_type": "display_data"
    }
   ],
   "source": [
    "fig, ax = plt.subplots(1,1)\n",
    "fig.set_tight_layout(True)\n",
    "\n",
    "user_data.frequency.hist(ax=ax, bins=30)\n",
    "ax.set_xlabel('# of events')\n",
    "ax.set_ylabel('# of users')\n",
    "\n",
    "fig.savefig('figures/number_of_events_firstHalf2016.png')"
   ]
  },
  {
   "cell_type": "code",
   "execution_count": 23,
   "metadata": {},
   "outputs": [
    {
     "name": "stderr",
     "output_type": "stream",
     "text": [
      "/home/brian/anaconda3/lib/python3.7/site-packages/matplotlib/figure.py:2366: UserWarning: This figure includes Axes that are not compatible with tight_layout, so results might be incorrect.\n",
      "  warnings.warn(\"This figure includes Axes that are not compatible \"\n"
     ]
    },
    {
     "data": {
      "image/png": "[encoded data removed]",
      "text/plain": [
       "<Figure size 432x288 with 1 Axes>"
      ]
     },
     "metadata": {
      "needs_background": "light"
     },
     "output_type": "display_data"
    }
   ],
   "source": [
    "fig, ax = plt.subplots(1,1)\n",
    "fig.set_tight_layout(True)\n",
    "\n",
    "user_data.second_period_event_count.hist(ax=ax, bins=30)\n",
    "ax.set_xlabel('# of events')\n",
    "ax.set_ylabel('# of users')\n",
    "\n",
    "fig.savefig('figures/number_of_events_secondHalf2016.png')"
   ]
  },
  {
   "cell_type": "code",
   "execution_count": 7,
   "metadata": {},
   "outputs": [
    {
     "data": {
      "text/plain": [
       "array([[<matplotlib.axes._subplots.AxesSubplot object at 0x7f56d81dfcf8>,\n",
       "        <matplotlib.axes._subplots.AxesSubplot object at 0x7f56d3151710>],\n",
       "       [<matplotlib.axes._subplots.AxesSubplot object at 0x7f56d8677048>,\n",
       "        <matplotlib.axes._subplots.AxesSubplot object at 0x7f56d8692358>]],\n",
       "      dtype=object)"
      ]
     },
     "execution_count": 7,
     "metadata": {},
     "output_type": "execute_result"
    },
    {
     "data": {
      "image/png": "[encoded data removed]",
      "text/plain": [
       "<Figure size 432x288 with 4 Axes>"
      ]
     },
     "metadata": {
      "needs_background": "light"
     },
     "output_type": "display_data"
    }
   ],
   "source": [
    "user_data[['frequency', 'T', 'recency']].hist(bins=30)"
   ]
  },
  {
   "cell_type": "code",
   "execution_count": 8,
   "metadata": {},
   "outputs": [
    {
     "name": "stdout",
     "output_type": "stream",
     "text": [
      "21.83% of users churned in second period\n"
     ]
    }
   ],
   "source": [
    "print('{0}% of users churned in second period'.format(\n",
    "    np.round(np.sum(user_data.second_period_event_count < 1) / len(user_data) * 100, 2)))"
   ]
  },
  {
   "cell_type": "markdown",
   "metadata": {},
   "source": []
  },
  {
   "cell_type": "code",
   "execution_count": 9,
   "metadata": {},
   "outputs": [
    {
     "data": {
      "text/plain": [
       "Text(0, 0.5, '# of users')"
      ]
     },
     "execution_count": 9,
     "metadata": {},
     "output_type": "execute_result"
    },
    {
     "name": "stderr",
     "output_type": "stream",
     "text": [
      "/home/brian/anaconda3/lib/python3.7/site-packages/matplotlib/figure.py:2366: UserWarning: This figure includes Axes that are not compatible with tight_layout, so results might be incorrect.\n",
      "  warnings.warn(\"This figure includes Axes that are not compatible \"\n"
     ]
    },
    {
     "data": {
      "image/png": "[encoded data removed]",
      "text/plain": [
       "<Figure size 432x288 with 1 Axes>"
      ]
     },
     "metadata": {
      "needs_background": "light"
     },
     "output_type": "display_data"
    }
   ],
   "source": [
    "fig, ax = plt.subplots(1,1)\n",
    "fig.set_tight_layout(True)\n",
    "user_data.time_between_first_last_event.hist(ax=ax, bins=30)\n",
    "ax.set_xlabel('time between first and last event (days)')\n",
    "ax.set_ylabel('# of users')\n"
   ]
  },
  {
   "cell_type": "code",
   "execution_count": 10,
   "metadata": {},
   "outputs": [
    {
     "data": {
      "text/plain": [
       "<matplotlib.axes._subplots.AxesSubplot at 0x7f56d06896d8>"
      ]
     },
     "execution_count": 10,
     "metadata": {},
     "output_type": "execute_result"
    },
    {
     "data": {
      "image/png": "[encoded data removed]",
      "text/plain": [
       "<Figure size 432x288 with 1 Axes>"
      ]
     },
     "metadata": {
      "needs_background": "light"
     },
     "output_type": "display_data"
    }
   ],
   "source": [
    "user_data.last_event.hist()"
   ]
  },
  {
   "cell_type": "code",
   "execution_count": 11,
   "metadata": {},
   "outputs": [
    {
     "data": {
      "text/plain": [
       "<matplotlib.axes._subplots.AxesSubplot at 0x7f56d159d7b8>"
      ]
     },
     "execution_count": 11,
     "metadata": {},
     "output_type": "execute_result"
    },
    {
     "data": {
      "image/png": "[encoded data removed]",
      "text/plain": [
       "<Figure size 432x288 with 2 Axes>"
      ]
     },
     "metadata": {
      "needs_background": "light"
     },
     "output_type": "display_data"
    }
   ],
   "source": [
    "corr = user_data.corr()\n",
    "sns.heatmap(corr, \n",
    "            xticklabels=corr.columns.values,\n",
    "            yticklabels=corr.columns.values)"
   ]
  },
  {
   "cell_type": "code",
   "execution_count": 12,
   "metadata": {},
   "outputs": [
    {
     "data": {
      "text/plain": [
       "[<matplotlib.lines.Line2D at 0x7f56d314eba8>]"
      ]
     },
     "execution_count": 12,
     "metadata": {},
     "output_type": "execute_result"
    },
    {
     "data": {
      "image/png": "[encoded data removed]",
      "text/plain": [
       "<Figure size 432x288 with 1 Axes>"
      ]
     },
     "metadata": {
      "needs_background": "light"
     },
     "output_type": "display_data"
    }
   ],
   "source": [
    "fig, ax = plt.subplots(1,1)\n",
    "\n",
    "ax.plot(user_data.time_between_first_last_event, user_data.public_repos_count, 'k.')"
   ]
  },
  {
   "cell_type": "code",
   "execution_count": 13,
   "metadata": {},
   "outputs": [],
   "source": [
    "churned = user_data[user_data.second_period_event_count == 0]\n",
    "active = user_data[user_data.second_period_event_count > 0]"
   ]
  },
  {
   "cell_type": "code",
   "execution_count": 14,
   "metadata": {},
   "outputs": [
    {
     "name": "stdout",
     "output_type": "stream",
     "text": [
      "N churned 20588, N active 73722\n"
     ]
    }
   ],
   "source": [
    "print('N churned {0}, N active {1}'.format(len(churned), len(active)))"
   ]
  },
  {
   "cell_type": "code",
   "execution_count": 15,
   "metadata": {},
   "outputs": [],
   "source": [
    "def plot_active_VS_churned(predictor='frequency'):\n",
    "    fig, ax = plt.subplots(1,1)\n",
    "    fig.set_tight_layout(True)\n",
    "\n",
    "    ax.bar([1, 2], [churned[predictor].mean(), active[predictor].mean()], \n",
    "           yerr=[churned[predictor].std() / np.sqrt(len(churned)), \n",
    "                 churned[predictor].std() / np.sqrt(len(churned))])\n",
    "    ax.set_xticks([1, 2])\n",
    "    ax.set_xticklabels(['churned', 'active'])\n",
    "    ax.set_ylabel(predictor + ' (Jan-May 2016)')\n",
    "\n",
    "    fig.savefig('figures/' + predictor + '_churnedVSactive.png')"
   ]
  },
  {
   "cell_type": "code",
   "execution_count": 16,
   "metadata": {},
   "outputs": [
    {
     "name": "stderr",
     "output_type": "stream",
     "text": [
      "/home/brian/anaconda3/lib/python3.7/site-packages/matplotlib/figure.py:2366: UserWarning: This figure includes Axes that are not compatible with tight_layout, so results might be incorrect.\n",
      "  warnings.warn(\"This figure includes Axes that are not compatible \"\n"
     ]
    },
    {
     "data": {
      "image/png": "[encoded data removed]",
      "text/plain": [
       "<Figure size 432x288 with 1 Axes>"
      ]
     },
     "metadata": {
      "needs_background": "light"
     },
     "output_type": "display_data"
    }
   ],
   "source": [
    "plot_active_VS_churned('frequency')"
   ]
  },
  {
   "cell_type": "code",
   "execution_count": 17,
   "metadata": {},
   "outputs": [
    {
     "data": {
      "text/plain": [
       "<matplotlib.axes._subplots.AxesSubplot at 0x7f56d020ac18>"
      ]
     },
     "execution_count": 17,
     "metadata": {},
     "output_type": "execute_result"
    },
    {
     "data": {
      "image/png": "[encoded data removed]",
      "text/plain": [
       "<Figure size 432x288 with 1 Axes>"
      ]
     },
     "metadata": {
      "needs_background": "light"
     },
     "output_type": "display_data"
    }
   ],
   "source": [
    "active.frequency.hist(bins=30)"
   ]
  },
  {
   "cell_type": "code",
   "execution_count": 18,
   "metadata": {},
   "outputs": [
    {
     "data": {
      "text/plain": [
       "<matplotlib.axes._subplots.AxesSubplot at 0x7f56d0bbc208>"
      ]
     },
     "execution_count": 18,
     "metadata": {},
     "output_type": "execute_result"
    },
    {
     "data": {
      "image/png": "[encoded data removed]",
      "text/plain": [
       "<Figure size 432x288 with 1 Axes>"
      ]
     },
     "metadata": {
      "needs_background": "light"
     },
     "output_type": "display_data"
    }
   ],
   "source": [
    "churned.frequency.hist(bins=30)"
   ]
  },
  {
   "cell_type": "code",
   "execution_count": 19,
   "metadata": {},
   "outputs": [
    {
     "name": "stderr",
     "output_type": "stream",
     "text": [
      "/home/brian/anaconda3/lib/python3.7/site-packages/matplotlib/figure.py:2366: UserWarning: This figure includes Axes that are not compatible with tight_layout, so results might be incorrect.\n",
      "  warnings.warn(\"This figure includes Axes that are not compatible \"\n"
     ]
    },
    {
     "data": {
      "image/png": "[encoded data removed]",
      "text/plain": [
       "<Figure size 432x288 with 1 Axes>"
      ]
     },
     "metadata": {
      "needs_background": "light"
     },
     "output_type": "display_data"
    }
   ],
   "source": [
    "plot_active_VS_churned('public_repos_count')"
   ]
  },
  {
   "cell_type": "code",
   "execution_count": 20,
   "metadata": {},
   "outputs": [
    {
     "name": "stderr",
     "output_type": "stream",
     "text": [
      "/home/brian/anaconda3/lib/python3.7/site-packages/matplotlib/figure.py:2366: UserWarning: This figure includes Axes that are not compatible with tight_layout, so results might be incorrect.\n",
      "  warnings.warn(\"This figure includes Axes that are not compatible \"\n"
     ]
    },
    {
     "data": {
      "image/png": "[encoded data removed]",
      "text/plain": [
       "<Figure size 432x288 with 1 Axes>"
      ]
     },
     "metadata": {
      "needs_background": "light"
     },
     "output_type": "display_data"
    },
    {
     "name": "stderr",
     "output_type": "stream",
     "text": [
      "/home/brian/anaconda3/lib/python3.7/site-packages/matplotlib/figure.py:2366: UserWarning: This figure includes Axes that are not compatible with tight_layout, so results might be incorrect.\n",
      "  warnings.warn(\"This figure includes Axes that are not compatible \"\n"
     ]
    },
    {
     "data": {
      "image/png": "[encoded data removed]",
      "text/plain": [
       "<Figure size 432x288 with 1 Axes>"
      ]
     },
     "metadata": {
      "needs_background": "light"
     },
     "output_type": "display_data"
    }
   ],
   "source": [
    "plot_active_VS_churned('followers_count')\n",
    "plot_active_VS_churned('following_count')"
   ]
  },
  {
   "cell_type": "code",
   "execution_count": 21,
   "metadata": {},
   "outputs": [
    {
     "data": {
      "text/plain": [
       "[<matplotlib.lines.Line2D at 0x7f56d02136a0>]"
      ]
     },
     "execution_count": 21,
     "metadata": {},
     "output_type": "execute_result"
    },
    {
     "data": {
      "image/png": "[encoded data removed]",
      "text/plain": [
       "<Figure size 432x288 with 1 Axes>"
      ]
     },
     "metadata": {
      "needs_background": "light"
     },
     "output_type": "display_data"
    }
   ],
   "source": [
    "plt.plot(user_data.frequency, user_data.second_period_event_count, 'k.')"
   ]
  },
  {
   "cell_type": "code",
   "execution_count": null,
   "metadata": {},
   "outputs": [],
   "source": []
  }
 ],
 "metadata": {
  "kernelspec": {
   "display_name": "Python 3",
   "language": "python",
   "name": "python3"
  },
  "language_info": {
   "codemirror_mode": {
    "name": "ipython",
    "version": 3
   },
   "file_extension": ".py",
   "mimetype": "text/x-python",
   "name": "python",
   "nbconvert_exporter": "python",
   "pygments_lexer": "ipython3",
   "version": "3.7.2"
  }
 },
 "nbformat": 4,
 "nbformat_minor": 2
}

{
 "cells": [
  {
   "cell_type": "markdown",
   "metadata": {},
   "source": [
    "[The challenges of modeling churn](https://neilpatel.com/blog/modeling-churn/)\n",
    "\n",
    "[Why churn analysis is valuable for companies](https://www.datascience.com/blog/what-is-a-churn-analysis-and-why-is-it-valuable-for-business)\n",
    "\n",
    "[Git social](https://github.com/VinaySagar92/Git-Social)\n",
    "\n",
    "[Azure revenue](https://www.forbes.com/sites/bobevans1/2018/10/29/1-microsoft-beats-amazon-in-12-month-cloud-revenue-26-7-billion-to-23-4-billion-ibm-third/#2c9e12912bf1)\n",
    "\n",
    "[Why did Microsoft pay so much for GitHub](https://hbr.org/2018/06/why-microsoft-is-willing-to-pay-so-much-for-github)\n"
   ]
  },
  {
   "cell_type": "code",
   "execution_count": 1,
   "metadata": {},
   "outputs": [],
   "source": [
    "import pandas as pd\n",
    "import numpy as np\n",
    "import matplotlib.pylab as plt\n",
    "\n",
    "import helper as h\n"
   ]
  },
  {
   "cell_type": "markdown",
   "metadata": {},
   "source": [
    "[Group each in BigQuery](https://stackoverflow.com/questions/22600299/understanding-resources-exceeded-during-query-execution-with-group-each-by-in)"
   ]
  },
  {
   "cell_type": "code",
   "execution_count": 2,
   "metadata": {},
   "outputs": [
    {
     "data": {
      "text/html": [
       "<div>\n",
       "<style scoped>\n",
       "    .dataframe tbody tr th:only-of-type {\n",
       "        vertical-align: middle;\n",
       "    }\n",
       "\n",
       "    .dataframe tbody tr th {\n",
       "        vertical-align: top;\n",
       "    }\n",
       "\n",
       "    .dataframe thead th {\n",
       "        text-align: right;\n",
       "    }\n",
       "</style>\n",
       "<table border=\"1\" class=\"dataframe\">\n",
       "  <thead>\n",
       "    <tr style=\"text-align: right;\">\n",
       "      <th></th>\n",
       "      <th>actor</th>\n",
       "      <th>event_count</th>\n",
       "      <th>last_event</th>\n",
       "      <th>first_event</th>\n",
       "    </tr>\n",
       "  </thead>\n",
       "  <tbody>\n",
       "    <tr>\n",
       "      <th>0</th>\n",
       "      <td>djtaylor</td>\n",
       "      <td>264</td>\n",
       "      <td>2016-06-01 19:41:53 UTC</td>\n",
       "      <td>2016-01-01 23:18:08 UTC</td>\n",
       "    </tr>\n",
       "    <tr>\n",
       "      <th>1</th>\n",
       "      <td>strarsis</td>\n",
       "      <td>530</td>\n",
       "      <td>2016-06-01 23:52:40 UTC</td>\n",
       "      <td>2016-01-01 00:20:39 UTC</td>\n",
       "    </tr>\n",
       "    <tr>\n",
       "      <th>2</th>\n",
       "      <td>silenteh</td>\n",
       "      <td>94</td>\n",
       "      <td>2016-05-12 21:05:13 UTC</td>\n",
       "      <td>2016-01-01 21:09:52 UTC</td>\n",
       "    </tr>\n",
       "    <tr>\n",
       "      <th>3</th>\n",
       "      <td>PlagueHO</td>\n",
       "      <td>2851</td>\n",
       "      <td>2016-06-01 08:58:35 UTC</td>\n",
       "      <td>2016-01-01 00:18:17 UTC</td>\n",
       "    </tr>\n",
       "    <tr>\n",
       "      <th>4</th>\n",
       "      <td>zjhzxhz</td>\n",
       "      <td>461</td>\n",
       "      <td>2016-06-01 11:53:58 UTC</td>\n",
       "      <td>2016-01-01 14:00:52 UTC</td>\n",
       "    </tr>\n",
       "  </tbody>\n",
       "</table>\n",
       "</div>"
      ],
      "text/plain": [
       "      actor  event_count               last_event              first_event\n",
       "0  djtaylor          264  2016-06-01 19:41:53 UTC  2016-01-01 23:18:08 UTC\n",
       "1  strarsis          530  2016-06-01 23:52:40 UTC  2016-01-01 00:20:39 UTC\n",
       "2  silenteh           94  2016-05-12 21:05:13 UTC  2016-01-01 21:09:52 UTC\n",
       "3  PlagueHO         2851  2016-06-01 08:58:35 UTC  2016-01-01 00:18:17 UTC\n",
       "4   zjhzxhz          461  2016-06-01 11:53:58 UTC  2016-01-01 14:00:52 UTC"
      ]
     },
     "execution_count": 2,
     "metadata": {},
     "output_type": "execute_result"
    }
   ],
   "source": [
    "df = pd.read_csv('results_2016_01_01_2016_06_01.csv')\n",
    "df.head()"
   ]
  },
  {
   "cell_type": "code",
   "execution_count": 3,
   "metadata": {},
   "outputs": [
    {
     "data": {
      "text/plain": [
       "actor                                     object\n",
       "event_count                                int64\n",
       "last_event                        datetime64[ns]\n",
       "first_event                       datetime64[ns]\n",
       "time_between_first_last_event    timedelta64[ns]\n",
       "dtype: object"
      ]
     },
     "execution_count": 3,
     "metadata": {},
     "output_type": "execute_result"
    }
   ],
   "source": [
    "df = df[df.event_count > 1]\n",
    "df['last_event'] = pd.to_datetime(df.last_event)\n",
    "df['first_event'] = pd.to_datetime(df.first_event)\n",
    "df['time_between_first_last_event'] = df.last_event - df.first_event\n",
    "df.dtypes"
   ]
  },
  {
   "cell_type": "code",
   "execution_count": 4,
   "metadata": {},
   "outputs": [
    {
     "data": {
      "text/html": [
       "<div>\n",
       "<style scoped>\n",
       "    .dataframe tbody tr th:only-of-type {\n",
       "        vertical-align: middle;\n",
       "    }\n",
       "\n",
       "    .dataframe tbody tr th {\n",
       "        vertical-align: top;\n",
       "    }\n",
       "\n",
       "    .dataframe thead th {\n",
       "        text-align: right;\n",
       "    }\n",
       "</style>\n",
       "<table border=\"1\" class=\"dataframe\">\n",
       "  <thead>\n",
       "    <tr style=\"text-align: right;\">\n",
       "      <th></th>\n",
       "      <th>event_count</th>\n",
       "      <th>time_between_first_last_event</th>\n",
       "    </tr>\n",
       "  </thead>\n",
       "  <tbody>\n",
       "    <tr>\n",
       "      <th>count</th>\n",
       "      <td>3.049652e+06</td>\n",
       "      <td>3049652</td>\n",
       "    </tr>\n",
       "    <tr>\n",
       "      <th>mean</th>\n",
       "      <td>4.273135e+01</td>\n",
       "      <td>50 days 01:39:10.175534</td>\n",
       "    </tr>\n",
       "    <tr>\n",
       "      <th>std</th>\n",
       "      <td>2.545855e+03</td>\n",
       "      <td>53 days 01:37:02.667868</td>\n",
       "    </tr>\n",
       "    <tr>\n",
       "      <th>min</th>\n",
       "      <td>2.000000e+00</td>\n",
       "      <td>0 days 00:00:00</td>\n",
       "    </tr>\n",
       "    <tr>\n",
       "      <th>25%</th>\n",
       "      <td>3.000000e+00</td>\n",
       "      <td>0 days 01:58:16.750000</td>\n",
       "    </tr>\n",
       "    <tr>\n",
       "      <th>50%</th>\n",
       "      <td>9.000000e+00</td>\n",
       "      <td>28 days 10:56:55</td>\n",
       "    </tr>\n",
       "    <tr>\n",
       "      <th>75%</th>\n",
       "      <td>2.700000e+01</td>\n",
       "      <td>97 days 20:32:41.250000</td>\n",
       "    </tr>\n",
       "    <tr>\n",
       "      <th>max</th>\n",
       "      <td>3.954328e+06</td>\n",
       "      <td>152 days 23:59:57</td>\n",
       "    </tr>\n",
       "  </tbody>\n",
       "</table>\n",
       "</div>"
      ],
      "text/plain": [
       "        event_count time_between_first_last_event\n",
       "count  3.049652e+06                       3049652\n",
       "mean   4.273135e+01       50 days 01:39:10.175534\n",
       "std    2.545855e+03       53 days 01:37:02.667868\n",
       "min    2.000000e+00               0 days 00:00:00\n",
       "25%    3.000000e+00        0 days 01:58:16.750000\n",
       "50%    9.000000e+00              28 days 10:56:55\n",
       "75%    2.700000e+01       97 days 20:32:41.250000\n",
       "max    3.954328e+06             152 days 23:59:57"
      ]
     },
     "execution_count": 4,
     "metadata": {},
     "output_type": "execute_result"
    }
   ],
   "source": [
    "df.describe()"
   ]
  },
  {
   "cell_type": "code",
   "execution_count": 5,
   "metadata": {},
   "outputs": [
    {
     "name": "stderr",
     "output_type": "stream",
     "text": [
      "/home/brian/anaconda3/lib/python3.7/site-packages/matplotlib/figure.py:2366: UserWarning: This figure includes Axes that are not compatible with tight_layout, so results might be incorrect.\n",
      "  warnings.warn(\"This figure includes Axes that are not compatible \"\n"
     ]
    },
    {
     "data": {
      "image/png": "[encoded data removed]",
      "text/plain": [
       "<Figure size 432x288 with 1 Axes>"
      ]
     },
     "metadata": {
      "needs_background": "light"
     },
     "output_type": "display_data"
    }
   ],
   "source": [
    "fig, ax = plt.subplots(1,1)\n",
    "fig.set_tight_layout(True)\n",
    "\n",
    "df.event_count.apply(np.log10).hist(ax=ax, bins=30)\n",
    "ax.set_xticklabels(['', '10', '100', '1,000', '10,000'])\n",
    "ax.set_xlabel('# of events')\n",
    "ax.set_ylabel('# of users')\n",
    "\n",
    "fig.savefig('number_of_events_firstHalf2016.png')"
   ]
  },
  {
   "cell_type": "code",
   "execution_count": 6,
   "metadata": {},
   "outputs": [
    {
     "data": {
      "text/plain": [
       "Text(0, 0.5, '# of users')"
      ]
     },
     "execution_count": 6,
     "metadata": {},
     "output_type": "execute_result"
    },
    {
     "name": "stderr",
     "output_type": "stream",
     "text": [
      "/home/brian/anaconda3/lib/python3.7/site-packages/matplotlib/figure.py:2366: UserWarning: This figure includes Axes that are not compatible with tight_layout, so results might be incorrect.\n",
      "  warnings.warn(\"This figure includes Axes that are not compatible \"\n"
     ]
    },
    {
     "data": {
      "image/png": "[encoded data removed]",
      "text/plain": [
       "<Figure size 432x288 with 1 Axes>"
      ]
     },
     "metadata": {
      "needs_background": "light"
     },
     "output_type": "display_data"
    }
   ],
   "source": [
    "t = (df.time_between_first_last_event / pd.Timedelta(days = 1))\n",
    "\n",
    "fig, ax = plt.subplots(1,1)\n",
    "fig.set_tight_layout(True)\n",
    "t.hist(ax=ax, bins=30)\n",
    "ax.set_xlabel('time between first and last event (days)')\n",
    "ax.set_ylabel('# of users')\n"
   ]
  },
  {
   "cell_type": "code",
   "execution_count": 7,
   "metadata": {},
   "outputs": [
    {
     "data": {
      "text/plain": [
       "<matplotlib.axes._subplots.AxesSubplot at 0x7fa09618cf28>"
      ]
     },
     "execution_count": 7,
     "metadata": {},
     "output_type": "execute_result"
    },
    {
     "data": {
      "image/png": "[encoded data removed]",
      "text/plain": [
       "<Figure size 432x288 with 1 Axes>"
      ]
     },
     "metadata": {
      "needs_background": "light"
     },
     "output_type": "display_data"
    }
   ],
   "source": [
    "df.last_event.hist()"
   ]
  },
  {
   "cell_type": "code",
   "execution_count": 8,
   "metadata": {},
   "outputs": [
    {
     "data": {
      "text/html": [
       "<div>\n",
       "<style scoped>\n",
       "    .dataframe tbody tr th:only-of-type {\n",
       "        vertical-align: middle;\n",
       "    }\n",
       "\n",
       "    .dataframe tbody tr th {\n",
       "        vertical-align: top;\n",
       "    }\n",
       "\n",
       "    .dataframe thead th {\n",
       "        text-align: right;\n",
       "    }\n",
       "</style>\n",
       "<table border=\"1\" class=\"dataframe\">\n",
       "  <thead>\n",
       "    <tr style=\"text-align: right;\">\n",
       "      <th></th>\n",
       "      <th>actor</th>\n",
       "      <th>event_count</th>\n",
       "      <th>last_event</th>\n",
       "      <th>first_event</th>\n",
       "      <th>time_between_first_last_event</th>\n",
       "    </tr>\n",
       "  </thead>\n",
       "  <tbody>\n",
       "    <tr>\n",
       "      <th>3699847</th>\n",
       "      <td>nick076</td>\n",
       "      <td>29</td>\n",
       "      <td>2016-06-01 13:46:22</td>\n",
       "      <td>2016-05-12 09:05:34</td>\n",
       "      <td>20 days 04:40:48</td>\n",
       "    </tr>\n",
       "    <tr>\n",
       "      <th>3699848</th>\n",
       "      <td>irqbank</td>\n",
       "      <td>29</td>\n",
       "      <td>2016-05-23 07:31:12</td>\n",
       "      <td>2016-05-15 13:14:22</td>\n",
       "      <td>7 days 18:16:50</td>\n",
       "    </tr>\n",
       "    <tr>\n",
       "      <th>3699849</th>\n",
       "      <td>fuyunfei</td>\n",
       "      <td>29</td>\n",
       "      <td>2016-05-26 15:53:01</td>\n",
       "      <td>2016-05-17 17:21:04</td>\n",
       "      <td>8 days 22:31:57</td>\n",
       "    </tr>\n",
       "    <tr>\n",
       "      <th>3699850</th>\n",
       "      <td>1988wj</td>\n",
       "      <td>29</td>\n",
       "      <td>2016-05-26 12:45:45</td>\n",
       "      <td>2016-05-25 10:40:11</td>\n",
       "      <td>1 days 02:05:34</td>\n",
       "    </tr>\n",
       "    <tr>\n",
       "      <th>3699851</th>\n",
       "      <td>Harikath</td>\n",
       "      <td>29</td>\n",
       "      <td>2016-05-26 19:41:10</td>\n",
       "      <td>2016-05-25 15:50:13</td>\n",
       "      <td>1 days 03:50:57</td>\n",
       "    </tr>\n",
       "  </tbody>\n",
       "</table>\n",
       "</div>"
      ],
      "text/plain": [
       "            actor  event_count          last_event         first_event  \\\n",
       "3699847   nick076           29 2016-06-01 13:46:22 2016-05-12 09:05:34   \n",
       "3699848   irqbank           29 2016-05-23 07:31:12 2016-05-15 13:14:22   \n",
       "3699849  fuyunfei           29 2016-05-26 15:53:01 2016-05-17 17:21:04   \n",
       "3699850    1988wj           29 2016-05-26 12:45:45 2016-05-25 10:40:11   \n",
       "3699851  Harikath           29 2016-05-26 19:41:10 2016-05-25 15:50:13   \n",
       "\n",
       "        time_between_first_last_event  \n",
       "3699847              20 days 04:40:48  \n",
       "3699848               7 days 18:16:50  \n",
       "3699849               8 days 22:31:57  \n",
       "3699850               1 days 02:05:34  \n",
       "3699851               1 days 03:50:57  "
      ]
     },
     "execution_count": 8,
     "metadata": {},
     "output_type": "execute_result"
    }
   ],
   "source": [
    "df['actor'] = df.actor.astype(str)\n",
    "df.tail()"
   ]
  },
  {
   "cell_type": "code",
   "execution_count": 9,
   "metadata": {},
   "outputs": [],
   "source": [
    "users = pd.read_csv('user_batch_5000_10000.csv', index_col=0)"
   ]
  },
  {
   "cell_type": "code",
   "execution_count": 10,
   "metadata": {},
   "outputs": [
    {
     "data": {
      "text/html": [
       "<div>\n",
       "<style scoped>\n",
       "    .dataframe tbody tr th:only-of-type {\n",
       "        vertical-align: middle;\n",
       "    }\n",
       "\n",
       "    .dataframe tbody tr th {\n",
       "        vertical-align: top;\n",
       "    }\n",
       "\n",
       "    .dataframe thead th {\n",
       "        text-align: right;\n",
       "    }\n",
       "</style>\n",
       "<table border=\"1\" class=\"dataframe\">\n",
       "  <thead>\n",
       "    <tr style=\"text-align: right;\">\n",
       "      <th></th>\n",
       "      <th>login</th>\n",
       "      <th>followers_count</th>\n",
       "      <th>following_count</th>\n",
       "      <th>bio</th>\n",
       "      <th>blog</th>\n",
       "      <th>company</th>\n",
       "      <th>created_at</th>\n",
       "      <th>public_repos_count</th>\n",
       "      <th>public_gists_count</th>\n",
       "      <th>hireable</th>\n",
       "      <th>updated_at</th>\n",
       "      <th>event_count</th>\n",
       "      <th>last_event</th>\n",
       "      <th>first_event</th>\n",
       "      <th>time_between_first_last_event</th>\n",
       "    </tr>\n",
       "  </thead>\n",
       "  <tbody>\n",
       "    <tr>\n",
       "      <th>000001a</th>\n",
       "      <td>000001a</td>\n",
       "      <td>0</td>\n",
       "      <td>0</td>\n",
       "      <td>NaN</td>\n",
       "      <td>NaN</td>\n",
       "      <td>NaN</td>\n",
       "      <td>2016-05-18 19:56:42+00:00</td>\n",
       "      <td>0</td>\n",
       "      <td>0</td>\n",
       "      <td>NaN</td>\n",
       "      <td>2016-07-20 08:24:12+00:00</td>\n",
       "      <td>2</td>\n",
       "      <td>2016-05-18 20:11:30</td>\n",
       "      <td>2016-05-18 20:01:08</td>\n",
       "      <td>0 days 00:10:22.000000000</td>\n",
       "    </tr>\n",
       "    <tr>\n",
       "      <th>016Nojr</th>\n",
       "      <td>016Nojr</td>\n",
       "      <td>1</td>\n",
       "      <td>0</td>\n",
       "      <td>NaN</td>\n",
       "      <td>NaN</td>\n",
       "      <td>NaN</td>\n",
       "      <td>2014-07-17 15:25:39+00:00</td>\n",
       "      <td>0</td>\n",
       "      <td>19</td>\n",
       "      <td>NaN</td>\n",
       "      <td>2019-01-13 17:32:41+00:00</td>\n",
       "      <td>5</td>\n",
       "      <td>2016-03-19 11:56:46</td>\n",
       "      <td>2016-01-20 12:13:02</td>\n",
       "      <td>58 days 23:43:44.000000000</td>\n",
       "    </tr>\n",
       "    <tr>\n",
       "      <th>0xmalloc</th>\n",
       "      <td>0xmalloc</td>\n",
       "      <td>50</td>\n",
       "      <td>12</td>\n",
       "      <td>Bio Bio Bio</td>\n",
       "      <td>http://weibo.com/zealotyin</td>\n",
       "      <td>是非成败转头空，青山依旧在，几度夕阳红;万丈红尘三杯酒，千秋大业一壶茶。</td>\n",
       "      <td>2013-01-03 08:43:32+00:00</td>\n",
       "      <td>19</td>\n",
       "      <td>0</td>\n",
       "      <td>True</td>\n",
       "      <td>2018-10-15 12:10:06+00:00</td>\n",
       "      <td>11</td>\n",
       "      <td>2016-05-03 02:41:51</td>\n",
       "      <td>2016-05-03 02:41:51</td>\n",
       "      <td>0 days 00:00:00.000000000</td>\n",
       "    </tr>\n",
       "    <tr>\n",
       "      <th>13MaxG</th>\n",
       "      <td>13MaxG</td>\n",
       "      <td>1</td>\n",
       "      <td>0</td>\n",
       "      <td>NaN</td>\n",
       "      <td>http://1618.pl</td>\n",
       "      <td>NaN</td>\n",
       "      <td>2011-06-25 15:04:00+00:00</td>\n",
       "      <td>6</td>\n",
       "      <td>0</td>\n",
       "      <td>True</td>\n",
       "      <td>2018-11-24 18:54:54+00:00</td>\n",
       "      <td>11</td>\n",
       "      <td>2016-02-11 14:13:45</td>\n",
       "      <td>2016-02-06 10:19:33</td>\n",
       "      <td>5 days 03:54:12.000000000</td>\n",
       "    </tr>\n",
       "    <tr>\n",
       "      <th>18259064372</th>\n",
       "      <td>18259064372</td>\n",
       "      <td>0</td>\n",
       "      <td>0</td>\n",
       "      <td>NaN</td>\n",
       "      <td>NaN</td>\n",
       "      <td>NaN</td>\n",
       "      <td>2015-10-19 05:31:05+00:00</td>\n",
       "      <td>5</td>\n",
       "      <td>0</td>\n",
       "      <td>NaN</td>\n",
       "      <td>2018-04-10 03:20:35+00:00</td>\n",
       "      <td>3</td>\n",
       "      <td>2016-05-09 04:16:45</td>\n",
       "      <td>2016-03-22 01:14:25</td>\n",
       "      <td>48 days 03:02:20.000000000</td>\n",
       "    </tr>\n",
       "  </tbody>\n",
       "</table>\n",
       "</div>"
      ],
      "text/plain": [
       "                   login  followers_count  following_count          bio  \\\n",
       "000001a          000001a                0                0          NaN   \n",
       "016Nojr          016Nojr                1                0          NaN   \n",
       "0xmalloc        0xmalloc               50               12  Bio Bio Bio   \n",
       "13MaxG            13MaxG                1                0          NaN   \n",
       "18259064372  18259064372                0                0          NaN   \n",
       "\n",
       "                                   blog                               company  \\\n",
       "000001a                             NaN                                   NaN   \n",
       "016Nojr                             NaN                                   NaN   \n",
       "0xmalloc     http://weibo.com/zealotyin  是非成败转头空，青山依旧在，几度夕阳红;万丈红尘三杯酒，千秋大业一壶茶。   \n",
       "13MaxG                   http://1618.pl                                   NaN   \n",
       "18259064372                         NaN                                   NaN   \n",
       "\n",
       "                            created_at  public_repos_count  \\\n",
       "000001a      2016-05-18 19:56:42+00:00                   0   \n",
       "016Nojr      2014-07-17 15:25:39+00:00                   0   \n",
       "0xmalloc     2013-01-03 08:43:32+00:00                  19   \n",
       "13MaxG       2011-06-25 15:04:00+00:00                   6   \n",
       "18259064372  2015-10-19 05:31:05+00:00                   5   \n",
       "\n",
       "             public_gists_count hireable                 updated_at  \\\n",
       "000001a                       0      NaN  2016-07-20 08:24:12+00:00   \n",
       "016Nojr                      19      NaN  2019-01-13 17:32:41+00:00   \n",
       "0xmalloc                      0     True  2018-10-15 12:10:06+00:00   \n",
       "13MaxG                        0     True  2018-11-24 18:54:54+00:00   \n",
       "18259064372                   0      NaN  2018-04-10 03:20:35+00:00   \n",
       "\n",
       "             event_count           last_event          first_event  \\\n",
       "000001a                2  2016-05-18 20:11:30  2016-05-18 20:01:08   \n",
       "016Nojr                5  2016-03-19 11:56:46  2016-01-20 12:13:02   \n",
       "0xmalloc              11  2016-05-03 02:41:51  2016-05-03 02:41:51   \n",
       "13MaxG                11  2016-02-11 14:13:45  2016-02-06 10:19:33   \n",
       "18259064372            3  2016-05-09 04:16:45  2016-03-22 01:14:25   \n",
       "\n",
       "            time_between_first_last_event  \n",
       "000001a         0 days 00:10:22.000000000  \n",
       "016Nojr        58 days 23:43:44.000000000  \n",
       "0xmalloc        0 days 00:00:00.000000000  \n",
       "13MaxG          5 days 03:54:12.000000000  \n",
       "18259064372    48 days 03:02:20.000000000  "
      ]
     },
     "execution_count": 10,
     "metadata": {},
     "output_type": "execute_result"
    }
   ],
   "source": [
    "users.head()"
   ]
  },
  {
   "cell_type": "code",
   "execution_count": 11,
   "metadata": {},
   "outputs": [],
   "source": [
    "users['blog'] = users.blog.apply(lambda x: 1 if x != '' else 0)\n",
    "users['company'] = users.company.apply(lambda x: 1 if x != '' else 0)\n",
    "users['bio'] = users.bio.apply(lambda x: 1 if x != '' else 0)"
   ]
  },
  {
   "cell_type": "code",
   "execution_count": 12,
   "metadata": {},
   "outputs": [
    {
     "data": {
      "text/html": [
       "<div>\n",
       "<style scoped>\n",
       "    .dataframe tbody tr th:only-of-type {\n",
       "        vertical-align: middle;\n",
       "    }\n",
       "\n",
       "    .dataframe tbody tr th {\n",
       "        vertical-align: top;\n",
       "    }\n",
       "\n",
       "    .dataframe thead th {\n",
       "        text-align: right;\n",
       "    }\n",
       "</style>\n",
       "<table border=\"1\" class=\"dataframe\">\n",
       "  <thead>\n",
       "    <tr style=\"text-align: right;\">\n",
       "      <th></th>\n",
       "      <th>login</th>\n",
       "      <th>followers_count</th>\n",
       "      <th>following_count</th>\n",
       "      <th>bio</th>\n",
       "      <th>blog</th>\n",
       "      <th>company</th>\n",
       "      <th>created_at</th>\n",
       "      <th>public_repos_count</th>\n",
       "      <th>public_gists_count</th>\n",
       "      <th>hireable</th>\n",
       "      <th>updated_at</th>\n",
       "      <th>event_count</th>\n",
       "      <th>last_event</th>\n",
       "      <th>first_event</th>\n",
       "      <th>time_between_first_last_event</th>\n",
       "    </tr>\n",
       "  </thead>\n",
       "  <tbody>\n",
       "    <tr>\n",
       "      <th>000001a</th>\n",
       "      <td>000001a</td>\n",
       "      <td>0</td>\n",
       "      <td>0</td>\n",
       "      <td>1</td>\n",
       "      <td>1</td>\n",
       "      <td>1</td>\n",
       "      <td>2016-05-18 19:56:42+00:00</td>\n",
       "      <td>0</td>\n",
       "      <td>0</td>\n",
       "      <td>NaN</td>\n",
       "      <td>2016-07-20 08:24:12+00:00</td>\n",
       "      <td>2</td>\n",
       "      <td>2016-05-18 20:11:30</td>\n",
       "      <td>2016-05-18 20:01:08</td>\n",
       "      <td>0 days 00:10:22.000000000</td>\n",
       "    </tr>\n",
       "    <tr>\n",
       "      <th>016Nojr</th>\n",
       "      <td>016Nojr</td>\n",
       "      <td>1</td>\n",
       "      <td>0</td>\n",
       "      <td>1</td>\n",
       "      <td>1</td>\n",
       "      <td>1</td>\n",
       "      <td>2014-07-17 15:25:39+00:00</td>\n",
       "      <td>0</td>\n",
       "      <td>19</td>\n",
       "      <td>NaN</td>\n",
       "      <td>2019-01-13 17:32:41+00:00</td>\n",
       "      <td>5</td>\n",
       "      <td>2016-03-19 11:56:46</td>\n",
       "      <td>2016-01-20 12:13:02</td>\n",
       "      <td>58 days 23:43:44.000000000</td>\n",
       "    </tr>\n",
       "    <tr>\n",
       "      <th>0xmalloc</th>\n",
       "      <td>0xmalloc</td>\n",
       "      <td>50</td>\n",
       "      <td>12</td>\n",
       "      <td>1</td>\n",
       "      <td>1</td>\n",
       "      <td>1</td>\n",
       "      <td>2013-01-03 08:43:32+00:00</td>\n",
       "      <td>19</td>\n",
       "      <td>0</td>\n",
       "      <td>True</td>\n",
       "      <td>2018-10-15 12:10:06+00:00</td>\n",
       "      <td>11</td>\n",
       "      <td>2016-05-03 02:41:51</td>\n",
       "      <td>2016-05-03 02:41:51</td>\n",
       "      <td>0 days 00:00:00.000000000</td>\n",
       "    </tr>\n",
       "    <tr>\n",
       "      <th>13MaxG</th>\n",
       "      <td>13MaxG</td>\n",
       "      <td>1</td>\n",
       "      <td>0</td>\n",
       "      <td>1</td>\n",
       "      <td>1</td>\n",
       "      <td>1</td>\n",
       "      <td>2011-06-25 15:04:00+00:00</td>\n",
       "      <td>6</td>\n",
       "      <td>0</td>\n",
       "      <td>True</td>\n",
       "      <td>2018-11-24 18:54:54+00:00</td>\n",
       "      <td>11</td>\n",
       "      <td>2016-02-11 14:13:45</td>\n",
       "      <td>2016-02-06 10:19:33</td>\n",
       "      <td>5 days 03:54:12.000000000</td>\n",
       "    </tr>\n",
       "    <tr>\n",
       "      <th>18259064372</th>\n",
       "      <td>18259064372</td>\n",
       "      <td>0</td>\n",
       "      <td>0</td>\n",
       "      <td>1</td>\n",
       "      <td>1</td>\n",
       "      <td>1</td>\n",
       "      <td>2015-10-19 05:31:05+00:00</td>\n",
       "      <td>5</td>\n",
       "      <td>0</td>\n",
       "      <td>NaN</td>\n",
       "      <td>2018-04-10 03:20:35+00:00</td>\n",
       "      <td>3</td>\n",
       "      <td>2016-05-09 04:16:45</td>\n",
       "      <td>2016-03-22 01:14:25</td>\n",
       "      <td>48 days 03:02:20.000000000</td>\n",
       "    </tr>\n",
       "  </tbody>\n",
       "</table>\n",
       "</div>"
      ],
      "text/plain": [
       "                   login  followers_count  following_count  bio  blog  \\\n",
       "000001a          000001a                0                0    1     1   \n",
       "016Nojr          016Nojr                1                0    1     1   \n",
       "0xmalloc        0xmalloc               50               12    1     1   \n",
       "13MaxG            13MaxG                1                0    1     1   \n",
       "18259064372  18259064372                0                0    1     1   \n",
       "\n",
       "             company                 created_at  public_repos_count  \\\n",
       "000001a            1  2016-05-18 19:56:42+00:00                   0   \n",
       "016Nojr            1  2014-07-17 15:25:39+00:00                   0   \n",
       "0xmalloc           1  2013-01-03 08:43:32+00:00                  19   \n",
       "13MaxG             1  2011-06-25 15:04:00+00:00                   6   \n",
       "18259064372        1  2015-10-19 05:31:05+00:00                   5   \n",
       "\n",
       "             public_gists_count hireable                 updated_at  \\\n",
       "000001a                       0      NaN  2016-07-20 08:24:12+00:00   \n",
       "016Nojr                      19      NaN  2019-01-13 17:32:41+00:00   \n",
       "0xmalloc                      0     True  2018-10-15 12:10:06+00:00   \n",
       "13MaxG                        0     True  2018-11-24 18:54:54+00:00   \n",
       "18259064372                   0      NaN  2018-04-10 03:20:35+00:00   \n",
       "\n",
       "             event_count           last_event          first_event  \\\n",
       "000001a                2  2016-05-18 20:11:30  2016-05-18 20:01:08   \n",
       "016Nojr                5  2016-03-19 11:56:46  2016-01-20 12:13:02   \n",
       "0xmalloc              11  2016-05-03 02:41:51  2016-05-03 02:41:51   \n",
       "13MaxG                11  2016-02-11 14:13:45  2016-02-06 10:19:33   \n",
       "18259064372            3  2016-05-09 04:16:45  2016-03-22 01:14:25   \n",
       "\n",
       "            time_between_first_last_event  \n",
       "000001a         0 days 00:10:22.000000000  \n",
       "016Nojr        58 days 23:43:44.000000000  \n",
       "0xmalloc        0 days 00:00:00.000000000  \n",
       "13MaxG          5 days 03:54:12.000000000  \n",
       "18259064372    48 days 03:02:20.000000000  "
      ]
     },
     "execution_count": 12,
     "metadata": {},
     "output_type": "execute_result"
    }
   ],
   "source": [
    "users.head()"
   ]
  },
  {
   "cell_type": "code",
   "execution_count": 13,
   "metadata": {},
   "outputs": [
    {
     "data": {
      "text/html": [
       "<div>\n",
       "<style scoped>\n",
       "    .dataframe tbody tr th:only-of-type {\n",
       "        vertical-align: middle;\n",
       "    }\n",
       "\n",
       "    .dataframe tbody tr th {\n",
       "        vertical-align: top;\n",
       "    }\n",
       "\n",
       "    .dataframe thead th {\n",
       "        text-align: right;\n",
       "    }\n",
       "</style>\n",
       "<table border=\"1\" class=\"dataframe\">\n",
       "  <thead>\n",
       "    <tr style=\"text-align: right;\">\n",
       "      <th></th>\n",
       "      <th>followers_count</th>\n",
       "      <th>event_count</th>\n",
       "      <th>public_repos_count</th>\n",
       "    </tr>\n",
       "  </thead>\n",
       "  <tbody>\n",
       "    <tr>\n",
       "      <th>followers_count</th>\n",
       "      <td>1.000000</td>\n",
       "      <td>0.166076</td>\n",
       "      <td>0.275966</td>\n",
       "    </tr>\n",
       "    <tr>\n",
       "      <th>event_count</th>\n",
       "      <td>0.166076</td>\n",
       "      <td>1.000000</td>\n",
       "      <td>0.148303</td>\n",
       "    </tr>\n",
       "    <tr>\n",
       "      <th>public_repos_count</th>\n",
       "      <td>0.275966</td>\n",
       "      <td>0.148303</td>\n",
       "      <td>1.000000</td>\n",
       "    </tr>\n",
       "  </tbody>\n",
       "</table>\n",
       "</div>"
      ],
      "text/plain": [
       "                    followers_count  event_count  public_repos_count\n",
       "followers_count            1.000000     0.166076            0.275966\n",
       "event_count                0.166076     1.000000            0.148303\n",
       "public_repos_count         0.275966     0.148303            1.000000"
      ]
     },
     "execution_count": 13,
     "metadata": {},
     "output_type": "execute_result"
    }
   ],
   "source": [
    "#fig, ax = plt.plot(dd.followers_count, dd.last_event)\n",
    "users[['followers_count', 'last_event', 'event_count', 'public_repos_count']].corr()"
   ]
  },
  {
   "cell_type": "code",
   "execution_count": 14,
   "metadata": {},
   "outputs": [
    {
     "data": {
      "text/plain": [
       "[<matplotlib.lines.Line2D at 0x7fa095e607f0>]"
      ]
     },
     "execution_count": 14,
     "metadata": {},
     "output_type": "execute_result"
    },
    {
     "data": {
      "image/png": "[encoded data removed]",
      "text/plain": [
       "<Figure size 432x288 with 1 Axes>"
      ]
     },
     "metadata": {
      "needs_background": "light"
     },
     "output_type": "display_data"
    }
   ],
   "source": [
    "fig, ax = plt.subplots(1,1)\n",
    "\n",
    "t = users.time_between_first_last_event / pd.Timedelta(days = 1)\n",
    "\n",
    "ax.plot(t, users.public_repos_count, 'k.')"
   ]
  },
  {
   "cell_type": "code",
   "execution_count": 15,
   "metadata": {},
   "outputs": [
    {
     "data": {
      "text/plain": [
       "\"fig, ax = plt.subplots(1,1)\\n\\ntime_from_last_event = (pd.to_datetime('06/01/2016') - users.last_event) / pd.Timedelta(days = 1)\\n\\nax.semilogy(time_from_last_event, users.public_repos_count, 'k.')\""
      ]
     },
     "execution_count": 15,
     "metadata": {},
     "output_type": "execute_result"
    }
   ],
   "source": [
    "'''fig, ax = plt.subplots(1,1)\n",
    "\n",
    "time_from_last_event = (pd.to_datetime('06/01/2016') - users.last_event) / pd.Timedelta(days = 1)\n",
    "\n",
    "ax.semilogy(time_from_last_event, users.public_repos_count, 'k.')'''"
   ]
  },
  {
   "cell_type": "code",
   "execution_count": 16,
   "metadata": {},
   "outputs": [
    {
     "data": {
      "image/png": "[encoded data removed]",
      "text/plain": [
       "<Figure size 432x288 with 1 Axes>"
      ]
     },
     "metadata": {
      "needs_background": "light"
     },
     "output_type": "display_data"
    }
   ],
   "source": [
    "fig, ax = plt.subplots(1,1)\n",
    "\n",
    "ax.semilogy(t, users.event_count, 'k.')\n",
    "\n",
    "fig.savefig('figure.png')"
   ]
  },
  {
   "cell_type": "code",
   "execution_count": 17,
   "metadata": {},
   "outputs": [
    {
     "data": {
      "text/plain": [
       "<matplotlib.image.AxesImage at 0x7fa095c5b1d0>"
      ]
     },
     "execution_count": 17,
     "metadata": {},
     "output_type": "execute_result"
    },
    {
     "data": {
      "image/png": "[encoded data removed]",
      "text/plain": [
       "<Figure size 432x288 with 1 Axes>"
      ]
     },
     "metadata": {
      "needs_background": "light"
     },
     "output_type": "display_data"
    }
   ],
   "source": [
    "counts, xedge, yedge = plt.histogram2d(t, users.event_count, bins=30)\n",
    "\n",
    "plt.imshow(np.log10(counts+0.01))#, xedge=xedge, yedge=yedge)"
   ]
  },
  {
   "cell_type": "code",
   "execution_count": 18,
   "metadata": {},
   "outputs": [
    {
     "data": {
      "text/html": [
       "<div>\n",
       "<style scoped>\n",
       "    .dataframe tbody tr th:only-of-type {\n",
       "        vertical-align: middle;\n",
       "    }\n",
       "\n",
       "    .dataframe tbody tr th {\n",
       "        vertical-align: top;\n",
       "    }\n",
       "\n",
       "    .dataframe thead th {\n",
       "        text-align: right;\n",
       "    }\n",
       "</style>\n",
       "<table border=\"1\" class=\"dataframe\">\n",
       "  <thead>\n",
       "    <tr style=\"text-align: right;\">\n",
       "      <th></th>\n",
       "      <th>actor</th>\n",
       "      <th>event_count</th>\n",
       "      <th>last_event</th>\n",
       "      <th>first_event</th>\n",
       "    </tr>\n",
       "  </thead>\n",
       "  <tbody>\n",
       "    <tr>\n",
       "      <th>0</th>\n",
       "      <td>exmatrikulator</td>\n",
       "      <td>95</td>\n",
       "      <td>2016-11-01 18:51:49 UTC</td>\n",
       "      <td>2016-06-02 18:25:12 UTC</td>\n",
       "    </tr>\n",
       "    <tr>\n",
       "      <th>1</th>\n",
       "      <td>kofikofi123</td>\n",
       "      <td>106</td>\n",
       "      <td>2016-10-09 16:56:59 UTC</td>\n",
       "      <td>2016-06-02 02:22:51 UTC</td>\n",
       "    </tr>\n",
       "    <tr>\n",
       "      <th>2</th>\n",
       "      <td>Vivian5T</td>\n",
       "      <td>111</td>\n",
       "      <td>2016-09-27 00:59:14 UTC</td>\n",
       "      <td>2016-06-02 00:52:39 UTC</td>\n",
       "    </tr>\n",
       "    <tr>\n",
       "      <th>3</th>\n",
       "      <td>madmax9242</td>\n",
       "      <td>96</td>\n",
       "      <td>2016-10-26 23:31:17 UTC</td>\n",
       "      <td>2016-06-02 17:02:19 UTC</td>\n",
       "    </tr>\n",
       "    <tr>\n",
       "      <th>4</th>\n",
       "      <td>chenpaulp</td>\n",
       "      <td>66</td>\n",
       "      <td>2016-07-01 16:30:52 UTC</td>\n",
       "      <td>2016-06-02 01:01:45 UTC</td>\n",
       "    </tr>\n",
       "  </tbody>\n",
       "</table>\n",
       "</div>"
      ],
      "text/plain": [
       "            actor  event_count               last_event  \\\n",
       "0  exmatrikulator           95  2016-11-01 18:51:49 UTC   \n",
       "1     kofikofi123          106  2016-10-09 16:56:59 UTC   \n",
       "2        Vivian5T          111  2016-09-27 00:59:14 UTC   \n",
       "3      madmax9242           96  2016-10-26 23:31:17 UTC   \n",
       "4       chenpaulp           66  2016-07-01 16:30:52 UTC   \n",
       "\n",
       "               first_event  \n",
       "0  2016-06-02 18:25:12 UTC  \n",
       "1  2016-06-02 02:22:51 UTC  \n",
       "2  2016-06-02 00:52:39 UTC  \n",
       "3  2016-06-02 17:02:19 UTC  \n",
       "4  2016-06-02 01:01:45 UTC  "
      ]
     },
     "execution_count": 18,
     "metadata": {},
     "output_type": "execute_result"
    }
   ],
   "source": [
    "second_half = pd.read_csv('results_2016_06_02_2016_11_01_01.csv')\n",
    "second_half.head()"
   ]
  },
  {
   "cell_type": "code",
   "execution_count": 19,
   "metadata": {},
   "outputs": [
    {
     "data": {
      "text/html": [
       "<div>\n",
       "<style scoped>\n",
       "    .dataframe tbody tr th:only-of-type {\n",
       "        vertical-align: middle;\n",
       "    }\n",
       "\n",
       "    .dataframe tbody tr th {\n",
       "        vertical-align: top;\n",
       "    }\n",
       "\n",
       "    .dataframe thead th {\n",
       "        text-align: right;\n",
       "    }\n",
       "</style>\n",
       "<table border=\"1\" class=\"dataframe\">\n",
       "  <thead>\n",
       "    <tr style=\"text-align: right;\">\n",
       "      <th></th>\n",
       "      <th>login</th>\n",
       "      <th>followers_count</th>\n",
       "      <th>following_count</th>\n",
       "      <th>bio</th>\n",
       "      <th>blog</th>\n",
       "      <th>company</th>\n",
       "      <th>created_at</th>\n",
       "      <th>public_repos_count</th>\n",
       "      <th>public_gists_count</th>\n",
       "      <th>hireable</th>\n",
       "      <th>updated_at</th>\n",
       "      <th>event_count_first</th>\n",
       "      <th>last_event_first</th>\n",
       "      <th>first_event_first</th>\n",
       "      <th>time_between_first_last_event</th>\n",
       "      <th>actor</th>\n",
       "      <th>event_count_second</th>\n",
       "      <th>last_event_second</th>\n",
       "      <th>first_event_second</th>\n",
       "    </tr>\n",
       "  </thead>\n",
       "  <tbody>\n",
       "    <tr>\n",
       "      <th>0</th>\n",
       "      <td>000001a</td>\n",
       "      <td>0</td>\n",
       "      <td>0</td>\n",
       "      <td>1</td>\n",
       "      <td>1</td>\n",
       "      <td>1</td>\n",
       "      <td>2016-05-18 19:56:42+00:00</td>\n",
       "      <td>0</td>\n",
       "      <td>0</td>\n",
       "      <td>NaN</td>\n",
       "      <td>2016-07-20 08:24:12+00:00</td>\n",
       "      <td>2</td>\n",
       "      <td>2016-05-18 20:11:30</td>\n",
       "      <td>2016-05-18 20:01:08</td>\n",
       "      <td>0 days 00:10:22.000000000</td>\n",
       "      <td>NaN</td>\n",
       "      <td>NaN</td>\n",
       "      <td>NaN</td>\n",
       "      <td>NaN</td>\n",
       "    </tr>\n",
       "    <tr>\n",
       "      <th>1</th>\n",
       "      <td>016Nojr</td>\n",
       "      <td>1</td>\n",
       "      <td>0</td>\n",
       "      <td>1</td>\n",
       "      <td>1</td>\n",
       "      <td>1</td>\n",
       "      <td>2014-07-17 15:25:39+00:00</td>\n",
       "      <td>0</td>\n",
       "      <td>19</td>\n",
       "      <td>NaN</td>\n",
       "      <td>2019-01-13 17:32:41+00:00</td>\n",
       "      <td>5</td>\n",
       "      <td>2016-03-19 11:56:46</td>\n",
       "      <td>2016-01-20 12:13:02</td>\n",
       "      <td>58 days 23:43:44.000000000</td>\n",
       "      <td>016Nojr</td>\n",
       "      <td>77.0</td>\n",
       "      <td>2016-10-11 19:28:02 UTC</td>\n",
       "      <td>2016-06-15 17:48:31 UTC</td>\n",
       "    </tr>\n",
       "    <tr>\n",
       "      <th>2</th>\n",
       "      <td>0xmalloc</td>\n",
       "      <td>50</td>\n",
       "      <td>12</td>\n",
       "      <td>1</td>\n",
       "      <td>1</td>\n",
       "      <td>1</td>\n",
       "      <td>2013-01-03 08:43:32+00:00</td>\n",
       "      <td>19</td>\n",
       "      <td>0</td>\n",
       "      <td>True</td>\n",
       "      <td>2018-10-15 12:10:06+00:00</td>\n",
       "      <td>11</td>\n",
       "      <td>2016-05-03 02:41:51</td>\n",
       "      <td>2016-05-03 02:41:51</td>\n",
       "      <td>0 days 00:00:00.000000000</td>\n",
       "      <td>0xmalloc</td>\n",
       "      <td>3.0</td>\n",
       "      <td>2016-08-23 04:24:09 UTC</td>\n",
       "      <td>2016-06-05 08:36:49 UTC</td>\n",
       "    </tr>\n",
       "    <tr>\n",
       "      <th>3</th>\n",
       "      <td>13MaxG</td>\n",
       "      <td>1</td>\n",
       "      <td>0</td>\n",
       "      <td>1</td>\n",
       "      <td>1</td>\n",
       "      <td>1</td>\n",
       "      <td>2011-06-25 15:04:00+00:00</td>\n",
       "      <td>6</td>\n",
       "      <td>0</td>\n",
       "      <td>True</td>\n",
       "      <td>2018-11-24 18:54:54+00:00</td>\n",
       "      <td>11</td>\n",
       "      <td>2016-02-11 14:13:45</td>\n",
       "      <td>2016-02-06 10:19:33</td>\n",
       "      <td>5 days 03:54:12.000000000</td>\n",
       "      <td>13MaxG</td>\n",
       "      <td>3.0</td>\n",
       "      <td>2016-07-12 19:47:32 UTC</td>\n",
       "      <td>2016-06-17 19:33:25 UTC</td>\n",
       "    </tr>\n",
       "    <tr>\n",
       "      <th>4</th>\n",
       "      <td>18259064372</td>\n",
       "      <td>0</td>\n",
       "      <td>0</td>\n",
       "      <td>1</td>\n",
       "      <td>1</td>\n",
       "      <td>1</td>\n",
       "      <td>2015-10-19 05:31:05+00:00</td>\n",
       "      <td>5</td>\n",
       "      <td>0</td>\n",
       "      <td>NaN</td>\n",
       "      <td>2018-04-10 03:20:35+00:00</td>\n",
       "      <td>3</td>\n",
       "      <td>2016-05-09 04:16:45</td>\n",
       "      <td>2016-03-22 01:14:25</td>\n",
       "      <td>48 days 03:02:20.000000000</td>\n",
       "      <td>NaN</td>\n",
       "      <td>NaN</td>\n",
       "      <td>NaN</td>\n",
       "      <td>NaN</td>\n",
       "    </tr>\n",
       "  </tbody>\n",
       "</table>\n",
       "</div>"
      ],
      "text/plain": [
       "         login  followers_count  following_count  bio  blog  company  \\\n",
       "0      000001a                0                0    1     1        1   \n",
       "1      016Nojr                1                0    1     1        1   \n",
       "2     0xmalloc               50               12    1     1        1   \n",
       "3       13MaxG                1                0    1     1        1   \n",
       "4  18259064372                0                0    1     1        1   \n",
       "\n",
       "                  created_at  public_repos_count  public_gists_count hireable  \\\n",
       "0  2016-05-18 19:56:42+00:00                   0                   0      NaN   \n",
       "1  2014-07-17 15:25:39+00:00                   0                  19      NaN   \n",
       "2  2013-01-03 08:43:32+00:00                  19                   0     True   \n",
       "3  2011-06-25 15:04:00+00:00                   6                   0     True   \n",
       "4  2015-10-19 05:31:05+00:00                   5                   0      NaN   \n",
       "\n",
       "                  updated_at  event_count_first     last_event_first  \\\n",
       "0  2016-07-20 08:24:12+00:00                  2  2016-05-18 20:11:30   \n",
       "1  2019-01-13 17:32:41+00:00                  5  2016-03-19 11:56:46   \n",
       "2  2018-10-15 12:10:06+00:00                 11  2016-05-03 02:41:51   \n",
       "3  2018-11-24 18:54:54+00:00                 11  2016-02-11 14:13:45   \n",
       "4  2018-04-10 03:20:35+00:00                  3  2016-05-09 04:16:45   \n",
       "\n",
       "     first_event_first time_between_first_last_event     actor  \\\n",
       "0  2016-05-18 20:01:08     0 days 00:10:22.000000000       NaN   \n",
       "1  2016-01-20 12:13:02    58 days 23:43:44.000000000   016Nojr   \n",
       "2  2016-05-03 02:41:51     0 days 00:00:00.000000000  0xmalloc   \n",
       "3  2016-02-06 10:19:33     5 days 03:54:12.000000000    13MaxG   \n",
       "4  2016-03-22 01:14:25    48 days 03:02:20.000000000       NaN   \n",
       "\n",
       "   event_count_second        last_event_second       first_event_second  \n",
       "0                 NaN                      NaN                      NaN  \n",
       "1                77.0  2016-10-11 19:28:02 UTC  2016-06-15 17:48:31 UTC  \n",
       "2                 3.0  2016-08-23 04:24:09 UTC  2016-06-05 08:36:49 UTC  \n",
       "3                 3.0  2016-07-12 19:47:32 UTC  2016-06-17 19:33:25 UTC  \n",
       "4                 NaN                      NaN                      NaN  "
      ]
     },
     "execution_count": 19,
     "metadata": {},
     "output_type": "execute_result"
    }
   ],
   "source": [
    "both_halves = users.merge(second_half, how='left', left_on='login', right_on='actor', suffixes=['_first', '_second'])\n",
    "both_halves.head()"
   ]
  },
  {
   "cell_type": "code",
   "execution_count": 20,
   "metadata": {},
   "outputs": [],
   "source": [
    "both_halves['event_count_second'] = both_halves.event_count_second.fillna(0)"
   ]
  },
  {
   "cell_type": "code",
   "execution_count": 22,
   "metadata": {},
   "outputs": [
    {
     "name": "stderr",
     "output_type": "stream",
     "text": [
      "/home/brian/anaconda3/lib/python3.7/site-packages/matplotlib/figure.py:2366: UserWarning: This figure includes Axes that are not compatible with tight_layout, so results might be incorrect.\n",
      "  warnings.warn(\"This figure includes Axes that are not compatible \"\n"
     ]
    },
    {
     "data": {
      "image/png": "[encoded data removed]",
      "text/plain": [
       "<Figure size 432x288 with 1 Axes>"
      ]
     },
     "metadata": {
      "needs_background": "light"
     },
     "output_type": "display_data"
    }
   ],
   "source": [
    "fig, ax = plt.subplots(1,1)\n",
    "fig.set_tight_layout(True)\n",
    "\n",
    "ax.bar([1, 2], [both_halves[both_halves.event_count_second == 0].event_count_first.mean(),\n",
    "       both_halves[both_halves.event_count_second > 0].event_count_first.mean()])\n",
    "ax.set_xticks([1, 2])\n",
    "ax.set_xticklabels(['churned', 'active'])\n",
    "ax.set_ylabel('number of Events from Jan-May 2016')\n",
    "\n",
    "fig.savefig('number_of_events_churnedVSactive.png')"
   ]
  },
  {
   "cell_type": "code",
   "execution_count": 23,
   "metadata": {},
   "outputs": [
    {
     "data": {
      "text/plain": [
       "(1829, 0.48583695147729206)"
      ]
     },
     "execution_count": 23,
     "metadata": {},
     "output_type": "execute_result"
    }
   ],
   "source": [
    "np.sum(both_halves.event_count_second == 0), np.std(both_halves.event_count_second == 0)"
   ]
  },
  {
   "cell_type": "code",
   "execution_count": 24,
   "metadata": {},
   "outputs": [
    {
     "data": {
      "text/plain": [
       "(2961, 0.48583695147729217)"
      ]
     },
     "execution_count": 24,
     "metadata": {},
     "output_type": "execute_result"
    }
   ],
   "source": [
    "np.sum(both_halves.event_count_second > 0), np.std(both_halves.event_count_second > 0)"
   ]
  },
  {
   "cell_type": "code",
   "execution_count": 25,
   "metadata": {},
   "outputs": [
    {
     "data": {
      "text/plain": [
       "<matplotlib.axes._subplots.AxesSubplot at 0x7fa02a1652e8>"
      ]
     },
     "execution_count": 25,
     "metadata": {},
     "output_type": "execute_result"
    },
    {
     "data": {
      "image/png": "[encoded data removed]",
      "text/plain": [
       "<Figure size 432x288 with 1 Axes>"
      ]
     },
     "metadata": {
      "needs_background": "light"
     },
     "output_type": "display_data"
    }
   ],
   "source": [
    "both_halves[both_halves.event_count_second == 0].event_count_first.apply(np.log10).hist(bins=30)"
   ]
  },
  {
   "cell_type": "code",
   "execution_count": 26,
   "metadata": {},
   "outputs": [
    {
     "data": {
      "text/plain": [
       "<matplotlib.axes._subplots.AxesSubplot at 0x7fa02a1a7128>"
      ]
     },
     "execution_count": 26,
     "metadata": {},
     "output_type": "execute_result"
    },
    {
     "data": {
      "image/png": "[encoded data removed]",
      "text/plain": [
       "<Figure size 432x288 with 1 Axes>"
      ]
     },
     "metadata": {
      "needs_background": "light"
     },
     "output_type": "display_data"
    }
   ],
   "source": [
    "both_halves[both_halves.event_count_second > 0].event_count_first.apply(np.log10).hist(bins=30)"
   ]
  },
  {
   "cell_type": "code",
   "execution_count": 27,
   "metadata": {},
   "outputs": [
    {
     "name": "stderr",
     "output_type": "stream",
     "text": [
      "/home/brian/anaconda3/lib/python3.7/site-packages/matplotlib/figure.py:2366: UserWarning: This figure includes Axes that are not compatible with tight_layout, so results might be incorrect.\n",
      "  warnings.warn(\"This figure includes Axes that are not compatible \"\n"
     ]
    },
    {
     "data": {
      "image/png": "[encoded data removed]",
      "text/plain": [
       "<Figure size 432x288 with 1 Axes>"
      ]
     },
     "metadata": {
      "needs_background": "light"
     },
     "output_type": "display_data"
    }
   ],
   "source": [
    "fig, ax = plt.subplots(1,1)\n",
    "fig.set_tight_layout(True)\n",
    "\n",
    "ax.bar([1, 2], [both_halves[both_halves.event_count_second == 0].public_repos_count.mean(),\n",
    "       both_halves[both_halves.event_count_second > 0].public_repos_count.mean()])\n",
    "ax.set_xticks([1, 2])\n",
    "ax.set_xticklabels(['churned', 'active'])\n",
    "ax.set_ylabel('number of public repos')\n",
    "\n",
    "fig.savefig('number_of_repos_churnedVSactive.png')"
   ]
  },
  {
   "cell_type": "code",
   "execution_count": 28,
   "metadata": {},
   "outputs": [
    {
     "data": {
      "text/html": [
       "<div>\n",
       "<style scoped>\n",
       "    .dataframe tbody tr th:only-of-type {\n",
       "        vertical-align: middle;\n",
       "    }\n",
       "\n",
       "    .dataframe tbody tr th {\n",
       "        vertical-align: top;\n",
       "    }\n",
       "\n",
       "    .dataframe thead th {\n",
       "        text-align: right;\n",
       "    }\n",
       "</style>\n",
       "<table border=\"1\" class=\"dataframe\">\n",
       "  <thead>\n",
       "    <tr style=\"text-align: right;\">\n",
       "      <th></th>\n",
       "      <th>login</th>\n",
       "      <th>followers_count</th>\n",
       "      <th>following_count</th>\n",
       "      <th>bio</th>\n",
       "      <th>blog</th>\n",
       "      <th>company</th>\n",
       "      <th>created_at</th>\n",
       "      <th>public_repos_count</th>\n",
       "      <th>public_gists_count</th>\n",
       "      <th>hireable</th>\n",
       "      <th>updated_at</th>\n",
       "      <th>event_count_first</th>\n",
       "      <th>last_event_first</th>\n",
       "      <th>first_event_first</th>\n",
       "      <th>time_between_first_last_event</th>\n",
       "      <th>actor</th>\n",
       "      <th>event_count_second</th>\n",
       "      <th>last_event_second</th>\n",
       "      <th>first_event_second</th>\n",
       "    </tr>\n",
       "  </thead>\n",
       "  <tbody>\n",
       "    <tr>\n",
       "      <th>1</th>\n",
       "      <td>016Nojr</td>\n",
       "      <td>1</td>\n",
       "      <td>0</td>\n",
       "      <td>1</td>\n",
       "      <td>1</td>\n",
       "      <td>1</td>\n",
       "      <td>2014-07-17 15:25:39+00:00</td>\n",
       "      <td>0</td>\n",
       "      <td>19</td>\n",
       "      <td>NaN</td>\n",
       "      <td>2019-01-13 17:32:41+00:00</td>\n",
       "      <td>5</td>\n",
       "      <td>2016-03-19 11:56:46</td>\n",
       "      <td>2016-01-20 12:13:02</td>\n",
       "      <td>58 days 23:43:44.000000000</td>\n",
       "      <td>016Nojr</td>\n",
       "      <td>77.0</td>\n",
       "      <td>2016-10-11 19:28:02 UTC</td>\n",
       "      <td>2016-06-15 17:48:31 UTC</td>\n",
       "    </tr>\n",
       "    <tr>\n",
       "      <th>2</th>\n",
       "      <td>0xmalloc</td>\n",
       "      <td>50</td>\n",
       "      <td>12</td>\n",
       "      <td>1</td>\n",
       "      <td>1</td>\n",
       "      <td>1</td>\n",
       "      <td>2013-01-03 08:43:32+00:00</td>\n",
       "      <td>19</td>\n",
       "      <td>0</td>\n",
       "      <td>True</td>\n",
       "      <td>2018-10-15 12:10:06+00:00</td>\n",
       "      <td>11</td>\n",
       "      <td>2016-05-03 02:41:51</td>\n",
       "      <td>2016-05-03 02:41:51</td>\n",
       "      <td>0 days 00:00:00.000000000</td>\n",
       "      <td>0xmalloc</td>\n",
       "      <td>3.0</td>\n",
       "      <td>2016-08-23 04:24:09 UTC</td>\n",
       "      <td>2016-06-05 08:36:49 UTC</td>\n",
       "    </tr>\n",
       "    <tr>\n",
       "      <th>3</th>\n",
       "      <td>13MaxG</td>\n",
       "      <td>1</td>\n",
       "      <td>0</td>\n",
       "      <td>1</td>\n",
       "      <td>1</td>\n",
       "      <td>1</td>\n",
       "      <td>2011-06-25 15:04:00+00:00</td>\n",
       "      <td>6</td>\n",
       "      <td>0</td>\n",
       "      <td>True</td>\n",
       "      <td>2018-11-24 18:54:54+00:00</td>\n",
       "      <td>11</td>\n",
       "      <td>2016-02-11 14:13:45</td>\n",
       "      <td>2016-02-06 10:19:33</td>\n",
       "      <td>5 days 03:54:12.000000000</td>\n",
       "      <td>13MaxG</td>\n",
       "      <td>3.0</td>\n",
       "      <td>2016-07-12 19:47:32 UTC</td>\n",
       "      <td>2016-06-17 19:33:25 UTC</td>\n",
       "    </tr>\n",
       "    <tr>\n",
       "      <th>5</th>\n",
       "      <td>1u</td>\n",
       "      <td>10</td>\n",
       "      <td>5</td>\n",
       "      <td>1</td>\n",
       "      <td>1</td>\n",
       "      <td>1</td>\n",
       "      <td>2013-04-28 13:43:06+00:00</td>\n",
       "      <td>5</td>\n",
       "      <td>0</td>\n",
       "      <td>NaN</td>\n",
       "      <td>2019-01-10 23:40:59+00:00</td>\n",
       "      <td>124</td>\n",
       "      <td>2016-06-01 23:14:05</td>\n",
       "      <td>2016-01-02 17:37:40</td>\n",
       "      <td>151 days 05:36:25.000000000</td>\n",
       "      <td>1u</td>\n",
       "      <td>292.0</td>\n",
       "      <td>2016-11-01 17:30:54 UTC</td>\n",
       "      <td>2016-06-02 13:27:44 UTC</td>\n",
       "    </tr>\n",
       "    <tr>\n",
       "      <th>6</th>\n",
       "      <td>1xiaocainiao</td>\n",
       "      <td>4</td>\n",
       "      <td>50</td>\n",
       "      <td>1</td>\n",
       "      <td>1</td>\n",
       "      <td>1</td>\n",
       "      <td>2014-03-26 04:30:09+00:00</td>\n",
       "      <td>78</td>\n",
       "      <td>1</td>\n",
       "      <td>NaN</td>\n",
       "      <td>2018-12-17 13:47:01+00:00</td>\n",
       "      <td>5</td>\n",
       "      <td>2016-05-19 08:32:51</td>\n",
       "      <td>2016-01-04 03:54:11</td>\n",
       "      <td>136 days 04:38:40.000000000</td>\n",
       "      <td>1xiaocainiao</td>\n",
       "      <td>54.0</td>\n",
       "      <td>2016-11-01 01:37:33 UTC</td>\n",
       "      <td>2016-06-04 02:22:56 UTC</td>\n",
       "    </tr>\n",
       "  </tbody>\n",
       "</table>\n",
       "</div>"
      ],
      "text/plain": [
       "          login  followers_count  following_count  bio  blog  company  \\\n",
       "1       016Nojr                1                0    1     1        1   \n",
       "2      0xmalloc               50               12    1     1        1   \n",
       "3        13MaxG                1                0    1     1        1   \n",
       "5            1u               10                5    1     1        1   \n",
       "6  1xiaocainiao                4               50    1     1        1   \n",
       "\n",
       "                  created_at  public_repos_count  public_gists_count hireable  \\\n",
       "1  2014-07-17 15:25:39+00:00                   0                  19      NaN   \n",
       "2  2013-01-03 08:43:32+00:00                  19                   0     True   \n",
       "3  2011-06-25 15:04:00+00:00                   6                   0     True   \n",
       "5  2013-04-28 13:43:06+00:00                   5                   0      NaN   \n",
       "6  2014-03-26 04:30:09+00:00                  78                   1      NaN   \n",
       "\n",
       "                  updated_at  event_count_first     last_event_first  \\\n",
       "1  2019-01-13 17:32:41+00:00                  5  2016-03-19 11:56:46   \n",
       "2  2018-10-15 12:10:06+00:00                 11  2016-05-03 02:41:51   \n",
       "3  2018-11-24 18:54:54+00:00                 11  2016-02-11 14:13:45   \n",
       "5  2019-01-10 23:40:59+00:00                124  2016-06-01 23:14:05   \n",
       "6  2018-12-17 13:47:01+00:00                  5  2016-05-19 08:32:51   \n",
       "\n",
       "     first_event_first time_between_first_last_event         actor  \\\n",
       "1  2016-01-20 12:13:02    58 days 23:43:44.000000000       016Nojr   \n",
       "2  2016-05-03 02:41:51     0 days 00:00:00.000000000      0xmalloc   \n",
       "3  2016-02-06 10:19:33     5 days 03:54:12.000000000        13MaxG   \n",
       "5  2016-01-02 17:37:40   151 days 05:36:25.000000000            1u   \n",
       "6  2016-01-04 03:54:11   136 days 04:38:40.000000000  1xiaocainiao   \n",
       "\n",
       "   event_count_second        last_event_second       first_event_second  \n",
       "1                77.0  2016-10-11 19:28:02 UTC  2016-06-15 17:48:31 UTC  \n",
       "2                 3.0  2016-08-23 04:24:09 UTC  2016-06-05 08:36:49 UTC  \n",
       "3                 3.0  2016-07-12 19:47:32 UTC  2016-06-17 19:33:25 UTC  \n",
       "5               292.0  2016-11-01 17:30:54 UTC  2016-06-02 13:27:44 UTC  \n",
       "6                54.0  2016-11-01 01:37:33 UTC  2016-06-04 02:22:56 UTC  "
      ]
     },
     "execution_count": 28,
     "metadata": {},
     "output_type": "execute_result"
    }
   ],
   "source": [
    "both_halves[both_halves.event_count_second > 0].head()"
   ]
  },
  {
   "cell_type": "code",
   "execution_count": 29,
   "metadata": {},
   "outputs": [
    {
     "name": "stderr",
     "output_type": "stream",
     "text": [
      "/home/brian/anaconda3/lib/python3.7/site-packages/matplotlib/figure.py:2366: UserWarning: This figure includes Axes that are not compatible with tight_layout, so results might be incorrect.\n",
      "  warnings.warn(\"This figure includes Axes that are not compatible \"\n"
     ]
    },
    {
     "data": {
      "image/png": "[encoded data removed]",
      "text/plain": [
       "<Figure size 432x288 with 1 Axes>"
      ]
     },
     "metadata": {
      "needs_background": "light"
     },
     "output_type": "display_data"
    }
   ],
   "source": [
    "fig, ax = plt.subplots(1,1)\n",
    "fig.set_tight_layout(True)\n",
    "\n",
    "ax.bar([1, 2], [both_halves[both_halves.event_count_second == 0].followers_count.mean(),\n",
    "       both_halves[both_halves.event_count_second > 0].followers_count.mean()])\n",
    "ax.set_xticks([1, 2])\n",
    "ax.set_xticklabels(['churned', 'active'])\n",
    "ax.set_ylabel('number of followers')\n",
    "\n",
    "fig.savefig('number_of_followers_churnedVSactive.png')"
   ]
  },
  {
   "cell_type": "code",
   "execution_count": 30,
   "metadata": {},
   "outputs": [
    {
     "name": "stderr",
     "output_type": "stream",
     "text": [
      "/home/brian/anaconda3/lib/python3.7/site-packages/matplotlib/figure.py:2366: UserWarning: This figure includes Axes that are not compatible with tight_layout, so results might be incorrect.\n",
      "  warnings.warn(\"This figure includes Axes that are not compatible \"\n"
     ]
    },
    {
     "data": {
      "image/png": "[encoded data removed]",
      "text/plain": [
       "<Figure size 432x288 with 1 Axes>"
      ]
     },
     "metadata": {
      "needs_background": "light"
     },
     "output_type": "display_data"
    }
   ],
   "source": [
    "fig, ax = plt.subplots(1,1)\n",
    "fig.set_tight_layout(True)\n",
    "\n",
    "ax.bar([1, 2], [both_halves[both_halves.event_count_second == 0].following_count.mean(),\n",
    "       both_halves[both_halves.event_count_second > 0].following_count.mean()])\n",
    "ax.set_xticks([1, 2])\n",
    "ax.set_xticklabels(['churned', 'active'])\n",
    "ax.set_ylabel('number of following')\n",
    "\n",
    "fig.savefig('number_of_following_churnedVSactive.png')"
   ]
  },
  {
   "cell_type": "code",
   "execution_count": 31,
   "metadata": {},
   "outputs": [
    {
     "data": {
      "text/plain": [
       "[<matplotlib.lines.Line2D at 0x7fa02a1445c0>]"
      ]
     },
     "execution_count": 31,
     "metadata": {},
     "output_type": "execute_result"
    },
    {
     "data": {
      "image/png": "[encoded data removed]",
      "text/plain": [
       "<Figure size 432x288 with 1 Axes>"
      ]
     },
     "metadata": {
      "needs_background": "light"
     },
     "output_type": "display_data"
    }
   ],
   "source": [
    "plt.plot(both_halves.event_count_first,\n",
    "        both_halves.event_count_second, 'k.')"
   ]
  },
  {
   "cell_type": "code",
   "execution_count": 32,
   "metadata": {},
   "outputs": [
    {
     "data": {
      "text/html": [
       "<div>\n",
       "<style scoped>\n",
       "    .dataframe tbody tr th:only-of-type {\n",
       "        vertical-align: middle;\n",
       "    }\n",
       "\n",
       "    .dataframe tbody tr th {\n",
       "        vertical-align: top;\n",
       "    }\n",
       "\n",
       "    .dataframe thead th {\n",
       "        text-align: right;\n",
       "    }\n",
       "</style>\n",
       "<table border=\"1\" class=\"dataframe\">\n",
       "  <thead>\n",
       "    <tr style=\"text-align: right;\">\n",
       "      <th></th>\n",
       "      <th>followers_count</th>\n",
       "      <th>following_count</th>\n",
       "      <th>bio</th>\n",
       "      <th>blog</th>\n",
       "      <th>company</th>\n",
       "      <th>public_repos_count</th>\n",
       "      <th>public_gists_count</th>\n",
       "      <th>event_count_first</th>\n",
       "      <th>event_count_second</th>\n",
       "    </tr>\n",
       "  </thead>\n",
       "  <tbody>\n",
       "    <tr>\n",
       "      <th>followers_count</th>\n",
       "      <td>1.000000</td>\n",
       "      <td>0.152532</td>\n",
       "      <td>NaN</td>\n",
       "      <td>NaN</td>\n",
       "      <td>NaN</td>\n",
       "      <td>0.275966</td>\n",
       "      <td>0.188902</td>\n",
       "      <td>0.166076</td>\n",
       "      <td>0.238887</td>\n",
       "    </tr>\n",
       "    <tr>\n",
       "      <th>following_count</th>\n",
       "      <td>0.152532</td>\n",
       "      <td>1.000000</td>\n",
       "      <td>NaN</td>\n",
       "      <td>NaN</td>\n",
       "      <td>NaN</td>\n",
       "      <td>0.239635</td>\n",
       "      <td>0.137862</td>\n",
       "      <td>0.033805</td>\n",
       "      <td>0.115977</td>\n",
       "    </tr>\n",
       "    <tr>\n",
       "      <th>bio</th>\n",
       "      <td>NaN</td>\n",
       "      <td>NaN</td>\n",
       "      <td>NaN</td>\n",
       "      <td>NaN</td>\n",
       "      <td>NaN</td>\n",
       "      <td>NaN</td>\n",
       "      <td>NaN</td>\n",
       "      <td>NaN</td>\n",
       "      <td>NaN</td>\n",
       "    </tr>\n",
       "    <tr>\n",
       "      <th>blog</th>\n",
       "      <td>NaN</td>\n",
       "      <td>NaN</td>\n",
       "      <td>NaN</td>\n",
       "      <td>NaN</td>\n",
       "      <td>NaN</td>\n",
       "      <td>NaN</td>\n",
       "      <td>NaN</td>\n",
       "      <td>NaN</td>\n",
       "      <td>NaN</td>\n",
       "    </tr>\n",
       "    <tr>\n",
       "      <th>company</th>\n",
       "      <td>NaN</td>\n",
       "      <td>NaN</td>\n",
       "      <td>NaN</td>\n",
       "      <td>NaN</td>\n",
       "      <td>NaN</td>\n",
       "      <td>NaN</td>\n",
       "      <td>NaN</td>\n",
       "      <td>NaN</td>\n",
       "      <td>NaN</td>\n",
       "    </tr>\n",
       "    <tr>\n",
       "      <th>public_repos_count</th>\n",
       "      <td>0.275966</td>\n",
       "      <td>0.239635</td>\n",
       "      <td>NaN</td>\n",
       "      <td>NaN</td>\n",
       "      <td>NaN</td>\n",
       "      <td>1.000000</td>\n",
       "      <td>0.411730</td>\n",
       "      <td>0.148303</td>\n",
       "      <td>0.403411</td>\n",
       "    </tr>\n",
       "    <tr>\n",
       "      <th>public_gists_count</th>\n",
       "      <td>0.188902</td>\n",
       "      <td>0.137862</td>\n",
       "      <td>NaN</td>\n",
       "      <td>NaN</td>\n",
       "      <td>NaN</td>\n",
       "      <td>0.411730</td>\n",
       "      <td>1.000000</td>\n",
       "      <td>0.098140</td>\n",
       "      <td>0.280647</td>\n",
       "    </tr>\n",
       "    <tr>\n",
       "      <th>event_count_first</th>\n",
       "      <td>0.166076</td>\n",
       "      <td>0.033805</td>\n",
       "      <td>NaN</td>\n",
       "      <td>NaN</td>\n",
       "      <td>NaN</td>\n",
       "      <td>0.148303</td>\n",
       "      <td>0.098140</td>\n",
       "      <td>1.000000</td>\n",
       "      <td>0.368637</td>\n",
       "    </tr>\n",
       "    <tr>\n",
       "      <th>event_count_second</th>\n",
       "      <td>0.238887</td>\n",
       "      <td>0.115977</td>\n",
       "      <td>NaN</td>\n",
       "      <td>NaN</td>\n",
       "      <td>NaN</td>\n",
       "      <td>0.403411</td>\n",
       "      <td>0.280647</td>\n",
       "      <td>0.368637</td>\n",
       "      <td>1.000000</td>\n",
       "    </tr>\n",
       "  </tbody>\n",
       "</table>\n",
       "</div>"
      ],
      "text/plain": [
       "                    followers_count  following_count  bio  blog  company  \\\n",
       "followers_count            1.000000         0.152532  NaN   NaN      NaN   \n",
       "following_count            0.152532         1.000000  NaN   NaN      NaN   \n",
       "bio                             NaN              NaN  NaN   NaN      NaN   \n",
       "blog                            NaN              NaN  NaN   NaN      NaN   \n",
       "company                         NaN              NaN  NaN   NaN      NaN   \n",
       "public_repos_count         0.275966         0.239635  NaN   NaN      NaN   \n",
       "public_gists_count         0.188902         0.137862  NaN   NaN      NaN   \n",
       "event_count_first          0.166076         0.033805  NaN   NaN      NaN   \n",
       "event_count_second         0.238887         0.115977  NaN   NaN      NaN   \n",
       "\n",
       "                    public_repos_count  public_gists_count  event_count_first  \\\n",
       "followers_count               0.275966            0.188902           0.166076   \n",
       "following_count               0.239635            0.137862           0.033805   \n",
       "bio                                NaN                 NaN                NaN   \n",
       "blog                               NaN                 NaN                NaN   \n",
       "company                            NaN                 NaN                NaN   \n",
       "public_repos_count            1.000000            0.411730           0.148303   \n",
       "public_gists_count            0.411730            1.000000           0.098140   \n",
       "event_count_first             0.148303            0.098140           1.000000   \n",
       "event_count_second            0.403411            0.280647           0.368637   \n",
       "\n",
       "                    event_count_second  \n",
       "followers_count               0.238887  \n",
       "following_count               0.115977  \n",
       "bio                                NaN  \n",
       "blog                               NaN  \n",
       "company                            NaN  \n",
       "public_repos_count            0.403411  \n",
       "public_gists_count            0.280647  \n",
       "event_count_first             0.368637  \n",
       "event_count_second            1.000000  "
      ]
     },
     "execution_count": 32,
     "metadata": {},
     "output_type": "execute_result"
    }
   ],
   "source": [
    "both_halves.corr()"
   ]
  },
  {
   "cell_type": "code",
   "execution_count": null,
   "metadata": {},
   "outputs": [],
   "source": [
    "#numeric_data = df.select(numeric_features).toPandas()\n",
    "axs = pd.scatter_matrix(both_halves, figsize=(8, 8));\n",
    "n = len(both_halves.columns)\n",
    "for i in range(n):\n",
    "    v = axs[i, 0]\n",
    "    v.yaxis.label.set_rotation(0)\n",
    "    v.yaxis.label.set_ha('right')\n",
    "    v.set_yticks(())\n",
    "    h = axs[n-1, i]\n",
    "    h.xaxis.label.set_rotation(90)\n",
    "    h.set_xticks(())"
   ]
  },
  {
   "cell_type": "code",
   "execution_count": null,
   "metadata": {},
   "outputs": [],
   "source": []
  }
 ],
 "metadata": {
  "kernelspec": {
   "display_name": "Python 3",
   "language": "python",
   "name": "python3"
  },
  "language_info": {
   "codemirror_mode": {
    "name": "ipython",
    "version": 3
   },
   "file_extension": ".py",
   "mimetype": "text/x-python",
   "name": "python",
   "nbconvert_exporter": "python",
   "pygments_lexer": "ipython3",
   "version": "3.7.0"
  }
 },
 "nbformat": 4,
 "nbformat_minor": 2
}

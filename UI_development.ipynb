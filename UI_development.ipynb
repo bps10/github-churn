{
 "cells": [
  {
   "cell_type": "markdown",
   "metadata": {},
   "source": [
    "# UI development plan\n",
    "\n",
    "## Spec\n",
    "Need to ping GitHub api. Get user info. Process it into the correct format. Then run that data through the models and output some information.\n",
    "\n",
    "Need to get parameter info from a DB.\n",
    "\n",
    "In the second functionality of the site, rank the ten users most in need of action. Sort classification and CVL models together and rank them. Weight some how? "
   ]
  }
 ],
 "metadata": {
  "kernelspec": {
   "display_name": "Python 3",
   "language": "python",
   "name": "python3"
  },
  "language_info": {
   "codemirror_mode": {
    "name": "ipython",
    "version": 3
   },
   "file_extension": ".py",
   "mimetype": "text/x-python",
   "name": "python",
   "nbconvert_exporter": "python",
   "pygments_lexer": "ipython3",
   "version": "3.7.2"
  }
 },
 "nbformat": 4,
 "nbformat_minor": 2
}

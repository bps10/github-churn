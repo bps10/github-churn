{
 "cells": [
  {
   "cell_type": "code",
   "execution_count": 17,
   "metadata": {},
   "outputs": [
    {
     "name": "stdout",
     "output_type": "stream",
     "text": [
      "  issue_status     cnt\n",
      "0     \"closed\"  281078\n",
      "1     \"opened\"  416511\n",
      "2   \"reopened\"   13358\n"
     ]
    },
    {
     "data": {
      "text/plain": [
       "'for row in query_job:  # API request - fetches results\\n    # Row values can be accessed by field name or index\\n    print(row.issue_status)\\n    #assert row[0] == row.name == row[\"name\"]\\n    print(row)'"
      ]
     },
     "execution_count": 17,
     "metadata": {},
     "output_type": "execute_result"
    }
   ],
   "source": [
    "import pandas as pd\n",
    "from google.cloud import bigquery\n",
    "client = bigquery.Client()\n",
    "\n",
    "\n",
    "# Set use_legacy_sql to True to use legacy SQL syntax.\n",
    "job_config = bigquery.QueryJobConfig()\n",
    "job_config.use_legacy_sql = True\n",
    "\n",
    "\n",
    "query = (\n",
    "    \"\"\"SELECT name FROM `bigquery-public-data.usa_names.usa_1910_2013`\n",
    "    WHERE state = \"TX\" \n",
    "    LIMIT 100\n",
    "    \"\"\"\n",
    ")\n",
    "\n",
    "query = (\n",
    "\"\"\"SELECT event as issue_status, COUNT(*) as cnt FROM (\n",
    "  SELECT type, repo.name, actor.login,\n",
    "    JSON_EXTRACT(payload, '$.action') as event, \n",
    "  FROM (TABLE_DATE_RANGE([githubarchive:day.], \n",
    "    TIMESTAMP('2015-01-01'), \n",
    "    TIMESTAMP('2015-02-01')\n",
    "  )) \n",
    "  WHERE type = 'IssuesEvent'\n",
    ")\n",
    "GROUP by issue_status;\"\"\"\n",
    "    \n",
    ")\n",
    "'''query_job = client.query(\n",
    "    query,\n",
    "    # Location must match that of the dataset(s) referenced in the query.\n",
    "    location=\"US\",\n",
    "    job_config=job_config,\n",
    ")  # API request - starts the query\n",
    "'''\n",
    "#results_df = gbq.read_gbq(query_job, project_id=project_id, private_key='path_to_my.json')\n",
    "\n",
    "df = client.query(query, location=\"US\", job_config=job_config).to_dataframe()\n",
    "\n",
    "print(df.head())\n",
    "'''for row in query_job:  # API request - fetches results\n",
    "    # Row values can be accessed by field name or index\n",
    "    print(row.issue_status)\n",
    "    #assert row[0] == row.name == row[\"name\"]\n",
    "    print(row)'''\n"
   ]
  },
  {
   "cell_type": "code",
   "execution_count": null,
   "metadata": {},
   "outputs": [],
   "source": []
  }
 ],
 "metadata": {
  "kernelspec": {
   "display_name": "Python 3",
   "language": "python",
   "name": "python3"
  },
  "language_info": {
   "codemirror_mode": {
    "name": "ipython",
    "version": 3
   },
   "file_extension": ".py",
   "mimetype": "text/x-python",
   "name": "python",
   "nbconvert_exporter": "python",
   "pygments_lexer": "ipython3",
   "version": "3.7.2"
  }
 },
 "nbformat": 4,
 "nbformat_minor": 2
}

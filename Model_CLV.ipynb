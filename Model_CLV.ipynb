{
 "cells": [
  {
   "cell_type": "markdown",
   "metadata": {},
   "source": [
    "# CLV model\n",
    "\n",
    "[Customer value in non-contractual business model](https://towardsdatascience.com/whats-a-customer-worth-8daf183f8a4f)\n",
    "\n",
    "[lifetimes python package](https://github.com/CamDavidsonPilon/lifetimes) for modeling customer lifetime value (CVL). [Docs](https://lifetimes.readthedocs.io/en/latest/index.html).\n",
    "\n",
    "[CLV in pyspark](http://webdropin.com/wordpress99/customer-lifetime-value-in-pyspark/)\n",
    "\n",
    "[CLV broken down step-by-step](http://benalexkeen.com/bg-nbd-model-for-customer-base-analysis-in-python/)"
   ]
  },
  {
   "cell_type": "code",
   "execution_count": 1,
   "metadata": {},
   "outputs": [],
   "source": [
    "import pandas as pd\n",
    "import numpy as np\n",
    "import matplotlib.pylab as plt\n",
    "from lifetimes import BetaGeoFitter\n",
    "\n",
    "from lifetimes.plotting import plot_frequency_recency_matrix\n",
    "\n",
    "import helper as h"
   ]
  },
  {
   "cell_type": "code",
   "execution_count": 2,
   "metadata": {},
   "outputs": [
    {
     "name": "stdout",
     "output_type": "stream",
     "text": [
      "% of users dropped 51.772519717725196\n"
     ]
    }
   ],
   "source": [
    "analysis_year = '2017'\n",
    "user_data_2017 = h.get_merged_data(appName='CVL-model', year=analysis_year)\n",
    "user_data_2017 = user_data_2017.select(user_data_2017.login,\n",
    "                                       user_data_2017.first_event,\n",
    "                                       user_data_2017.last_event,\n",
    "                                       user_data_2017.frequency,\n",
    "                                       user_data_2017.second_period_event_count)"
   ]
  },
  {
   "cell_type": "code",
   "execution_count": 3,
   "metadata": {},
   "outputs": [
    {
     "name": "stdout",
     "output_type": "stream",
     "text": [
      "% of users dropped 4.698526359485271\n"
     ]
    },
    {
     "data": {
      "text/plain": [
       "Row(login2016='0loky0', created_at=datetime.datetime(2011, 5, 24, 16, 15, 25))"
      ]
     },
     "execution_count": 3,
     "metadata": {},
     "output_type": "execute_result"
    }
   ],
   "source": [
    "user_data_2016 = h.get_merged_data(appName='CVL-model', year='2016')\n",
    "user_data_2016 = user_data_2016.select(user_data_2016.login, \n",
    "                                       user_data_2016.created_at)\n",
    "user_data_2016 = user_data_2016.withColumnRenamed('login', 'login2016')\n",
    "user_data_2016.head()"
   ]
  },
  {
   "cell_type": "code",
   "execution_count": 4,
   "metadata": {},
   "outputs": [],
   "source": [
    "user_data = user_data_2017.join(user_data_2016,\n",
    "                                user_data_2017['login'] == user_data_2016['login2016'],\n",
    "                                how='right_outer')"
   ]
  },
  {
   "cell_type": "code",
   "execution_count": 5,
   "metadata": {},
   "outputs": [],
   "source": [
    "user_data = user_data.toPandas()"
   ]
  },
  {
   "cell_type": "code",
   "execution_count": 6,
   "metadata": {},
   "outputs": [],
   "source": [
    "user_data[['frequency', 'second_period_event_count']] = user_data[['frequency', 'second_period_event_count']].fillna(0)\n",
    "user_data[['first_event', 'last_event']] = user_data[['first_event', 'last_event']].fillna(\"2016-01-01 01:01:01\")"
   ]
  },
  {
   "cell_type": "code",
   "execution_count": 7,
   "metadata": {},
   "outputs": [],
   "source": [
    "user_data = h.add_time_columns(user_data, end_date=analysis_year + '-06-01 23:59:59')"
   ]
  },
  {
   "cell_type": "code",
   "execution_count": 8,
   "metadata": {},
   "outputs": [
    {
     "data": {
      "text/html": [
       "<div>\n",
       "<style scoped>\n",
       "    .dataframe tbody tr th:only-of-type {\n",
       "        vertical-align: middle;\n",
       "    }\n",
       "\n",
       "    .dataframe tbody tr th {\n",
       "        vertical-align: top;\n",
       "    }\n",
       "\n",
       "    .dataframe thead th {\n",
       "        text-align: right;\n",
       "    }\n",
       "</style>\n",
       "<table border=\"1\" class=\"dataframe\">\n",
       "  <thead>\n",
       "    <tr style=\"text-align: right;\">\n",
       "      <th></th>\n",
       "      <th>login</th>\n",
       "      <th>first_event</th>\n",
       "      <th>last_event</th>\n",
       "      <th>frequency</th>\n",
       "      <th>second_period_event_count</th>\n",
       "      <th>login2016</th>\n",
       "      <th>created_at</th>\n",
       "      <th>T</th>\n",
       "      <th>recency</th>\n",
       "      <th>time_between_first_last_event</th>\n",
       "    </tr>\n",
       "  </thead>\n",
       "  <tbody>\n",
       "    <tr>\n",
       "      <th>0</th>\n",
       "      <td>0loky0</td>\n",
       "      <td>2017-02-09 03:01:26-06:00</td>\n",
       "      <td>2017-02-09 21:57:59-06:00</td>\n",
       "      <td>2.0</td>\n",
       "      <td>0.0</td>\n",
       "      <td>0loky0</td>\n",
       "      <td>2011-05-24 11:15:25-05:00</td>\n",
       "      <td>2200.0</td>\n",
       "      <td>2088.487894</td>\n",
       "      <td>0.789271</td>\n",
       "    </tr>\n",
       "    <tr>\n",
       "      <th>1</th>\n",
       "      <td>None</td>\n",
       "      <td>2015-12-31 19:01:01-06:00</td>\n",
       "      <td>2015-12-31 19:01:01-06:00</td>\n",
       "      <td>0.0</td>\n",
       "      <td>0.0</td>\n",
       "      <td>13246864965</td>\n",
       "      <td>2016-04-14 01:04:50-05:00</td>\n",
       "      <td>414.0</td>\n",
       "      <td>-104.210984</td>\n",
       "      <td>0.000000</td>\n",
       "    </tr>\n",
       "    <tr>\n",
       "      <th>2</th>\n",
       "      <td>1xPdd</td>\n",
       "      <td>2017-01-15 05:05:29-06:00</td>\n",
       "      <td>2017-05-31 18:39:40-05:00</td>\n",
       "      <td>19.0</td>\n",
       "      <td>13.0</td>\n",
       "      <td>1xPdd</td>\n",
       "      <td>2014-07-10 18:45:56-05:00</td>\n",
       "      <td>1057.0</td>\n",
       "      <td>1055.995648</td>\n",
       "      <td>136.523738</td>\n",
       "    </tr>\n",
       "    <tr>\n",
       "      <th>3</th>\n",
       "      <td>2582056905xy</td>\n",
       "      <td>2017-03-28 22:57:52-05:00</td>\n",
       "      <td>2017-05-21 22:46:50-05:00</td>\n",
       "      <td>7.0</td>\n",
       "      <td>16.0</td>\n",
       "      <td>2582056905xy</td>\n",
       "      <td>2014-04-24 05:51:26-05:00</td>\n",
       "      <td>1135.0</td>\n",
       "      <td>1123.705139</td>\n",
       "      <td>53.992338</td>\n",
       "    </tr>\n",
       "    <tr>\n",
       "      <th>4</th>\n",
       "      <td>None</td>\n",
       "      <td>2015-12-31 19:01:01-06:00</td>\n",
       "      <td>2015-12-31 19:01:01-06:00</td>\n",
       "      <td>0.0</td>\n",
       "      <td>0.0</td>\n",
       "      <td>277542952</td>\n",
       "      <td>2016-03-15 18:17:58-05:00</td>\n",
       "      <td>443.0</td>\n",
       "      <td>-74.928438</td>\n",
       "      <td>0.000000</td>\n",
       "    </tr>\n",
       "  </tbody>\n",
       "</table>\n",
       "</div>"
      ],
      "text/plain": [
       "          login               first_event                last_event  \\\n",
       "0        0loky0 2017-02-09 03:01:26-06:00 2017-02-09 21:57:59-06:00   \n",
       "1          None 2015-12-31 19:01:01-06:00 2015-12-31 19:01:01-06:00   \n",
       "2         1xPdd 2017-01-15 05:05:29-06:00 2017-05-31 18:39:40-05:00   \n",
       "3  2582056905xy 2017-03-28 22:57:52-05:00 2017-05-21 22:46:50-05:00   \n",
       "4          None 2015-12-31 19:01:01-06:00 2015-12-31 19:01:01-06:00   \n",
       "\n",
       "   frequency  second_period_event_count     login2016  \\\n",
       "0        2.0                        0.0        0loky0   \n",
       "1        0.0                        0.0   13246864965   \n",
       "2       19.0                       13.0         1xPdd   \n",
       "3        7.0                       16.0  2582056905xy   \n",
       "4        0.0                        0.0     277542952   \n",
       "\n",
       "                 created_at       T      recency  \\\n",
       "0 2011-05-24 11:15:25-05:00  2200.0  2088.487894   \n",
       "1 2016-04-14 01:04:50-05:00   414.0  -104.210984   \n",
       "2 2014-07-10 18:45:56-05:00  1057.0  1055.995648   \n",
       "3 2014-04-24 05:51:26-05:00  1135.0  1123.705139   \n",
       "4 2016-03-15 18:17:58-05:00   443.0   -74.928438   \n",
       "\n",
       "   time_between_first_last_event  \n",
       "0                       0.789271  \n",
       "1                       0.000000  \n",
       "2                     136.523738  \n",
       "3                      53.992338  \n",
       "4                       0.000000  "
      ]
     },
     "execution_count": 8,
     "metadata": {},
     "output_type": "execute_result"
    }
   ],
   "source": [
    "user_data.head()"
   ]
  },
  {
   "cell_type": "markdown",
   "metadata": {},
   "source": [
    "### T, recency and frequency\n",
    "\n",
    "Definitions from [lifetime](https://lifetimes.readthedocs.io/en/latest/Quickstart.html):\n",
    "\n",
    "`frequency` represents the number of repeat purchases the customer has made. This means that it’s one less than the total number of purchases. This is actually slightly wrong. It’s the count of time periods the customer had a purchase in. So if using days as units, then it’s the count of days the customer had a purchase on.\n",
    "\n",
    "`T` represents the age of the customer in whatever time units chosen (weekly, in the above dataset). This is equal to the duration between a customer’s first purchase and the end of the period under study.\n",
    "\n",
    "`recency` represents the age of the customer when they made their most recent purchases. This is equal to the duration between a customer’s first purchase and their latest purchase. (Thus if they have made only 1 purchase, the recency is 0.)"
   ]
  },
  {
   "cell_type": "markdown",
   "metadata": {},
   "source": [
    "### Model CLV"
   ]
  },
  {
   "cell_type": "code",
   "execution_count": 9,
   "metadata": {},
   "outputs": [],
   "source": [
    "n_weeks =  22 * 7\n",
    "\n",
    "user_data['recency'] = np.floor(user_data.recency)\n",
    "lifetime_df = user_data[['frequency', 'recency', 'T', 'login2016', 'second_period_event_count']]\n",
    "# normalize frequency per week\n",
    "#lifetime_df['frequency'] = lifetime_df.frequency / n_weeks\n",
    "#lifetime_df['second_period_event_count'] = lifetime_df.second_period_event_count / n_weeks\n",
    "\n",
    "lifetime_df = lifetime_df.dropna()"
   ]
  },
  {
   "cell_type": "code",
   "execution_count": 10,
   "metadata": {},
   "outputs": [
    {
     "data": {
      "text/html": [
       "<div>\n",
       "<style scoped>\n",
       "    .dataframe tbody tr th:only-of-type {\n",
       "        vertical-align: middle;\n",
       "    }\n",
       "\n",
       "    .dataframe tbody tr th {\n",
       "        vertical-align: top;\n",
       "    }\n",
       "\n",
       "    .dataframe thead th {\n",
       "        text-align: right;\n",
       "    }\n",
       "</style>\n",
       "<table border=\"1\" class=\"dataframe\">\n",
       "  <thead>\n",
       "    <tr style=\"text-align: right;\">\n",
       "      <th></th>\n",
       "      <th>frequency</th>\n",
       "      <th>recency</th>\n",
       "      <th>T</th>\n",
       "      <th>login2016</th>\n",
       "      <th>second_period_event_count</th>\n",
       "    </tr>\n",
       "  </thead>\n",
       "  <tbody>\n",
       "    <tr>\n",
       "      <th>0</th>\n",
       "      <td>2.0</td>\n",
       "      <td>2088.0</td>\n",
       "      <td>2200.0</td>\n",
       "      <td>0loky0</td>\n",
       "      <td>0.0</td>\n",
       "    </tr>\n",
       "    <tr>\n",
       "      <th>1</th>\n",
       "      <td>0.0</td>\n",
       "      <td>-105.0</td>\n",
       "      <td>414.0</td>\n",
       "      <td>13246864965</td>\n",
       "      <td>0.0</td>\n",
       "    </tr>\n",
       "    <tr>\n",
       "      <th>2</th>\n",
       "      <td>19.0</td>\n",
       "      <td>1055.0</td>\n",
       "      <td>1057.0</td>\n",
       "      <td>1xPdd</td>\n",
       "      <td>13.0</td>\n",
       "    </tr>\n",
       "    <tr>\n",
       "      <th>3</th>\n",
       "      <td>7.0</td>\n",
       "      <td>1123.0</td>\n",
       "      <td>1135.0</td>\n",
       "      <td>2582056905xy</td>\n",
       "      <td>16.0</td>\n",
       "    </tr>\n",
       "    <tr>\n",
       "      <th>4</th>\n",
       "      <td>0.0</td>\n",
       "      <td>-75.0</td>\n",
       "      <td>443.0</td>\n",
       "      <td>277542952</td>\n",
       "      <td>0.0</td>\n",
       "    </tr>\n",
       "  </tbody>\n",
       "</table>\n",
       "</div>"
      ],
      "text/plain": [
       "   frequency  recency       T     login2016  second_period_event_count\n",
       "0        2.0   2088.0  2200.0        0loky0                        0.0\n",
       "1        0.0   -105.0   414.0   13246864965                        0.0\n",
       "2       19.0   1055.0  1057.0         1xPdd                       13.0\n",
       "3        7.0   1123.0  1135.0  2582056905xy                       16.0\n",
       "4        0.0    -75.0   443.0     277542952                        0.0"
      ]
     },
     "execution_count": 10,
     "metadata": {},
     "output_type": "execute_result"
    }
   ],
   "source": [
    "lifetime_df.head()"
   ]
  },
  {
   "cell_type": "code",
   "execution_count": 11,
   "metadata": {},
   "outputs": [],
   "source": [
    "lifetime_df = lifetime_df[(lifetime_df[\"T\"] >= 0)]\n",
    "lifetime_df['recency'][lifetime_df.frequency == 0] = 0\n",
    "lifetime_df = lifetime_df[lifetime_df[\"recency\"] >= 0]\n",
    "#lifetime_df = lifetime_df[lifetime_df.frequency > 0]"
   ]
  },
  {
   "cell_type": "code",
   "execution_count": 12,
   "metadata": {},
   "outputs": [
    {
     "data": {
      "text/html": [
       "<div>\n",
       "<style scoped>\n",
       "    .dataframe tbody tr th:only-of-type {\n",
       "        vertical-align: middle;\n",
       "    }\n",
       "\n",
       "    .dataframe tbody tr th {\n",
       "        vertical-align: top;\n",
       "    }\n",
       "\n",
       "    .dataframe thead th {\n",
       "        text-align: right;\n",
       "    }\n",
       "</style>\n",
       "<table border=\"1\" class=\"dataframe\">\n",
       "  <thead>\n",
       "    <tr style=\"text-align: right;\">\n",
       "      <th></th>\n",
       "      <th>frequency</th>\n",
       "      <th>recency</th>\n",
       "      <th>T</th>\n",
       "      <th>second_period_event_count</th>\n",
       "    </tr>\n",
       "  </thead>\n",
       "  <tbody>\n",
       "    <tr>\n",
       "      <th>count</th>\n",
       "      <td>184642.000000</td>\n",
       "      <td>184642.000000</td>\n",
       "      <td>184642.000000</td>\n",
       "      <td>184642.000000</td>\n",
       "    </tr>\n",
       "    <tr>\n",
       "      <th>mean</th>\n",
       "      <td>15.351859</td>\n",
       "      <td>589.389126</td>\n",
       "      <td>1008.803436</td>\n",
       "      <td>13.169171</td>\n",
       "    </tr>\n",
       "    <tr>\n",
       "      <th>std</th>\n",
       "      <td>40.789337</td>\n",
       "      <td>779.815622</td>\n",
       "      <td>654.143989</td>\n",
       "      <td>40.521026</td>\n",
       "    </tr>\n",
       "    <tr>\n",
       "      <th>min</th>\n",
       "      <td>0.000000</td>\n",
       "      <td>0.000000</td>\n",
       "      <td>2.000000</td>\n",
       "      <td>0.000000</td>\n",
       "    </tr>\n",
       "    <tr>\n",
       "      <th>25%</th>\n",
       "      <td>0.000000</td>\n",
       "      <td>0.000000</td>\n",
       "      <td>464.000000</td>\n",
       "      <td>0.000000</td>\n",
       "    </tr>\n",
       "    <tr>\n",
       "      <th>50%</th>\n",
       "      <td>0.000000</td>\n",
       "      <td>0.000000</td>\n",
       "      <td>786.000000</td>\n",
       "      <td>0.000000</td>\n",
       "    </tr>\n",
       "    <tr>\n",
       "      <th>75%</th>\n",
       "      <td>11.000000</td>\n",
       "      <td>1074.000000</td>\n",
       "      <td>1419.000000</td>\n",
       "      <td>6.000000</td>\n",
       "    </tr>\n",
       "    <tr>\n",
       "      <th>max</th>\n",
       "      <td>597.000000</td>\n",
       "      <td>3399.000000</td>\n",
       "      <td>3410.000000</td>\n",
       "      <td>599.000000</td>\n",
       "    </tr>\n",
       "  </tbody>\n",
       "</table>\n",
       "</div>"
      ],
      "text/plain": [
       "           frequency        recency              T  second_period_event_count\n",
       "count  184642.000000  184642.000000  184642.000000              184642.000000\n",
       "mean       15.351859     589.389126    1008.803436                  13.169171\n",
       "std        40.789337     779.815622     654.143989                  40.521026\n",
       "min         0.000000       0.000000       2.000000                   0.000000\n",
       "25%         0.000000       0.000000     464.000000                   0.000000\n",
       "50%         0.000000       0.000000     786.000000                   0.000000\n",
       "75%        11.000000    1074.000000    1419.000000                   6.000000\n",
       "max       597.000000    3399.000000    3410.000000                 599.000000"
      ]
     },
     "execution_count": 12,
     "metadata": {},
     "output_type": "execute_result"
    }
   ],
   "source": [
    "lifetime_df.describe()"
   ]
  },
  {
   "cell_type": "code",
   "execution_count": 13,
   "metadata": {},
   "outputs": [
    {
     "data": {
      "text/plain": [
       "array([[<matplotlib.axes._subplots.AxesSubplot object at 0x7f5d51b959e8>,\n",
       "        <matplotlib.axes._subplots.AxesSubplot object at 0x7f5d590547b8>],\n",
       "       [<matplotlib.axes._subplots.AxesSubplot object at 0x7f5d581d7048>,\n",
       "        <matplotlib.axes._subplots.AxesSubplot object at 0x7f5d5810d2b0>]],\n",
       "      dtype=object)"
      ]
     },
     "execution_count": 13,
     "metadata": {},
     "output_type": "execute_result"
    },
    {
     "data": {
      "image/png": "[encoded data removed]",
      "text/plain": [
       "<Figure size 432x288 with 4 Axes>"
      ]
     },
     "metadata": {
      "needs_background": "light"
     },
     "output_type": "display_data"
    }
   ],
   "source": [
    "lifetime_df[['frequency', 'T', 'recency']].hist(bins=20)"
   ]
  },
  {
   "cell_type": "code",
   "execution_count": 14,
   "metadata": {},
   "outputs": [
    {
     "name": "stdout",
     "output_type": "stream",
     "text": [
      "<lifetimes.BetaGeoFitter: fitted with 30000 subjects, a: 0.07, alpha: 9.26, b: 182.50, r: 0.15>\n"
     ]
    }
   ],
   "source": [
    "# similar API to scikit-learn and lifelines.\n",
    "n_users = 30000\n",
    "lft_df = lifetime_df.sample(n=n_users, random_state=0)\n",
    "bgf = BetaGeoFitter(penalizer_coef=1e-8)\n",
    "bgf.fit(lft_df['frequency'], lft_df['recency'], lft_df['T'])\n",
    "print(bgf)"
   ]
  },
  {
   "cell_type": "code",
   "execution_count": 15,
   "metadata": {},
   "outputs": [],
   "source": [
    "# save the model\n",
    "bgf.save_model('CLV.pkl')"
   ]
  },
  {
   "cell_type": "code",
   "execution_count": 16,
   "metadata": {},
   "outputs": [
    {
     "name": "stderr",
     "output_type": "stream",
     "text": [
      "/home/brian/anaconda3/lib/python3.7/site-packages/lifetimes/fitters/beta_geo_fitter.py:214: RuntimeWarning: overflow encountered in double_scalars\n",
      "  ((alpha + T) / (alpha + recency)) ** (r + x)\n"
     ]
    },
    {
     "data": {
      "image/png": "[encoded data removed]",
      "text/plain": [
       "<Figure size 432x288 with 2 Axes>"
      ]
     },
     "metadata": {
      "needs_background": "light"
     },
     "output_type": "display_data"
    }
   ],
   "source": [
    "fig, ax = plt.subplots(1, 1)\n",
    "ax = plot_frequency_recency_matrix(bgf, T=n_weeks, max_frequency=None, max_recency=None,\n",
    "                             title='Expected # of future Events for {0} days of time'.format(n_weeks))\n",
    "fig.savefig('figures/expected_number_events.png')"
   ]
  },
  {
   "cell_type": "code",
   "execution_count": 17,
   "metadata": {},
   "outputs": [
    {
     "data": {
      "text/plain": [
       "<matplotlib.axes._subplots.AxesSubplot at 0x7f5d52c0c240>"
      ]
     },
     "execution_count": 17,
     "metadata": {},
     "output_type": "execute_result"
    },
    {
     "data": {
      "image/png": "[encoded data removed]",
      "text/plain": [
       "<Figure size 432x288 with 2 Axes>"
      ]
     },
     "metadata": {
      "needs_background": "light"
     },
     "output_type": "display_data"
    }
   ],
   "source": [
    "from lifetimes.plotting import plot_probability_alive_matrix\n",
    "\n",
    "plot_probability_alive_matrix(bgf)"
   ]
  },
  {
   "cell_type": "markdown",
   "metadata": {},
   "source": [
    "## Expected contributions in the upcoming cycle"
   ]
  },
  {
   "cell_type": "code",
   "execution_count": 18,
   "metadata": {},
   "outputs": [
    {
     "data": {
      "text/html": [
       "<div>\n",
       "<style scoped>\n",
       "    .dataframe tbody tr th:only-of-type {\n",
       "        vertical-align: middle;\n",
       "    }\n",
       "\n",
       "    .dataframe tbody tr th {\n",
       "        vertical-align: top;\n",
       "    }\n",
       "\n",
       "    .dataframe thead th {\n",
       "        text-align: right;\n",
       "    }\n",
       "</style>\n",
       "<table border=\"1\" class=\"dataframe\">\n",
       "  <thead>\n",
       "    <tr style=\"text-align: right;\">\n",
       "      <th></th>\n",
       "      <th>frequency</th>\n",
       "      <th>recency</th>\n",
       "      <th>T</th>\n",
       "      <th>login2016</th>\n",
       "      <th>second_period_event_count</th>\n",
       "      <th>predicted_purchases</th>\n",
       "    </tr>\n",
       "  </thead>\n",
       "  <tbody>\n",
       "    <tr>\n",
       "      <th>81599</th>\n",
       "      <td>327.0</td>\n",
       "      <td>384.0</td>\n",
       "      <td>386.0</td>\n",
       "      <td>milk-shake</td>\n",
       "      <td>69.0</td>\n",
       "      <td>126.380045</td>\n",
       "    </tr>\n",
       "    <tr>\n",
       "      <th>177053</th>\n",
       "      <td>548.0</td>\n",
       "      <td>594.0</td>\n",
       "      <td>595.0</td>\n",
       "      <td>abmorris</td>\n",
       "      <td>214.0</td>\n",
       "      <td>138.820091</td>\n",
       "    </tr>\n",
       "    <tr>\n",
       "      <th>151185</th>\n",
       "      <td>441.0</td>\n",
       "      <td>456.0</td>\n",
       "      <td>457.0</td>\n",
       "      <td>dengyuhan</td>\n",
       "      <td>447.0</td>\n",
       "      <td>144.599063</td>\n",
       "    </tr>\n",
       "    <tr>\n",
       "      <th>119611</th>\n",
       "      <td>496.0</td>\n",
       "      <td>476.0</td>\n",
       "      <td>476.0</td>\n",
       "      <td>bashkirtsevich</td>\n",
       "      <td>271.0</td>\n",
       "      <td>156.295166</td>\n",
       "    </tr>\n",
       "    <tr>\n",
       "      <th>132138</th>\n",
       "      <td>204.0</td>\n",
       "      <td>147.0</td>\n",
       "      <td>148.0</td>\n",
       "      <td>rasch</td>\n",
       "      <td>17.0</td>\n",
       "      <td>196.798336</td>\n",
       "    </tr>\n",
       "  </tbody>\n",
       "</table>\n",
       "</div>"
      ],
      "text/plain": [
       "        frequency  recency      T       login2016  second_period_event_count  \\\n",
       "81599       327.0    384.0  386.0      milk-shake                       69.0   \n",
       "177053      548.0    594.0  595.0        abmorris                      214.0   \n",
       "151185      441.0    456.0  457.0       dengyuhan                      447.0   \n",
       "119611      496.0    476.0  476.0  bashkirtsevich                      271.0   \n",
       "132138      204.0    147.0  148.0           rasch                       17.0   \n",
       "\n",
       "        predicted_purchases  \n",
       "81599            126.380045  \n",
       "177053           138.820091  \n",
       "151185           144.599063  \n",
       "119611           156.295166  \n",
       "132138           196.798336  "
      ]
     },
     "execution_count": 18,
     "metadata": {},
     "output_type": "execute_result"
    }
   ],
   "source": [
    "lft_df['predicted_purchases'] = bgf.conditional_expected_number_of_purchases_up_to_time(n_weeks,\n",
    "                                                                                        lft_df['frequency'], \n",
    "                                                                                        lft_df['recency'], \n",
    "                                                                                        lft_df['T'])\n",
    "lft_df.sort_values(by='predicted_purchases').tail(5)"
   ]
  },
  {
   "cell_type": "code",
   "execution_count": 19,
   "metadata": {},
   "outputs": [
    {
     "name": "stdout",
     "output_type": "stream",
     "text": [
      "[[1.        0.4910994]\n",
      " [0.4910994 1.       ]]\n"
     ]
    },
    {
     "data": {
      "text/plain": [
       "38.38407738512293"
      ]
     },
     "execution_count": 19,
     "metadata": {},
     "output_type": "execute_result"
    },
    {
     "data": {
      "image/png": "[encoded data removed]",
      "text/plain": [
       "<Figure size 432x288 with 1 Axes>"
      ]
     },
     "metadata": {
      "needs_background": "light"
     },
     "output_type": "display_data"
    }
   ],
   "source": [
    "#user_data.dtypes\n",
    "#predict_df = predict_df[predict_df.second_period_event_count < 60]\n",
    "#lft_df['predicted_purchases'] = lft_df.predicted_purchases\n",
    "plt.plot(lft_df.second_period_event_count, lft_df.predicted_purchases, 'k.', alpha=0.2)\n",
    "#plt.xlim([0, 60])\n",
    "#plt.ylim([0, 60])\n",
    "\n",
    "print(np.corrcoef(lft_df.predicted_purchases, lft_df.second_period_event_count))\n",
    "np.sqrt(np.mean((lft_df.predicted_purchases - lft_df.second_period_event_count) ** 2))"
   ]
  },
  {
   "cell_type": "code",
   "execution_count": 20,
   "metadata": {},
   "outputs": [
    {
     "data": {
      "text/html": [
       "<div>\n",
       "<style scoped>\n",
       "    .dataframe tbody tr th:only-of-type {\n",
       "        vertical-align: middle;\n",
       "    }\n",
       "\n",
       "    .dataframe tbody tr th {\n",
       "        vertical-align: top;\n",
       "    }\n",
       "\n",
       "    .dataframe thead th {\n",
       "        text-align: right;\n",
       "    }\n",
       "</style>\n",
       "<table border=\"1\" class=\"dataframe\">\n",
       "  <thead>\n",
       "    <tr style=\"text-align: right;\">\n",
       "      <th></th>\n",
       "      <th>frequency</th>\n",
       "      <th>recency</th>\n",
       "      <th>T</th>\n",
       "      <th>login2016</th>\n",
       "      <th>second_period_event_count</th>\n",
       "      <th>predicted_purchases</th>\n",
       "      <th>probability_alive</th>\n",
       "      <th>alive</th>\n",
       "    </tr>\n",
       "  </thead>\n",
       "  <tbody>\n",
       "    <tr>\n",
       "      <th>93358</th>\n",
       "      <td>0.0</td>\n",
       "      <td>0.0</td>\n",
       "      <td>396.0</td>\n",
       "      <td>enanuxy</td>\n",
       "      <td>0.0</td>\n",
       "      <td>0.056532</td>\n",
       "      <td>0.999630</td>\n",
       "      <td>True</td>\n",
       "    </tr>\n",
       "    <tr>\n",
       "      <th>130457</th>\n",
       "      <td>16.0</td>\n",
       "      <td>1711.0</td>\n",
       "      <td>1745.0</td>\n",
       "      <td>vladimirivanoviliev</td>\n",
       "      <td>44.0</td>\n",
       "      <td>1.416616</td>\n",
       "      <td>0.954876</td>\n",
       "      <td>True</td>\n",
       "    </tr>\n",
       "    <tr>\n",
       "      <th>80468</th>\n",
       "      <td>0.0</td>\n",
       "      <td>0.0</td>\n",
       "      <td>2254.0</td>\n",
       "      <td>emfeha</td>\n",
       "      <td>0.0</td>\n",
       "      <td>0.010123</td>\n",
       "      <td>0.999630</td>\n",
       "      <td>True</td>\n",
       "    </tr>\n",
       "    <tr>\n",
       "      <th>157171</th>\n",
       "      <td>60.0</td>\n",
       "      <td>1318.0</td>\n",
       "      <td>1326.0</td>\n",
       "      <td>qule510</td>\n",
       "      <td>37.0</td>\n",
       "      <td>6.927641</td>\n",
       "      <td>0.989109</td>\n",
       "      <td>True</td>\n",
       "    </tr>\n",
       "    <tr>\n",
       "      <th>128463</th>\n",
       "      <td>91.0</td>\n",
       "      <td>2920.0</td>\n",
       "      <td>2932.0</td>\n",
       "      <td>subhash</td>\n",
       "      <td>69.0</td>\n",
       "      <td>4.767875</td>\n",
       "      <td>0.982440</td>\n",
       "      <td>True</td>\n",
       "    </tr>\n",
       "    <tr>\n",
       "      <th>163640</th>\n",
       "      <td>32.0</td>\n",
       "      <td>1909.0</td>\n",
       "      <td>1931.0</td>\n",
       "      <td>n0tnull</td>\n",
       "      <td>3.0</td>\n",
       "      <td>2.549460</td>\n",
       "      <td>0.970423</td>\n",
       "      <td>True</td>\n",
       "    </tr>\n",
       "    <tr>\n",
       "      <th>176393</th>\n",
       "      <td>0.0</td>\n",
       "      <td>0.0</td>\n",
       "      <td>396.0</td>\n",
       "      <td>izixoqi</td>\n",
       "      <td>0.0</td>\n",
       "      <td>0.056532</td>\n",
       "      <td>0.999630</td>\n",
       "      <td>True</td>\n",
       "    </tr>\n",
       "    <tr>\n",
       "      <th>62816</th>\n",
       "      <td>2.0</td>\n",
       "      <td>347.0</td>\n",
       "      <td>419.0</td>\n",
       "      <td>kacperrzepecki</td>\n",
       "      <td>2.0</td>\n",
       "      <td>0.772110</td>\n",
       "      <td>0.980787</td>\n",
       "      <td>True</td>\n",
       "    </tr>\n",
       "    <tr>\n",
       "      <th>75501</th>\n",
       "      <td>4.0</td>\n",
       "      <td>1440.0</td>\n",
       "      <td>1442.0</td>\n",
       "      <td>JulianKoenig</td>\n",
       "      <td>0.0</td>\n",
       "      <td>0.440042</td>\n",
       "      <td>0.924748</td>\n",
       "      <td>True</td>\n",
       "    </tr>\n",
       "    <tr>\n",
       "      <th>172646</th>\n",
       "      <td>0.0</td>\n",
       "      <td>0.0</td>\n",
       "      <td>567.0</td>\n",
       "      <td>fadindia</td>\n",
       "      <td>0.0</td>\n",
       "      <td>0.039757</td>\n",
       "      <td>0.999630</td>\n",
       "      <td>True</td>\n",
       "    </tr>\n",
       "    <tr>\n",
       "      <th>66916</th>\n",
       "      <td>0.0</td>\n",
       "      <td>0.0</td>\n",
       "      <td>437.0</td>\n",
       "      <td>twaddell</td>\n",
       "      <td>0.0</td>\n",
       "      <td>0.051338</td>\n",
       "      <td>0.999630</td>\n",
       "      <td>True</td>\n",
       "    </tr>\n",
       "    <tr>\n",
       "      <th>103288</th>\n",
       "      <td>0.0</td>\n",
       "      <td>0.0</td>\n",
       "      <td>2372.0</td>\n",
       "      <td>tdirrenb</td>\n",
       "      <td>0.0</td>\n",
       "      <td>0.009622</td>\n",
       "      <td>0.999630</td>\n",
       "      <td>True</td>\n",
       "    </tr>\n",
       "    <tr>\n",
       "      <th>107408</th>\n",
       "      <td>0.0</td>\n",
       "      <td>0.0</td>\n",
       "      <td>859.0</td>\n",
       "      <td>christianbai</td>\n",
       "      <td>0.0</td>\n",
       "      <td>0.026387</td>\n",
       "      <td>0.999630</td>\n",
       "      <td>True</td>\n",
       "    </tr>\n",
       "    <tr>\n",
       "      <th>83481</th>\n",
       "      <td>105.0</td>\n",
       "      <td>566.0</td>\n",
       "      <td>568.0</td>\n",
       "      <td>mathieu-aubin</td>\n",
       "      <td>144.0</td>\n",
       "      <td>27.951708</td>\n",
       "      <td>0.997635</td>\n",
       "      <td>True</td>\n",
       "    </tr>\n",
       "    <tr>\n",
       "      <th>90744</th>\n",
       "      <td>0.0</td>\n",
       "      <td>0.0</td>\n",
       "      <td>401.0</td>\n",
       "      <td>jlaragon</td>\n",
       "      <td>0.0</td>\n",
       "      <td>0.055843</td>\n",
       "      <td>0.999630</td>\n",
       "      <td>True</td>\n",
       "    </tr>\n",
       "  </tbody>\n",
       "</table>\n",
       "</div>"
      ],
      "text/plain": [
       "        frequency  recency       T            login2016  \\\n",
       "93358         0.0      0.0   396.0              enanuxy   \n",
       "130457       16.0   1711.0  1745.0  vladimirivanoviliev   \n",
       "80468         0.0      0.0  2254.0               emfeha   \n",
       "157171       60.0   1318.0  1326.0              qule510   \n",
       "128463       91.0   2920.0  2932.0              subhash   \n",
       "163640       32.0   1909.0  1931.0              n0tnull   \n",
       "176393        0.0      0.0   396.0              izixoqi   \n",
       "62816         2.0    347.0   419.0       kacperrzepecki   \n",
       "75501         4.0   1440.0  1442.0         JulianKoenig   \n",
       "172646        0.0      0.0   567.0             fadindia   \n",
       "66916         0.0      0.0   437.0             twaddell   \n",
       "103288        0.0      0.0  2372.0             tdirrenb   \n",
       "107408        0.0      0.0   859.0         christianbai   \n",
       "83481       105.0    566.0   568.0        mathieu-aubin   \n",
       "90744         0.0      0.0   401.0             jlaragon   \n",
       "\n",
       "        second_period_event_count  predicted_purchases  probability_alive  \\\n",
       "93358                         0.0             0.056532           0.999630   \n",
       "130457                       44.0             1.416616           0.954876   \n",
       "80468                         0.0             0.010123           0.999630   \n",
       "157171                       37.0             6.927641           0.989109   \n",
       "128463                       69.0             4.767875           0.982440   \n",
       "163640                        3.0             2.549460           0.970423   \n",
       "176393                        0.0             0.056532           0.999630   \n",
       "62816                         2.0             0.772110           0.980787   \n",
       "75501                         0.0             0.440042           0.924748   \n",
       "172646                        0.0             0.039757           0.999630   \n",
       "66916                         0.0             0.051338           0.999630   \n",
       "103288                        0.0             0.009622           0.999630   \n",
       "107408                        0.0             0.026387           0.999630   \n",
       "83481                       144.0            27.951708           0.997635   \n",
       "90744                         0.0             0.055843           0.999630   \n",
       "\n",
       "        alive  \n",
       "93358    True  \n",
       "130457   True  \n",
       "80468    True  \n",
       "157171   True  \n",
       "128463   True  \n",
       "163640   True  \n",
       "176393   True  \n",
       "62816    True  \n",
       "75501    True  \n",
       "172646   True  \n",
       "66916    True  \n",
       "103288   True  \n",
       "107408   True  \n",
       "83481    True  \n",
       "90744    True  "
      ]
     },
     "execution_count": 20,
     "metadata": {},
     "output_type": "execute_result"
    }
   ],
   "source": [
    "lft_df['probability_alive'] = bgf.conditional_probability_alive(1, lft_df['frequency'], \n",
    "                                                                  lft_df['recency'], n_weeks)\n",
    "lft_df['alive'] = lft_df['probability_alive'] > 0.5\n",
    "lft_df.head(15)"
   ]
  },
  {
   "cell_type": "code",
   "execution_count": 21,
   "metadata": {},
   "outputs": [
    {
     "name": "stdout",
     "output_type": "stream",
     "text": [
      "Precision: 1.0\n",
      "Recall:    0.366\n",
      "Accuracy:  0.366\n",
      "F1-score:  0.536\n"
     ]
    }
   ],
   "source": [
    "TP = np.sum((lft_df.alive == True) & (lft_df.second_period_event_count > 0))\n",
    "FP = np.sum((lft_df.alive == False) & (lft_df.second_period_event_count > 0))\n",
    "FN = np.sum((lft_df.alive == True) & (lft_df.second_period_event_count < 1))\n",
    "TN = np.sum((lft_df.alive == False) & (lft_df.second_period_event_count < 1))\n",
    "\n",
    "precision = TP / (TP + FP)\n",
    "recall = TP / (TP + FN)\n",
    "accuracy = (TP + TN) / (TP + FP + FN + TN)\n",
    "f1score = 2 * (precision * recall) /  (precision + recall)\n",
    "print('Precision: {0}'.format(np.round(precision, 3)))\n",
    "print('Recall:    {0}'.format(np.round(recall, 3)))\n",
    "print('Accuracy:  {0}'.format(np.round(accuracy, 3)))\n",
    "print('F1-score:  {0}'.format(np.round(f1score, 4)))\n",
    "#print([TP.sum(), FP.sum()])"
   ]
  },
  {
   "cell_type": "code",
   "execution_count": 22,
   "metadata": {},
   "outputs": [
    {
     "data": {
      "text/html": [
       "<div>\n",
       "<style scoped>\n",
       "    .dataframe tbody tr th:only-of-type {\n",
       "        vertical-align: middle;\n",
       "    }\n",
       "\n",
       "    .dataframe tbody tr th {\n",
       "        vertical-align: top;\n",
       "    }\n",
       "\n",
       "    .dataframe thead th {\n",
       "        text-align: right;\n",
       "    }\n",
       "</style>\n",
       "<table border=\"1\" class=\"dataframe\">\n",
       "  <thead>\n",
       "    <tr style=\"text-align: right;\">\n",
       "      <th></th>\n",
       "      <th>alive</th>\n",
       "      <th>second_period_event_count</th>\n",
       "      <th>Unnamed 0</th>\n",
       "    </tr>\n",
       "  </thead>\n",
       "  <tbody>\n",
       "    <tr>\n",
       "      <th>93358</th>\n",
       "      <td>True</td>\n",
       "      <td>False</td>\n",
       "      <td>False</td>\n",
       "    </tr>\n",
       "    <tr>\n",
       "      <th>130457</th>\n",
       "      <td>True</td>\n",
       "      <td>True</td>\n",
       "      <td>True</td>\n",
       "    </tr>\n",
       "    <tr>\n",
       "      <th>80468</th>\n",
       "      <td>True</td>\n",
       "      <td>False</td>\n",
       "      <td>False</td>\n",
       "    </tr>\n",
       "    <tr>\n",
       "      <th>157171</th>\n",
       "      <td>True</td>\n",
       "      <td>True</td>\n",
       "      <td>True</td>\n",
       "    </tr>\n",
       "    <tr>\n",
       "      <th>128463</th>\n",
       "      <td>True</td>\n",
       "      <td>True</td>\n",
       "      <td>True</td>\n",
       "    </tr>\n",
       "    <tr>\n",
       "      <th>163640</th>\n",
       "      <td>True</td>\n",
       "      <td>True</td>\n",
       "      <td>True</td>\n",
       "    </tr>\n",
       "    <tr>\n",
       "      <th>176393</th>\n",
       "      <td>True</td>\n",
       "      <td>False</td>\n",
       "      <td>False</td>\n",
       "    </tr>\n",
       "    <tr>\n",
       "      <th>62816</th>\n",
       "      <td>True</td>\n",
       "      <td>True</td>\n",
       "      <td>True</td>\n",
       "    </tr>\n",
       "    <tr>\n",
       "      <th>75501</th>\n",
       "      <td>True</td>\n",
       "      <td>False</td>\n",
       "      <td>False</td>\n",
       "    </tr>\n",
       "    <tr>\n",
       "      <th>172646</th>\n",
       "      <td>True</td>\n",
       "      <td>False</td>\n",
       "      <td>False</td>\n",
       "    </tr>\n",
       "  </tbody>\n",
       "</table>\n",
       "</div>"
      ],
      "text/plain": [
       "        alive  second_period_event_count  Unnamed 0\n",
       "93358    True                      False      False\n",
       "130457   True                       True       True\n",
       "80468    True                      False      False\n",
       "157171   True                       True       True\n",
       "128463   True                       True       True\n",
       "163640   True                       True       True\n",
       "176393   True                      False      False\n",
       "62816    True                       True       True\n",
       "75501    True                      False      False\n",
       "172646   True                      False      False"
      ]
     },
     "execution_count": 22,
     "metadata": {},
     "output_type": "execute_result"
    }
   ],
   "source": [
    "pd.DataFrame([lft_df.alive == True, lft_df.second_period_event_count > 0,\n",
    "             (lft_df.alive == True) & (lft_df.second_period_event_count > 0)]).transpose()[:10]"
   ]
  },
  {
   "cell_type": "code",
   "execution_count": 35,
   "metadata": {},
   "outputs": [
    {
     "data": {
      "text/plain": [
       "<matplotlib.axes._subplots.AxesSubplot at 0x7fb3e8bbebe0>"
      ]
     },
     "execution_count": 35,
     "metadata": {},
     "output_type": "execute_result"
    },
    {
     "data": {
      "image/png": "[encoded data removed]",
      "text/plain": [
       "<Figure size 432x288 with 1 Axes>"
      ]
     },
     "metadata": {
      "needs_background": "light"
     },
     "output_type": "display_data"
    }
   ],
   "source": [
    "from lifetimes.plotting import plot_period_transactions\n",
    "plot_period_transactions(bgf)"
   ]
  },
  {
   "cell_type": "code",
   "execution_count": null,
   "metadata": {},
   "outputs": [],
   "source": []
  }
 ],
 "metadata": {
  "kernelspec": {
   "display_name": "Python 3",
   "language": "python",
   "name": "python3"
  },
  "language_info": {
   "codemirror_mode": {
    "name": "ipython",
    "version": 3
   },
   "file_extension": ".py",
   "mimetype": "text/x-python",
   "name": "python",
   "nbconvert_exporter": "python",
   "pygments_lexer": "ipython3",
   "version": "3.7.2"
  }
 },
 "nbformat": 4,
 "nbformat_minor": 2
}

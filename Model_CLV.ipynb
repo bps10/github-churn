{
 "cells": [
  {
   "cell_type": "markdown",
   "metadata": {},
   "source": [
    "# CLV model\n",
    "\n",
    "[Customer value in non-contractual business model](https://towardsdatascience.com/whats-a-customer-worth-8daf183f8a4f)\n",
    "\n",
    "[lifetimes python package](https://github.com/CamDavidsonPilon/lifetimes) for modeling customer lifetime value (CVL).\n",
    "\n",
    "[CLV in pyspark](http://webdropin.com/wordpress99/customer-lifetime-value-in-pyspark/)\n",
    "\n",
    "[CLV broken down step-by-step](http://benalexkeen.com/bg-nbd-model-for-customer-base-analysis-in-python/)"
   ]
  },
  {
   "cell_type": "code",
   "execution_count": 40,
   "metadata": {},
   "outputs": [],
   "source": [
    "import pandas as pd\n",
    "import numpy as np\n",
    "import matplotlib.pylab as plt\n",
    "from lifetimes import BetaGeoFitter\n",
    "\n",
    "from lifetimes.plotting import plot_frequency_recency_matrix\n",
    "\n",
    "import helper as h"
   ]
  },
  {
   "cell_type": "code",
   "execution_count": 65,
   "metadata": {},
   "outputs": [
    {
     "name": "stdout",
     "output_type": "stream",
     "text": [
      "% of users dropped 51.772519717725196\n"
     ]
    }
   ],
   "source": [
    "analysis_year = '2017'\n",
    "user_data_2017 = h.get_merged_data(appName='CVL-model', year=analysis_year)\n",
    "user_data_2017 = user_data_2017.select(user_data_2017.login,\n",
    "                                       user_data_2017.first_event,\n",
    "                                       user_data_2017.last_event,\n",
    "                                       user_data_2017.frequency,\n",
    "                                       user_data_2017.second_period_event_count)"
   ]
  },
  {
   "cell_type": "code",
   "execution_count": 66,
   "metadata": {},
   "outputs": [
    {
     "name": "stdout",
     "output_type": "stream",
     "text": [
      "% of users dropped 4.698526359485271\n"
     ]
    },
    {
     "data": {
      "text/plain": [
       "Row(login2016='0loky0', created_at='2011-05-24 20:15:25+00:00')"
      ]
     },
     "execution_count": 66,
     "metadata": {},
     "output_type": "execute_result"
    }
   ],
   "source": [
    "user_data_2016 = h.get_merged_data(appName='CVL-model', year='2016')\n",
    "user_data_2016 = user_data_2016.select(user_data_2016.login, \n",
    "                                       user_data_2016.created_at)\n",
    "user_data_2016 = user_data_2016.withColumnRenamed('login', 'login2016')\n",
    "user_data_2016.head()"
   ]
  },
  {
   "cell_type": "code",
   "execution_count": 67,
   "metadata": {},
   "outputs": [],
   "source": [
    "user_data = user_data_2017.join(user_data_2016,\n",
    "                                user_data_2017['login'] == user_data_2016['login2016'],\n",
    "                                how='right_outer')"
   ]
  },
  {
   "cell_type": "code",
   "execution_count": 68,
   "metadata": {},
   "outputs": [],
   "source": [
    "user_data = user_data.fillna(0, subset=['frequency', 'second_period_event_count'])\n",
    "user_data = user_data.fillna(\"2016-01-01\", subset=['first_event', 'last_event'])\n",
    "\n",
    "user_data = user_data.toPandas()"
   ]
  },
  {
   "cell_type": "code",
   "execution_count": 69,
   "metadata": {},
   "outputs": [],
   "source": [
    "user_data = h.add_time_columns(user_data, end_date=analysis_year + '-06-01 23:59:59+00:00')"
   ]
  },
  {
   "cell_type": "code",
   "execution_count": 70,
   "metadata": {},
   "outputs": [
    {
     "data": {
      "text/html": [
       "<div>\n",
       "<style scoped>\n",
       "    .dataframe tbody tr th:only-of-type {\n",
       "        vertical-align: middle;\n",
       "    }\n",
       "\n",
       "    .dataframe tbody tr th {\n",
       "        vertical-align: top;\n",
       "    }\n",
       "\n",
       "    .dataframe thead th {\n",
       "        text-align: right;\n",
       "    }\n",
       "</style>\n",
       "<table border=\"1\" class=\"dataframe\">\n",
       "  <thead>\n",
       "    <tr style=\"text-align: right;\">\n",
       "      <th></th>\n",
       "      <th>login</th>\n",
       "      <th>first_event</th>\n",
       "      <th>last_event</th>\n",
       "      <th>frequency</th>\n",
       "      <th>second_period_event_count</th>\n",
       "      <th>login2016</th>\n",
       "      <th>created_at</th>\n",
       "      <th>T</th>\n",
       "      <th>recency</th>\n",
       "      <th>time_between_first_last_event</th>\n",
       "    </tr>\n",
       "  </thead>\n",
       "  <tbody>\n",
       "    <tr>\n",
       "      <th>0</th>\n",
       "      <td>0loky0</td>\n",
       "      <td>2017-02-09 14:01:26</td>\n",
       "      <td>2017-02-10 08:57:59</td>\n",
       "      <td>2</td>\n",
       "      <td>0</td>\n",
       "      <td>0loky0</td>\n",
       "      <td>2011-05-24 20:15:25</td>\n",
       "      <td>314.0</td>\n",
       "      <td>298.361366</td>\n",
       "      <td>0.789271</td>\n",
       "    </tr>\n",
       "    <tr>\n",
       "      <th>1</th>\n",
       "      <td>None</td>\n",
       "      <td>2016-01-01 00:00:00</td>\n",
       "      <td>2016-01-01 00:00:00</td>\n",
       "      <td>0</td>\n",
       "      <td>0</td>\n",
       "      <td>13246864965</td>\n",
       "      <td>2016-04-14 10:04:50</td>\n",
       "      <td>59.0</td>\n",
       "      <td>-14.917146</td>\n",
       "      <td>0.000000</td>\n",
       "    </tr>\n",
       "    <tr>\n",
       "      <th>2</th>\n",
       "      <td>1xPdd</td>\n",
       "      <td>2017-01-15 16:05:29</td>\n",
       "      <td>2017-06-01 03:39:40</td>\n",
       "      <td>19</td>\n",
       "      <td>13</td>\n",
       "      <td>1xPdd</td>\n",
       "      <td>2014-07-11 03:45:56</td>\n",
       "      <td>151.0</td>\n",
       "      <td>150.856521</td>\n",
       "      <td>136.482072</td>\n",
       "    </tr>\n",
       "    <tr>\n",
       "      <th>3</th>\n",
       "      <td>2582056905xy</td>\n",
       "      <td>2017-03-29 07:57:52</td>\n",
       "      <td>2017-05-22 07:46:50</td>\n",
       "      <td>7</td>\n",
       "      <td>16</td>\n",
       "      <td>2582056905xy</td>\n",
       "      <td>2014-04-24 14:51:26</td>\n",
       "      <td>162.0</td>\n",
       "      <td>160.529306</td>\n",
       "      <td>53.992338</td>\n",
       "    </tr>\n",
       "    <tr>\n",
       "      <th>4</th>\n",
       "      <td>None</td>\n",
       "      <td>2016-01-01 00:00:00</td>\n",
       "      <td>2016-01-01 00:00:00</td>\n",
       "      <td>0</td>\n",
       "      <td>0</td>\n",
       "      <td>277542952</td>\n",
       "      <td>2016-03-16 03:17:58</td>\n",
       "      <td>63.0</td>\n",
       "      <td>-10.733925</td>\n",
       "      <td>0.000000</td>\n",
       "    </tr>\n",
       "  </tbody>\n",
       "</table>\n",
       "</div>"
      ],
      "text/plain": [
       "          login         first_event          last_event  frequency  \\\n",
       "0        0loky0 2017-02-09 14:01:26 2017-02-10 08:57:59          2   \n",
       "1          None 2016-01-01 00:00:00 2016-01-01 00:00:00          0   \n",
       "2         1xPdd 2017-01-15 16:05:29 2017-06-01 03:39:40         19   \n",
       "3  2582056905xy 2017-03-29 07:57:52 2017-05-22 07:46:50          7   \n",
       "4          None 2016-01-01 00:00:00 2016-01-01 00:00:00          0   \n",
       "\n",
       "   second_period_event_count     login2016          created_at      T  \\\n",
       "0                          0        0loky0 2011-05-24 20:15:25  314.0   \n",
       "1                          0   13246864965 2016-04-14 10:04:50   59.0   \n",
       "2                         13         1xPdd 2014-07-11 03:45:56  151.0   \n",
       "3                         16  2582056905xy 2014-04-24 14:51:26  162.0   \n",
       "4                          0     277542952 2016-03-16 03:17:58   63.0   \n",
       "\n",
       "      recency  time_between_first_last_event  \n",
       "0  298.361366                       0.789271  \n",
       "1  -14.917146                       0.000000  \n",
       "2  150.856521                     136.482072  \n",
       "3  160.529306                      53.992338  \n",
       "4  -10.733925                       0.000000  "
      ]
     },
     "execution_count": 70,
     "metadata": {},
     "output_type": "execute_result"
    }
   ],
   "source": [
    "user_data.head()"
   ]
  },
  {
   "cell_type": "markdown",
   "metadata": {},
   "source": [
    "### T, recency and frequency\n",
    "\n",
    "Definitions from [lifetime](https://lifetimes.readthedocs.io/en/latest/Quickstart.html):\n",
    "\n",
    "`frequency` represents the number of repeat purchases the customer has made. This means that it’s one less than the total number of purchases. This is actually slightly wrong. It’s the count of time periods the customer had a purchase in. So if using days as units, then it’s the count of days the customer had a purchase on.\n",
    "\n",
    "`T` represents the age of the customer in whatever time units chosen (weekly, in the above dataset). This is equal to the duration between a customer’s first purchase and the end of the period under study.\n",
    "\n",
    "`recency` represents the age of the customer when they made their most recent purchases. This is equal to the duration between a customer’s first purchase and their latest purchase. (Thus if they have made only 1 purchase, the recency is 0.)"
   ]
  },
  {
   "cell_type": "markdown",
   "metadata": {},
   "source": [
    "### Model CLV"
   ]
  },
  {
   "cell_type": "code",
   "execution_count": 118,
   "metadata": {},
   "outputs": [],
   "source": [
    "n_weeks = 22\n",
    "\n",
    "user_data['recency'] = np.floor(user_data.recency)\n",
    "lifetime_df = user_data[['frequency', 'recency', 'T', 'login2016', 'second_period_event_count']]\n",
    "# normalize frequency per week\n",
    "#lifetime_df['frequency'] = lifetime_df.frequency / n_weeks\n",
    "#lifetime_df['second_period_event_count'] = lifetime_df.second_period_event_count / n_weeks\n",
    "\n",
    "lifetime_df = lifetime_df.dropna()"
   ]
  },
  {
   "cell_type": "code",
   "execution_count": 119,
   "metadata": {},
   "outputs": [
    {
     "data": {
      "text/html": [
       "<div>\n",
       "<style scoped>\n",
       "    .dataframe tbody tr th:only-of-type {\n",
       "        vertical-align: middle;\n",
       "    }\n",
       "\n",
       "    .dataframe tbody tr th {\n",
       "        vertical-align: top;\n",
       "    }\n",
       "\n",
       "    .dataframe thead th {\n",
       "        text-align: right;\n",
       "    }\n",
       "</style>\n",
       "<table border=\"1\" class=\"dataframe\">\n",
       "  <thead>\n",
       "    <tr style=\"text-align: right;\">\n",
       "      <th></th>\n",
       "      <th>frequency</th>\n",
       "      <th>recency</th>\n",
       "      <th>T</th>\n",
       "      <th>login2016</th>\n",
       "      <th>second_period_event_count</th>\n",
       "    </tr>\n",
       "  </thead>\n",
       "  <tbody>\n",
       "    <tr>\n",
       "      <th>0</th>\n",
       "      <td>2</td>\n",
       "      <td>298.0</td>\n",
       "      <td>314.0</td>\n",
       "      <td>0loky0</td>\n",
       "      <td>0</td>\n",
       "    </tr>\n",
       "    <tr>\n",
       "      <th>1</th>\n",
       "      <td>0</td>\n",
       "      <td>-15.0</td>\n",
       "      <td>59.0</td>\n",
       "      <td>13246864965</td>\n",
       "      <td>0</td>\n",
       "    </tr>\n",
       "    <tr>\n",
       "      <th>2</th>\n",
       "      <td>19</td>\n",
       "      <td>150.0</td>\n",
       "      <td>151.0</td>\n",
       "      <td>1xPdd</td>\n",
       "      <td>13</td>\n",
       "    </tr>\n",
       "    <tr>\n",
       "      <th>3</th>\n",
       "      <td>7</td>\n",
       "      <td>160.0</td>\n",
       "      <td>162.0</td>\n",
       "      <td>2582056905xy</td>\n",
       "      <td>16</td>\n",
       "    </tr>\n",
       "    <tr>\n",
       "      <th>4</th>\n",
       "      <td>0</td>\n",
       "      <td>-11.0</td>\n",
       "      <td>63.0</td>\n",
       "      <td>277542952</td>\n",
       "      <td>0</td>\n",
       "    </tr>\n",
       "  </tbody>\n",
       "</table>\n",
       "</div>"
      ],
      "text/plain": [
       "   frequency  recency      T     login2016  second_period_event_count\n",
       "0          2    298.0  314.0        0loky0                          0\n",
       "1          0    -15.0   59.0   13246864965                          0\n",
       "2         19    150.0  151.0         1xPdd                         13\n",
       "3          7    160.0  162.0  2582056905xy                         16\n",
       "4          0    -11.0   63.0     277542952                          0"
      ]
     },
     "execution_count": 119,
     "metadata": {},
     "output_type": "execute_result"
    }
   ],
   "source": [
    "lifetime_df.head()"
   ]
  },
  {
   "cell_type": "code",
   "execution_count": 120,
   "metadata": {},
   "outputs": [],
   "source": [
    "lifetime_df = lifetime_df[(lifetime_df[\"T\"] >= 0)]\n",
    "lifetime_df = lifetime_df[lifetime_df[\"recency\"] >= 0]\n",
    "lifetime_df['recency'][lifetime_df.frequency == 0] = 0"
   ]
  },
  {
   "cell_type": "code",
   "execution_count": 121,
   "metadata": {},
   "outputs": [
    {
     "data": {
      "text/html": [
       "<div>\n",
       "<style scoped>\n",
       "    .dataframe tbody tr th:only-of-type {\n",
       "        vertical-align: middle;\n",
       "    }\n",
       "\n",
       "    .dataframe tbody tr th {\n",
       "        vertical-align: top;\n",
       "    }\n",
       "\n",
       "    .dataframe thead th {\n",
       "        text-align: right;\n",
       "    }\n",
       "</style>\n",
       "<table border=\"1\" class=\"dataframe\">\n",
       "  <thead>\n",
       "    <tr style=\"text-align: right;\">\n",
       "      <th></th>\n",
       "      <th>frequency</th>\n",
       "      <th>recency</th>\n",
       "      <th>T</th>\n",
       "      <th>second_period_event_count</th>\n",
       "    </tr>\n",
       "  </thead>\n",
       "  <tbody>\n",
       "    <tr>\n",
       "      <th>count</th>\n",
       "      <td>133247.000000</td>\n",
       "      <td>133247.000000</td>\n",
       "      <td>133247.000000</td>\n",
       "      <td>133247.000000</td>\n",
       "    </tr>\n",
       "    <tr>\n",
       "      <th>mean</th>\n",
       "      <td>21.273259</td>\n",
       "      <td>116.392722</td>\n",
       "      <td>176.062223</td>\n",
       "      <td>18.248681</td>\n",
       "    </tr>\n",
       "    <tr>\n",
       "      <th>std</th>\n",
       "      <td>46.685575</td>\n",
       "      <td>115.647229</td>\n",
       "      <td>91.644670</td>\n",
       "      <td>46.718142</td>\n",
       "    </tr>\n",
       "    <tr>\n",
       "      <th>min</th>\n",
       "      <td>0.000000</td>\n",
       "      <td>0.000000</td>\n",
       "      <td>0.000000</td>\n",
       "      <td>0.000000</td>\n",
       "    </tr>\n",
       "    <tr>\n",
       "      <th>25%</th>\n",
       "      <td>0.000000</td>\n",
       "      <td>0.000000</td>\n",
       "      <td>101.000000</td>\n",
       "      <td>0.000000</td>\n",
       "    </tr>\n",
       "    <tr>\n",
       "      <th>50%</th>\n",
       "      <td>4.000000</td>\n",
       "      <td>91.000000</td>\n",
       "      <td>157.000000</td>\n",
       "      <td>1.000000</td>\n",
       "    </tr>\n",
       "    <tr>\n",
       "      <th>75%</th>\n",
       "      <td>20.000000</td>\n",
       "      <td>199.000000</td>\n",
       "      <td>233.000000</td>\n",
       "      <td>14.000000</td>\n",
       "    </tr>\n",
       "    <tr>\n",
       "      <th>max</th>\n",
       "      <td>597.000000</td>\n",
       "      <td>485.000000</td>\n",
       "      <td>487.000000</td>\n",
       "      <td>599.000000</td>\n",
       "    </tr>\n",
       "  </tbody>\n",
       "</table>\n",
       "</div>"
      ],
      "text/plain": [
       "           frequency        recency              T  second_period_event_count\n",
       "count  133247.000000  133247.000000  133247.000000              133247.000000\n",
       "mean       21.273259     116.392722     176.062223                  18.248681\n",
       "std        46.685575     115.647229      91.644670                  46.718142\n",
       "min         0.000000       0.000000       0.000000                   0.000000\n",
       "25%         0.000000       0.000000     101.000000                   0.000000\n",
       "50%         4.000000      91.000000     157.000000                   1.000000\n",
       "75%        20.000000     199.000000     233.000000                  14.000000\n",
       "max       597.000000     485.000000     487.000000                 599.000000"
      ]
     },
     "execution_count": 121,
     "metadata": {},
     "output_type": "execute_result"
    }
   ],
   "source": [
    "lifetime_df.describe()"
   ]
  },
  {
   "cell_type": "code",
   "execution_count": 145,
   "metadata": {},
   "outputs": [
    {
     "name": "stdout",
     "output_type": "stream",
     "text": [
      "<lifetimes.BetaGeoFitter: fitted with 30000 subjects, a: 0.00, alpha: 1.42, b: 1.10, r: 0.23>\n"
     ]
    }
   ],
   "source": [
    "# similar API to scikit-learn and lifelines.\n",
    "n_users = 30000\n",
    "lft_df = lifetime_df.sample(n=n_users, random_state=0)\n",
    "bgf = BetaGeoFitter(penalizer_coef=1e-8)\n",
    "bgf.fit(lft_df['frequency'], lft_df['recency'], lft_df['T'])\n",
    "print(bgf)"
   ]
  },
  {
   "cell_type": "code",
   "execution_count": 146,
   "metadata": {},
   "outputs": [],
   "source": [
    "# save the model\n",
    "bgf.save_model('CLV.pkl')"
   ]
  },
  {
   "cell_type": "code",
   "execution_count": 147,
   "metadata": {},
   "outputs": [
    {
     "name": "stderr",
     "output_type": "stream",
     "text": [
      "/home/brian/anaconda3/lib/python3.7/site-packages/lifetimes/fitters/beta_geo_fitter.py:214: RuntimeWarning: overflow encountered in double_scalars\n",
      "  ((alpha + T) / (alpha + recency)) ** (r + x)\n"
     ]
    },
    {
     "data": {
      "image/png": "[encoded data removed]",
      "text/plain": [
       "<Figure size 432x288 with 2 Axes>"
      ]
     },
     "metadata": {
      "needs_background": "light"
     },
     "output_type": "display_data"
    }
   ],
   "source": [
    "fig, ax = plt.subplots(1, 1)\n",
    "ax = plot_frequency_recency_matrix(bgf, T=n_weeks, max_frequency=None, max_recency=None,\n",
    "                             title='Expected # of future Events for {0} weeks of time'.format(n_weeks))\n",
    "fig.savefig('figures/expected_number_events.png')"
   ]
  },
  {
   "cell_type": "code",
   "execution_count": 148,
   "metadata": {},
   "outputs": [
    {
     "data": {
      "text/plain": [
       "<matplotlib.axes._subplots.AxesSubplot at 0x7f39e9620438>"
      ]
     },
     "execution_count": 148,
     "metadata": {},
     "output_type": "execute_result"
    },
    {
     "data": {
      "image/png": "[encoded data removed]",
      "text/plain": [
       "<Figure size 432x288 with 2 Axes>"
      ]
     },
     "metadata": {
      "needs_background": "light"
     },
     "output_type": "display_data"
    }
   ],
   "source": [
    "from lifetimes.plotting import plot_probability_alive_matrix\n",
    "\n",
    "plot_probability_alive_matrix(bgf)"
   ]
  },
  {
   "cell_type": "markdown",
   "metadata": {},
   "source": [
    "## Expected contributions in the upcoming cycle"
   ]
  },
  {
   "cell_type": "code",
   "execution_count": 149,
   "metadata": {},
   "outputs": [
    {
     "data": {
      "text/html": [
       "<div>\n",
       "<style scoped>\n",
       "    .dataframe tbody tr th:only-of-type {\n",
       "        vertical-align: middle;\n",
       "    }\n",
       "\n",
       "    .dataframe tbody tr th {\n",
       "        vertical-align: top;\n",
       "    }\n",
       "\n",
       "    .dataframe thead th {\n",
       "        text-align: right;\n",
       "    }\n",
       "</style>\n",
       "<table border=\"1\" class=\"dataframe\">\n",
       "  <thead>\n",
       "    <tr style=\"text-align: right;\">\n",
       "      <th></th>\n",
       "      <th>frequency</th>\n",
       "      <th>recency</th>\n",
       "      <th>T</th>\n",
       "      <th>login2016</th>\n",
       "      <th>second_period_event_count</th>\n",
       "      <th>predicted_purchases</th>\n",
       "    </tr>\n",
       "  </thead>\n",
       "  <tbody>\n",
       "    <tr>\n",
       "      <th>177053</th>\n",
       "      <td>548</td>\n",
       "      <td>84.0</td>\n",
       "      <td>85.0</td>\n",
       "      <td>abmorris</td>\n",
       "      <td>214</td>\n",
       "      <td>139.140003</td>\n",
       "    </tr>\n",
       "    <tr>\n",
       "      <th>52378</th>\n",
       "      <td>450</td>\n",
       "      <td>69.0</td>\n",
       "      <td>69.0</td>\n",
       "      <td>Scabandari</td>\n",
       "      <td>79</td>\n",
       "      <td>140.596624</td>\n",
       "    </tr>\n",
       "    <tr>\n",
       "      <th>98023</th>\n",
       "      <td>396</td>\n",
       "      <td>59.0</td>\n",
       "      <td>60.0</td>\n",
       "      <td>deepin-jenkins</td>\n",
       "      <td>488</td>\n",
       "      <td>141.262143</td>\n",
       "    </tr>\n",
       "    <tr>\n",
       "      <th>68513</th>\n",
       "      <td>383</td>\n",
       "      <td>52.0</td>\n",
       "      <td>52.0</td>\n",
       "      <td>lsrdg</td>\n",
       "      <td>94</td>\n",
       "      <td>157.739011</td>\n",
       "    </tr>\n",
       "    <tr>\n",
       "      <th>32160</th>\n",
       "      <td>570</td>\n",
       "      <td>62.0</td>\n",
       "      <td>63.0</td>\n",
       "      <td>jknpj</td>\n",
       "      <td>483</td>\n",
       "      <td>188.465169</td>\n",
       "    </tr>\n",
       "  </tbody>\n",
       "</table>\n",
       "</div>"
      ],
      "text/plain": [
       "        frequency  recency     T       login2016  second_period_event_count  \\\n",
       "177053        548     84.0  85.0        abmorris                        214   \n",
       "52378         450     69.0  69.0      Scabandari                         79   \n",
       "98023         396     59.0  60.0  deepin-jenkins                        488   \n",
       "68513         383     52.0  52.0           lsrdg                         94   \n",
       "32160         570     62.0  63.0           jknpj                        483   \n",
       "\n",
       "        predicted_purchases  \n",
       "177053           139.140003  \n",
       "52378            140.596624  \n",
       "98023            141.262143  \n",
       "68513            157.739011  \n",
       "32160            188.465169  "
      ]
     },
     "execution_count": 149,
     "metadata": {},
     "output_type": "execute_result"
    }
   ],
   "source": [
    "lft_df['predicted_purchases'] = bgf.conditional_expected_number_of_purchases_up_to_time(n_weeks,\n",
    "                                                                                        lft_df['frequency'], \n",
    "                                                                                        lft_df['recency'], \n",
    "                                                                                        lft_df['T'])\n",
    "lft_df.sort_values(by='predicted_purchases').tail(5)"
   ]
  },
  {
   "cell_type": "code",
   "execution_count": 150,
   "metadata": {},
   "outputs": [
    {
     "name": "stdout",
     "output_type": "stream",
     "text": [
      "[[1.         0.47868247]\n",
      " [0.47868247 1.        ]]\n"
     ]
    },
    {
     "data": {
      "text/plain": [
       "44.441361828998865"
      ]
     },
     "execution_count": 150,
     "metadata": {},
     "output_type": "execute_result"
    },
    {
     "data": {
      "image/png": "[encoded data removed]",
      "text/plain": [
       "<Figure size 432x288 with 1 Axes>"
      ]
     },
     "metadata": {
      "needs_background": "light"
     },
     "output_type": "display_data"
    }
   ],
   "source": [
    "#user_data.dtypes\n",
    "#predict_df = predict_df[predict_df.second_period_event_count < 60]\n",
    "#lft_df['predicted_purchases'] = lft_df.predicted_purchases\n",
    "plt.plot(lft_df.second_period_event_count, lft_df.predicted_purchases, 'k.', alpha=0.2)\n",
    "#plt.xlim([0, 60])\n",
    "#plt.ylim([0, 60])\n",
    "\n",
    "print(np.corrcoef(lft_df.predicted_purchases, lft_df.second_period_event_count))\n",
    "np.sqrt(np.mean((lft_df.predicted_purchases - lft_df.second_period_event_count) ** 2))"
   ]
  },
  {
   "cell_type": "code",
   "execution_count": 151,
   "metadata": {},
   "outputs": [
    {
     "data": {
      "text/html": [
       "<div>\n",
       "<style scoped>\n",
       "    .dataframe tbody tr th:only-of-type {\n",
       "        vertical-align: middle;\n",
       "    }\n",
       "\n",
       "    .dataframe tbody tr th {\n",
       "        vertical-align: top;\n",
       "    }\n",
       "\n",
       "    .dataframe thead th {\n",
       "        text-align: right;\n",
       "    }\n",
       "</style>\n",
       "<table border=\"1\" class=\"dataframe\">\n",
       "  <thead>\n",
       "    <tr style=\"text-align: right;\">\n",
       "      <th></th>\n",
       "      <th>frequency</th>\n",
       "      <th>recency</th>\n",
       "      <th>T</th>\n",
       "      <th>login2016</th>\n",
       "      <th>second_period_event_count</th>\n",
       "      <th>predicted_purchases</th>\n",
       "      <th>probability_alive</th>\n",
       "      <th>alive</th>\n",
       "    </tr>\n",
       "  </thead>\n",
       "  <tbody>\n",
       "    <tr>\n",
       "      <th>112744</th>\n",
       "      <td>7</td>\n",
       "      <td>75.0</td>\n",
       "      <td>76.0</td>\n",
       "      <td>Displax</td>\n",
       "      <td>15</td>\n",
       "      <td>2.051825</td>\n",
       "      <td>0.967084</td>\n",
       "      <td>True</td>\n",
       "    </tr>\n",
       "    <tr>\n",
       "      <th>99066</th>\n",
       "      <td>0</td>\n",
       "      <td>0.0</td>\n",
       "      <td>237.0</td>\n",
       "      <td>felicien-brochu</td>\n",
       "      <td>0</td>\n",
       "      <td>0.020863</td>\n",
       "      <td>0.997727</td>\n",
       "      <td>True</td>\n",
       "    </tr>\n",
       "    <tr>\n",
       "      <th>58596</th>\n",
       "      <td>19</td>\n",
       "      <td>288.0</td>\n",
       "      <td>290.0</td>\n",
       "      <td>wiltodelta</td>\n",
       "      <td>5</td>\n",
       "      <td>1.451055</td>\n",
       "      <td>0.944459</td>\n",
       "      <td>True</td>\n",
       "    </tr>\n",
       "    <tr>\n",
       "      <th>29776</th>\n",
       "      <td>0</td>\n",
       "      <td>0.0</td>\n",
       "      <td>110.0</td>\n",
       "      <td>Joeluck</td>\n",
       "      <td>0</td>\n",
       "      <td>0.044636</td>\n",
       "      <td>0.997727</td>\n",
       "      <td>True</td>\n",
       "    </tr>\n",
       "    <tr>\n",
       "      <th>143973</th>\n",
       "      <td>25</td>\n",
       "      <td>235.0</td>\n",
       "      <td>238.0</td>\n",
       "      <td>jankoulaga</td>\n",
       "      <td>13</td>\n",
       "      <td>2.317380</td>\n",
       "      <td>0.967620</td>\n",
       "      <td>True</td>\n",
       "    </tr>\n",
       "    <tr>\n",
       "      <th>47798</th>\n",
       "      <td>107</td>\n",
       "      <td>393.0</td>\n",
       "      <td>395.0</td>\n",
       "      <td>colinux</td>\n",
       "      <td>51</td>\n",
       "      <td>5.949988</td>\n",
       "      <td>0.989022</td>\n",
       "      <td>True</td>\n",
       "    </tr>\n",
       "    <tr>\n",
       "      <th>46409</th>\n",
       "      <td>3</td>\n",
       "      <td>54.0</td>\n",
       "      <td>68.0</td>\n",
       "      <td>synetiq-server</td>\n",
       "      <td>0</td>\n",
       "      <td>1.020255</td>\n",
       "      <td>0.951874</td>\n",
       "      <td>True</td>\n",
       "    </tr>\n",
       "    <tr>\n",
       "      <th>59296</th>\n",
       "      <td>14</td>\n",
       "      <td>254.0</td>\n",
       "      <td>263.0</td>\n",
       "      <td>obibring</td>\n",
       "      <td>40</td>\n",
       "      <td>1.183145</td>\n",
       "      <td>0.933544</td>\n",
       "      <td>True</td>\n",
       "    </tr>\n",
       "    <tr>\n",
       "      <th>47872</th>\n",
       "      <td>2</td>\n",
       "      <td>208.0</td>\n",
       "      <td>219.0</td>\n",
       "      <td>excelmaster</td>\n",
       "      <td>0</td>\n",
       "      <td>0.221860</td>\n",
       "      <td>0.738945</td>\n",
       "      <td>True</td>\n",
       "    </tr>\n",
       "    <tr>\n",
       "      <th>94722</th>\n",
       "      <td>11</td>\n",
       "      <td>123.0</td>\n",
       "      <td>125.0</td>\n",
       "      <td>supportbeam</td>\n",
       "      <td>7</td>\n",
       "      <td>1.952609</td>\n",
       "      <td>0.962999</td>\n",
       "      <td>True</td>\n",
       "    </tr>\n",
       "    <tr>\n",
       "      <th>44396</th>\n",
       "      <td>6</td>\n",
       "      <td>50.0</td>\n",
       "      <td>58.0</td>\n",
       "      <td>otafasd</td>\n",
       "      <td>0</td>\n",
       "      <td>2.301744</td>\n",
       "      <td>0.976134</td>\n",
       "      <td>True</td>\n",
       "    </tr>\n",
       "    <tr>\n",
       "      <th>158918</th>\n",
       "      <td>183</td>\n",
       "      <td>133.0</td>\n",
       "      <td>133.0</td>\n",
       "      <td>mikedevelops</td>\n",
       "      <td>367</td>\n",
       "      <td>29.980741</td>\n",
       "      <td>0.998456</td>\n",
       "      <td>True</td>\n",
       "    </tr>\n",
       "    <tr>\n",
       "      <th>45052</th>\n",
       "      <td>0</td>\n",
       "      <td>0.0</td>\n",
       "      <td>357.0</td>\n",
       "      <td>finalquest</td>\n",
       "      <td>0</td>\n",
       "      <td>0.013879</td>\n",
       "      <td>0.997727</td>\n",
       "      <td>True</td>\n",
       "    </tr>\n",
       "    <tr>\n",
       "      <th>185995</th>\n",
       "      <td>0</td>\n",
       "      <td>0.0</td>\n",
       "      <td>107.0</td>\n",
       "      <td>rafaleal</td>\n",
       "      <td>0</td>\n",
       "      <td>0.045871</td>\n",
       "      <td>0.997727</td>\n",
       "      <td>True</td>\n",
       "    </tr>\n",
       "    <tr>\n",
       "      <th>86854</th>\n",
       "      <td>68</td>\n",
       "      <td>213.0</td>\n",
       "      <td>215.0</td>\n",
       "      <td>bjfong</td>\n",
       "      <td>5</td>\n",
       "      <td>6.934004</td>\n",
       "      <td>0.991000</td>\n",
       "      <td>True</td>\n",
       "    </tr>\n",
       "  </tbody>\n",
       "</table>\n",
       "</div>"
      ],
      "text/plain": [
       "        frequency  recency      T        login2016  second_period_event_count  \\\n",
       "112744          7     75.0   76.0          Displax                         15   \n",
       "99066           0      0.0  237.0  felicien-brochu                          0   \n",
       "58596          19    288.0  290.0       wiltodelta                          5   \n",
       "29776           0      0.0  110.0          Joeluck                          0   \n",
       "143973         25    235.0  238.0       jankoulaga                         13   \n",
       "47798         107    393.0  395.0          colinux                         51   \n",
       "46409           3     54.0   68.0   synetiq-server                          0   \n",
       "59296          14    254.0  263.0         obibring                         40   \n",
       "47872           2    208.0  219.0      excelmaster                          0   \n",
       "94722          11    123.0  125.0      supportbeam                          7   \n",
       "44396           6     50.0   58.0          otafasd                          0   \n",
       "158918        183    133.0  133.0     mikedevelops                        367   \n",
       "45052           0      0.0  357.0       finalquest                          0   \n",
       "185995          0      0.0  107.0         rafaleal                          0   \n",
       "86854          68    213.0  215.0           bjfong                          5   \n",
       "\n",
       "        predicted_purchases  probability_alive  alive  \n",
       "112744             2.051825           0.967084   True  \n",
       "99066              0.020863           0.997727   True  \n",
       "58596              1.451055           0.944459   True  \n",
       "29776              0.044636           0.997727   True  \n",
       "143973             2.317380           0.967620   True  \n",
       "47798              5.949988           0.989022   True  \n",
       "46409              1.020255           0.951874   True  \n",
       "59296              1.183145           0.933544   True  \n",
       "47872              0.221860           0.738945   True  \n",
       "94722              1.952609           0.962999   True  \n",
       "44396              2.301744           0.976134   True  \n",
       "158918            29.980741           0.998456   True  \n",
       "45052              0.013879           0.997727   True  \n",
       "185995             0.045871           0.997727   True  \n",
       "86854              6.934004           0.991000   True  "
      ]
     },
     "execution_count": 151,
     "metadata": {},
     "output_type": "execute_result"
    }
   ],
   "source": [
    "lft_df['probability_alive'] = bgf.conditional_probability_alive(1, lft_df['frequency'], \n",
    "                                                                  lft_df['recency'], n_weeks)\n",
    "lft_df['alive'] = lft_df['probability_alive'] > 0.5\n",
    "lft_df.head(15)"
   ]
  },
  {
   "cell_type": "code",
   "execution_count": 152,
   "metadata": {},
   "outputs": [
    {
     "name": "stdout",
     "output_type": "stream",
     "text": [
      "Precision: 0.997\n",
      "Recall:    0.507\n",
      "Accuracy:  0.507\n",
      "F1-score:  0.6719\n"
     ]
    }
   ],
   "source": [
    "TP = np.sum((lft_df.alive == True) & (lft_df.second_period_event_count > 0))\n",
    "FP = np.sum((lft_df.alive == False) & (lft_df.second_period_event_count > 0))\n",
    "FN = np.sum((lft_df.alive == True) & (lft_df.second_period_event_count < 1))\n",
    "TN = np.sum((lft_df.alive == False) & (lft_df.second_period_event_count < 1))\n",
    "\n",
    "precision = TP / (TP + FP)\n",
    "recall = TP / (TP + FN)\n",
    "accuracy = (TP + TN) / (TP + FP + FN + TN)\n",
    "f1score = 2 * (precision * recall) /  (precision + recall)\n",
    "print('Precision: {0}'.format(np.round(precision, 3)))\n",
    "print('Recall:    {0}'.format(np.round(recall, 3)))\n",
    "print('Accuracy:  {0}'.format(np.round(accuracy, 3)))\n",
    "print('F1-score:  {0}'.format(np.round(f1score, 4)))\n",
    "#print([TP.sum(), FP.sum()])"
   ]
  },
  {
   "cell_type": "code",
   "execution_count": 153,
   "metadata": {},
   "outputs": [
    {
     "data": {
      "text/html": [
       "<div>\n",
       "<style scoped>\n",
       "    .dataframe tbody tr th:only-of-type {\n",
       "        vertical-align: middle;\n",
       "    }\n",
       "\n",
       "    .dataframe tbody tr th {\n",
       "        vertical-align: top;\n",
       "    }\n",
       "\n",
       "    .dataframe thead th {\n",
       "        text-align: right;\n",
       "    }\n",
       "</style>\n",
       "<table border=\"1\" class=\"dataframe\">\n",
       "  <thead>\n",
       "    <tr style=\"text-align: right;\">\n",
       "      <th></th>\n",
       "      <th>alive</th>\n",
       "      <th>second_period_event_count</th>\n",
       "      <th>Unnamed 0</th>\n",
       "    </tr>\n",
       "  </thead>\n",
       "  <tbody>\n",
       "    <tr>\n",
       "      <th>112744</th>\n",
       "      <td>True</td>\n",
       "      <td>True</td>\n",
       "      <td>True</td>\n",
       "    </tr>\n",
       "    <tr>\n",
       "      <th>99066</th>\n",
       "      <td>True</td>\n",
       "      <td>False</td>\n",
       "      <td>False</td>\n",
       "    </tr>\n",
       "    <tr>\n",
       "      <th>58596</th>\n",
       "      <td>True</td>\n",
       "      <td>True</td>\n",
       "      <td>True</td>\n",
       "    </tr>\n",
       "    <tr>\n",
       "      <th>29776</th>\n",
       "      <td>True</td>\n",
       "      <td>False</td>\n",
       "      <td>False</td>\n",
       "    </tr>\n",
       "    <tr>\n",
       "      <th>143973</th>\n",
       "      <td>True</td>\n",
       "      <td>True</td>\n",
       "      <td>True</td>\n",
       "    </tr>\n",
       "    <tr>\n",
       "      <th>47798</th>\n",
       "      <td>True</td>\n",
       "      <td>True</td>\n",
       "      <td>True</td>\n",
       "    </tr>\n",
       "    <tr>\n",
       "      <th>46409</th>\n",
       "      <td>True</td>\n",
       "      <td>False</td>\n",
       "      <td>False</td>\n",
       "    </tr>\n",
       "    <tr>\n",
       "      <th>59296</th>\n",
       "      <td>True</td>\n",
       "      <td>True</td>\n",
       "      <td>True</td>\n",
       "    </tr>\n",
       "    <tr>\n",
       "      <th>47872</th>\n",
       "      <td>True</td>\n",
       "      <td>False</td>\n",
       "      <td>False</td>\n",
       "    </tr>\n",
       "    <tr>\n",
       "      <th>94722</th>\n",
       "      <td>True</td>\n",
       "      <td>True</td>\n",
       "      <td>True</td>\n",
       "    </tr>\n",
       "  </tbody>\n",
       "</table>\n",
       "</div>"
      ],
      "text/plain": [
       "        alive  second_period_event_count  Unnamed 0\n",
       "112744   True                       True       True\n",
       "99066    True                      False      False\n",
       "58596    True                       True       True\n",
       "29776    True                      False      False\n",
       "143973   True                       True       True\n",
       "47798    True                       True       True\n",
       "46409    True                      False      False\n",
       "59296    True                       True       True\n",
       "47872    True                      False      False\n",
       "94722    True                       True       True"
      ]
     },
     "execution_count": 153,
     "metadata": {},
     "output_type": "execute_result"
    }
   ],
   "source": [
    "pd.DataFrame([lft_df.alive == True, lft_df.second_period_event_count > 0,\n",
    "             (lft_df.alive == True) & (lft_df.second_period_event_count > 0)]).transpose()[:10]"
   ]
  },
  {
   "cell_type": "code",
   "execution_count": 154,
   "metadata": {},
   "outputs": [
    {
     "data": {
      "text/plain": [
       "<matplotlib.axes._subplots.AxesSubplot at 0x7f39e1e23d30>"
      ]
     },
     "execution_count": 154,
     "metadata": {},
     "output_type": "execute_result"
    },
    {
     "data": {
      "image/png": "[encoded data removed]",
      "text/plain": [
       "<Figure size 432x288 with 1 Axes>"
      ]
     },
     "metadata": {
      "needs_background": "light"
     },
     "output_type": "display_data"
    }
   ],
   "source": [
    "from lifetimes.plotting import plot_period_transactions\n",
    "plot_period_transactions(bgf)"
   ]
  },
  {
   "cell_type": "code",
   "execution_count": 155,
   "metadata": {},
   "outputs": [
    {
     "name": "stderr",
     "output_type": "stream",
     "text": [
      "No handles with labels found to put in legend.\n"
     ]
    },
    {
     "data": {
      "text/plain": [
       "<matplotlib.axes._subplots.AxesSubplot at 0x7f39e23b9c50>"
      ]
     },
     "execution_count": 155,
     "metadata": {},
     "output_type": "execute_result"
    },
    {
     "data": {
      "image/png": "[encoded data removed]",
      "text/plain": [
       "<Figure size 432x288 with 1 Axes>"
      ]
     },
     "metadata": {
      "needs_background": "light"
     },
     "output_type": "display_data"
    }
   ],
   "source": [
    "from lifetimes.plotting import plot_expected_repeat_purchases\n",
    "plot_expected_repeat_purchases(bgf, title='Expected Number of Repeat Events per Customer')\n",
    "                                   #xlabel='Time Since First Purchase',\n",
    "                                   #ax=None,\n",
    "                                   #label=None,\n",
    "                                   #**kwargs"
   ]
  },
  {
   "cell_type": "code",
   "execution_count": null,
   "metadata": {},
   "outputs": [],
   "source": []
  }
 ],
 "metadata": {
  "kernelspec": {
   "display_name": "Python 3",
   "language": "python",
   "name": "python3"
  },
  "language_info": {
   "codemirror_mode": {
    "name": "ipython",
    "version": 3
   },
   "file_extension": ".py",
   "mimetype": "text/x-python",
   "name": "python",
   "nbconvert_exporter": "python",
   "pygments_lexer": "ipython3",
   "version": "3.7.2"
  }
 },
 "nbformat": 4,
 "nbformat_minor": 2
}

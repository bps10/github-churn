{
 "cells": [
  {
   "cell_type": "markdown",
   "metadata": {},
   "source": [
    "# CLV model\n",
    "\n",
    "[Customer value in non-contractual business model](https://towardsdatascience.com/whats-a-customer-worth-8daf183f8a4f)\n",
    "\n",
    "[lifetimes python package](https://github.com/CamDavidsonPilon/lifetimes) for modeling customer lifetime value (CVL). [Docs](https://lifetimes.readthedocs.io/en/latest/index.html).\n",
    "\n",
    "[CLV in pyspark](http://webdropin.com/wordpress99/customer-lifetime-value-in-pyspark/)\n",
    "\n",
    "[CLV broken down step-by-step](http://benalexkeen.com/bg-nbd-model-for-customer-base-analysis-in-python/)"
   ]
  },
  {
   "cell_type": "code",
   "execution_count": 1,
   "metadata": {},
   "outputs": [],
   "source": [
    "import pandas as pd\n",
    "import numpy as np\n",
    "import matplotlib.pylab as plt\n",
    "from lifetimes import BetaGeoFitter\n",
    "\n",
    "from lifetimes.plotting import plot_frequency_recency_matrix\n",
    "\n",
    "import helper as h"
   ]
  },
  {
   "cell_type": "code",
   "execution_count": 2,
   "metadata": {},
   "outputs": [
    {
     "name": "stdout",
     "output_type": "stream",
     "text": [
      "Threshold events N: 600\n",
      "% of users dropped 2.96\n"
     ]
    },
    {
     "data": {
      "text/plain": [
       "'user_data = user_data_2017.select(user_data_2017.login,\\n                                       user_data_2017.first_event,\\n                                       user_data_2017.last_event,\\n                                       user_data_2017.frequency,\\n                                       user_data_2017.second_period_event_count)'"
      ]
     },
     "execution_count": 2,
     "metadata": {},
     "output_type": "execute_result"
    }
   ],
   "source": [
    "analysis_year = '2017'\n",
    "user_data_2017 = h.get_merged_data(appName='CVL-model', year=analysis_year)\n",
    "user_data_2017 = user_data_2017.select(user_data_2017.login,\n",
    "                                       user_data_2017.first_event,\n",
    "                                       user_data_2017.last_event,\n",
    "                                       user_data_2017.frequency,\n",
    "                                       user_data_2017.second_period_event_count)"
   ]
  },
  {
   "cell_type": "code",
   "execution_count": 3,
   "metadata": {},
   "outputs": [
    {
     "name": "stdout",
     "output_type": "stream",
     "text": [
      "Threshold events N: 200\n",
      "% of users dropped 4.7\n"
     ]
    },
    {
     "data": {
      "text/plain": [
       "Row(login2016='0loky0', created_at=datetime.datetime(2011, 5, 24, 16, 15, 25))"
      ]
     },
     "execution_count": 3,
     "metadata": {},
     "output_type": "execute_result"
    }
   ],
   "source": [
    "user_data_2016 = h.get_merged_data(appName='CVL-model', year='2016')\n",
    "user_data_2016 = user_data_2016.select(user_data_2016.login, \n",
    "                                       user_data_2016.created_at)\n",
    "user_data_2016 = user_data_2016.withColumnRenamed('login', 'login2016')\n",
    "user_data_2016.head()"
   ]
  },
  {
   "cell_type": "code",
   "execution_count": 4,
   "metadata": {},
   "outputs": [],
   "source": [
    "user_data = user_data_2017.join(user_data_2016,\n",
    "                                user_data_2017['login'] == user_data_2016['login2016'],\n",
    "                                how='right_outer')"
   ]
  },
  {
   "cell_type": "code",
   "execution_count": 3,
   "metadata": {},
   "outputs": [],
   "source": [
    "user_data = user_data.toPandas()"
   ]
  },
  {
   "cell_type": "code",
   "execution_count": 4,
   "metadata": {},
   "outputs": [],
   "source": [
    "user_data[['frequency', 'second_period_event_count']] = user_data[['frequency', 'second_period_event_count']].fillna(0)\n",
    "user_data[['first_event', 'last_event']] = user_data[['first_event', 'last_event']].fillna(\"2017-01-01 01:01:01\")"
   ]
  },
  {
   "cell_type": "code",
   "execution_count": 5,
   "metadata": {},
   "outputs": [],
   "source": [
    "user_data = h.add_time_columns(user_data, end_date=analysis_year + '-06-01 23:59:59')"
   ]
  },
  {
   "cell_type": "code",
   "execution_count": 6,
   "metadata": {},
   "outputs": [
    {
     "data": {
      "text/html": [
       "<div>\n",
       "<style scoped>\n",
       "    .dataframe tbody tr th:only-of-type {\n",
       "        vertical-align: middle;\n",
       "    }\n",
       "\n",
       "    .dataframe tbody tr th {\n",
       "        vertical-align: top;\n",
       "    }\n",
       "\n",
       "    .dataframe thead th {\n",
       "        text-align: right;\n",
       "    }\n",
       "</style>\n",
       "<table border=\"1\" class=\"dataframe\">\n",
       "  <thead>\n",
       "    <tr style=\"text-align: right;\">\n",
       "      <th></th>\n",
       "      <th>login</th>\n",
       "      <th>followers_count</th>\n",
       "      <th>following_count</th>\n",
       "      <th>blog</th>\n",
       "      <th>company</th>\n",
       "      <th>created_at</th>\n",
       "      <th>public_repos_count</th>\n",
       "      <th>public_gists_count</th>\n",
       "      <th>hireable</th>\n",
       "      <th>recency</th>\n",
       "      <th>...</th>\n",
       "      <th>IssueCommentEvent_count</th>\n",
       "      <th>IssuesEvent_count</th>\n",
       "      <th>MemberEvent_count</th>\n",
       "      <th>PublicEvent_count</th>\n",
       "      <th>PullRequestEvent_count</th>\n",
       "      <th>PullRequestReviewCommentEvent_count</th>\n",
       "      <th>PushEvent_count</th>\n",
       "      <th>ReleaseEvent_count</th>\n",
       "      <th>WatchEvent_count</th>\n",
       "      <th>T</th>\n",
       "    </tr>\n",
       "  </thead>\n",
       "  <tbody>\n",
       "    <tr>\n",
       "      <th>0</th>\n",
       "      <td>DigitalCowboy</td>\n",
       "      <td>0</td>\n",
       "      <td>0</td>\n",
       "      <td>0</td>\n",
       "      <td>0</td>\n",
       "      <td>2012-07-08 11:25:55-05:00</td>\n",
       "      <td>0.0</td>\n",
       "      <td>0.0</td>\n",
       "      <td>0</td>\n",
       "      <td>1645.093160</td>\n",
       "      <td>...</td>\n",
       "      <td>0</td>\n",
       "      <td>0</td>\n",
       "      <td>0</td>\n",
       "      <td>0</td>\n",
       "      <td>0</td>\n",
       "      <td>0</td>\n",
       "      <td>0</td>\n",
       "      <td>0</td>\n",
       "      <td>2</td>\n",
       "      <td>1789.0</td>\n",
       "    </tr>\n",
       "    <tr>\n",
       "      <th>1</th>\n",
       "      <td>FrancisWoo</td>\n",
       "      <td>0</td>\n",
       "      <td>0</td>\n",
       "      <td>0</td>\n",
       "      <td>0</td>\n",
       "      <td>2015-10-01 18:18:04-05:00</td>\n",
       "      <td>6.0</td>\n",
       "      <td>0.0</td>\n",
       "      <td>0</td>\n",
       "      <td>548.158727</td>\n",
       "      <td>...</td>\n",
       "      <td>0</td>\n",
       "      <td>0</td>\n",
       "      <td>0</td>\n",
       "      <td>0</td>\n",
       "      <td>3</td>\n",
       "      <td>0</td>\n",
       "      <td>4</td>\n",
       "      <td>0</td>\n",
       "      <td>2</td>\n",
       "      <td>609.0</td>\n",
       "    </tr>\n",
       "    <tr>\n",
       "      <th>2</th>\n",
       "      <td>HIPERCUBE</td>\n",
       "      <td>42</td>\n",
       "      <td>21</td>\n",
       "      <td>0</td>\n",
       "      <td>1</td>\n",
       "      <td>2014-04-28 00:21:35-05:00</td>\n",
       "      <td>43.0</td>\n",
       "      <td>7.0</td>\n",
       "      <td>1</td>\n",
       "      <td>1122.935718</td>\n",
       "      <td>...</td>\n",
       "      <td>0</td>\n",
       "      <td>0</td>\n",
       "      <td>0</td>\n",
       "      <td>0</td>\n",
       "      <td>0</td>\n",
       "      <td>0</td>\n",
       "      <td>6</td>\n",
       "      <td>0</td>\n",
       "      <td>12</td>\n",
       "      <td>1131.0</td>\n",
       "    </tr>\n",
       "    <tr>\n",
       "      <th>3</th>\n",
       "      <td>Mattl30</td>\n",
       "      <td>0</td>\n",
       "      <td>0</td>\n",
       "      <td>0</td>\n",
       "      <td>0</td>\n",
       "      <td>2017-02-06 08:00:50-06:00</td>\n",
       "      <td>0.0</td>\n",
       "      <td>0.0</td>\n",
       "      <td>0</td>\n",
       "      <td>0.248194</td>\n",
       "      <td>...</td>\n",
       "      <td>0</td>\n",
       "      <td>0</td>\n",
       "      <td>0</td>\n",
       "      <td>0</td>\n",
       "      <td>0</td>\n",
       "      <td>0</td>\n",
       "      <td>0</td>\n",
       "      <td>0</td>\n",
       "      <td>0</td>\n",
       "      <td>115.0</td>\n",
       "    </tr>\n",
       "    <tr>\n",
       "      <th>4</th>\n",
       "      <td>Morhwa</td>\n",
       "      <td>0</td>\n",
       "      <td>1</td>\n",
       "      <td>0</td>\n",
       "      <td>0</td>\n",
       "      <td>2015-06-14 18:53:46-05:00</td>\n",
       "      <td>2.0</td>\n",
       "      <td>0.0</td>\n",
       "      <td>0</td>\n",
       "      <td>717.093102</td>\n",
       "      <td>...</td>\n",
       "      <td>0</td>\n",
       "      <td>0</td>\n",
       "      <td>0</td>\n",
       "      <td>0</td>\n",
       "      <td>0</td>\n",
       "      <td>0</td>\n",
       "      <td>1</td>\n",
       "      <td>0</td>\n",
       "      <td>2</td>\n",
       "      <td>718.0</td>\n",
       "    </tr>\n",
       "  </tbody>\n",
       "</table>\n",
       "<p>5 rows × 31 columns</p>\n",
       "</div>"
      ],
      "text/plain": [
       "           login  followers_count  following_count  blog  company  \\\n",
       "0  DigitalCowboy                0                0     0        0   \n",
       "1     FrancisWoo                0                0     0        0   \n",
       "2      HIPERCUBE               42               21     0        1   \n",
       "3        Mattl30                0                0     0        0   \n",
       "4         Morhwa                0                1     0        0   \n",
       "\n",
       "                 created_at  public_repos_count  public_gists_count  hireable  \\\n",
       "0 2012-07-08 11:25:55-05:00                 0.0                 0.0         0   \n",
       "1 2015-10-01 18:18:04-05:00                 6.0                 0.0         0   \n",
       "2 2014-04-28 00:21:35-05:00                43.0                 7.0         1   \n",
       "3 2017-02-06 08:00:50-06:00                 0.0                 0.0         0   \n",
       "4 2015-06-14 18:53:46-05:00                 2.0                 0.0         0   \n",
       "\n",
       "       recency   ...   IssueCommentEvent_count  IssuesEvent_count  \\\n",
       "0  1645.093160   ...                         0                  0   \n",
       "1   548.158727   ...                         0                  0   \n",
       "2  1122.935718   ...                         0                  0   \n",
       "3     0.248194   ...                         0                  0   \n",
       "4   717.093102   ...                         0                  0   \n",
       "\n",
       "  MemberEvent_count PublicEvent_count  PullRequestEvent_count  \\\n",
       "0                 0                 0                       0   \n",
       "1                 0                 0                       3   \n",
       "2                 0                 0                       0   \n",
       "3                 0                 0                       0   \n",
       "4                 0                 0                       0   \n",
       "\n",
       "   PullRequestReviewCommentEvent_count  PushEvent_count  ReleaseEvent_count  \\\n",
       "0                                    0                0                   0   \n",
       "1                                    0                4                   0   \n",
       "2                                    0                6                   0   \n",
       "3                                    0                0                   0   \n",
       "4                                    0                1                   0   \n",
       "\n",
       "   WatchEvent_count       T  \n",
       "0                 2  1789.0  \n",
       "1                 2   609.0  \n",
       "2                12  1131.0  \n",
       "3                 0   115.0  \n",
       "4                 2   718.0  \n",
       "\n",
       "[5 rows x 31 columns]"
      ]
     },
     "execution_count": 6,
     "metadata": {},
     "output_type": "execute_result"
    }
   ],
   "source": [
    "user_data.head()"
   ]
  },
  {
   "cell_type": "markdown",
   "metadata": {},
   "source": [
    "### T, recency and frequency\n",
    "\n",
    "Definitions from [lifetime](https://lifetimes.readthedocs.io/en/latest/Quickstart.html):\n",
    "\n",
    "`frequency` represents the number of repeat purchases the customer has made. This means that it’s one less than the total number of purchases. This is actually slightly wrong. It’s the count of time periods the customer had a purchase in. So if using days as units, then it’s the count of days the customer had a purchase on.\n",
    "\n",
    "`T` represents the age of the customer in whatever time units chosen (weekly, in the above dataset). This is equal to the duration between a customer’s first purchase and the end of the period under study.\n",
    "\n",
    "`recency` represents the age of the customer when they made their most recent purchases. This is equal to the duration between a customer’s first purchase and their latest purchase. (Thus if they have made only 1 purchase, the recency is 0.)"
   ]
  },
  {
   "cell_type": "markdown",
   "metadata": {},
   "source": [
    "### Model CLV"
   ]
  },
  {
   "cell_type": "code",
   "execution_count": 7,
   "metadata": {},
   "outputs": [],
   "source": [
    "n_weeks =  22 \n",
    "\n",
    "user_data['recency'] = np.floor(user_data.recency)\n",
    "lifetime_df = user_data[['frequency', 'recency', 'T', 'login', 'second_period_event_count']]\n",
    "# normalize frequency per week\n",
    "#lifetime_df['frequency'] = lifetime_df.frequency / n_weeks\n",
    "#lifetime_df['second_period_event_count'] = lifetime_df.second_period_event_count / n_weeks\n",
    "\n",
    "lifetime_df = lifetime_df.dropna()"
   ]
  },
  {
   "cell_type": "code",
   "execution_count": 8,
   "metadata": {},
   "outputs": [
    {
     "data": {
      "text/html": [
       "<div>\n",
       "<style scoped>\n",
       "    .dataframe tbody tr th:only-of-type {\n",
       "        vertical-align: middle;\n",
       "    }\n",
       "\n",
       "    .dataframe tbody tr th {\n",
       "        vertical-align: top;\n",
       "    }\n",
       "\n",
       "    .dataframe thead th {\n",
       "        text-align: right;\n",
       "    }\n",
       "</style>\n",
       "<table border=\"1\" class=\"dataframe\">\n",
       "  <thead>\n",
       "    <tr style=\"text-align: right;\">\n",
       "      <th></th>\n",
       "      <th>frequency</th>\n",
       "      <th>recency</th>\n",
       "      <th>T</th>\n",
       "      <th>login</th>\n",
       "      <th>second_period_event_count</th>\n",
       "    </tr>\n",
       "  </thead>\n",
       "  <tbody>\n",
       "    <tr>\n",
       "      <th>0</th>\n",
       "      <td>2</td>\n",
       "      <td>1645.0</td>\n",
       "      <td>1789.0</td>\n",
       "      <td>DigitalCowboy</td>\n",
       "      <td>0</td>\n",
       "    </tr>\n",
       "    <tr>\n",
       "      <th>1</th>\n",
       "      <td>15</td>\n",
       "      <td>548.0</td>\n",
       "      <td>609.0</td>\n",
       "      <td>FrancisWoo</td>\n",
       "      <td>0</td>\n",
       "    </tr>\n",
       "    <tr>\n",
       "      <th>2</th>\n",
       "      <td>21</td>\n",
       "      <td>1122.0</td>\n",
       "      <td>1131.0</td>\n",
       "      <td>HIPERCUBE</td>\n",
       "      <td>11</td>\n",
       "    </tr>\n",
       "    <tr>\n",
       "      <th>3</th>\n",
       "      <td>3</td>\n",
       "      <td>0.0</td>\n",
       "      <td>115.0</td>\n",
       "      <td>Mattl30</td>\n",
       "      <td>0</td>\n",
       "    </tr>\n",
       "    <tr>\n",
       "      <th>4</th>\n",
       "      <td>5</td>\n",
       "      <td>717.0</td>\n",
       "      <td>718.0</td>\n",
       "      <td>Morhwa</td>\n",
       "      <td>1</td>\n",
       "    </tr>\n",
       "  </tbody>\n",
       "</table>\n",
       "</div>"
      ],
      "text/plain": [
       "   frequency  recency       T          login  second_period_event_count\n",
       "0          2   1645.0  1789.0  DigitalCowboy                          0\n",
       "1         15    548.0   609.0     FrancisWoo                          0\n",
       "2         21   1122.0  1131.0      HIPERCUBE                         11\n",
       "3          3      0.0   115.0        Mattl30                          0\n",
       "4          5    717.0   718.0         Morhwa                          1"
      ]
     },
     "execution_count": 8,
     "metadata": {},
     "output_type": "execute_result"
    }
   ],
   "source": [
    "lifetime_df.head()"
   ]
  },
  {
   "cell_type": "code",
   "execution_count": 9,
   "metadata": {},
   "outputs": [],
   "source": [
    "lifetime_df = lifetime_df[(lifetime_df[\"T\"] >= 0)]\n",
    "lifetime_df['recency'][lifetime_df.frequency == 0] = 0\n",
    "lifetime_df = lifetime_df[lifetime_df[\"recency\"] >= 0]\n",
    "#lifetime_df = lifetime_df[lifetime_df.frequency > 0]"
   ]
  },
  {
   "cell_type": "code",
   "execution_count": 10,
   "metadata": {},
   "outputs": [],
   "source": [
    "lifetime_df['recency'] /= 7\n",
    "lifetime_df['T'] /= 7"
   ]
  },
  {
   "cell_type": "code",
   "execution_count": 11,
   "metadata": {},
   "outputs": [
    {
     "data": {
      "text/html": [
       "<div>\n",
       "<style scoped>\n",
       "    .dataframe tbody tr th:only-of-type {\n",
       "        vertical-align: middle;\n",
       "    }\n",
       "\n",
       "    .dataframe tbody tr th {\n",
       "        vertical-align: top;\n",
       "    }\n",
       "\n",
       "    .dataframe thead th {\n",
       "        text-align: right;\n",
       "    }\n",
       "</style>\n",
       "<table border=\"1\" class=\"dataframe\">\n",
       "  <thead>\n",
       "    <tr style=\"text-align: right;\">\n",
       "      <th></th>\n",
       "      <th>frequency</th>\n",
       "      <th>recency</th>\n",
       "      <th>T</th>\n",
       "      <th>second_period_event_count</th>\n",
       "    </tr>\n",
       "  </thead>\n",
       "  <tbody>\n",
       "    <tr>\n",
       "      <th>count</th>\n",
       "      <td>4570.000000</td>\n",
       "      <td>4570.000000</td>\n",
       "      <td>4570.000000</td>\n",
       "      <td>4570.000000</td>\n",
       "    </tr>\n",
       "    <tr>\n",
       "      <th>mean</th>\n",
       "      <td>27.036543</td>\n",
       "      <td>104.834354</td>\n",
       "      <td>111.664770</td>\n",
       "      <td>19.743982</td>\n",
       "    </tr>\n",
       "    <tr>\n",
       "      <th>std</th>\n",
       "      <td>50.095267</td>\n",
       "      <td>105.476312</td>\n",
       "      <td>104.362266</td>\n",
       "      <td>49.182809</td>\n",
       "    </tr>\n",
       "    <tr>\n",
       "      <th>min</th>\n",
       "      <td>2.000000</td>\n",
       "      <td>0.000000</td>\n",
       "      <td>0.142857</td>\n",
       "      <td>0.000000</td>\n",
       "    </tr>\n",
       "    <tr>\n",
       "      <th>25%</th>\n",
       "      <td>4.000000</td>\n",
       "      <td>10.000000</td>\n",
       "      <td>19.428571</td>\n",
       "      <td>0.000000</td>\n",
       "    </tr>\n",
       "    <tr>\n",
       "      <th>50%</th>\n",
       "      <td>9.000000</td>\n",
       "      <td>75.571429</td>\n",
       "      <td>82.285714</td>\n",
       "      <td>2.000000</td>\n",
       "    </tr>\n",
       "    <tr>\n",
       "      <th>75%</th>\n",
       "      <td>27.000000</td>\n",
       "      <td>170.392857</td>\n",
       "      <td>175.857143</td>\n",
       "      <td>17.000000</td>\n",
       "    </tr>\n",
       "    <tr>\n",
       "      <th>max</th>\n",
       "      <td>574.000000</td>\n",
       "      <td>480.714286</td>\n",
       "      <td>483.571429</td>\n",
       "      <td>573.000000</td>\n",
       "    </tr>\n",
       "  </tbody>\n",
       "</table>\n",
       "</div>"
      ],
      "text/plain": [
       "         frequency      recency            T  second_period_event_count\n",
       "count  4570.000000  4570.000000  4570.000000                4570.000000\n",
       "mean     27.036543   104.834354   111.664770                  19.743982\n",
       "std      50.095267   105.476312   104.362266                  49.182809\n",
       "min       2.000000     0.000000     0.142857                   0.000000\n",
       "25%       4.000000    10.000000    19.428571                   0.000000\n",
       "50%       9.000000    75.571429    82.285714                   2.000000\n",
       "75%      27.000000   170.392857   175.857143                  17.000000\n",
       "max     574.000000   480.714286   483.571429                 573.000000"
      ]
     },
     "execution_count": 11,
     "metadata": {},
     "output_type": "execute_result"
    }
   ],
   "source": [
    "lifetime_df.describe()"
   ]
  },
  {
   "cell_type": "code",
   "execution_count": 12,
   "metadata": {},
   "outputs": [
    {
     "data": {
      "text/plain": [
       "array([[<matplotlib.axes._subplots.AxesSubplot object at 0x7f2e9b9a1668>,\n",
       "        <matplotlib.axes._subplots.AxesSubplot object at 0x7f2e9bb01518>],\n",
       "       [<matplotlib.axes._subplots.AxesSubplot object at 0x7f2e9ba4d780>,\n",
       "        <matplotlib.axes._subplots.AxesSubplot object at 0x7f2e9ba2c9e8>]],\n",
       "      dtype=object)"
      ]
     },
     "execution_count": 12,
     "metadata": {},
     "output_type": "execute_result"
    },
    {
     "data": {
      "image/png": "[encoded data removed]",
      "text/plain": [
       "<Figure size 432x288 with 4 Axes>"
      ]
     },
     "metadata": {
      "needs_background": "light"
     },
     "output_type": "display_data"
    }
   ],
   "source": [
    "lifetime_df[['frequency', 'T', 'recency']].hist(bins=20)"
   ]
  },
  {
   "cell_type": "code",
   "execution_count": 13,
   "metadata": {},
   "outputs": [
    {
     "name": "stdout",
     "output_type": "stream",
     "text": [
      "<lifetimes.BetaGeoFitter: fitted with 4570 subjects, a: 1.63, alpha: 0.00, b: 2.03, r: 0.06>\n"
     ]
    }
   ],
   "source": [
    "# similar API to scikit-learn and lifelines.\n",
    "n_users = len(lifetime_df)\n",
    "lft_df = lifetime_df.sample(n=n_users, random_state=0)\n",
    "bgf = BetaGeoFitter(penalizer_coef=1e-8)\n",
    "bgf.fit(lft_df['frequency'], lft_df['recency'], lft_df['T'])\n",
    "print(bgf)"
   ]
  },
  {
   "cell_type": "code",
   "execution_count": 38,
   "metadata": {},
   "outputs": [],
   "source": [
    "# save the model\n",
    "bgf.save_model('CLV.pkl')"
   ]
  },
  {
   "cell_type": "code",
   "execution_count": 14,
   "metadata": {},
   "outputs": [
    {
     "name": "stderr",
     "output_type": "stream",
     "text": [
      "/home/brian/anaconda3/lib/python3.7/site-packages/lifetimes/fitters/beta_geo_fitter.py:214: RuntimeWarning: overflow encountered in double_scalars\n",
      "  ((alpha + T) / (alpha + recency)) ** (r + x)\n"
     ]
    },
    {
     "data": {
      "image/png": "[encoded data removed]",
      "text/plain": [
       "<Figure size 432x288 with 2 Axes>"
      ]
     },
     "metadata": {
      "needs_background": "light"
     },
     "output_type": "display_data"
    }
   ],
   "source": [
    "fig, ax = plt.subplots(1, 1)\n",
    "ax = plot_frequency_recency_matrix(bgf, T=n_weeks, max_frequency=None, max_recency=None,\n",
    "                             title='Expected # of future Events for {0} days of time'.format(n_weeks))\n",
    "fig.savefig('figures/expected_number_events.png')"
   ]
  },
  {
   "cell_type": "code",
   "execution_count": 15,
   "metadata": {},
   "outputs": [
    {
     "data": {
      "text/plain": [
       "<matplotlib.axes._subplots.AxesSubplot at 0x7f2e99598fd0>"
      ]
     },
     "execution_count": 15,
     "metadata": {},
     "output_type": "execute_result"
    },
    {
     "data": {
      "image/png": "[encoded data removed]",
      "text/plain": [
       "<Figure size 432x288 with 2 Axes>"
      ]
     },
     "metadata": {
      "needs_background": "light"
     },
     "output_type": "display_data"
    }
   ],
   "source": [
    "from lifetimes.plotting import plot_probability_alive_matrix\n",
    "\n",
    "plot_probability_alive_matrix(bgf)"
   ]
  },
  {
   "cell_type": "markdown",
   "metadata": {},
   "source": [
    "## Expected contributions in the upcoming cycle"
   ]
  },
  {
   "cell_type": "code",
   "execution_count": 16,
   "metadata": {},
   "outputs": [
    {
     "data": {
      "text/html": [
       "<div>\n",
       "<style scoped>\n",
       "    .dataframe tbody tr th:only-of-type {\n",
       "        vertical-align: middle;\n",
       "    }\n",
       "\n",
       "    .dataframe tbody tr th {\n",
       "        vertical-align: top;\n",
       "    }\n",
       "\n",
       "    .dataframe thead th {\n",
       "        text-align: right;\n",
       "    }\n",
       "</style>\n",
       "<table border=\"1\" class=\"dataframe\">\n",
       "  <thead>\n",
       "    <tr style=\"text-align: right;\">\n",
       "      <th></th>\n",
       "      <th>frequency</th>\n",
       "      <th>recency</th>\n",
       "      <th>T</th>\n",
       "      <th>login</th>\n",
       "      <th>second_period_event_count</th>\n",
       "      <th>predicted_purchases</th>\n",
       "    </tr>\n",
       "  </thead>\n",
       "  <tbody>\n",
       "    <tr>\n",
       "      <th>3484</th>\n",
       "      <td>268</td>\n",
       "      <td>38.857143</td>\n",
       "      <td>39.142857</td>\n",
       "      <td>Matt2694</td>\n",
       "      <td>105</td>\n",
       "      <td>100.254371</td>\n",
       "    </tr>\n",
       "    <tr>\n",
       "      <th>2992</th>\n",
       "      <td>359</td>\n",
       "      <td>58.285714</td>\n",
       "      <td>58.571429</td>\n",
       "      <td>ta1188</td>\n",
       "      <td>395</td>\n",
       "      <td>101.288185</td>\n",
       "    </tr>\n",
       "    <tr>\n",
       "      <th>2957</th>\n",
       "      <td>150</td>\n",
       "      <td>12.142857</td>\n",
       "      <td>12.285714</td>\n",
       "      <td>Rpetrill93</td>\n",
       "      <td>9</td>\n",
       "      <td>107.887694</td>\n",
       "    </tr>\n",
       "    <tr>\n",
       "      <th>3119</th>\n",
       "      <td>527</td>\n",
       "      <td>61.571429</td>\n",
       "      <td>62.000000</td>\n",
       "      <td>LitvinenkoIra</td>\n",
       "      <td>341</td>\n",
       "      <td>130.333034</td>\n",
       "    </tr>\n",
       "    <tr>\n",
       "      <th>1254</th>\n",
       "      <td>541</td>\n",
       "      <td>21.000000</td>\n",
       "      <td>21.142857</td>\n",
       "      <td>muhamarief</td>\n",
       "      <td>164</td>\n",
       "      <td>278.905788</td>\n",
       "    </tr>\n",
       "  </tbody>\n",
       "</table>\n",
       "</div>"
      ],
      "text/plain": [
       "      frequency    recency          T          login  \\\n",
       "3484        268  38.857143  39.142857       Matt2694   \n",
       "2992        359  58.285714  58.571429         ta1188   \n",
       "2957        150  12.142857  12.285714     Rpetrill93   \n",
       "3119        527  61.571429  62.000000  LitvinenkoIra   \n",
       "1254        541  21.000000  21.142857     muhamarief   \n",
       "\n",
       "      second_period_event_count  predicted_purchases  \n",
       "3484                        105           100.254371  \n",
       "2992                        395           101.288185  \n",
       "2957                          9           107.887694  \n",
       "3119                        341           130.333034  \n",
       "1254                        164           278.905788  "
      ]
     },
     "execution_count": 16,
     "metadata": {},
     "output_type": "execute_result"
    }
   ],
   "source": [
    "lft_df['predicted_purchases'] = bgf.conditional_expected_number_of_purchases_up_to_time(n_weeks,\n",
    "                                                                                        lft_df['frequency'], \n",
    "                                                                                        lft_df['recency'], \n",
    "                                                                                        lft_df['T'])\n",
    "lft_df.sort_values(by='predicted_purchases').tail(5)"
   ]
  },
  {
   "cell_type": "code",
   "execution_count": 17,
   "metadata": {},
   "outputs": [
    {
     "name": "stdout",
     "output_type": "stream",
     "text": [
      "[[1.         0.38967506]\n",
      " [0.38967506 1.        ]]\n"
     ]
    },
    {
     "data": {
      "text/plain": [
       "49.28413988723245"
      ]
     },
     "execution_count": 17,
     "metadata": {},
     "output_type": "execute_result"
    },
    {
     "data": {
      "image/png": "[encoded data removed]",
      "text/plain": [
       "<Figure size 432x288 with 1 Axes>"
      ]
     },
     "metadata": {
      "needs_background": "light"
     },
     "output_type": "display_data"
    }
   ],
   "source": [
    "#user_data.dtypes\n",
    "#predict_df = predict_df[predict_df.second_period_event_count < 60]\n",
    "#lft_df['predicted_purchases'] = lft_df.predicted_purchases\n",
    "plt.plot(lft_df.second_period_event_count, lft_df.predicted_purchases, 'k.', alpha=0.2)\n",
    "#plt.xlim([0, 60])\n",
    "#plt.ylim([0, 60])\n",
    "\n",
    "print(np.corrcoef(lft_df.predicted_purchases, lft_df.second_period_event_count))\n",
    "np.sqrt(np.mean((lft_df.predicted_purchases - lft_df.second_period_event_count) ** 2))"
   ]
  },
  {
   "cell_type": "code",
   "execution_count": 18,
   "metadata": {},
   "outputs": [
    {
     "data": {
      "text/html": [
       "<div>\n",
       "<style scoped>\n",
       "    .dataframe tbody tr th:only-of-type {\n",
       "        vertical-align: middle;\n",
       "    }\n",
       "\n",
       "    .dataframe tbody tr th {\n",
       "        vertical-align: top;\n",
       "    }\n",
       "\n",
       "    .dataframe thead th {\n",
       "        text-align: right;\n",
       "    }\n",
       "</style>\n",
       "<table border=\"1\" class=\"dataframe\">\n",
       "  <thead>\n",
       "    <tr style=\"text-align: right;\">\n",
       "      <th></th>\n",
       "      <th>frequency</th>\n",
       "      <th>recency</th>\n",
       "      <th>T</th>\n",
       "      <th>login</th>\n",
       "      <th>second_period_event_count</th>\n",
       "      <th>predicted_purchases</th>\n",
       "      <th>probability_alive</th>\n",
       "      <th>alive</th>\n",
       "    </tr>\n",
       "  </thead>\n",
       "  <tbody>\n",
       "    <tr>\n",
       "      <th>3092</th>\n",
       "      <td>21</td>\n",
       "      <td>233.428571</td>\n",
       "      <td>247.000000</td>\n",
       "      <td>BrianBland</td>\n",
       "      <td>15</td>\n",
       "      <td>1.417549e+00</td>\n",
       "      <td>0.089202</td>\n",
       "      <td>False</td>\n",
       "    </tr>\n",
       "    <tr>\n",
       "      <th>1361</th>\n",
       "      <td>3</td>\n",
       "      <td>0.000000</td>\n",
       "      <td>17.285714</td>\n",
       "      <td>wavi220711</td>\n",
       "      <td>0</td>\n",
       "      <td>0.000000e+00</td>\n",
       "      <td>1.000000</td>\n",
       "      <td>True</td>\n",
       "    </tr>\n",
       "    <tr>\n",
       "      <th>4088</th>\n",
       "      <td>17</td>\n",
       "      <td>130.428571</td>\n",
       "      <td>135.428571</td>\n",
       "      <td>ahmedshaaban00</td>\n",
       "      <td>15</td>\n",
       "      <td>2.122129e+00</td>\n",
       "      <td>0.126558</td>\n",
       "      <td>False</td>\n",
       "    </tr>\n",
       "    <tr>\n",
       "      <th>3218</th>\n",
       "      <td>2</td>\n",
       "      <td>0.000000</td>\n",
       "      <td>3.571429</td>\n",
       "      <td>alptimucin</td>\n",
       "      <td>0</td>\n",
       "      <td>1.098327e-283</td>\n",
       "      <td>1.000000</td>\n",
       "      <td>True</td>\n",
       "    </tr>\n",
       "    <tr>\n",
       "      <th>4390</th>\n",
       "      <td>231</td>\n",
       "      <td>250.142857</td>\n",
       "      <td>253.428571</td>\n",
       "      <td>slightlyoffbeat</td>\n",
       "      <td>372</td>\n",
       "      <td>1.640697e+01</td>\n",
       "      <td>0.534143</td>\n",
       "      <td>True</td>\n",
       "    </tr>\n",
       "    <tr>\n",
       "      <th>3024</th>\n",
       "      <td>251</td>\n",
       "      <td>114.142857</td>\n",
       "      <td>114.285714</td>\n",
       "      <td>aquadrizzt</td>\n",
       "      <td>119</td>\n",
       "      <td>4.153395e+01</td>\n",
       "      <td>0.741423</td>\n",
       "      <td>True</td>\n",
       "    </tr>\n",
       "    <tr>\n",
       "      <th>2284</th>\n",
       "      <td>2</td>\n",
       "      <td>0.000000</td>\n",
       "      <td>15.571429</td>\n",
       "      <td>serkanpar</td>\n",
       "      <td>0</td>\n",
       "      <td>2.507013e-285</td>\n",
       "      <td>1.000000</td>\n",
       "      <td>True</td>\n",
       "    </tr>\n",
       "    <tr>\n",
       "      <th>2676</th>\n",
       "      <td>12</td>\n",
       "      <td>79.285714</td>\n",
       "      <td>81.000000</td>\n",
       "      <td>alexander-volodko-minsk</td>\n",
       "      <td>0</td>\n",
       "      <td>2.385556e+00</td>\n",
       "      <td>0.145065</td>\n",
       "      <td>False</td>\n",
       "    </tr>\n",
       "    <tr>\n",
       "      <th>3817</th>\n",
       "      <td>2</td>\n",
       "      <td>0.000000</td>\n",
       "      <td>0.285714</td>\n",
       "      <td>antoaneta840</td>\n",
       "      <td>0</td>\n",
       "      <td>3.267400e-281</td>\n",
       "      <td>1.000000</td>\n",
       "      <td>True</td>\n",
       "    </tr>\n",
       "    <tr>\n",
       "      <th>2611</th>\n",
       "      <td>2</td>\n",
       "      <td>121.285714</td>\n",
       "      <td>134.428571</td>\n",
       "      <td>rahmanuddin</td>\n",
       "      <td>0</td>\n",
       "      <td>1.888861e-01</td>\n",
       "      <td>0.016050</td>\n",
       "      <td>False</td>\n",
       "    </tr>\n",
       "    <tr>\n",
       "      <th>550</th>\n",
       "      <td>19</td>\n",
       "      <td>151.428571</td>\n",
       "      <td>153.000000</td>\n",
       "      <td>zhaoyue-zephyrus</td>\n",
       "      <td>7</td>\n",
       "      <td>2.261100e+00</td>\n",
       "      <td>0.122179</td>\n",
       "      <td>False</td>\n",
       "    </tr>\n",
       "    <tr>\n",
       "      <th>311</th>\n",
       "      <td>8</td>\n",
       "      <td>0.000000</td>\n",
       "      <td>7.857143</td>\n",
       "      <td>ujjawalkk91</td>\n",
       "      <td>0</td>\n",
       "      <td>0.000000e+00</td>\n",
       "      <td>1.000000</td>\n",
       "      <td>True</td>\n",
       "    </tr>\n",
       "    <tr>\n",
       "      <th>2391</th>\n",
       "      <td>15</td>\n",
       "      <td>0.285714</td>\n",
       "      <td>3.571429</td>\n",
       "      <td>AndreDF98</td>\n",
       "      <td>0</td>\n",
       "      <td>5.767631e-15</td>\n",
       "      <td>0.987935</td>\n",
       "      <td>True</td>\n",
       "    </tr>\n",
       "    <tr>\n",
       "      <th>903</th>\n",
       "      <td>2</td>\n",
       "      <td>0.000000</td>\n",
       "      <td>20.571429</td>\n",
       "      <td>mannypace</td>\n",
       "      <td>0</td>\n",
       "      <td>1.168299e-285</td>\n",
       "      <td>1.000000</td>\n",
       "      <td>True</td>\n",
       "    </tr>\n",
       "    <tr>\n",
       "      <th>537</th>\n",
       "      <td>5</td>\n",
       "      <td>21.571429</td>\n",
       "      <td>35.000000</td>\n",
       "      <td>lexghjc</td>\n",
       "      <td>0</td>\n",
       "      <td>5.734320e-01</td>\n",
       "      <td>0.210226</td>\n",
       "      <td>False</td>\n",
       "    </tr>\n",
       "  </tbody>\n",
       "</table>\n",
       "</div>"
      ],
      "text/plain": [
       "      frequency     recency           T                    login  \\\n",
       "3092         21  233.428571  247.000000               BrianBland   \n",
       "1361          3    0.000000   17.285714               wavi220711   \n",
       "4088         17  130.428571  135.428571           ahmedshaaban00   \n",
       "3218          2    0.000000    3.571429               alptimucin   \n",
       "4390        231  250.142857  253.428571          slightlyoffbeat   \n",
       "3024        251  114.142857  114.285714               aquadrizzt   \n",
       "2284          2    0.000000   15.571429                serkanpar   \n",
       "2676         12   79.285714   81.000000  alexander-volodko-minsk   \n",
       "3817          2    0.000000    0.285714             antoaneta840   \n",
       "2611          2  121.285714  134.428571              rahmanuddin   \n",
       "550          19  151.428571  153.000000         zhaoyue-zephyrus   \n",
       "311           8    0.000000    7.857143              ujjawalkk91   \n",
       "2391         15    0.285714    3.571429                AndreDF98   \n",
       "903           2    0.000000   20.571429                mannypace   \n",
       "537           5   21.571429   35.000000                  lexghjc   \n",
       "\n",
       "      second_period_event_count  predicted_purchases  probability_alive  alive  \n",
       "3092                         15         1.417549e+00           0.089202  False  \n",
       "1361                          0         0.000000e+00           1.000000   True  \n",
       "4088                         15         2.122129e+00           0.126558  False  \n",
       "3218                          0        1.098327e-283           1.000000   True  \n",
       "4390                        372         1.640697e+01           0.534143   True  \n",
       "3024                        119         4.153395e+01           0.741423   True  \n",
       "2284                          0        2.507013e-285           1.000000   True  \n",
       "2676                          0         2.385556e+00           0.145065  False  \n",
       "3817                          0        3.267400e-281           1.000000   True  \n",
       "2611                          0         1.888861e-01           0.016050  False  \n",
       "550                           7         2.261100e+00           0.122179  False  \n",
       "311                           0         0.000000e+00           1.000000   True  \n",
       "2391                          0         5.767631e-15           0.987935   True  \n",
       "903                           0        1.168299e-285           1.000000   True  \n",
       "537                           0         5.734320e-01           0.210226  False  "
      ]
     },
     "execution_count": 18,
     "metadata": {},
     "output_type": "execute_result"
    }
   ],
   "source": [
    "lft_df['probability_alive'] = bgf.conditional_probability_alive(1, lft_df['frequency'], \n",
    "                                                                  lft_df['recency'], n_weeks)\n",
    "lft_df['alive'] = lft_df['probability_alive'] > 0.5\n",
    "lft_df.head(15)"
   ]
  },
  {
   "cell_type": "code",
   "execution_count": 19,
   "metadata": {},
   "outputs": [
    {
     "name": "stdout",
     "output_type": "stream",
     "text": [
      "Precision: 0.237\n",
      "Recall:    0.411\n",
      "Accuracy:  0.362\n",
      "F1-score:  0.3009\n"
     ]
    }
   ],
   "source": [
    "TP = np.sum((lft_df.alive == True) & (lft_df.second_period_event_count > 0))\n",
    "FP = np.sum((lft_df.alive == False) & (lft_df.second_period_event_count > 0))\n",
    "FN = np.sum((lft_df.alive == True) & (lft_df.second_period_event_count < 1))\n",
    "TN = np.sum((lft_df.alive == False) & (lft_df.second_period_event_count < 1))\n",
    "\n",
    "precision = TP / (TP + FP)\n",
    "recall = TP / (TP + FN)\n",
    "accuracy = (TP + TN) / (TP + FP + FN + TN)\n",
    "f1score = 2 * (precision * recall) /  (precision + recall)\n",
    "print('Precision: {0}'.format(np.round(precision, 3)))\n",
    "print('Recall:    {0}'.format(np.round(recall, 3)))\n",
    "print('Accuracy:  {0}'.format(np.round(accuracy, 3)))\n",
    "print('F1-score:  {0}'.format(np.round(f1score, 4)))\n",
    "#print([TP.sum(), FP.sum()])"
   ]
  },
  {
   "cell_type": "code",
   "execution_count": 25,
   "metadata": {},
   "outputs": [
    {
     "data": {
      "text/html": [
       "<div>\n",
       "<style scoped>\n",
       "    .dataframe tbody tr th:only-of-type {\n",
       "        vertical-align: middle;\n",
       "    }\n",
       "\n",
       "    .dataframe tbody tr th {\n",
       "        vertical-align: top;\n",
       "    }\n",
       "\n",
       "    .dataframe thead th {\n",
       "        text-align: right;\n",
       "    }\n",
       "</style>\n",
       "<table border=\"1\" class=\"dataframe\">\n",
       "  <thead>\n",
       "    <tr style=\"text-align: right;\">\n",
       "      <th></th>\n",
       "      <th>alive</th>\n",
       "      <th>second_period_event_count</th>\n",
       "      <th>Unnamed 0</th>\n",
       "    </tr>\n",
       "  </thead>\n",
       "  <tbody>\n",
       "    <tr>\n",
       "      <th>3092</th>\n",
       "      <td>False</td>\n",
       "      <td>True</td>\n",
       "      <td>False</td>\n",
       "    </tr>\n",
       "    <tr>\n",
       "      <th>1361</th>\n",
       "      <td>True</td>\n",
       "      <td>False</td>\n",
       "      <td>False</td>\n",
       "    </tr>\n",
       "    <tr>\n",
       "      <th>4088</th>\n",
       "      <td>False</td>\n",
       "      <td>True</td>\n",
       "      <td>False</td>\n",
       "    </tr>\n",
       "    <tr>\n",
       "      <th>3218</th>\n",
       "      <td>True</td>\n",
       "      <td>False</td>\n",
       "      <td>False</td>\n",
       "    </tr>\n",
       "    <tr>\n",
       "      <th>4390</th>\n",
       "      <td>True</td>\n",
       "      <td>True</td>\n",
       "      <td>True</td>\n",
       "    </tr>\n",
       "    <tr>\n",
       "      <th>3024</th>\n",
       "      <td>True</td>\n",
       "      <td>True</td>\n",
       "      <td>True</td>\n",
       "    </tr>\n",
       "    <tr>\n",
       "      <th>2284</th>\n",
       "      <td>True</td>\n",
       "      <td>False</td>\n",
       "      <td>False</td>\n",
       "    </tr>\n",
       "    <tr>\n",
       "      <th>2676</th>\n",
       "      <td>False</td>\n",
       "      <td>False</td>\n",
       "      <td>False</td>\n",
       "    </tr>\n",
       "    <tr>\n",
       "      <th>3817</th>\n",
       "      <td>True</td>\n",
       "      <td>False</td>\n",
       "      <td>False</td>\n",
       "    </tr>\n",
       "    <tr>\n",
       "      <th>2611</th>\n",
       "      <td>False</td>\n",
       "      <td>False</td>\n",
       "      <td>False</td>\n",
       "    </tr>\n",
       "  </tbody>\n",
       "</table>\n",
       "</div>"
      ],
      "text/plain": [
       "      alive  second_period_event_count  Unnamed 0\n",
       "3092  False                       True      False\n",
       "1361   True                      False      False\n",
       "4088  False                       True      False\n",
       "3218   True                      False      False\n",
       "4390   True                       True       True\n",
       "3024   True                       True       True\n",
       "2284   True                      False      False\n",
       "2676  False                      False      False\n",
       "3817   True                      False      False\n",
       "2611  False                      False      False"
      ]
     },
     "execution_count": 25,
     "metadata": {},
     "output_type": "execute_result"
    }
   ],
   "source": [
    "pd.DataFrame([lft_df.alive == True, lft_df.second_period_event_count > 0,\n",
    "             (lft_df.alive == True) & (lft_df.second_period_event_count > 0)]).transpose()[:10]"
   ]
  },
  {
   "cell_type": "code",
   "execution_count": 26,
   "metadata": {},
   "outputs": [
    {
     "data": {
      "text/plain": [
       "<matplotlib.axes._subplots.AxesSubplot at 0x7f9920473a90>"
      ]
     },
     "execution_count": 26,
     "metadata": {},
     "output_type": "execute_result"
    },
    {
     "data": {
      "image/png": "[encoded data removed]",
      "text/plain": [
       "<Figure size 432x288 with 1 Axes>"
      ]
     },
     "metadata": {
      "needs_background": "light"
     },
     "output_type": "display_data"
    }
   ],
   "source": [
    "from lifetimes.plotting import plot_period_transactions\n",
    "plot_period_transactions(bgf)"
   ]
  },
  {
   "cell_type": "code",
   "execution_count": null,
   "metadata": {},
   "outputs": [],
   "source": []
  }
 ],
 "metadata": {
  "kernelspec": {
   "display_name": "Python 3",
   "language": "python",
   "name": "python3"
  },
  "language_info": {
   "codemirror_mode": {
    "name": "ipython",
    "version": 3
   },
   "file_extension": ".py",
   "mimetype": "text/x-python",
   "name": "python",
   "nbconvert_exporter": "python",
   "pygments_lexer": "ipython3",
   "version": "3.7.2"
  }
 },
 "nbformat": 4,
 "nbformat_minor": 2
}

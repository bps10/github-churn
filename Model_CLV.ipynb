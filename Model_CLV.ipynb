{
 "cells": [
  {
   "cell_type": "markdown",
   "metadata": {},
   "source": [
    "# CLV model\n",
    "\n",
    "[Customer value in non-contractual business model](https://towardsdatascience.com/whats-a-customer-worth-8daf183f8a4f)\n",
    "\n",
    "[lifetimes python package](https://github.com/CamDavidsonPilon/lifetimes) for modeling customer lifetime value (CVL). [Docs](https://lifetimes.readthedocs.io/en/latest/index.html).\n",
    "\n",
    "[CLV in pyspark](http://webdropin.com/wordpress99/customer-lifetime-value-in-pyspark/)\n",
    "\n",
    "[CLV broken down step-by-step](http://benalexkeen.com/bg-nbd-model-for-customer-base-analysis-in-python/)"
   ]
  },
  {
   "cell_type": "code",
   "execution_count": 1,
   "metadata": {},
   "outputs": [],
   "source": [
    "import pandas as pd\n",
    "import numpy as np\n",
    "import matplotlib.pylab as plt\n",
    "from lifetimes import BetaGeoFitter\n",
    "\n",
    "from lifetimes.plotting import plot_frequency_recency_matrix\n",
    "\n",
    "import helper as h"
   ]
  },
  {
   "cell_type": "code",
   "execution_count": 2,
   "metadata": {},
   "outputs": [
    {
     "name": "stdout",
     "output_type": "stream",
     "text": [
      "% of users dropped 51.772519717725196\n"
     ]
    }
   ],
   "source": [
    "analysis_year = '2017'\n",
    "user_data_2017 = h.get_merged_data(appName='CVL-model', year=analysis_year)\n",
    "user_data_2017 = user_data_2017.select(user_data_2017.login,\n",
    "                                       user_data_2017.first_event,\n",
    "                                       user_data_2017.last_event,\n",
    "                                       user_data_2017.frequency,\n",
    "                                       user_data_2017.second_period_event_count)"
   ]
  },
  {
   "cell_type": "code",
   "execution_count": 3,
   "metadata": {},
   "outputs": [
    {
     "name": "stdout",
     "output_type": "stream",
     "text": [
      "% of users dropped 4.698526359485271\n"
     ]
    },
    {
     "data": {
      "text/plain": [
       "Row(login2016='0loky0', created_at=datetime.datetime(2011, 5, 24, 16, 15, 25))"
      ]
     },
     "execution_count": 3,
     "metadata": {},
     "output_type": "execute_result"
    }
   ],
   "source": [
    "user_data_2016 = h.get_merged_data(appName='CVL-model', year='2016')\n",
    "user_data_2016 = user_data_2016.select(user_data_2016.login, \n",
    "                                       user_data_2016.created_at)\n",
    "user_data_2016 = user_data_2016.withColumnRenamed('login', 'login2016')\n",
    "user_data_2016.head()"
   ]
  },
  {
   "cell_type": "code",
   "execution_count": 4,
   "metadata": {},
   "outputs": [],
   "source": [
    "user_data = user_data_2017.join(user_data_2016,\n",
    "                                user_data_2017['login'] == user_data_2016['login2016'],\n",
    "                                how='right_outer')"
   ]
  },
  {
   "cell_type": "code",
   "execution_count": 5,
   "metadata": {},
   "outputs": [],
   "source": [
    "user_data = user_data.fillna(0, subset=['frequency', 'second_period_event_count'])\n",
    "user_data = user_data.fillna(\"2016-01-01\", subset=['first_event', 'last_event'])\n",
    "\n",
    "user_data = user_data.toPandas()"
   ]
  },
  {
   "cell_type": "code",
   "execution_count": 13,
   "metadata": {},
   "outputs": [
    {
     "name": "stdout",
     "output_type": "stream",
     "text": [
      "0        2011-05-24 16:15:25\n",
      "1        2016-04-14 06:04:50\n",
      "2        2014-07-10 23:45:56\n",
      "3        2014-04-24 10:51:26\n",
      "4        2016-03-15 23:17:58\n",
      "5        2016-02-17 02:40:15\n",
      "6        2016-03-08 04:49:22\n",
      "7        2016-03-08 04:49:22\n",
      "8        2016-04-15 14:12:45\n",
      "9        2014-02-11 10:03:04\n",
      "10                       NaT\n",
      "11                       NaT\n",
      "12                       NaT\n",
      "13                       NaT\n",
      "14                       NaT\n",
      "15                       NaT\n",
      "16                       NaT\n",
      "17                       NaT\n",
      "18                       NaT\n",
      "19                       NaT\n",
      "20                       NaT\n",
      "21                       NaT\n",
      "22                       NaT\n",
      "23                       NaT\n",
      "24                       NaT\n",
      "25                       NaT\n",
      "26                       NaT\n",
      "27                       NaT\n",
      "28                       NaT\n",
      "29                       NaT\n",
      "                 ...        \n",
      "186183                   NaT\n",
      "186184                   NaT\n",
      "186185                   NaT\n",
      "186186                   NaT\n",
      "186187                   NaT\n",
      "186188                   NaT\n",
      "186189                   NaT\n",
      "186190                   NaT\n",
      "186191                   NaT\n",
      "186192                   NaT\n",
      "186193                   NaT\n",
      "186194                   NaT\n",
      "186195                   NaT\n",
      "186196                   NaT\n",
      "186197                   NaT\n",
      "186198                   NaT\n",
      "186199                   NaT\n",
      "186200                   NaT\n",
      "186201                   NaT\n",
      "186202                   NaT\n",
      "186203                   NaT\n",
      "186204                   NaT\n",
      "186205                   NaT\n",
      "186206                   NaT\n",
      "186207                   NaT\n",
      "186208                   NaT\n",
      "186209                   NaT\n",
      "186210                   NaT\n",
      "186211                   NaT\n",
      "186212                   NaT\n",
      "Name: created_at, Length: 186213, dtype: datetime64[ns]\n",
      "2017-06-01 00:00:00\n"
     ]
    }
   ],
   "source": [
    "user_data = h.add_time_columns(user_data, end_date=analysis_year + '-06-01 23:59:59')"
   ]
  },
  {
   "cell_type": "code",
   "execution_count": 7,
   "metadata": {},
   "outputs": [
    {
     "data": {
      "text/html": [
       "<div>\n",
       "<style scoped>\n",
       "    .dataframe tbody tr th:only-of-type {\n",
       "        vertical-align: middle;\n",
       "    }\n",
       "\n",
       "    .dataframe tbody tr th {\n",
       "        vertical-align: top;\n",
       "    }\n",
       "\n",
       "    .dataframe thead th {\n",
       "        text-align: right;\n",
       "    }\n",
       "</style>\n",
       "<table border=\"1\" class=\"dataframe\">\n",
       "  <thead>\n",
       "    <tr style=\"text-align: right;\">\n",
       "      <th></th>\n",
       "      <th>login</th>\n",
       "      <th>first_event</th>\n",
       "      <th>last_event</th>\n",
       "      <th>frequency</th>\n",
       "      <th>second_period_event_count</th>\n",
       "      <th>login2016</th>\n",
       "      <th>created_at</th>\n",
       "      <th>T</th>\n",
       "      <th>recency</th>\n",
       "      <th>time_between_first_last_event</th>\n",
       "    </tr>\n",
       "  </thead>\n",
       "  <tbody>\n",
       "    <tr>\n",
       "      <th>0</th>\n",
       "      <td>0loky0</td>\n",
       "      <td>2017-02-09 09:01:26</td>\n",
       "      <td>2017-02-10 03:57:59</td>\n",
       "      <td>2</td>\n",
       "      <td>0</td>\n",
       "      <td>0loky0</td>\n",
       "      <td>2011-05-24 16:15:25</td>\n",
       "      <td>2199.0</td>\n",
       "      <td>2088.487894</td>\n",
       "      <td>0.789271</td>\n",
       "    </tr>\n",
       "    <tr>\n",
       "      <th>1</th>\n",
       "      <td>None</td>\n",
       "      <td>NaT</td>\n",
       "      <td>NaT</td>\n",
       "      <td>0</td>\n",
       "      <td>0</td>\n",
       "      <td>13246864965</td>\n",
       "      <td>2016-04-14 06:04:50</td>\n",
       "      <td>413.0</td>\n",
       "      <td>NaN</td>\n",
       "      <td>NaN</td>\n",
       "    </tr>\n",
       "    <tr>\n",
       "      <th>2</th>\n",
       "      <td>1xPdd</td>\n",
       "      <td>2017-01-15 11:05:29</td>\n",
       "      <td>2017-05-31 23:39:40</td>\n",
       "      <td>19</td>\n",
       "      <td>13</td>\n",
       "      <td>1xPdd</td>\n",
       "      <td>2014-07-10 23:45:56</td>\n",
       "      <td>1056.0</td>\n",
       "      <td>1055.995648</td>\n",
       "      <td>136.523738</td>\n",
       "    </tr>\n",
       "    <tr>\n",
       "      <th>3</th>\n",
       "      <td>2582056905xy</td>\n",
       "      <td>2017-03-29 03:57:52</td>\n",
       "      <td>2017-05-22 03:46:50</td>\n",
       "      <td>7</td>\n",
       "      <td>16</td>\n",
       "      <td>2582056905xy</td>\n",
       "      <td>2014-04-24 10:51:26</td>\n",
       "      <td>1134.0</td>\n",
       "      <td>1123.705139</td>\n",
       "      <td>53.992338</td>\n",
       "    </tr>\n",
       "    <tr>\n",
       "      <th>4</th>\n",
       "      <td>None</td>\n",
       "      <td>NaT</td>\n",
       "      <td>NaT</td>\n",
       "      <td>0</td>\n",
       "      <td>0</td>\n",
       "      <td>277542952</td>\n",
       "      <td>2016-03-15 23:17:58</td>\n",
       "      <td>442.0</td>\n",
       "      <td>NaN</td>\n",
       "      <td>NaN</td>\n",
       "    </tr>\n",
       "  </tbody>\n",
       "</table>\n",
       "</div>"
      ],
      "text/plain": [
       "          login         first_event          last_event  frequency  \\\n",
       "0        0loky0 2017-02-09 09:01:26 2017-02-10 03:57:59          2   \n",
       "1          None                 NaT                 NaT          0   \n",
       "2         1xPdd 2017-01-15 11:05:29 2017-05-31 23:39:40         19   \n",
       "3  2582056905xy 2017-03-29 03:57:52 2017-05-22 03:46:50          7   \n",
       "4          None                 NaT                 NaT          0   \n",
       "\n",
       "   second_period_event_count     login2016          created_at       T  \\\n",
       "0                          0        0loky0 2011-05-24 16:15:25  2199.0   \n",
       "1                          0   13246864965 2016-04-14 06:04:50   413.0   \n",
       "2                         13         1xPdd 2014-07-10 23:45:56  1056.0   \n",
       "3                         16  2582056905xy 2014-04-24 10:51:26  1134.0   \n",
       "4                          0     277542952 2016-03-15 23:17:58   442.0   \n",
       "\n",
       "       recency  time_between_first_last_event  \n",
       "0  2088.487894                       0.789271  \n",
       "1          NaN                            NaN  \n",
       "2  1055.995648                     136.523738  \n",
       "3  1123.705139                      53.992338  \n",
       "4          NaN                            NaN  "
      ]
     },
     "execution_count": 7,
     "metadata": {},
     "output_type": "execute_result"
    }
   ],
   "source": [
    "user_data.head()"
   ]
  },
  {
   "cell_type": "markdown",
   "metadata": {},
   "source": [
    "### T, recency and frequency\n",
    "\n",
    "Definitions from [lifetime](https://lifetimes.readthedocs.io/en/latest/Quickstart.html):\n",
    "\n",
    "`frequency` represents the number of repeat purchases the customer has made. This means that it’s one less than the total number of purchases. This is actually slightly wrong. It’s the count of time periods the customer had a purchase in. So if using days as units, then it’s the count of days the customer had a purchase on.\n",
    "\n",
    "`T` represents the age of the customer in whatever time units chosen (weekly, in the above dataset). This is equal to the duration between a customer’s first purchase and the end of the period under study.\n",
    "\n",
    "`recency` represents the age of the customer when they made their most recent purchases. This is equal to the duration between a customer’s first purchase and their latest purchase. (Thus if they have made only 1 purchase, the recency is 0.)"
   ]
  },
  {
   "cell_type": "markdown",
   "metadata": {},
   "source": [
    "### Model CLV"
   ]
  },
  {
   "cell_type": "code",
   "execution_count": 8,
   "metadata": {},
   "outputs": [],
   "source": [
    "n_weeks = 22\n",
    "\n",
    "user_data['recency'] = np.floor(user_data.recency)\n",
    "lifetime_df = user_data[['frequency', 'recency', 'T', 'login2016', 'second_period_event_count']]\n",
    "# normalize frequency per week\n",
    "#lifetime_df['frequency'] = lifetime_df.frequency / n_weeks\n",
    "#lifetime_df['second_period_event_count'] = lifetime_df.second_period_event_count / n_weeks\n",
    "\n",
    "lifetime_df = lifetime_df.dropna()"
   ]
  },
  {
   "cell_type": "code",
   "execution_count": 9,
   "metadata": {},
   "outputs": [
    {
     "data": {
      "text/html": [
       "<div>\n",
       "<style scoped>\n",
       "    .dataframe tbody tr th:only-of-type {\n",
       "        vertical-align: middle;\n",
       "    }\n",
       "\n",
       "    .dataframe tbody tr th {\n",
       "        vertical-align: top;\n",
       "    }\n",
       "\n",
       "    .dataframe thead th {\n",
       "        text-align: right;\n",
       "    }\n",
       "</style>\n",
       "<table border=\"1\" class=\"dataframe\">\n",
       "  <thead>\n",
       "    <tr style=\"text-align: right;\">\n",
       "      <th></th>\n",
       "      <th>frequency</th>\n",
       "      <th>recency</th>\n",
       "      <th>T</th>\n",
       "      <th>login2016</th>\n",
       "      <th>second_period_event_count</th>\n",
       "    </tr>\n",
       "  </thead>\n",
       "  <tbody>\n",
       "    <tr>\n",
       "      <th>0</th>\n",
       "      <td>2</td>\n",
       "      <td>2088.0</td>\n",
       "      <td>2199.0</td>\n",
       "      <td>0loky0</td>\n",
       "      <td>0</td>\n",
       "    </tr>\n",
       "    <tr>\n",
       "      <th>2</th>\n",
       "      <td>19</td>\n",
       "      <td>1055.0</td>\n",
       "      <td>1056.0</td>\n",
       "      <td>1xPdd</td>\n",
       "      <td>13</td>\n",
       "    </tr>\n",
       "    <tr>\n",
       "      <th>3</th>\n",
       "      <td>7</td>\n",
       "      <td>1123.0</td>\n",
       "      <td>1134.0</td>\n",
       "      <td>2582056905xy</td>\n",
       "      <td>16</td>\n",
       "    </tr>\n",
       "    <tr>\n",
       "      <th>8</th>\n",
       "      <td>46</td>\n",
       "      <td>394.0</td>\n",
       "      <td>411.0</td>\n",
       "      <td>AJ340</td>\n",
       "      <td>3</td>\n",
       "    </tr>\n",
       "    <tr>\n",
       "      <th>9</th>\n",
       "      <td>23</td>\n",
       "      <td>1150.0</td>\n",
       "      <td>1206.0</td>\n",
       "      <td>AaronWB</td>\n",
       "      <td>23</td>\n",
       "    </tr>\n",
       "  </tbody>\n",
       "</table>\n",
       "</div>"
      ],
      "text/plain": [
       "   frequency  recency       T     login2016  second_period_event_count\n",
       "0          2   2088.0  2199.0        0loky0                          0\n",
       "2         19   1055.0  1056.0         1xPdd                         13\n",
       "3          7   1123.0  1134.0  2582056905xy                         16\n",
       "8         46    394.0   411.0         AJ340                          3\n",
       "9         23   1150.0  1206.0       AaronWB                         23"
      ]
     },
     "execution_count": 9,
     "metadata": {},
     "output_type": "execute_result"
    }
   ],
   "source": [
    "lifetime_df.head()"
   ]
  },
  {
   "cell_type": "code",
   "execution_count": 10,
   "metadata": {},
   "outputs": [],
   "source": [
    "lifetime_df = lifetime_df[(lifetime_df[\"T\"] >= 0)]\n",
    "lifetime_df['recency'][lifetime_df.frequency == 0] = 0\n",
    "lifetime_df = lifetime_df[lifetime_df[\"recency\"] >= 0]\n",
    "#lifetime_df = lifetime_df[lifetime_df.frequency > 0]"
   ]
  },
  {
   "cell_type": "code",
   "execution_count": 11,
   "metadata": {},
   "outputs": [
    {
     "data": {
      "text/html": [
       "<div>\n",
       "<style scoped>\n",
       "    .dataframe tbody tr th:only-of-type {\n",
       "        vertical-align: middle;\n",
       "    }\n",
       "\n",
       "    .dataframe tbody tr th {\n",
       "        vertical-align: top;\n",
       "    }\n",
       "\n",
       "    .dataframe thead th {\n",
       "        text-align: right;\n",
       "    }\n",
       "</style>\n",
       "<table border=\"1\" class=\"dataframe\">\n",
       "  <thead>\n",
       "    <tr style=\"text-align: right;\">\n",
       "      <th></th>\n",
       "      <th>frequency</th>\n",
       "      <th>recency</th>\n",
       "      <th>T</th>\n",
       "      <th>second_period_event_count</th>\n",
       "    </tr>\n",
       "  </thead>\n",
       "  <tbody>\n",
       "    <tr>\n",
       "      <th>count</th>\n",
       "      <td>5.000000</td>\n",
       "      <td>5.00000</td>\n",
       "      <td>5.000000</td>\n",
       "      <td>5.000000</td>\n",
       "    </tr>\n",
       "    <tr>\n",
       "      <th>mean</th>\n",
       "      <td>19.400000</td>\n",
       "      <td>1162.00000</td>\n",
       "      <td>1201.200000</td>\n",
       "      <td>11.000000</td>\n",
       "    </tr>\n",
       "    <tr>\n",
       "      <th>std</th>\n",
       "      <td>17.155174</td>\n",
       "      <td>604.23795</td>\n",
       "      <td>641.413049</td>\n",
       "      <td>9.460444</td>\n",
       "    </tr>\n",
       "    <tr>\n",
       "      <th>min</th>\n",
       "      <td>2.000000</td>\n",
       "      <td>394.00000</td>\n",
       "      <td>411.000000</td>\n",
       "      <td>0.000000</td>\n",
       "    </tr>\n",
       "    <tr>\n",
       "      <th>25%</th>\n",
       "      <td>7.000000</td>\n",
       "      <td>1055.00000</td>\n",
       "      <td>1056.000000</td>\n",
       "      <td>3.000000</td>\n",
       "    </tr>\n",
       "    <tr>\n",
       "      <th>50%</th>\n",
       "      <td>19.000000</td>\n",
       "      <td>1123.00000</td>\n",
       "      <td>1134.000000</td>\n",
       "      <td>13.000000</td>\n",
       "    </tr>\n",
       "    <tr>\n",
       "      <th>75%</th>\n",
       "      <td>23.000000</td>\n",
       "      <td>1150.00000</td>\n",
       "      <td>1206.000000</td>\n",
       "      <td>16.000000</td>\n",
       "    </tr>\n",
       "    <tr>\n",
       "      <th>max</th>\n",
       "      <td>46.000000</td>\n",
       "      <td>2088.00000</td>\n",
       "      <td>2199.000000</td>\n",
       "      <td>23.000000</td>\n",
       "    </tr>\n",
       "  </tbody>\n",
       "</table>\n",
       "</div>"
      ],
      "text/plain": [
       "       frequency     recency            T  second_period_event_count\n",
       "count   5.000000     5.00000     5.000000                   5.000000\n",
       "mean   19.400000  1162.00000  1201.200000                  11.000000\n",
       "std    17.155174   604.23795   641.413049                   9.460444\n",
       "min     2.000000   394.00000   411.000000                   0.000000\n",
       "25%     7.000000  1055.00000  1056.000000                   3.000000\n",
       "50%    19.000000  1123.00000  1134.000000                  13.000000\n",
       "75%    23.000000  1150.00000  1206.000000                  16.000000\n",
       "max    46.000000  2088.00000  2199.000000                  23.000000"
      ]
     },
     "execution_count": 11,
     "metadata": {},
     "output_type": "execute_result"
    }
   ],
   "source": [
    "lifetime_df.describe()"
   ]
  },
  {
   "cell_type": "code",
   "execution_count": 12,
   "metadata": {},
   "outputs": [
    {
     "data": {
      "text/plain": [
       "array([[<matplotlib.axes._subplots.AxesSubplot object at 0x7ff2514aee48>,\n",
       "        <matplotlib.axes._subplots.AxesSubplot object at 0x7ff25164d470>],\n",
       "       [<matplotlib.axes._subplots.AxesSubplot object at 0x7ff2517196d8>,\n",
       "        <matplotlib.axes._subplots.AxesSubplot object at 0x7ff2517e6940>]],\n",
       "      dtype=object)"
      ]
     },
     "execution_count": 12,
     "metadata": {},
     "output_type": "execute_result"
    },
    {
     "data": {
      "image/png": "[encoded data removed]",
      "text/plain": [
       "<Figure size 432x288 with 4 Axes>"
      ]
     },
     "metadata": {
      "needs_background": "light"
     },
     "output_type": "display_data"
    }
   ],
   "source": [
    "lifetime_df[['frequency', 'T', 'recency']].hist(bins=20)"
   ]
  },
  {
   "cell_type": "code",
   "execution_count": 50,
   "metadata": {},
   "outputs": [
    {
     "name": "stdout",
     "output_type": "stream",
     "text": [
      "<lifetimes.BetaGeoFitter: fitted with 30000 subjects, a: 0.01, alpha: 1.42, b: 9.56, r: 0.23>\n"
     ]
    }
   ],
   "source": [
    "# similar API to scikit-learn and lifelines.\n",
    "n_users = 30000\n",
    "lft_df = lifetime_df.sample(n=n_users, random_state=0)\n",
    "bgf = BetaGeoFitter(penalizer_coef=1e-8)\n",
    "bgf.fit(lft_df['frequency'], lft_df['recency'], lft_df['T'])\n",
    "print(bgf)"
   ]
  },
  {
   "cell_type": "code",
   "execution_count": 51,
   "metadata": {},
   "outputs": [],
   "source": [
    "# save the model\n",
    "bgf.save_model('CLV.pkl')"
   ]
  },
  {
   "cell_type": "code",
   "execution_count": 52,
   "metadata": {},
   "outputs": [
    {
     "name": "stderr",
     "output_type": "stream",
     "text": [
      "/home/brian/anaconda3/lib/python3.7/site-packages/lifetimes/fitters/beta_geo_fitter.py:214: RuntimeWarning: overflow encountered in double_scalars\n",
      "  ((alpha + T) / (alpha + recency)) ** (r + x)\n"
     ]
    },
    {
     "data": {
      "image/png": "[encoded data removed]",
      "text/plain": [
       "<Figure size 432x288 with 2 Axes>"
      ]
     },
     "metadata": {
      "needs_background": "light"
     },
     "output_type": "display_data"
    }
   ],
   "source": [
    "fig, ax = plt.subplots(1, 1)\n",
    "ax = plot_frequency_recency_matrix(bgf, T=n_weeks, max_frequency=None, max_recency=None,\n",
    "                             title='Expected # of future Events for {0} weeks of time'.format(n_weeks))\n",
    "fig.savefig('figures/expected_number_events.png')"
   ]
  },
  {
   "cell_type": "code",
   "execution_count": 53,
   "metadata": {},
   "outputs": [
    {
     "data": {
      "text/plain": [
       "<matplotlib.axes._subplots.AxesSubplot at 0x7f827b07f128>"
      ]
     },
     "execution_count": 53,
     "metadata": {},
     "output_type": "execute_result"
    },
    {
     "data": {
      "image/png": "[encoded data removed]",
      "text/plain": [
       "<Figure size 432x288 with 2 Axes>"
      ]
     },
     "metadata": {
      "needs_background": "light"
     },
     "output_type": "display_data"
    }
   ],
   "source": [
    "from lifetimes.plotting import plot_probability_alive_matrix\n",
    "\n",
    "plot_probability_alive_matrix(bgf)"
   ]
  },
  {
   "cell_type": "markdown",
   "metadata": {},
   "source": [
    "## Expected contributions in the upcoming cycle"
   ]
  },
  {
   "cell_type": "code",
   "execution_count": 54,
   "metadata": {},
   "outputs": [
    {
     "data": {
      "text/html": [
       "<div>\n",
       "<style scoped>\n",
       "    .dataframe tbody tr th:only-of-type {\n",
       "        vertical-align: middle;\n",
       "    }\n",
       "\n",
       "    .dataframe tbody tr th {\n",
       "        vertical-align: top;\n",
       "    }\n",
       "\n",
       "    .dataframe thead th {\n",
       "        text-align: right;\n",
       "    }\n",
       "</style>\n",
       "<table border=\"1\" class=\"dataframe\">\n",
       "  <thead>\n",
       "    <tr style=\"text-align: right;\">\n",
       "      <th></th>\n",
       "      <th>frequency</th>\n",
       "      <th>recency</th>\n",
       "      <th>T</th>\n",
       "      <th>login2016</th>\n",
       "      <th>second_period_event_count</th>\n",
       "      <th>predicted_purchases</th>\n",
       "    </tr>\n",
       "  </thead>\n",
       "  <tbody>\n",
       "    <tr>\n",
       "      <th>177053</th>\n",
       "      <td>548</td>\n",
       "      <td>84.0</td>\n",
       "      <td>85.0</td>\n",
       "      <td>abmorris</td>\n",
       "      <td>214</td>\n",
       "      <td>138.070097</td>\n",
       "    </tr>\n",
       "    <tr>\n",
       "      <th>98023</th>\n",
       "      <td>396</td>\n",
       "      <td>59.0</td>\n",
       "      <td>60.0</td>\n",
       "      <td>deepin-jenkins</td>\n",
       "      <td>488</td>\n",
       "      <td>139.604278</td>\n",
       "    </tr>\n",
       "    <tr>\n",
       "      <th>52378</th>\n",
       "      <td>450</td>\n",
       "      <td>69.0</td>\n",
       "      <td>69.0</td>\n",
       "      <td>Scabandari</td>\n",
       "      <td>79</td>\n",
       "      <td>140.470387</td>\n",
       "    </tr>\n",
       "    <tr>\n",
       "      <th>68513</th>\n",
       "      <td>383</td>\n",
       "      <td>52.0</td>\n",
       "      <td>52.0</td>\n",
       "      <td>lsrdg</td>\n",
       "      <td>94</td>\n",
       "      <td>157.558420</td>\n",
       "    </tr>\n",
       "    <tr>\n",
       "      <th>32160</th>\n",
       "      <td>570</td>\n",
       "      <td>62.0</td>\n",
       "      <td>63.0</td>\n",
       "      <td>jknpj</td>\n",
       "      <td>483</td>\n",
       "      <td>173.847916</td>\n",
       "    </tr>\n",
       "  </tbody>\n",
       "</table>\n",
       "</div>"
      ],
      "text/plain": [
       "        frequency  recency     T       login2016  second_period_event_count  \\\n",
       "177053        548     84.0  85.0        abmorris                        214   \n",
       "98023         396     59.0  60.0  deepin-jenkins                        488   \n",
       "52378         450     69.0  69.0      Scabandari                         79   \n",
       "68513         383     52.0  52.0           lsrdg                         94   \n",
       "32160         570     62.0  63.0           jknpj                        483   \n",
       "\n",
       "        predicted_purchases  \n",
       "177053           138.070097  \n",
       "98023            139.604278  \n",
       "52378            140.470387  \n",
       "68513            157.558420  \n",
       "32160            173.847916  "
      ]
     },
     "execution_count": 54,
     "metadata": {},
     "output_type": "execute_result"
    }
   ],
   "source": [
    "lft_df['predicted_purchases'] = bgf.conditional_expected_number_of_purchases_up_to_time(n_weeks,\n",
    "                                                                                        lft_df['frequency'], \n",
    "                                                                                        lft_df['recency'], \n",
    "                                                                                        lft_df['T'])\n",
    "lft_df.sort_values(by='predicted_purchases').tail(5)"
   ]
  },
  {
   "cell_type": "code",
   "execution_count": 55,
   "metadata": {},
   "outputs": [
    {
     "name": "stdout",
     "output_type": "stream",
     "text": [
      "[[1.         0.48106374]\n",
      " [0.48106374 1.        ]]\n"
     ]
    },
    {
     "data": {
      "text/plain": [
       "44.47203399515424"
      ]
     },
     "execution_count": 55,
     "metadata": {},
     "output_type": "execute_result"
    },
    {
     "data": {
      "image/png": "[encoded data removed]",
      "text/plain": [
       "<Figure size 432x288 with 1 Axes>"
      ]
     },
     "metadata": {
      "needs_background": "light"
     },
     "output_type": "display_data"
    }
   ],
   "source": [
    "#user_data.dtypes\n",
    "#predict_df = predict_df[predict_df.second_period_event_count < 60]\n",
    "#lft_df['predicted_purchases'] = lft_df.predicted_purchases\n",
    "plt.plot(lft_df.second_period_event_count, lft_df.predicted_purchases, 'k.', alpha=0.2)\n",
    "#plt.xlim([0, 60])\n",
    "#plt.ylim([0, 60])\n",
    "\n",
    "print(np.corrcoef(lft_df.predicted_purchases, lft_df.second_period_event_count))\n",
    "np.sqrt(np.mean((lft_df.predicted_purchases - lft_df.second_period_event_count) ** 2))"
   ]
  },
  {
   "cell_type": "code",
   "execution_count": 56,
   "metadata": {},
   "outputs": [
    {
     "data": {
      "text/html": [
       "<div>\n",
       "<style scoped>\n",
       "    .dataframe tbody tr th:only-of-type {\n",
       "        vertical-align: middle;\n",
       "    }\n",
       "\n",
       "    .dataframe tbody tr th {\n",
       "        vertical-align: top;\n",
       "    }\n",
       "\n",
       "    .dataframe thead th {\n",
       "        text-align: right;\n",
       "    }\n",
       "</style>\n",
       "<table border=\"1\" class=\"dataframe\">\n",
       "  <thead>\n",
       "    <tr style=\"text-align: right;\">\n",
       "      <th></th>\n",
       "      <th>frequency</th>\n",
       "      <th>recency</th>\n",
       "      <th>T</th>\n",
       "      <th>login2016</th>\n",
       "      <th>second_period_event_count</th>\n",
       "      <th>predicted_purchases</th>\n",
       "      <th>probability_alive</th>\n",
       "      <th>alive</th>\n",
       "    </tr>\n",
       "  </thead>\n",
       "  <tbody>\n",
       "    <tr>\n",
       "      <th>112744</th>\n",
       "      <td>7</td>\n",
       "      <td>75.0</td>\n",
       "      <td>76.0</td>\n",
       "      <td>Displax</td>\n",
       "      <td>15</td>\n",
       "      <td>2.050722</td>\n",
       "      <td>0.985883</td>\n",
       "      <td>True</td>\n",
       "    </tr>\n",
       "    <tr>\n",
       "      <th>99066</th>\n",
       "      <td>0</td>\n",
       "      <td>0.0</td>\n",
       "      <td>237.0</td>\n",
       "      <td>felicien-brochu</td>\n",
       "      <td>0</td>\n",
       "      <td>0.020845</td>\n",
       "      <td>0.999042</td>\n",
       "      <td>True</td>\n",
       "    </tr>\n",
       "    <tr>\n",
       "      <th>58596</th>\n",
       "      <td>19</td>\n",
       "      <td>288.0</td>\n",
       "      <td>290.0</td>\n",
       "      <td>wiltodelta</td>\n",
       "      <td>5</td>\n",
       "      <td>1.450505</td>\n",
       "      <td>0.975865</td>\n",
       "      <td>True</td>\n",
       "    </tr>\n",
       "    <tr>\n",
       "      <th>29776</th>\n",
       "      <td>0</td>\n",
       "      <td>0.0</td>\n",
       "      <td>110.0</td>\n",
       "      <td>Joeluck</td>\n",
       "      <td>0</td>\n",
       "      <td>0.044602</td>\n",
       "      <td>0.999042</td>\n",
       "      <td>True</td>\n",
       "    </tr>\n",
       "    <tr>\n",
       "      <th>143973</th>\n",
       "      <td>25</td>\n",
       "      <td>235.0</td>\n",
       "      <td>238.0</td>\n",
       "      <td>jankoulaga</td>\n",
       "      <td>13</td>\n",
       "      <td>2.316373</td>\n",
       "      <td>0.986121</td>\n",
       "      <td>True</td>\n",
       "    </tr>\n",
       "    <tr>\n",
       "      <th>47798</th>\n",
       "      <td>107</td>\n",
       "      <td>393.0</td>\n",
       "      <td>395.0</td>\n",
       "      <td>colinux</td>\n",
       "      <td>51</td>\n",
       "      <td>5.948473</td>\n",
       "      <td>0.995353</td>\n",
       "      <td>True</td>\n",
       "    </tr>\n",
       "    <tr>\n",
       "      <th>46409</th>\n",
       "      <td>3</td>\n",
       "      <td>54.0</td>\n",
       "      <td>68.0</td>\n",
       "      <td>synetiq-server</td>\n",
       "      <td>0</td>\n",
       "      <td>1.020160</td>\n",
       "      <td>0.979167</td>\n",
       "      <td>True</td>\n",
       "    </tr>\n",
       "    <tr>\n",
       "      <th>59296</th>\n",
       "      <td>14</td>\n",
       "      <td>254.0</td>\n",
       "      <td>263.0</td>\n",
       "      <td>obibring</td>\n",
       "      <td>40</td>\n",
       "      <td>1.182532</td>\n",
       "      <td>0.970931</td>\n",
       "      <td>True</td>\n",
       "    </tr>\n",
       "    <tr>\n",
       "      <th>47872</th>\n",
       "      <td>2</td>\n",
       "      <td>208.0</td>\n",
       "      <td>219.0</td>\n",
       "      <td>excelmaster</td>\n",
       "      <td>0</td>\n",
       "      <td>0.221923</td>\n",
       "      <td>0.870581</td>\n",
       "      <td>True</td>\n",
       "    </tr>\n",
       "    <tr>\n",
       "      <th>94722</th>\n",
       "      <td>11</td>\n",
       "      <td>123.0</td>\n",
       "      <td>125.0</td>\n",
       "      <td>supportbeam</td>\n",
       "      <td>7</td>\n",
       "      <td>1.951562</td>\n",
       "      <td>0.984095</td>\n",
       "      <td>True</td>\n",
       "    </tr>\n",
       "    <tr>\n",
       "      <th>44396</th>\n",
       "      <td>6</td>\n",
       "      <td>50.0</td>\n",
       "      <td>58.0</td>\n",
       "      <td>otafasd</td>\n",
       "      <td>0</td>\n",
       "      <td>2.299797</td>\n",
       "      <td>0.989818</td>\n",
       "      <td>True</td>\n",
       "    </tr>\n",
       "    <tr>\n",
       "      <th>158918</th>\n",
       "      <td>183</td>\n",
       "      <td>133.0</td>\n",
       "      <td>133.0</td>\n",
       "      <td>mikedevelops</td>\n",
       "      <td>367</td>\n",
       "      <td>29.965700</td>\n",
       "      <td>0.999350</td>\n",
       "      <td>True</td>\n",
       "    </tr>\n",
       "    <tr>\n",
       "      <th>45052</th>\n",
       "      <td>0</td>\n",
       "      <td>0.0</td>\n",
       "      <td>357.0</td>\n",
       "      <td>finalquest</td>\n",
       "      <td>0</td>\n",
       "      <td>0.013866</td>\n",
       "      <td>0.999042</td>\n",
       "      <td>True</td>\n",
       "    </tr>\n",
       "    <tr>\n",
       "      <th>185995</th>\n",
       "      <td>0</td>\n",
       "      <td>0.0</td>\n",
       "      <td>107.0</td>\n",
       "      <td>rafaleal</td>\n",
       "      <td>0</td>\n",
       "      <td>0.045836</td>\n",
       "      <td>0.999042</td>\n",
       "      <td>True</td>\n",
       "    </tr>\n",
       "    <tr>\n",
       "      <th>86854</th>\n",
       "      <td>68</td>\n",
       "      <td>213.0</td>\n",
       "      <td>215.0</td>\n",
       "      <td>bjfong</td>\n",
       "      <td>5</td>\n",
       "      <td>6.931049</td>\n",
       "      <td>0.996194</td>\n",
       "      <td>True</td>\n",
       "    </tr>\n",
       "  </tbody>\n",
       "</table>\n",
       "</div>"
      ],
      "text/plain": [
       "        frequency  recency      T        login2016  second_period_event_count  \\\n",
       "112744          7     75.0   76.0          Displax                         15   \n",
       "99066           0      0.0  237.0  felicien-brochu                          0   \n",
       "58596          19    288.0  290.0       wiltodelta                          5   \n",
       "29776           0      0.0  110.0          Joeluck                          0   \n",
       "143973         25    235.0  238.0       jankoulaga                         13   \n",
       "47798         107    393.0  395.0          colinux                         51   \n",
       "46409           3     54.0   68.0   synetiq-server                          0   \n",
       "59296          14    254.0  263.0         obibring                         40   \n",
       "47872           2    208.0  219.0      excelmaster                          0   \n",
       "94722          11    123.0  125.0      supportbeam                          7   \n",
       "44396           6     50.0   58.0          otafasd                          0   \n",
       "158918        183    133.0  133.0     mikedevelops                        367   \n",
       "45052           0      0.0  357.0       finalquest                          0   \n",
       "185995          0      0.0  107.0         rafaleal                          0   \n",
       "86854          68    213.0  215.0           bjfong                          5   \n",
       "\n",
       "        predicted_purchases  probability_alive  alive  \n",
       "112744             2.050722           0.985883   True  \n",
       "99066              0.020845           0.999042   True  \n",
       "58596              1.450505           0.975865   True  \n",
       "29776              0.044602           0.999042   True  \n",
       "143973             2.316373           0.986121   True  \n",
       "47798              5.948473           0.995353   True  \n",
       "46409              1.020160           0.979167   True  \n",
       "59296              1.182532           0.970931   True  \n",
       "47872              0.221923           0.870581   True  \n",
       "94722              1.951562           0.984095   True  \n",
       "44396              2.299797           0.989818   True  \n",
       "158918            29.965700           0.999350   True  \n",
       "45052              0.013866           0.999042   True  \n",
       "185995             0.045836           0.999042   True  \n",
       "86854              6.931049           0.996194   True  "
      ]
     },
     "execution_count": 56,
     "metadata": {},
     "output_type": "execute_result"
    }
   ],
   "source": [
    "lft_df['probability_alive'] = bgf.conditional_probability_alive(1, lft_df['frequency'], \n",
    "                                                                  lft_df['recency'], n_weeks)\n",
    "lft_df['alive'] = lft_df['probability_alive'] > 0.5\n",
    "lft_df.head(15)"
   ]
  },
  {
   "cell_type": "code",
   "execution_count": 57,
   "metadata": {},
   "outputs": [
    {
     "name": "stdout",
     "output_type": "stream",
     "text": [
      "Precision: 1.0\n",
      "Recall:    0.507\n",
      "Accuracy:  0.507\n",
      "F1-score:  0.6729\n"
     ]
    }
   ],
   "source": [
    "TP = np.sum((lft_df.alive == True) & (lft_df.second_period_event_count > 0))\n",
    "FP = np.sum((lft_df.alive == False) & (lft_df.second_period_event_count > 0))\n",
    "FN = np.sum((lft_df.alive == True) & (lft_df.second_period_event_count < 1))\n",
    "TN = np.sum((lft_df.alive == False) & (lft_df.second_period_event_count < 1))\n",
    "\n",
    "precision = TP / (TP + FP)\n",
    "recall = TP / (TP + FN)\n",
    "accuracy = (TP + TN) / (TP + FP + FN + TN)\n",
    "f1score = 2 * (precision * recall) /  (precision + recall)\n",
    "print('Precision: {0}'.format(np.round(precision, 3)))\n",
    "print('Recall:    {0}'.format(np.round(recall, 3)))\n",
    "print('Accuracy:  {0}'.format(np.round(accuracy, 3)))\n",
    "print('F1-score:  {0}'.format(np.round(f1score, 4)))\n",
    "#print([TP.sum(), FP.sum()])"
   ]
  },
  {
   "cell_type": "code",
   "execution_count": 58,
   "metadata": {},
   "outputs": [
    {
     "data": {
      "text/html": [
       "<div>\n",
       "<style scoped>\n",
       "    .dataframe tbody tr th:only-of-type {\n",
       "        vertical-align: middle;\n",
       "    }\n",
       "\n",
       "    .dataframe tbody tr th {\n",
       "        vertical-align: top;\n",
       "    }\n",
       "\n",
       "    .dataframe thead th {\n",
       "        text-align: right;\n",
       "    }\n",
       "</style>\n",
       "<table border=\"1\" class=\"dataframe\">\n",
       "  <thead>\n",
       "    <tr style=\"text-align: right;\">\n",
       "      <th></th>\n",
       "      <th>alive</th>\n",
       "      <th>second_period_event_count</th>\n",
       "      <th>Unnamed 0</th>\n",
       "    </tr>\n",
       "  </thead>\n",
       "  <tbody>\n",
       "    <tr>\n",
       "      <th>112744</th>\n",
       "      <td>True</td>\n",
       "      <td>True</td>\n",
       "      <td>True</td>\n",
       "    </tr>\n",
       "    <tr>\n",
       "      <th>99066</th>\n",
       "      <td>True</td>\n",
       "      <td>False</td>\n",
       "      <td>False</td>\n",
       "    </tr>\n",
       "    <tr>\n",
       "      <th>58596</th>\n",
       "      <td>True</td>\n",
       "      <td>True</td>\n",
       "      <td>True</td>\n",
       "    </tr>\n",
       "    <tr>\n",
       "      <th>29776</th>\n",
       "      <td>True</td>\n",
       "      <td>False</td>\n",
       "      <td>False</td>\n",
       "    </tr>\n",
       "    <tr>\n",
       "      <th>143973</th>\n",
       "      <td>True</td>\n",
       "      <td>True</td>\n",
       "      <td>True</td>\n",
       "    </tr>\n",
       "    <tr>\n",
       "      <th>47798</th>\n",
       "      <td>True</td>\n",
       "      <td>True</td>\n",
       "      <td>True</td>\n",
       "    </tr>\n",
       "    <tr>\n",
       "      <th>46409</th>\n",
       "      <td>True</td>\n",
       "      <td>False</td>\n",
       "      <td>False</td>\n",
       "    </tr>\n",
       "    <tr>\n",
       "      <th>59296</th>\n",
       "      <td>True</td>\n",
       "      <td>True</td>\n",
       "      <td>True</td>\n",
       "    </tr>\n",
       "    <tr>\n",
       "      <th>47872</th>\n",
       "      <td>True</td>\n",
       "      <td>False</td>\n",
       "      <td>False</td>\n",
       "    </tr>\n",
       "    <tr>\n",
       "      <th>94722</th>\n",
       "      <td>True</td>\n",
       "      <td>True</td>\n",
       "      <td>True</td>\n",
       "    </tr>\n",
       "  </tbody>\n",
       "</table>\n",
       "</div>"
      ],
      "text/plain": [
       "        alive  second_period_event_count  Unnamed 0\n",
       "112744   True                       True       True\n",
       "99066    True                      False      False\n",
       "58596    True                       True       True\n",
       "29776    True                      False      False\n",
       "143973   True                       True       True\n",
       "47798    True                       True       True\n",
       "46409    True                      False      False\n",
       "59296    True                       True       True\n",
       "47872    True                      False      False\n",
       "94722    True                       True       True"
      ]
     },
     "execution_count": 58,
     "metadata": {},
     "output_type": "execute_result"
    }
   ],
   "source": [
    "pd.DataFrame([lft_df.alive == True, lft_df.second_period_event_count > 0,\n",
    "             (lft_df.alive == True) & (lft_df.second_period_event_count > 0)]).transpose()[:10]"
   ]
  },
  {
   "cell_type": "code",
   "execution_count": 59,
   "metadata": {},
   "outputs": [
    {
     "data": {
      "text/plain": [
       "<matplotlib.axes._subplots.AxesSubplot at 0x7f827be83710>"
      ]
     },
     "execution_count": 59,
     "metadata": {},
     "output_type": "execute_result"
    },
    {
     "data": {
      "image/png": "[encoded data removed]",
      "text/plain": [
       "<Figure size 432x288 with 1 Axes>"
      ]
     },
     "metadata": {
      "needs_background": "light"
     },
     "output_type": "display_data"
    }
   ],
   "source": [
    "from lifetimes.plotting import plot_period_transactions\n",
    "plot_period_transactions(bgf)"
   ]
  },
  {
   "cell_type": "code",
   "execution_count": 60,
   "metadata": {},
   "outputs": [
    {
     "name": "stderr",
     "output_type": "stream",
     "text": [
      "No handles with labels found to put in legend.\n"
     ]
    },
    {
     "data": {
      "text/plain": [
       "<matplotlib.axes._subplots.AxesSubplot at 0x7f82801178d0>"
      ]
     },
     "execution_count": 60,
     "metadata": {},
     "output_type": "execute_result"
    },
    {
     "data": {
      "image/png": "[encoded data removed]",
      "text/plain": [
       "<Figure size 432x288 with 1 Axes>"
      ]
     },
     "metadata": {
      "needs_background": "light"
     },
     "output_type": "display_data"
    }
   ],
   "source": [
    "from lifetimes.plotting import plot_expected_repeat_purchases\n",
    "plot_expected_repeat_purchases(bgf, title='Expected Number of Repeat Events per Customer')\n",
    "                                   #xlabel='Time Since First Purchase',\n",
    "                                   #ax=None,\n",
    "                                   #label=None,\n",
    "                                   #**kwargs"
   ]
  },
  {
   "cell_type": "code",
   "execution_count": null,
   "metadata": {},
   "outputs": [],
   "source": []
  }
 ],
 "metadata": {
  "kernelspec": {
   "display_name": "Python 3",
   "language": "python",
   "name": "python3"
  },
  "language_info": {
   "codemirror_mode": {
    "name": "ipython",
    "version": 3
   },
   "file_extension": ".py",
   "mimetype": "text/x-python",
   "name": "python",
   "nbconvert_exporter": "python",
   "pygments_lexer": "ipython3",
   "version": "3.7.2"
  }
 },
 "nbformat": 4,
 "nbformat_minor": 2
}
